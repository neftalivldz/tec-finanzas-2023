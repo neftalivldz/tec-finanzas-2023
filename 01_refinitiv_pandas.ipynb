{
 "cells": [
  {
   "cell_type": "markdown",
   "id": "1334912b",
   "metadata": {},
   "source": [
    "# Información y Programación Financiera, TI, Algoritmos y Ciencia de Datos"
   ]
  },
  {
   "cell_type": "markdown",
   "id": "d582e293",
   "metadata": {},
   "source": [
    "Neftalí Valdez\n",
    "\n",
    "<a href=\"http://twitter.com/neftalivldz\" target=\"_blank\">@neftalivldz</a> | <a href=\"mailto:nvaldez@tec.mx\">nvaldez@tec.mx</a>"
   ]
  },
  {
   "cell_type": "code",
   "execution_count": 31,
   "id": "d7e54f6e",
   "metadata": {},
   "outputs": [],
   "source": [
    "#!pip3 install eikon\n",
    "#!pip3 install cufflinks\n",
    "#!pip3 install seaborn"
   ]
  },
  {
   "cell_type": "markdown",
   "id": "ce666ef7",
   "metadata": {},
   "source": [
    "# Importar librerías"
   ]
  },
  {
   "cell_type": "code",
   "execution_count": 33,
   "id": "500ee4fb",
   "metadata": {},
   "outputs": [
    {
     "data": {
      "text/html": [
       "        <script type=\"text/javascript\">\n",
       "        window.PlotlyConfig = {MathJaxConfig: 'local'};\n",
       "        if (window.MathJax && window.MathJax.Hub && window.MathJax.Hub.Config) {window.MathJax.Hub.Config({SVG: {font: \"STIX-Web\"}});}\n",
       "        if (typeof require !== 'undefined') {\n",
       "        require.undef(\"plotly\");\n",
       "        requirejs.config({\n",
       "            paths: {\n",
       "                'plotly': ['https://cdn.plot.ly/plotly-2.18.0.min']\n",
       "            }\n",
       "        });\n",
       "        require(['plotly'], function(Plotly) {\n",
       "            window._Plotly = Plotly;\n",
       "        });\n",
       "        }\n",
       "        </script>\n",
       "        "
      ]
     },
     "metadata": {},
     "output_type": "display_data"
    }
   ],
   "source": [
    "import eikon as ek  # the Eikon Python wrapper package\n",
    "import numpy as np  # NumPy\n",
    "import pandas as pd  # pandas\n",
    "import cufflinks as cf  # Cufflinks\n",
    "import configparser as cp\n",
    "cf.set_config_file(offline=True)  # set the plotting mode to offline"
   ]
  },
  {
   "cell_type": "code",
   "execution_count": 34,
   "id": "d7f3a7fa",
   "metadata": {},
   "outputs": [],
   "source": [
    "# Se inicia la conexión a refinitiv mediante eikon "
   ]
  },
  {
   "cell_type": "code",
   "execution_count": 35,
   "id": "90dded4e",
   "metadata": {},
   "outputs": [],
   "source": [
    "cfg = cp.ConfigParser()\n",
    "cfg.read('../refinitiv.cfg')\n",
    "ek.set_app_key(cfg['eikon']['app_id'])"
   ]
  },
  {
   "cell_type": "code",
   "execution_count": 1,
   "id": "2a6b21a0",
   "metadata": {},
   "outputs": [
    {
     "name": "stdout",
     "output_type": "stream",
     "text": [
      "/Users/neftalivaldez/app/tec-finanzas-2023\r\n"
     ]
    }
   ],
   "source": [
    "!pwd"
   ]
  },
  {
   "cell_type": "markdown",
   "id": "09f06a5a",
   "metadata": {},
   "source": [
    "### Numpy"
   ]
  },
  {
   "cell_type": "code",
   "execution_count": 2,
   "id": "73a8c712",
   "metadata": {},
   "outputs": [
    {
     "name": "stdout",
     "output_type": "stream",
     "text": [
      "Array is of type:  <class 'numpy.ndarray'>\n",
      "No. of dimensions:  2\n",
      "Shape of array:  (2, 3)\n",
      "Size of array:  6\n",
      "Array stores elements of type:  int64\n"
     ]
    }
   ],
   "source": [
    "# Python program to demonstrate\n",
    "# basic array characteristics\n",
    "import numpy as np\n",
    " \n",
    "# Creating array object\n",
    "arr = np.array( [[ 1, 2, 3],\n",
    "                 [ 4, 2, 5]] )\n",
    " \n",
    "# Printing type of arr object\n",
    "print(\"Array is of type: \", type(arr))\n",
    " \n",
    "# Printing array dimensions (axes)\n",
    "print(\"No. of dimensions: \", arr.ndim)\n",
    " \n",
    "# Printing shape of array\n",
    "print(\"Shape of array: \", arr.shape)\n",
    " \n",
    "# Printing size (total number of elements) of array\n",
    "print(\"Size of array: \", arr.size)\n",
    " \n",
    "# Printing type of elements in array\n",
    "print(\"Array stores elements of type: \", arr.dtype)"
   ]
  },
  {
   "cell_type": "markdown",
   "id": "5721f01e",
   "metadata": {},
   "source": [
    "## Python Pandas"
   ]
  },
  {
   "cell_type": "code",
   "execution_count": 5,
   "id": "bdde4180",
   "metadata": {},
   "outputs": [
    {
     "data": {
      "text/html": [
       "<div>\n",
       "<style scoped>\n",
       "    .dataframe tbody tr th:only-of-type {\n",
       "        vertical-align: middle;\n",
       "    }\n",
       "\n",
       "    .dataframe tbody tr th {\n",
       "        vertical-align: top;\n",
       "    }\n",
       "\n",
       "    .dataframe thead th {\n",
       "        text-align: right;\n",
       "    }\n",
       "</style>\n",
       "<table border=\"1\" class=\"dataframe\">\n",
       "  <thead>\n",
       "    <tr style=\"text-align: right;\">\n",
       "      <th></th>\n",
       "      <th>sesion</th>\n",
       "      <th>asistencia</th>\n",
       "    </tr>\n",
       "  </thead>\n",
       "  <tbody>\n",
       "    <tr>\n",
       "      <th>0</th>\n",
       "      <td>420</td>\n",
       "      <td>25</td>\n",
       "    </tr>\n",
       "    <tr>\n",
       "      <th>1</th>\n",
       "      <td>380</td>\n",
       "      <td>20</td>\n",
       "    </tr>\n",
       "    <tr>\n",
       "      <th>2</th>\n",
       "      <td>390</td>\n",
       "      <td>27</td>\n",
       "    </tr>\n",
       "  </tbody>\n",
       "</table>\n",
       "</div>"
      ],
      "text/plain": [
       "   sesion  asistencia\n",
       "0     420          25\n",
       "1     380          20\n",
       "2     390          27"
      ]
     },
     "execution_count": 5,
     "metadata": {},
     "output_type": "execute_result"
    }
   ],
   "source": [
    "import pandas as pd \n",
    "\n",
    "data = {\n",
    "  \"sesion\": [420, 380, 390],\n",
    "  \"asistencia\": [25, 20, 27]\n",
    "}\n",
    "\n",
    "#load data into a DataFrame object:\n",
    "df = pd.DataFrame(data)\n",
    "\n",
    "df"
   ]
  },
  {
   "cell_type": "code",
   "execution_count": 6,
   "id": "fc2645c4",
   "metadata": {},
   "outputs": [
    {
     "name": "stdout",
     "output_type": "stream",
     "text": [
      "sesion        390\n",
      "asistencia     27\n",
      "Name: 2, dtype: int64\n"
     ]
    }
   ],
   "source": [
    "#utilización de índice:\n",
    "print(df.loc[2])"
   ]
  },
  {
   "cell_type": "code",
   "execution_count": 8,
   "id": "4505a8b9",
   "metadata": {},
   "outputs": [
    {
     "data": {
      "text/html": [
       "<div>\n",
       "<style scoped>\n",
       "    .dataframe tbody tr th:only-of-type {\n",
       "        vertical-align: middle;\n",
       "    }\n",
       "\n",
       "    .dataframe tbody tr th {\n",
       "        vertical-align: top;\n",
       "    }\n",
       "\n",
       "    .dataframe thead th {\n",
       "        text-align: right;\n",
       "    }\n",
       "</style>\n",
       "<table border=\"1\" class=\"dataframe\">\n",
       "  <thead>\n",
       "    <tr style=\"text-align: right;\">\n",
       "      <th></th>\n",
       "      <th>sesion</th>\n",
       "      <th>asistencia</th>\n",
       "    </tr>\n",
       "  </thead>\n",
       "  <tbody>\n",
       "    <tr>\n",
       "      <th>dia1</th>\n",
       "      <td>420</td>\n",
       "      <td>25</td>\n",
       "    </tr>\n",
       "    <tr>\n",
       "      <th>dia2</th>\n",
       "      <td>380</td>\n",
       "      <td>20</td>\n",
       "    </tr>\n",
       "    <tr>\n",
       "      <th>dia3</th>\n",
       "      <td>390</td>\n",
       "      <td>27</td>\n",
       "    </tr>\n",
       "  </tbody>\n",
       "</table>\n",
       "</div>"
      ],
      "text/plain": [
       "      sesion  asistencia\n",
       "dia1     420          25\n",
       "dia2     380          20\n",
       "dia3     390          27"
      ]
     },
     "execution_count": 8,
     "metadata": {},
     "output_type": "execute_result"
    }
   ],
   "source": [
    "df = pd.DataFrame(data, index = [\"dia1\", \"dia2\", \"dia3\"])\n",
    "\n",
    "df "
   ]
  },
  {
   "cell_type": "code",
   "execution_count": 9,
   "id": "6b27f989",
   "metadata": {},
   "outputs": [
    {
     "data": {
      "text/html": [
       "<div>\n",
       "<style scoped>\n",
       "    .dataframe tbody tr th:only-of-type {\n",
       "        vertical-align: middle;\n",
       "    }\n",
       "\n",
       "    .dataframe tbody tr th {\n",
       "        vertical-align: top;\n",
       "    }\n",
       "\n",
       "    .dataframe thead th {\n",
       "        text-align: right;\n",
       "    }\n",
       "</style>\n",
       "<table border=\"1\" class=\"dataframe\">\n",
       "  <thead>\n",
       "    <tr style=\"text-align: right;\">\n",
       "      <th></th>\n",
       "      <th>sesion</th>\n",
       "      <th>asistencia</th>\n",
       "    </tr>\n",
       "  </thead>\n",
       "  <tbody>\n",
       "    <tr>\n",
       "      <th>dia1</th>\n",
       "      <td>420</td>\n",
       "      <td>25</td>\n",
       "    </tr>\n",
       "    <tr>\n",
       "      <th>dia2</th>\n",
       "      <td>380</td>\n",
       "      <td>20</td>\n",
       "    </tr>\n",
       "    <tr>\n",
       "      <th>dia3</th>\n",
       "      <td>390</td>\n",
       "      <td>27</td>\n",
       "    </tr>\n",
       "  </tbody>\n",
       "</table>\n",
       "</div>"
      ],
      "text/plain": [
       "      sesion  asistencia\n",
       "dia1     420          25\n",
       "dia2     380          20\n",
       "dia3     390          27"
      ]
     },
     "execution_count": 9,
     "metadata": {},
     "output_type": "execute_result"
    }
   ],
   "source": [
    "df"
   ]
  },
  {
   "cell_type": "markdown",
   "id": "198cec1a",
   "metadata": {},
   "source": [
    "# Refinitiv Python"
   ]
  },
  {
   "cell_type": "markdown",
   "id": "ce4c3fe1",
   "metadata": {},
   "source": [
    "# Extracción de datos estructurados"
   ]
  },
  {
   "cell_type": "markdown",
   "id": "4b52959d",
   "metadata": {},
   "source": [
    "Las funciones básicas para extraer datos de eikon son las siguiente:\n",
    "- get_symbology\n",
    "- get_data\n",
    "- get_timeseries\n",
    "\n",
    "get_symbology(symbol, from_symbol_type='RIC', to_symbol_type=None, raw_output=False, debug=False, bestMatch=True)\n",
    "Devuelve una lista de nombre de instrumentos convertiods en el código del intrumento.\n",
    "\n",
    "get_data(instruments, fields, parameters=None, field_name=False, raw_output=False, debug=False)\n",
    "Devuelve un dataframe de pandas con campos en columnas e intrumentos como índice de renglones.\n",
    "\n",
    "get_timeseries(rics, fields='*', start_date=None, end_date=None, interval='daily', count=None, calendar=None, corax=None, normalize=False, raw_output=False, debug=False)\n",
    "Devuelve series históricas de uno o varios RICs.\n",
    "<br>\n",
    "Referencia: https://docs-developers.refinitiv.com/1594387995587/14684/book/en/eikon/index.html\n",
    "RICs Reuters instrument code"
   ]
  },
  {
   "cell_type": "markdown",
   "id": "42f95495",
   "metadata": {},
   "source": [
    "# Obtener datos"
   ]
  },
  {
   "cell_type": "code",
   "execution_count": 15,
   "id": "7bb540fd",
   "metadata": {},
   "outputs": [],
   "source": [
    "data, err = ek.get_data([\"SPOT.K\", \"IBM\", \"GOOG.O\", \"MSFT.O\"], [\"TR.PriceClose\", \"TR.Volume\", \"TR.PriceLow\", \"TR.TotalReturnYTD\"])"
   ]
  },
  {
   "cell_type": "code",
   "execution_count": 16,
   "id": "26d9d49d",
   "metadata": {},
   "outputs": [
    {
     "data": {
      "text/html": [
       "<div>\n",
       "<style scoped>\n",
       "    .dataframe tbody tr th:only-of-type {\n",
       "        vertical-align: middle;\n",
       "    }\n",
       "\n",
       "    .dataframe tbody tr th {\n",
       "        vertical-align: top;\n",
       "    }\n",
       "\n",
       "    .dataframe thead th {\n",
       "        text-align: right;\n",
       "    }\n",
       "</style>\n",
       "<table border=\"1\" class=\"dataframe\">\n",
       "  <thead>\n",
       "    <tr style=\"text-align: right;\">\n",
       "      <th></th>\n",
       "      <th>Instrument</th>\n",
       "      <th>Price Close</th>\n",
       "      <th>Volume</th>\n",
       "      <th>Price Low</th>\n",
       "      <th>YTD Total Return</th>\n",
       "    </tr>\n",
       "  </thead>\n",
       "  <tbody>\n",
       "    <tr>\n",
       "      <th>0</th>\n",
       "      <td>SPOT.K</td>\n",
       "      <td>120.35</td>\n",
       "      <td>1711860</td>\n",
       "      <td>119.26</td>\n",
       "      <td>52.438252</td>\n",
       "    </tr>\n",
       "    <tr>\n",
       "      <th>1</th>\n",
       "      <td>IBM</td>\n",
       "      <td>131.71</td>\n",
       "      <td>4251258</td>\n",
       "      <td>131.66</td>\n",
       "      <td>-5.362457</td>\n",
       "    </tr>\n",
       "    <tr>\n",
       "      <th>2</th>\n",
       "      <td>GOOG.O</td>\n",
       "      <td>92.05</td>\n",
       "      <td>28265285</td>\n",
       "      <td>92.0</td>\n",
       "      <td>3.741688</td>\n",
       "    </tr>\n",
       "    <tr>\n",
       "      <th>3</th>\n",
       "      <td>MSFT.O</td>\n",
       "      <td>252.67</td>\n",
       "      <td>28301668</td>\n",
       "      <td>251.59</td>\n",
       "      <td>5.624202</td>\n",
       "    </tr>\n",
       "  </tbody>\n",
       "</table>\n",
       "</div>"
      ],
      "text/plain": [
       "  Instrument  Price Close    Volume  Price Low  YTD Total Return\n",
       "0     SPOT.K       120.35   1711860     119.26         52.438252\n",
       "1        IBM       131.71   4251258     131.66         -5.362457\n",
       "2     GOOG.O        92.05  28265285       92.0          3.741688\n",
       "3     MSFT.O       252.67  28301668     251.59          5.624202"
      ]
     },
     "execution_count": 16,
     "metadata": {},
     "output_type": "execute_result"
    }
   ],
   "source": [
    "data"
   ]
  },
  {
   "cell_type": "code",
   "execution_count": 17,
   "id": "0d47737c",
   "metadata": {},
   "outputs": [
    {
     "data": {
      "text/plain": [
       "pandas.core.frame.DataFrame"
      ]
     },
     "execution_count": 17,
     "metadata": {},
     "output_type": "execute_result"
    }
   ],
   "source": [
    "type(data)"
   ]
  },
  {
   "cell_type": "code",
   "execution_count": 19,
   "id": "cadc4ce3",
   "metadata": {},
   "outputs": [
    {
     "data": {
      "text/plain": [
       "RangeIndex(start=0, stop=4, step=1)"
      ]
     },
     "execution_count": 19,
     "metadata": {},
     "output_type": "execute_result"
    }
   ],
   "source": [
    "data.index"
   ]
  },
  {
   "cell_type": "code",
   "execution_count": null,
   "id": "9f2898b0",
   "metadata": {},
   "outputs": [],
   "source": []
  },
  {
   "cell_type": "markdown",
   "id": "81795762",
   "metadata": {},
   "source": [
    "# Obtener datos de un índice"
   ]
  },
  {
   "cell_type": "code",
   "execution_count": 22,
   "id": "2e09b33a",
   "metadata": {},
   "outputs": [],
   "source": [
    "dax = ek.get_data('0#.GDAXI', fields=['TR.CommonName', 'TR.PriceClose',\n",
    "                                      'TR.Volume', 'TR.TotalReturnYTD'])[0]"
   ]
  },
  {
   "cell_type": "code",
   "execution_count": 24,
   "id": "d9e23858",
   "metadata": {},
   "outputs": [
    {
     "data": {
      "text/html": [
       "<div>\n",
       "<style scoped>\n",
       "    .dataframe tbody tr th:only-of-type {\n",
       "        vertical-align: middle;\n",
       "    }\n",
       "\n",
       "    .dataframe tbody tr th {\n",
       "        vertical-align: top;\n",
       "    }\n",
       "\n",
       "    .dataframe thead th {\n",
       "        text-align: right;\n",
       "    }\n",
       "</style>\n",
       "<table border=\"1\" class=\"dataframe\">\n",
       "  <thead>\n",
       "    <tr style=\"text-align: right;\">\n",
       "      <th></th>\n",
       "      <th>Instrument</th>\n",
       "      <th>Company Common Name</th>\n",
       "      <th>Price Close</th>\n",
       "      <th>Volume</th>\n",
       "      <th>YTD Total Return</th>\n",
       "    </tr>\n",
       "  </thead>\n",
       "  <tbody>\n",
       "    <tr>\n",
       "      <th>0</th>\n",
       "      <td>BASFn.DE</td>\n",
       "      <td>BASF SE</td>\n",
       "      <td>52.49</td>\n",
       "      <td>2003891</td>\n",
       "      <td>13.149386</td>\n",
       "    </tr>\n",
       "    <tr>\n",
       "      <th>1</th>\n",
       "      <td>IFXGn.DE</td>\n",
       "      <td>Infineon Technologies AG</td>\n",
       "      <td>34.52</td>\n",
       "      <td>2550873</td>\n",
       "      <td>22.523765</td>\n",
       "    </tr>\n",
       "    <tr>\n",
       "      <th>2</th>\n",
       "      <td>SIEGn.DE</td>\n",
       "      <td>Siemens AG</td>\n",
       "      <td>143.74</td>\n",
       "      <td>921292</td>\n",
       "      <td>14.109593</td>\n",
       "    </tr>\n",
       "    <tr>\n",
       "      <th>3</th>\n",
       "      <td>EONGn.DE</td>\n",
       "      <td>E ON SE</td>\n",
       "      <td>10.24</td>\n",
       "      <td>4755581</td>\n",
       "      <td>9.70645</td>\n",
       "    </tr>\n",
       "    <tr>\n",
       "      <th>4</th>\n",
       "      <td>DBKGn.DE</td>\n",
       "      <td>Deutsche Bank AG</td>\n",
       "      <td>11.596</td>\n",
       "      <td>5266856</td>\n",
       "      <td>9.520212</td>\n",
       "    </tr>\n",
       "    <tr>\n",
       "      <th>5</th>\n",
       "      <td>SATG_p.DE</td>\n",
       "      <td>Sartorius AG</td>\n",
       "      <td>420.0</td>\n",
       "      <td>90555</td>\n",
       "      <td>13.697888</td>\n",
       "    </tr>\n",
       "    <tr>\n",
       "      <th>6</th>\n",
       "      <td>SAPG.DE</td>\n",
       "      <td>SAP SE</td>\n",
       "      <td>107.76</td>\n",
       "      <td>1530426</td>\n",
       "      <td>11.795829</td>\n",
       "    </tr>\n",
       "    <tr>\n",
       "      <th>7</th>\n",
       "      <td>BAYGn.DE</td>\n",
       "      <td>Bayer AG</td>\n",
       "      <td>59.25</td>\n",
       "      <td>1662729</td>\n",
       "      <td>22.607346</td>\n",
       "    </tr>\n",
       "    <tr>\n",
       "      <th>8</th>\n",
       "      <td>RWEG.DE</td>\n",
       "      <td>RWE AG</td>\n",
       "      <td>40.39</td>\n",
       "      <td>2202143</td>\n",
       "      <td>-2.885309</td>\n",
       "    </tr>\n",
       "    <tr>\n",
       "      <th>9</th>\n",
       "      <td>1COV.DE</td>\n",
       "      <td>Covestro AG</td>\n",
       "      <td>41.74</td>\n",
       "      <td>1085961</td>\n",
       "      <td>14.199726</td>\n",
       "    </tr>\n",
       "    <tr>\n",
       "      <th>10</th>\n",
       "      <td>HNKG_p.DE</td>\n",
       "      <td>Henkel AG &amp; Co KGaA</td>\n",
       "      <td>68.12</td>\n",
       "      <td>439793</td>\n",
       "      <td>4.767764</td>\n",
       "    </tr>\n",
       "    <tr>\n",
       "      <th>11</th>\n",
       "      <td>ZALG.DE</td>\n",
       "      <td>Zalando SE</td>\n",
       "      <td>39.11</td>\n",
       "      <td>885151</td>\n",
       "      <td>18.121413</td>\n",
       "    </tr>\n",
       "    <tr>\n",
       "      <th>12</th>\n",
       "      <td>DTEGn.DE</td>\n",
       "      <td>Deutsche Telekom AG</td>\n",
       "      <td>20.91</td>\n",
       "      <td>4860170</td>\n",
       "      <td>12.190149</td>\n",
       "    </tr>\n",
       "    <tr>\n",
       "      <th>13</th>\n",
       "      <td>LINI.DE</td>\n",
       "      <td>Linde PLC</td>\n",
       "      <td>306.0</td>\n",
       "      <td>1019871</td>\n",
       "      <td>0.180062</td>\n",
       "    </tr>\n",
       "    <tr>\n",
       "      <th>14</th>\n",
       "      <td>MRCG.DE</td>\n",
       "      <td>Merck KGaA</td>\n",
       "      <td>183.35</td>\n",
       "      <td>157995</td>\n",
       "      <td>1.354339</td>\n",
       "    </tr>\n",
       "    <tr>\n",
       "      <th>15</th>\n",
       "      <td>PSHG_p.DE</td>\n",
       "      <td>Porsche Automobil Holding SE</td>\n",
       "      <td>54.86</td>\n",
       "      <td>623850</td>\n",
       "      <td>7.064793</td>\n",
       "    </tr>\n",
       "    <tr>\n",
       "      <th>16</th>\n",
       "      <td>VOWG_p.DE</td>\n",
       "      <td>Volkswagen AG</td>\n",
       "      <td>131.08</td>\n",
       "      <td>845515</td>\n",
       "      <td>12.592338</td>\n",
       "    </tr>\n",
       "    <tr>\n",
       "      <th>17</th>\n",
       "      <td>BMWG.DE</td>\n",
       "      <td>Bayerische Motoren Werke AG</td>\n",
       "      <td>98.7</td>\n",
       "      <td>797867</td>\n",
       "      <td>18.373711</td>\n",
       "    </tr>\n",
       "    <tr>\n",
       "      <th>18</th>\n",
       "      <td>BEIG.DE</td>\n",
       "      <td>Beiersdorf AG</td>\n",
       "      <td>113.75</td>\n",
       "      <td>166255</td>\n",
       "      <td>6.110075</td>\n",
       "    </tr>\n",
       "    <tr>\n",
       "      <th>19</th>\n",
       "      <td>HEIG.DE</td>\n",
       "      <td>HeidelbergCement AG</td>\n",
       "      <td>64.14</td>\n",
       "      <td>343196</td>\n",
       "      <td>20.382883</td>\n",
       "    </tr>\n",
       "    <tr>\n",
       "      <th>20</th>\n",
       "      <td>MTXGn.DE</td>\n",
       "      <td>MTU Aero Engines AG</td>\n",
       "      <td>230.4</td>\n",
       "      <td>93337</td>\n",
       "      <td>13.946588</td>\n",
       "    </tr>\n",
       "    <tr>\n",
       "      <th>21</th>\n",
       "      <td>FMEG.DE</td>\n",
       "      <td>Fresenius Medical Care AG &amp; Co KGaA</td>\n",
       "      <td>37.16</td>\n",
       "      <td>785102</td>\n",
       "      <td>21.557082</td>\n",
       "    </tr>\n",
       "    <tr>\n",
       "      <th>22</th>\n",
       "      <td>FREG.DE</td>\n",
       "      <td>Fresenius SE &amp; Co KGaA</td>\n",
       "      <td>28.85</td>\n",
       "      <td>1211669</td>\n",
       "      <td>9.904762</td>\n",
       "    </tr>\n",
       "    <tr>\n",
       "      <th>23</th>\n",
       "      <td>DPWGn.DE</td>\n",
       "      <td>Deutsche Post AG</td>\n",
       "      <td>40.225</td>\n",
       "      <td>1870066</td>\n",
       "      <td>14.340534</td>\n",
       "    </tr>\n",
       "    <tr>\n",
       "      <th>24</th>\n",
       "      <td>ALVG.DE</td>\n",
       "      <td>Allianz SE</td>\n",
       "      <td>217.4</td>\n",
       "      <td>831286</td>\n",
       "      <td>8.213041</td>\n",
       "    </tr>\n",
       "    <tr>\n",
       "      <th>25</th>\n",
       "      <td>MUVGn.DE</td>\n",
       "      <td>Muenchener Rueckversicherungs Gesellschaft in ...</td>\n",
       "      <td>326.2</td>\n",
       "      <td>328654</td>\n",
       "      <td>7.302632</td>\n",
       "    </tr>\n",
       "    <tr>\n",
       "      <th>26</th>\n",
       "      <td>CONG.DE</td>\n",
       "      <td>Continental AG</td>\n",
       "      <td>68.78</td>\n",
       "      <td>359101</td>\n",
       "      <td>22.865309</td>\n",
       "    </tr>\n",
       "    <tr>\n",
       "      <th>27</th>\n",
       "      <td>SHLG.DE</td>\n",
       "      <td>Siemens Healthineers AG</td>\n",
       "      <td>50.28</td>\n",
       "      <td>351357</td>\n",
       "      <td>9.631407</td>\n",
       "    </tr>\n",
       "    <tr>\n",
       "      <th>28</th>\n",
       "      <td>SY1G.DE</td>\n",
       "      <td>Symrise AG</td>\n",
       "      <td>96.46</td>\n",
       "      <td>229453</td>\n",
       "      <td>-5.105755</td>\n",
       "    </tr>\n",
       "    <tr>\n",
       "      <th>29</th>\n",
       "      <td>ADSGn.DE</td>\n",
       "      <td>Adidas AG</td>\n",
       "      <td>137.42</td>\n",
       "      <td>658813</td>\n",
       "      <td>7.814216</td>\n",
       "    </tr>\n",
       "    <tr>\n",
       "      <th>30</th>\n",
       "      <td>HNRGn.DE</td>\n",
       "      <td>Hannover Rueck SE</td>\n",
       "      <td>181.7</td>\n",
       "      <td>65427</td>\n",
       "      <td>-2.048518</td>\n",
       "    </tr>\n",
       "    <tr>\n",
       "      <th>31</th>\n",
       "      <td>DTGGe.DE</td>\n",
       "      <td>Daimler Truck Holding AG</td>\n",
       "      <td>30.89</td>\n",
       "      <td>560917</td>\n",
       "      <td>6.719641</td>\n",
       "    </tr>\n",
       "    <tr>\n",
       "      <th>32</th>\n",
       "      <td>ENR1n.DE</td>\n",
       "      <td>Siemens Energy AG</td>\n",
       "      <td>18.415</td>\n",
       "      <td>2045519</td>\n",
       "      <td>4.779516</td>\n",
       "    </tr>\n",
       "    <tr>\n",
       "      <th>33</th>\n",
       "      <td>MBGn.DE</td>\n",
       "      <td>Mercedes Benz Group AG</td>\n",
       "      <td>74.59</td>\n",
       "      <td>1779722</td>\n",
       "      <td>21.482085</td>\n",
       "    </tr>\n",
       "    <tr>\n",
       "      <th>34</th>\n",
       "      <td>BNRGn.DE</td>\n",
       "      <td>Brenntag SE</td>\n",
       "      <td>73.0</td>\n",
       "      <td>289631</td>\n",
       "      <td>22.237106</td>\n",
       "    </tr>\n",
       "    <tr>\n",
       "      <th>35</th>\n",
       "      <td>AIRG.DE</td>\n",
       "      <td>Airbus SE</td>\n",
       "      <td>122.82</td>\n",
       "      <td>284515</td>\n",
       "      <td>10.271144</td>\n",
       "    </tr>\n",
       "    <tr>\n",
       "      <th>36</th>\n",
       "      <td>VNAn.DE</td>\n",
       "      <td>Vonovia SE</td>\n",
       "      <td>24.95</td>\n",
       "      <td>1985417</td>\n",
       "      <td>13.306085</td>\n",
       "    </tr>\n",
       "    <tr>\n",
       "      <th>37</th>\n",
       "      <td>DB1Gn.DE</td>\n",
       "      <td>Deutsche Boerse AG</td>\n",
       "      <td>169.3</td>\n",
       "      <td>475402</td>\n",
       "      <td>4.894672</td>\n",
       "    </tr>\n",
       "    <tr>\n",
       "      <th>38</th>\n",
       "      <td>QIA.DE</td>\n",
       "      <td>Qiagen NV</td>\n",
       "      <td>44.34</td>\n",
       "      <td>454644</td>\n",
       "      <td>-5.679643</td>\n",
       "    </tr>\n",
       "    <tr>\n",
       "      <th>39</th>\n",
       "      <td>P911_p.DE</td>\n",
       "      <td>Dr Ing hc F Porsche AG</td>\n",
       "      <td>113.3</td>\n",
       "      <td>180455</td>\n",
       "      <td>19.577836</td>\n",
       "    </tr>\n",
       "  </tbody>\n",
       "</table>\n",
       "</div>"
      ],
      "text/plain": [
       "   Instrument                                Company Common Name  Price Close  \\\n",
       "0    BASFn.DE                                            BASF SE        52.49   \n",
       "1    IFXGn.DE                           Infineon Technologies AG        34.52   \n",
       "2    SIEGn.DE                                         Siemens AG       143.74   \n",
       "3    EONGn.DE                                            E ON SE        10.24   \n",
       "4    DBKGn.DE                                   Deutsche Bank AG       11.596   \n",
       "5   SATG_p.DE                                       Sartorius AG        420.0   \n",
       "6     SAPG.DE                                             SAP SE       107.76   \n",
       "7    BAYGn.DE                                           Bayer AG        59.25   \n",
       "8     RWEG.DE                                             RWE AG        40.39   \n",
       "9     1COV.DE                                        Covestro AG        41.74   \n",
       "10  HNKG_p.DE                                Henkel AG & Co KGaA        68.12   \n",
       "11    ZALG.DE                                         Zalando SE        39.11   \n",
       "12   DTEGn.DE                                Deutsche Telekom AG        20.91   \n",
       "13    LINI.DE                                          Linde PLC        306.0   \n",
       "14    MRCG.DE                                         Merck KGaA       183.35   \n",
       "15  PSHG_p.DE                       Porsche Automobil Holding SE        54.86   \n",
       "16  VOWG_p.DE                                      Volkswagen AG       131.08   \n",
       "17    BMWG.DE                        Bayerische Motoren Werke AG         98.7   \n",
       "18    BEIG.DE                                      Beiersdorf AG       113.75   \n",
       "19    HEIG.DE                                HeidelbergCement AG        64.14   \n",
       "20   MTXGn.DE                                MTU Aero Engines AG        230.4   \n",
       "21    FMEG.DE                Fresenius Medical Care AG & Co KGaA        37.16   \n",
       "22    FREG.DE                             Fresenius SE & Co KGaA        28.85   \n",
       "23   DPWGn.DE                                   Deutsche Post AG       40.225   \n",
       "24    ALVG.DE                                         Allianz SE        217.4   \n",
       "25   MUVGn.DE  Muenchener Rueckversicherungs Gesellschaft in ...        326.2   \n",
       "26    CONG.DE                                     Continental AG        68.78   \n",
       "27    SHLG.DE                            Siemens Healthineers AG        50.28   \n",
       "28    SY1G.DE                                         Symrise AG        96.46   \n",
       "29   ADSGn.DE                                          Adidas AG       137.42   \n",
       "30   HNRGn.DE                                  Hannover Rueck SE        181.7   \n",
       "31   DTGGe.DE                           Daimler Truck Holding AG        30.89   \n",
       "32   ENR1n.DE                                  Siemens Energy AG       18.415   \n",
       "33    MBGn.DE                             Mercedes Benz Group AG        74.59   \n",
       "34   BNRGn.DE                                        Brenntag SE         73.0   \n",
       "35    AIRG.DE                                          Airbus SE       122.82   \n",
       "36    VNAn.DE                                         Vonovia SE        24.95   \n",
       "37   DB1Gn.DE                                 Deutsche Boerse AG        169.3   \n",
       "38     QIA.DE                                          Qiagen NV        44.34   \n",
       "39  P911_p.DE                             Dr Ing hc F Porsche AG        113.3   \n",
       "\n",
       "     Volume  YTD Total Return  \n",
       "0   2003891         13.149386  \n",
       "1   2550873         22.523765  \n",
       "2    921292         14.109593  \n",
       "3   4755581           9.70645  \n",
       "4   5266856          9.520212  \n",
       "5     90555         13.697888  \n",
       "6   1530426         11.795829  \n",
       "7   1662729         22.607346  \n",
       "8   2202143         -2.885309  \n",
       "9   1085961         14.199726  \n",
       "10   439793          4.767764  \n",
       "11   885151         18.121413  \n",
       "12  4860170         12.190149  \n",
       "13  1019871          0.180062  \n",
       "14   157995          1.354339  \n",
       "15   623850          7.064793  \n",
       "16   845515         12.592338  \n",
       "17   797867         18.373711  \n",
       "18   166255          6.110075  \n",
       "19   343196         20.382883  \n",
       "20    93337         13.946588  \n",
       "21   785102         21.557082  \n",
       "22  1211669          9.904762  \n",
       "23  1870066         14.340534  \n",
       "24   831286          8.213041  \n",
       "25   328654          7.302632  \n",
       "26   359101         22.865309  \n",
       "27   351357          9.631407  \n",
       "28   229453         -5.105755  \n",
       "29   658813          7.814216  \n",
       "30    65427         -2.048518  \n",
       "31   560917          6.719641  \n",
       "32  2045519          4.779516  \n",
       "33  1779722         21.482085  \n",
       "34   289631         22.237106  \n",
       "35   284515         10.271144  \n",
       "36  1985417         13.306085  \n",
       "37   475402          4.894672  \n",
       "38   454644         -5.679643  \n",
       "39   180455         19.577836  "
      ]
     },
     "execution_count": 24,
     "metadata": {},
     "output_type": "execute_result"
    }
   ],
   "source": [
    "dax"
   ]
  },
  {
   "cell_type": "code",
   "execution_count": 23,
   "id": "b897c1a9",
   "metadata": {},
   "outputs": [
    {
     "data": {
      "text/html": [
       "<div>\n",
       "<style scoped>\n",
       "    .dataframe tbody tr th:only-of-type {\n",
       "        vertical-align: middle;\n",
       "    }\n",
       "\n",
       "    .dataframe tbody tr th {\n",
       "        vertical-align: top;\n",
       "    }\n",
       "\n",
       "    .dataframe thead th {\n",
       "        text-align: right;\n",
       "    }\n",
       "</style>\n",
       "<table border=\"1\" class=\"dataframe\">\n",
       "  <thead>\n",
       "    <tr style=\"text-align: right;\">\n",
       "      <th></th>\n",
       "      <th>Instrument</th>\n",
       "      <th>Company Common Name</th>\n",
       "      <th>Price Close</th>\n",
       "      <th>Volume</th>\n",
       "      <th>YTD Total Return</th>\n",
       "    </tr>\n",
       "  </thead>\n",
       "  <tbody>\n",
       "    <tr>\n",
       "      <th>0</th>\n",
       "      <td>BASFn.DE</td>\n",
       "      <td>BASF SE</td>\n",
       "      <td>52.49</td>\n",
       "      <td>2003891</td>\n",
       "      <td>13.149386</td>\n",
       "    </tr>\n",
       "    <tr>\n",
       "      <th>1</th>\n",
       "      <td>IFXGn.DE</td>\n",
       "      <td>Infineon Technologies AG</td>\n",
       "      <td>34.52</td>\n",
       "      <td>2550873</td>\n",
       "      <td>22.523765</td>\n",
       "    </tr>\n",
       "    <tr>\n",
       "      <th>2</th>\n",
       "      <td>SIEGn.DE</td>\n",
       "      <td>Siemens AG</td>\n",
       "      <td>143.74</td>\n",
       "      <td>921292</td>\n",
       "      <td>14.109593</td>\n",
       "    </tr>\n",
       "    <tr>\n",
       "      <th>3</th>\n",
       "      <td>EONGn.DE</td>\n",
       "      <td>E ON SE</td>\n",
       "      <td>10.24</td>\n",
       "      <td>4755581</td>\n",
       "      <td>9.70645</td>\n",
       "    </tr>\n",
       "    <tr>\n",
       "      <th>4</th>\n",
       "      <td>DBKGn.DE</td>\n",
       "      <td>Deutsche Bank AG</td>\n",
       "      <td>11.596</td>\n",
       "      <td>5266856</td>\n",
       "      <td>9.520212</td>\n",
       "    </tr>\n",
       "  </tbody>\n",
       "</table>\n",
       "</div>"
      ],
      "text/plain": [
       "  Instrument       Company Common Name  Price Close   Volume  YTD Total Return\n",
       "0   BASFn.DE                   BASF SE        52.49  2003891         13.149386\n",
       "1   IFXGn.DE  Infineon Technologies AG        34.52  2550873         22.523765\n",
       "2   SIEGn.DE                Siemens AG       143.74   921292         14.109593\n",
       "3   EONGn.DE                   E ON SE        10.24  4755581           9.70645\n",
       "4   DBKGn.DE          Deutsche Bank AG       11.596  5266856          9.520212"
      ]
     },
     "execution_count": 23,
     "metadata": {},
     "output_type": "execute_result"
    }
   ],
   "source": [
    "dax[0:5]"
   ]
  },
  {
   "cell_type": "code",
   "execution_count": 26,
   "id": "89c1f46a",
   "metadata": {},
   "outputs": [
    {
     "data": {
      "text/plain": [
       "Instrument\n",
       "BASFn.DE     13.149386\n",
       "IFXGn.DE     22.523765\n",
       "SIEGn.DE     14.109593\n",
       "EONGn.DE       9.70645\n",
       "DBKGn.DE      9.520212\n",
       "SATG_p.DE    13.697888\n",
       "SAPG.DE      11.795829\n",
       "BAYGn.DE     22.607346\n",
       "RWEG.DE      -2.885309\n",
       "1COV.DE      14.199726\n",
       "HNKG_p.DE     4.767764\n",
       "ZALG.DE      18.121413\n",
       "DTEGn.DE     12.190149\n",
       "LINI.DE       0.180062\n",
       "MRCG.DE       1.354339\n",
       "PSHG_p.DE     7.064793\n",
       "VOWG_p.DE    12.592338\n",
       "BMWG.DE      18.373711\n",
       "BEIG.DE       6.110075\n",
       "HEIG.DE      20.382883\n",
       "MTXGn.DE     13.946588\n",
       "FMEG.DE      21.557082\n",
       "FREG.DE       9.904762\n",
       "DPWGn.DE     14.340534\n",
       "ALVG.DE       8.213041\n",
       "MUVGn.DE      7.302632\n",
       "CONG.DE      22.865309\n",
       "SHLG.DE       9.631407\n",
       "SY1G.DE      -5.105755\n",
       "ADSGn.DE      7.814216\n",
       "HNRGn.DE     -2.048518\n",
       "DTGGe.DE      6.719641\n",
       "ENR1n.DE      4.779516\n",
       "MBGn.DE      21.482085\n",
       "BNRGn.DE     22.237106\n",
       "AIRG.DE      10.271144\n",
       "VNAn.DE      13.306085\n",
       "DB1Gn.DE      4.894672\n",
       "QIA.DE       -5.679643\n",
       "P911_p.DE    19.577836\n",
       "Name: YTD Total Return, dtype: Float64"
      ]
     },
     "execution_count": 26,
     "metadata": {},
     "output_type": "execute_result"
    }
   ],
   "source": [
    "dax.set_index('Instrument')['YTD Total Return']"
   ]
  },
  {
   "cell_type": "code",
   "execution_count": 55,
   "id": "f586f060",
   "metadata": {},
   "outputs": [
    {
     "data": {
      "application/vnd.plotly.v1+json": {
       "config": {
        "linkText": "Export to plot.ly",
        "plotlyServerURL": "https://plot.ly",
        "showLink": true
       },
       "data": [
        {
         "marker": {
          "color": "rgba(55, 128, 191, 0.6)",
          "line": {
           "color": "rgba(55, 128, 191, 1.0)",
           "width": 1
          }
         },
         "name": "YTD Total Return",
         "orientation": "v",
         "text": "",
         "type": "bar",
         "x": [
          "QIA.DE",
          "SY1G.DE",
          "RWEG.DE",
          "HNRGn.DE",
          "LINI.DE",
          "MRCG.DE",
          "HNKG_p.DE",
          "ENR1n.DE",
          "DB1Gn.DE",
          "BEIG.DE",
          "DTGGe.DE",
          "PSHG_p.DE",
          "MUVGn.DE",
          "ADSGn.DE",
          "ALVG.DE",
          "DBKGn.DE",
          "SHLG.DE",
          "EONGn.DE",
          "FREG.DE",
          "AIRG.DE",
          "SAPG.DE",
          "DTEGn.DE",
          "VOWG_p.DE",
          "BASFn.DE",
          "VNAn.DE",
          "SATG_p.DE",
          "MTXGn.DE",
          "SIEGn.DE",
          "1COV.DE",
          "DPWGn.DE",
          "ZALG.DE",
          "BMWG.DE",
          "P911_p.DE",
          "HEIG.DE",
          "MBGn.DE",
          "FMEG.DE",
          "BNRGn.DE",
          "IFXGn.DE",
          "BAYGn.DE",
          "CONG.DE"
         ],
         "y": [
          -5.67964262922782,
          -5.10575504181017,
          -2.88530896850204,
          -2.04851752021563,
          0.180062203306597,
          1.35433941404093,
          4.76776376499539,
          4.77951635846374,
          4.8946716232962,
          6.1100746268657,
          6.71964069787532,
          7.0647931303669,
          7.30263157894735,
          7.81421622469789,
          8.21304131408665,
          9.52021156025695,
          9.63140673962488,
          9.70644953931863,
          9.90476190476186,
          10.2711438319268,
          11.7958294428882,
          12.1901491576349,
          12.5923380862395,
          13.1493856434577,
          13.3060853769301,
          13.6978884677856,
          13.946587537092,
          14.109593458013,
          14.1997264021888,
          14.3405343945424,
          18.1214134702507,
          18.3737107219956,
          19.5778364116095,
          20.3828828828829,
          21.4820846905537,
          21.5570821066405,
          22.2371064969859,
          22.523765236188,
          22.6073460941542,
          22.8653090389425
         ]
        }
       ],
       "layout": {
        "legend": {
         "bgcolor": "#F5F6F9",
         "font": {
          "color": "#4D5663"
         }
        },
        "paper_bgcolor": "#F5F6F9",
        "plot_bgcolor": "#F5F6F9",
        "template": {
         "data": {
          "bar": [
           {
            "error_x": {
             "color": "#2a3f5f"
            },
            "error_y": {
             "color": "#2a3f5f"
            },
            "marker": {
             "line": {
              "color": "#E5ECF6",
              "width": 0.5
             },
             "pattern": {
              "fillmode": "overlay",
              "size": 10,
              "solidity": 0.2
             }
            },
            "type": "bar"
           }
          ],
          "barpolar": [
           {
            "marker": {
             "line": {
              "color": "#E5ECF6",
              "width": 0.5
             },
             "pattern": {
              "fillmode": "overlay",
              "size": 10,
              "solidity": 0.2
             }
            },
            "type": "barpolar"
           }
          ],
          "carpet": [
           {
            "aaxis": {
             "endlinecolor": "#2a3f5f",
             "gridcolor": "white",
             "linecolor": "white",
             "minorgridcolor": "white",
             "startlinecolor": "#2a3f5f"
            },
            "baxis": {
             "endlinecolor": "#2a3f5f",
             "gridcolor": "white",
             "linecolor": "white",
             "minorgridcolor": "white",
             "startlinecolor": "#2a3f5f"
            },
            "type": "carpet"
           }
          ],
          "choropleth": [
           {
            "colorbar": {
             "outlinewidth": 0,
             "ticks": ""
            },
            "type": "choropleth"
           }
          ],
          "contour": [
           {
            "colorbar": {
             "outlinewidth": 0,
             "ticks": ""
            },
            "colorscale": [
             [
              0,
              "#0d0887"
             ],
             [
              0.1111111111111111,
              "#46039f"
             ],
             [
              0.2222222222222222,
              "#7201a8"
             ],
             [
              0.3333333333333333,
              "#9c179e"
             ],
             [
              0.4444444444444444,
              "#bd3786"
             ],
             [
              0.5555555555555556,
              "#d8576b"
             ],
             [
              0.6666666666666666,
              "#ed7953"
             ],
             [
              0.7777777777777778,
              "#fb9f3a"
             ],
             [
              0.8888888888888888,
              "#fdca26"
             ],
             [
              1,
              "#f0f921"
             ]
            ],
            "type": "contour"
           }
          ],
          "contourcarpet": [
           {
            "colorbar": {
             "outlinewidth": 0,
             "ticks": ""
            },
            "type": "contourcarpet"
           }
          ],
          "heatmap": [
           {
            "colorbar": {
             "outlinewidth": 0,
             "ticks": ""
            },
            "colorscale": [
             [
              0,
              "#0d0887"
             ],
             [
              0.1111111111111111,
              "#46039f"
             ],
             [
              0.2222222222222222,
              "#7201a8"
             ],
             [
              0.3333333333333333,
              "#9c179e"
             ],
             [
              0.4444444444444444,
              "#bd3786"
             ],
             [
              0.5555555555555556,
              "#d8576b"
             ],
             [
              0.6666666666666666,
              "#ed7953"
             ],
             [
              0.7777777777777778,
              "#fb9f3a"
             ],
             [
              0.8888888888888888,
              "#fdca26"
             ],
             [
              1,
              "#f0f921"
             ]
            ],
            "type": "heatmap"
           }
          ],
          "heatmapgl": [
           {
            "colorbar": {
             "outlinewidth": 0,
             "ticks": ""
            },
            "colorscale": [
             [
              0,
              "#0d0887"
             ],
             [
              0.1111111111111111,
              "#46039f"
             ],
             [
              0.2222222222222222,
              "#7201a8"
             ],
             [
              0.3333333333333333,
              "#9c179e"
             ],
             [
              0.4444444444444444,
              "#bd3786"
             ],
             [
              0.5555555555555556,
              "#d8576b"
             ],
             [
              0.6666666666666666,
              "#ed7953"
             ],
             [
              0.7777777777777778,
              "#fb9f3a"
             ],
             [
              0.8888888888888888,
              "#fdca26"
             ],
             [
              1,
              "#f0f921"
             ]
            ],
            "type": "heatmapgl"
           }
          ],
          "histogram": [
           {
            "marker": {
             "pattern": {
              "fillmode": "overlay",
              "size": 10,
              "solidity": 0.2
             }
            },
            "type": "histogram"
           }
          ],
          "histogram2d": [
           {
            "colorbar": {
             "outlinewidth": 0,
             "ticks": ""
            },
            "colorscale": [
             [
              0,
              "#0d0887"
             ],
             [
              0.1111111111111111,
              "#46039f"
             ],
             [
              0.2222222222222222,
              "#7201a8"
             ],
             [
              0.3333333333333333,
              "#9c179e"
             ],
             [
              0.4444444444444444,
              "#bd3786"
             ],
             [
              0.5555555555555556,
              "#d8576b"
             ],
             [
              0.6666666666666666,
              "#ed7953"
             ],
             [
              0.7777777777777778,
              "#fb9f3a"
             ],
             [
              0.8888888888888888,
              "#fdca26"
             ],
             [
              1,
              "#f0f921"
             ]
            ],
            "type": "histogram2d"
           }
          ],
          "histogram2dcontour": [
           {
            "colorbar": {
             "outlinewidth": 0,
             "ticks": ""
            },
            "colorscale": [
             [
              0,
              "#0d0887"
             ],
             [
              0.1111111111111111,
              "#46039f"
             ],
             [
              0.2222222222222222,
              "#7201a8"
             ],
             [
              0.3333333333333333,
              "#9c179e"
             ],
             [
              0.4444444444444444,
              "#bd3786"
             ],
             [
              0.5555555555555556,
              "#d8576b"
             ],
             [
              0.6666666666666666,
              "#ed7953"
             ],
             [
              0.7777777777777778,
              "#fb9f3a"
             ],
             [
              0.8888888888888888,
              "#fdca26"
             ],
             [
              1,
              "#f0f921"
             ]
            ],
            "type": "histogram2dcontour"
           }
          ],
          "mesh3d": [
           {
            "colorbar": {
             "outlinewidth": 0,
             "ticks": ""
            },
            "type": "mesh3d"
           }
          ],
          "parcoords": [
           {
            "line": {
             "colorbar": {
              "outlinewidth": 0,
              "ticks": ""
             }
            },
            "type": "parcoords"
           }
          ],
          "pie": [
           {
            "automargin": true,
            "type": "pie"
           }
          ],
          "scatter": [
           {
            "fillpattern": {
             "fillmode": "overlay",
             "size": 10,
             "solidity": 0.2
            },
            "type": "scatter"
           }
          ],
          "scatter3d": [
           {
            "line": {
             "colorbar": {
              "outlinewidth": 0,
              "ticks": ""
             }
            },
            "marker": {
             "colorbar": {
              "outlinewidth": 0,
              "ticks": ""
             }
            },
            "type": "scatter3d"
           }
          ],
          "scattercarpet": [
           {
            "marker": {
             "colorbar": {
              "outlinewidth": 0,
              "ticks": ""
             }
            },
            "type": "scattercarpet"
           }
          ],
          "scattergeo": [
           {
            "marker": {
             "colorbar": {
              "outlinewidth": 0,
              "ticks": ""
             }
            },
            "type": "scattergeo"
           }
          ],
          "scattergl": [
           {
            "marker": {
             "colorbar": {
              "outlinewidth": 0,
              "ticks": ""
             }
            },
            "type": "scattergl"
           }
          ],
          "scattermapbox": [
           {
            "marker": {
             "colorbar": {
              "outlinewidth": 0,
              "ticks": ""
             }
            },
            "type": "scattermapbox"
           }
          ],
          "scatterpolar": [
           {
            "marker": {
             "colorbar": {
              "outlinewidth": 0,
              "ticks": ""
             }
            },
            "type": "scatterpolar"
           }
          ],
          "scatterpolargl": [
           {
            "marker": {
             "colorbar": {
              "outlinewidth": 0,
              "ticks": ""
             }
            },
            "type": "scatterpolargl"
           }
          ],
          "scatterternary": [
           {
            "marker": {
             "colorbar": {
              "outlinewidth": 0,
              "ticks": ""
             }
            },
            "type": "scatterternary"
           }
          ],
          "surface": [
           {
            "colorbar": {
             "outlinewidth": 0,
             "ticks": ""
            },
            "colorscale": [
             [
              0,
              "#0d0887"
             ],
             [
              0.1111111111111111,
              "#46039f"
             ],
             [
              0.2222222222222222,
              "#7201a8"
             ],
             [
              0.3333333333333333,
              "#9c179e"
             ],
             [
              0.4444444444444444,
              "#bd3786"
             ],
             [
              0.5555555555555556,
              "#d8576b"
             ],
             [
              0.6666666666666666,
              "#ed7953"
             ],
             [
              0.7777777777777778,
              "#fb9f3a"
             ],
             [
              0.8888888888888888,
              "#fdca26"
             ],
             [
              1,
              "#f0f921"
             ]
            ],
            "type": "surface"
           }
          ],
          "table": [
           {
            "cells": {
             "fill": {
              "color": "#EBF0F8"
             },
             "line": {
              "color": "white"
             }
            },
            "header": {
             "fill": {
              "color": "#C8D4E3"
             },
             "line": {
              "color": "white"
             }
            },
            "type": "table"
           }
          ]
         },
         "layout": {
          "annotationdefaults": {
           "arrowcolor": "#2a3f5f",
           "arrowhead": 0,
           "arrowwidth": 1
          },
          "autotypenumbers": "strict",
          "coloraxis": {
           "colorbar": {
            "outlinewidth": 0,
            "ticks": ""
           }
          },
          "colorscale": {
           "diverging": [
            [
             0,
             "#8e0152"
            ],
            [
             0.1,
             "#c51b7d"
            ],
            [
             0.2,
             "#de77ae"
            ],
            [
             0.3,
             "#f1b6da"
            ],
            [
             0.4,
             "#fde0ef"
            ],
            [
             0.5,
             "#f7f7f7"
            ],
            [
             0.6,
             "#e6f5d0"
            ],
            [
             0.7,
             "#b8e186"
            ],
            [
             0.8,
             "#7fbc41"
            ],
            [
             0.9,
             "#4d9221"
            ],
            [
             1,
             "#276419"
            ]
           ],
           "sequential": [
            [
             0,
             "#0d0887"
            ],
            [
             0.1111111111111111,
             "#46039f"
            ],
            [
             0.2222222222222222,
             "#7201a8"
            ],
            [
             0.3333333333333333,
             "#9c179e"
            ],
            [
             0.4444444444444444,
             "#bd3786"
            ],
            [
             0.5555555555555556,
             "#d8576b"
            ],
            [
             0.6666666666666666,
             "#ed7953"
            ],
            [
             0.7777777777777778,
             "#fb9f3a"
            ],
            [
             0.8888888888888888,
             "#fdca26"
            ],
            [
             1,
             "#f0f921"
            ]
           ],
           "sequentialminus": [
            [
             0,
             "#0d0887"
            ],
            [
             0.1111111111111111,
             "#46039f"
            ],
            [
             0.2222222222222222,
             "#7201a8"
            ],
            [
             0.3333333333333333,
             "#9c179e"
            ],
            [
             0.4444444444444444,
             "#bd3786"
            ],
            [
             0.5555555555555556,
             "#d8576b"
            ],
            [
             0.6666666666666666,
             "#ed7953"
            ],
            [
             0.7777777777777778,
             "#fb9f3a"
            ],
            [
             0.8888888888888888,
             "#fdca26"
            ],
            [
             1,
             "#f0f921"
            ]
           ]
          },
          "colorway": [
           "#636efa",
           "#EF553B",
           "#00cc96",
           "#ab63fa",
           "#FFA15A",
           "#19d3f3",
           "#FF6692",
           "#B6E880",
           "#FF97FF",
           "#FECB52"
          ],
          "font": {
           "color": "#2a3f5f"
          },
          "geo": {
           "bgcolor": "white",
           "lakecolor": "white",
           "landcolor": "#E5ECF6",
           "showlakes": true,
           "showland": true,
           "subunitcolor": "white"
          },
          "hoverlabel": {
           "align": "left"
          },
          "hovermode": "closest",
          "mapbox": {
           "style": "light"
          },
          "paper_bgcolor": "white",
          "plot_bgcolor": "#E5ECF6",
          "polar": {
           "angularaxis": {
            "gridcolor": "white",
            "linecolor": "white",
            "ticks": ""
           },
           "bgcolor": "#E5ECF6",
           "radialaxis": {
            "gridcolor": "white",
            "linecolor": "white",
            "ticks": ""
           }
          },
          "scene": {
           "xaxis": {
            "backgroundcolor": "#E5ECF6",
            "gridcolor": "white",
            "gridwidth": 2,
            "linecolor": "white",
            "showbackground": true,
            "ticks": "",
            "zerolinecolor": "white"
           },
           "yaxis": {
            "backgroundcolor": "#E5ECF6",
            "gridcolor": "white",
            "gridwidth": 2,
            "linecolor": "white",
            "showbackground": true,
            "ticks": "",
            "zerolinecolor": "white"
           },
           "zaxis": {
            "backgroundcolor": "#E5ECF6",
            "gridcolor": "white",
            "gridwidth": 2,
            "linecolor": "white",
            "showbackground": true,
            "ticks": "",
            "zerolinecolor": "white"
           }
          },
          "shapedefaults": {
           "line": {
            "color": "#2a3f5f"
           }
          },
          "ternary": {
           "aaxis": {
            "gridcolor": "white",
            "linecolor": "white",
            "ticks": ""
           },
           "baxis": {
            "gridcolor": "white",
            "linecolor": "white",
            "ticks": ""
           },
           "bgcolor": "#E5ECF6",
           "caxis": {
            "gridcolor": "white",
            "linecolor": "white",
            "ticks": ""
           }
          },
          "title": {
           "x": 0.05
          },
          "xaxis": {
           "automargin": true,
           "gridcolor": "white",
           "linecolor": "white",
           "ticks": "",
           "title": {
            "standoff": 15
           },
           "zerolinecolor": "white",
           "zerolinewidth": 2
          },
          "yaxis": {
           "automargin": true,
           "gridcolor": "white",
           "linecolor": "white",
           "ticks": "",
           "title": {
            "standoff": 15
           },
           "zerolinecolor": "white",
           "zerolinewidth": 2
          }
         }
        },
        "title": {
         "font": {
          "color": "#4D5663"
         }
        },
        "xaxis": {
         "gridcolor": "#E1E5ED",
         "showgrid": true,
         "tickfont": {
          "color": "#4D5663"
         },
         "title": {
          "font": {
           "color": "#4D5663"
          },
          "text": ""
         },
         "zerolinecolor": "#E1E5ED"
        },
        "yaxis": {
         "gridcolor": "#E1E5ED",
         "showgrid": true,
         "tickfont": {
          "color": "#4D5663"
         },
         "title": {
          "font": {
           "color": "#4D5663"
          },
          "text": ""
         },
         "zerolinecolor": "#E1E5ED"
        }
       }
      },
      "text/html": [
       "<div>                            <div id=\"8b35f35e-d50b-4d67-8c83-d79030391116\" class=\"plotly-graph-div\" style=\"height:525px; width:100%;\"></div>            <script type=\"text/javascript\">                require([\"plotly\"], function(Plotly) {                    window.PLOTLYENV=window.PLOTLYENV || {};\n",
       "                    window.PLOTLYENV.BASE_URL='https://plot.ly';                                    if (document.getElementById(\"8b35f35e-d50b-4d67-8c83-d79030391116\")) {                    Plotly.newPlot(                        \"8b35f35e-d50b-4d67-8c83-d79030391116\",                        [{\"marker\":{\"color\":\"rgba(55, 128, 191, 0.6)\",\"line\":{\"color\":\"rgba(55, 128, 191, 1.0)\",\"width\":1}},\"name\":\"YTD Total Return\",\"orientation\":\"v\",\"text\":\"\",\"x\":[\"QIA.DE\",\"SY1G.DE\",\"RWEG.DE\",\"HNRGn.DE\",\"LINI.DE\",\"MRCG.DE\",\"HNKG_p.DE\",\"ENR1n.DE\",\"DB1Gn.DE\",\"BEIG.DE\",\"DTGGe.DE\",\"PSHG_p.DE\",\"MUVGn.DE\",\"ADSGn.DE\",\"ALVG.DE\",\"DBKGn.DE\",\"SHLG.DE\",\"EONGn.DE\",\"FREG.DE\",\"AIRG.DE\",\"SAPG.DE\",\"DTEGn.DE\",\"VOWG_p.DE\",\"BASFn.DE\",\"VNAn.DE\",\"SATG_p.DE\",\"MTXGn.DE\",\"SIEGn.DE\",\"1COV.DE\",\"DPWGn.DE\",\"ZALG.DE\",\"BMWG.DE\",\"P911_p.DE\",\"HEIG.DE\",\"MBGn.DE\",\"FMEG.DE\",\"BNRGn.DE\",\"IFXGn.DE\",\"BAYGn.DE\",\"CONG.DE\"],\"y\":[-5.67964262922782,-5.10575504181017,-2.88530896850204,-2.04851752021563,0.180062203306597,1.35433941404093,4.76776376499539,4.77951635846374,4.8946716232962,6.1100746268657,6.71964069787532,7.0647931303669,7.30263157894735,7.81421622469789,8.21304131408665,9.52021156025695,9.63140673962488,9.70644953931863,9.90476190476186,10.2711438319268,11.7958294428882,12.1901491576349,12.5923380862395,13.1493856434577,13.3060853769301,13.6978884677856,13.946587537092,14.109593458013,14.1997264021888,14.3405343945424,18.1214134702507,18.3737107219956,19.5778364116095,20.3828828828829,21.4820846905537,21.5570821066405,22.2371064969859,22.523765236188,22.6073460941542,22.8653090389425],\"type\":\"bar\"}],                        {\"legend\":{\"bgcolor\":\"#F5F6F9\",\"font\":{\"color\":\"#4D5663\"}},\"paper_bgcolor\":\"#F5F6F9\",\"plot_bgcolor\":\"#F5F6F9\",\"template\":{\"data\":{\"barpolar\":[{\"marker\":{\"line\":{\"color\":\"#E5ECF6\",\"width\":0.5},\"pattern\":{\"fillmode\":\"overlay\",\"size\":10,\"solidity\":0.2}},\"type\":\"barpolar\"}],\"bar\":[{\"error_x\":{\"color\":\"#2a3f5f\"},\"error_y\":{\"color\":\"#2a3f5f\"},\"marker\":{\"line\":{\"color\":\"#E5ECF6\",\"width\":0.5},\"pattern\":{\"fillmode\":\"overlay\",\"size\":10,\"solidity\":0.2}},\"type\":\"bar\"}],\"carpet\":[{\"aaxis\":{\"endlinecolor\":\"#2a3f5f\",\"gridcolor\":\"white\",\"linecolor\":\"white\",\"minorgridcolor\":\"white\",\"startlinecolor\":\"#2a3f5f\"},\"baxis\":{\"endlinecolor\":\"#2a3f5f\",\"gridcolor\":\"white\",\"linecolor\":\"white\",\"minorgridcolor\":\"white\",\"startlinecolor\":\"#2a3f5f\"},\"type\":\"carpet\"}],\"choropleth\":[{\"colorbar\":{\"outlinewidth\":0,\"ticks\":\"\"},\"type\":\"choropleth\"}],\"contourcarpet\":[{\"colorbar\":{\"outlinewidth\":0,\"ticks\":\"\"},\"type\":\"contourcarpet\"}],\"contour\":[{\"colorbar\":{\"outlinewidth\":0,\"ticks\":\"\"},\"colorscale\":[[0.0,\"#0d0887\"],[0.1111111111111111,\"#46039f\"],[0.2222222222222222,\"#7201a8\"],[0.3333333333333333,\"#9c179e\"],[0.4444444444444444,\"#bd3786\"],[0.5555555555555556,\"#d8576b\"],[0.6666666666666666,\"#ed7953\"],[0.7777777777777778,\"#fb9f3a\"],[0.8888888888888888,\"#fdca26\"],[1.0,\"#f0f921\"]],\"type\":\"contour\"}],\"heatmapgl\":[{\"colorbar\":{\"outlinewidth\":0,\"ticks\":\"\"},\"colorscale\":[[0.0,\"#0d0887\"],[0.1111111111111111,\"#46039f\"],[0.2222222222222222,\"#7201a8\"],[0.3333333333333333,\"#9c179e\"],[0.4444444444444444,\"#bd3786\"],[0.5555555555555556,\"#d8576b\"],[0.6666666666666666,\"#ed7953\"],[0.7777777777777778,\"#fb9f3a\"],[0.8888888888888888,\"#fdca26\"],[1.0,\"#f0f921\"]],\"type\":\"heatmapgl\"}],\"heatmap\":[{\"colorbar\":{\"outlinewidth\":0,\"ticks\":\"\"},\"colorscale\":[[0.0,\"#0d0887\"],[0.1111111111111111,\"#46039f\"],[0.2222222222222222,\"#7201a8\"],[0.3333333333333333,\"#9c179e\"],[0.4444444444444444,\"#bd3786\"],[0.5555555555555556,\"#d8576b\"],[0.6666666666666666,\"#ed7953\"],[0.7777777777777778,\"#fb9f3a\"],[0.8888888888888888,\"#fdca26\"],[1.0,\"#f0f921\"]],\"type\":\"heatmap\"}],\"histogram2dcontour\":[{\"colorbar\":{\"outlinewidth\":0,\"ticks\":\"\"},\"colorscale\":[[0.0,\"#0d0887\"],[0.1111111111111111,\"#46039f\"],[0.2222222222222222,\"#7201a8\"],[0.3333333333333333,\"#9c179e\"],[0.4444444444444444,\"#bd3786\"],[0.5555555555555556,\"#d8576b\"],[0.6666666666666666,\"#ed7953\"],[0.7777777777777778,\"#fb9f3a\"],[0.8888888888888888,\"#fdca26\"],[1.0,\"#f0f921\"]],\"type\":\"histogram2dcontour\"}],\"histogram2d\":[{\"colorbar\":{\"outlinewidth\":0,\"ticks\":\"\"},\"colorscale\":[[0.0,\"#0d0887\"],[0.1111111111111111,\"#46039f\"],[0.2222222222222222,\"#7201a8\"],[0.3333333333333333,\"#9c179e\"],[0.4444444444444444,\"#bd3786\"],[0.5555555555555556,\"#d8576b\"],[0.6666666666666666,\"#ed7953\"],[0.7777777777777778,\"#fb9f3a\"],[0.8888888888888888,\"#fdca26\"],[1.0,\"#f0f921\"]],\"type\":\"histogram2d\"}],\"histogram\":[{\"marker\":{\"pattern\":{\"fillmode\":\"overlay\",\"size\":10,\"solidity\":0.2}},\"type\":\"histogram\"}],\"mesh3d\":[{\"colorbar\":{\"outlinewidth\":0,\"ticks\":\"\"},\"type\":\"mesh3d\"}],\"parcoords\":[{\"line\":{\"colorbar\":{\"outlinewidth\":0,\"ticks\":\"\"}},\"type\":\"parcoords\"}],\"pie\":[{\"automargin\":true,\"type\":\"pie\"}],\"scatter3d\":[{\"line\":{\"colorbar\":{\"outlinewidth\":0,\"ticks\":\"\"}},\"marker\":{\"colorbar\":{\"outlinewidth\":0,\"ticks\":\"\"}},\"type\":\"scatter3d\"}],\"scattercarpet\":[{\"marker\":{\"colorbar\":{\"outlinewidth\":0,\"ticks\":\"\"}},\"type\":\"scattercarpet\"}],\"scattergeo\":[{\"marker\":{\"colorbar\":{\"outlinewidth\":0,\"ticks\":\"\"}},\"type\":\"scattergeo\"}],\"scattergl\":[{\"marker\":{\"colorbar\":{\"outlinewidth\":0,\"ticks\":\"\"}},\"type\":\"scattergl\"}],\"scattermapbox\":[{\"marker\":{\"colorbar\":{\"outlinewidth\":0,\"ticks\":\"\"}},\"type\":\"scattermapbox\"}],\"scatterpolargl\":[{\"marker\":{\"colorbar\":{\"outlinewidth\":0,\"ticks\":\"\"}},\"type\":\"scatterpolargl\"}],\"scatterpolar\":[{\"marker\":{\"colorbar\":{\"outlinewidth\":0,\"ticks\":\"\"}},\"type\":\"scatterpolar\"}],\"scatter\":[{\"fillpattern\":{\"fillmode\":\"overlay\",\"size\":10,\"solidity\":0.2},\"type\":\"scatter\"}],\"scatterternary\":[{\"marker\":{\"colorbar\":{\"outlinewidth\":0,\"ticks\":\"\"}},\"type\":\"scatterternary\"}],\"surface\":[{\"colorbar\":{\"outlinewidth\":0,\"ticks\":\"\"},\"colorscale\":[[0.0,\"#0d0887\"],[0.1111111111111111,\"#46039f\"],[0.2222222222222222,\"#7201a8\"],[0.3333333333333333,\"#9c179e\"],[0.4444444444444444,\"#bd3786\"],[0.5555555555555556,\"#d8576b\"],[0.6666666666666666,\"#ed7953\"],[0.7777777777777778,\"#fb9f3a\"],[0.8888888888888888,\"#fdca26\"],[1.0,\"#f0f921\"]],\"type\":\"surface\"}],\"table\":[{\"cells\":{\"fill\":{\"color\":\"#EBF0F8\"},\"line\":{\"color\":\"white\"}},\"header\":{\"fill\":{\"color\":\"#C8D4E3\"},\"line\":{\"color\":\"white\"}},\"type\":\"table\"}]},\"layout\":{\"annotationdefaults\":{\"arrowcolor\":\"#2a3f5f\",\"arrowhead\":0,\"arrowwidth\":1},\"autotypenumbers\":\"strict\",\"coloraxis\":{\"colorbar\":{\"outlinewidth\":0,\"ticks\":\"\"}},\"colorscale\":{\"diverging\":[[0,\"#8e0152\"],[0.1,\"#c51b7d\"],[0.2,\"#de77ae\"],[0.3,\"#f1b6da\"],[0.4,\"#fde0ef\"],[0.5,\"#f7f7f7\"],[0.6,\"#e6f5d0\"],[0.7,\"#b8e186\"],[0.8,\"#7fbc41\"],[0.9,\"#4d9221\"],[1,\"#276419\"]],\"sequential\":[[0.0,\"#0d0887\"],[0.1111111111111111,\"#46039f\"],[0.2222222222222222,\"#7201a8\"],[0.3333333333333333,\"#9c179e\"],[0.4444444444444444,\"#bd3786\"],[0.5555555555555556,\"#d8576b\"],[0.6666666666666666,\"#ed7953\"],[0.7777777777777778,\"#fb9f3a\"],[0.8888888888888888,\"#fdca26\"],[1.0,\"#f0f921\"]],\"sequentialminus\":[[0.0,\"#0d0887\"],[0.1111111111111111,\"#46039f\"],[0.2222222222222222,\"#7201a8\"],[0.3333333333333333,\"#9c179e\"],[0.4444444444444444,\"#bd3786\"],[0.5555555555555556,\"#d8576b\"],[0.6666666666666666,\"#ed7953\"],[0.7777777777777778,\"#fb9f3a\"],[0.8888888888888888,\"#fdca26\"],[1.0,\"#f0f921\"]]},\"colorway\":[\"#636efa\",\"#EF553B\",\"#00cc96\",\"#ab63fa\",\"#FFA15A\",\"#19d3f3\",\"#FF6692\",\"#B6E880\",\"#FF97FF\",\"#FECB52\"],\"font\":{\"color\":\"#2a3f5f\"},\"geo\":{\"bgcolor\":\"white\",\"lakecolor\":\"white\",\"landcolor\":\"#E5ECF6\",\"showlakes\":true,\"showland\":true,\"subunitcolor\":\"white\"},\"hoverlabel\":{\"align\":\"left\"},\"hovermode\":\"closest\",\"mapbox\":{\"style\":\"light\"},\"paper_bgcolor\":\"white\",\"plot_bgcolor\":\"#E5ECF6\",\"polar\":{\"angularaxis\":{\"gridcolor\":\"white\",\"linecolor\":\"white\",\"ticks\":\"\"},\"bgcolor\":\"#E5ECF6\",\"radialaxis\":{\"gridcolor\":\"white\",\"linecolor\":\"white\",\"ticks\":\"\"}},\"scene\":{\"xaxis\":{\"backgroundcolor\":\"#E5ECF6\",\"gridcolor\":\"white\",\"gridwidth\":2,\"linecolor\":\"white\",\"showbackground\":true,\"ticks\":\"\",\"zerolinecolor\":\"white\"},\"yaxis\":{\"backgroundcolor\":\"#E5ECF6\",\"gridcolor\":\"white\",\"gridwidth\":2,\"linecolor\":\"white\",\"showbackground\":true,\"ticks\":\"\",\"zerolinecolor\":\"white\"},\"zaxis\":{\"backgroundcolor\":\"#E5ECF6\",\"gridcolor\":\"white\",\"gridwidth\":2,\"linecolor\":\"white\",\"showbackground\":true,\"ticks\":\"\",\"zerolinecolor\":\"white\"}},\"shapedefaults\":{\"line\":{\"color\":\"#2a3f5f\"}},\"ternary\":{\"aaxis\":{\"gridcolor\":\"white\",\"linecolor\":\"white\",\"ticks\":\"\"},\"baxis\":{\"gridcolor\":\"white\",\"linecolor\":\"white\",\"ticks\":\"\"},\"bgcolor\":\"#E5ECF6\",\"caxis\":{\"gridcolor\":\"white\",\"linecolor\":\"white\",\"ticks\":\"\"}},\"title\":{\"x\":0.05},\"xaxis\":{\"automargin\":true,\"gridcolor\":\"white\",\"linecolor\":\"white\",\"ticks\":\"\",\"title\":{\"standoff\":15},\"zerolinecolor\":\"white\",\"zerolinewidth\":2},\"yaxis\":{\"automargin\":true,\"gridcolor\":\"white\",\"linecolor\":\"white\",\"ticks\":\"\",\"title\":{\"standoff\":15},\"zerolinecolor\":\"white\",\"zerolinewidth\":2}}},\"title\":{\"font\":{\"color\":\"#4D5663\"}},\"xaxis\":{\"gridcolor\":\"#E1E5ED\",\"showgrid\":true,\"tickfont\":{\"color\":\"#4D5663\"},\"title\":{\"font\":{\"color\":\"#4D5663\"},\"text\":\"\"},\"zerolinecolor\":\"#E1E5ED\"},\"yaxis\":{\"gridcolor\":\"#E1E5ED\",\"showgrid\":true,\"tickfont\":{\"color\":\"#4D5663\"},\"title\":{\"font\":{\"color\":\"#4D5663\"},\"text\":\"\"},\"zerolinecolor\":\"#E1E5ED\"}},                        {\"showLink\": true, \"linkText\": \"Export to plot.ly\", \"plotlyServerURL\": \"https://plot.ly\", \"responsive\": true}                    ).then(function(){\n",
       "                            \n",
       "var gd = document.getElementById('8b35f35e-d50b-4d67-8c83-d79030391116');\n",
       "var x = new MutationObserver(function (mutations, observer) {{\n",
       "        var display = window.getComputedStyle(gd).display;\n",
       "        if (!display || display === 'none') {{\n",
       "            console.log([gd, 'removed!']);\n",
       "            Plotly.purge(gd);\n",
       "            observer.disconnect();\n",
       "        }}\n",
       "}});\n",
       "\n",
       "// Listen for the removal of the full notebook cells\n",
       "var notebookContainer = gd.closest('#notebook-container');\n",
       "if (notebookContainer) {{\n",
       "    x.observe(notebookContainer, {childList: true});\n",
       "}}\n",
       "\n",
       "// Listen for the clearing of the current output cell\n",
       "var outputEl = gd.closest('.output');\n",
       "if (outputEl) {{\n",
       "    x.observe(outputEl, {childList: true});\n",
       "}}\n",
       "\n",
       "                        })                };                });            </script>        </div>"
      ]
     },
     "metadata": {},
     "output_type": "display_data"
    }
   ],
   "source": [
    "dax.set_index('Instrument')['YTD Total Return'].sort_values().iplot(kind='bar', color='blue')"
   ]
  },
  {
   "cell_type": "code",
   "execution_count": null,
   "id": "9d6c6614",
   "metadata": {},
   "outputs": [],
   "source": [
    "generen grafico para volumen de menor a mayor DJI"
   ]
  },
  {
   "cell_type": "code",
   "execution_count": 49,
   "id": "e79b0aed",
   "metadata": {},
   "outputs": [],
   "source": [
    "lp4 = ek.get_data('LP40065886', ['TR.FundHoldingRIC','TR.FundHoldingName',\n",
    "                           'TR.FundPercentageOfFundAssets',\n",
    "                           'TR.FundNumberOfShares',\n",
    "                           'TR.FundNumberOfSharesChanged'],\n",
    "            {'Endnum':'5000'})[0]"
   ]
  },
  {
   "cell_type": "code",
   "execution_count": 50,
   "id": "d3db9b8a",
   "metadata": {},
   "outputs": [
    {
     "data": {
      "text/html": [
       "<div>\n",
       "<style scoped>\n",
       "    .dataframe tbody tr th:only-of-type {\n",
       "        vertical-align: middle;\n",
       "    }\n",
       "\n",
       "    .dataframe tbody tr th {\n",
       "        vertical-align: top;\n",
       "    }\n",
       "\n",
       "    .dataframe thead th {\n",
       "        text-align: right;\n",
       "    }\n",
       "</style>\n",
       "<table border=\"1\" class=\"dataframe\">\n",
       "  <thead>\n",
       "    <tr style=\"text-align: right;\">\n",
       "      <th></th>\n",
       "      <th>Instrument</th>\n",
       "      <th>Holding RIC</th>\n",
       "      <th>Holding Name</th>\n",
       "      <th>Percentage of Fund Assets</th>\n",
       "      <th>Number of Shares</th>\n",
       "      <th>Number of Shares Changed</th>\n",
       "    </tr>\n",
       "  </thead>\n",
       "  <tbody>\n",
       "    <tr>\n",
       "      <th>0</th>\n",
       "      <td>LP40065886</td>\n",
       "      <td>AAPL.OQ</td>\n",
       "      <td>APPLE INC ORD</td>\n",
       "      <td>5.3777</td>\n",
       "      <td>10205990.0</td>\n",
       "      <td>67032.0</td>\n",
       "    </tr>\n",
       "    <tr>\n",
       "      <th>1</th>\n",
       "      <td>LP40065886</td>\n",
       "      <td>MSFT.OQ</td>\n",
       "      <td>MICROSOFT CORP ORD</td>\n",
       "      <td>4.5546</td>\n",
       "      <td>5032980.0</td>\n",
       "      <td>31551.0</td>\n",
       "    </tr>\n",
       "    <tr>\n",
       "      <th>2</th>\n",
       "      <td>LP40065886</td>\n",
       "      <td>AMZN.OQ</td>\n",
       "      <td>AMAZON.COM INC ORD</td>\n",
       "      <td>2.2045</td>\n",
       "      <td>5853476.0</td>\n",
       "      <td>32076.0</td>\n",
       "    </tr>\n",
       "    <tr>\n",
       "      <th>3</th>\n",
       "      <td>LP40065886</td>\n",
       "      <td>GOOGL.OQ</td>\n",
       "      <td>ALPHABET INC CLASS A ORD</td>\n",
       "      <td>1.4645</td>\n",
       "      <td>4057503.0</td>\n",
       "      <td>43199.0</td>\n",
       "    </tr>\n",
       "    <tr>\n",
       "      <th>4</th>\n",
       "      <td>LP40065886</td>\n",
       "      <td>BRKb.N</td>\n",
       "      <td>BERKSHIRE HATHAWAY INC ORD</td>\n",
       "      <td>1.2727</td>\n",
       "      <td>1118776.0</td>\n",
       "      <td>8465.0</td>\n",
       "    </tr>\n",
       "    <tr>\n",
       "      <th>...</th>\n",
       "      <td>...</td>\n",
       "      <td>...</td>\n",
       "      <td>...</td>\n",
       "      <td>...</td>\n",
       "      <td>...</td>\n",
       "      <td>...</td>\n",
       "    </tr>\n",
       "    <tr>\n",
       "      <th>3555</th>\n",
       "      <td>LP40065886</td>\n",
       "      <td></td>\n",
       "      <td>MIRAGEN THERAPEUTICS INC CVR</td>\n",
       "      <td>0.0</td>\n",
       "      <td>67673.0</td>\n",
       "      <td>0.0</td>\n",
       "    </tr>\n",
       "    <tr>\n",
       "      <th>3556</th>\n",
       "      <td>LP40065886</td>\n",
       "      <td>ANGN.OQ</td>\n",
       "      <td>ANGION BIOMEDICA CORP ORD</td>\n",
       "      <td>0.0</td>\n",
       "      <td>17453.0</td>\n",
       "      <td>0.0</td>\n",
       "    </tr>\n",
       "    <tr>\n",
       "      <th>3557</th>\n",
       "      <td>LP40065886</td>\n",
       "      <td>LHDX.OQ</td>\n",
       "      <td>LUCIRA HEALTH INC ORD</td>\n",
       "      <td>0.0</td>\n",
       "      <td>12487.0</td>\n",
       "      <td>0.0</td>\n",
       "    </tr>\n",
       "    <tr>\n",
       "      <th>3558</th>\n",
       "      <td>LP40065886</td>\n",
       "      <td>NEXI.OQ</td>\n",
       "      <td>NEXIMMUNE INC ORD</td>\n",
       "      <td>0.0</td>\n",
       "      <td>14792.0</td>\n",
       "      <td>0.0</td>\n",
       "    </tr>\n",
       "    <tr>\n",
       "      <th>3559</th>\n",
       "      <td>LP40065886</td>\n",
       "      <td></td>\n",
       "      <td>USD CASH</td>\n",
       "      <td>-0.0298</td>\n",
       "      <td>-8165447.79</td>\n",
       "      <td>-20690870.65</td>\n",
       "    </tr>\n",
       "  </tbody>\n",
       "</table>\n",
       "<p>3560 rows × 6 columns</p>\n",
       "</div>"
      ],
      "text/plain": [
       "      Instrument Holding RIC                  Holding Name  \\\n",
       "0     LP40065886     AAPL.OQ                 APPLE INC ORD   \n",
       "1     LP40065886     MSFT.OQ            MICROSOFT CORP ORD   \n",
       "2     LP40065886     AMZN.OQ            AMAZON.COM INC ORD   \n",
       "3     LP40065886    GOOGL.OQ      ALPHABET INC CLASS A ORD   \n",
       "4     LP40065886      BRKb.N    BERKSHIRE HATHAWAY INC ORD   \n",
       "...          ...         ...                           ...   \n",
       "3555  LP40065886              MIRAGEN THERAPEUTICS INC CVR   \n",
       "3556  LP40065886     ANGN.OQ     ANGION BIOMEDICA CORP ORD   \n",
       "3557  LP40065886     LHDX.OQ         LUCIRA HEALTH INC ORD   \n",
       "3558  LP40065886     NEXI.OQ             NEXIMMUNE INC ORD   \n",
       "3559  LP40065886                                  USD CASH   \n",
       "\n",
       "      Percentage of Fund Assets  Number of Shares  Number of Shares Changed  \n",
       "0                        5.3777        10205990.0                   67032.0  \n",
       "1                        4.5546         5032980.0                   31551.0  \n",
       "2                        2.2045         5853476.0                   32076.0  \n",
       "3                        1.4645         4057503.0                   43199.0  \n",
       "4                        1.2727         1118776.0                    8465.0  \n",
       "...                         ...               ...                       ...  \n",
       "3555                        0.0           67673.0                       0.0  \n",
       "3556                        0.0           17453.0                       0.0  \n",
       "3557                        0.0           12487.0                       0.0  \n",
       "3558                        0.0           14792.0                       0.0  \n",
       "3559                    -0.0298       -8165447.79              -20690870.65  \n",
       "\n",
       "[3560 rows x 6 columns]"
      ]
     },
     "execution_count": 50,
     "metadata": {},
     "output_type": "execute_result"
    }
   ],
   "source": [
    "lp4"
   ]
  },
  {
   "cell_type": "code",
   "execution_count": 46,
   "id": "13a8119c",
   "metadata": {},
   "outputs": [
    {
     "data": {
      "text/plain": [
       "tuple"
      ]
     },
     "execution_count": 46,
     "metadata": {},
     "output_type": "execute_result"
    }
   ],
   "source": [
    "dax.set_index('Instrument')['YTD Total Return'].sort_values().iplot(kind='bar', color='blue')"
   ]
  },
  {
   "cell_type": "code",
   "execution_count": null,
   "id": "b0e8c7cf",
   "metadata": {},
   "outputs": [],
   "source": []
  },
  {
   "cell_type": "code",
   "execution_count": null,
   "id": "54a33815",
   "metadata": {},
   "outputs": [],
   "source": []
  },
  {
   "cell_type": "code",
   "execution_count": 51,
   "id": "f407c898",
   "metadata": {},
   "outputs": [],
   "source": [
    "XLE= ek.get_data('XLE', ['TR.FundHoldingRIC','TR.FundHoldingName', 'TR.FundPercentageOfFundAssets',\n",
    "                           'TR.FundNumberOfShares', 'TR.FundNumberOfSharesChanged'],\n",
    "            {'Endnum':'5000'})[0]"
   ]
  },
  {
   "cell_type": "code",
   "execution_count": 52,
   "id": "397ab251",
   "metadata": {},
   "outputs": [
    {
     "data": {
      "text/html": [
       "<div>\n",
       "<style scoped>\n",
       "    .dataframe tbody tr th:only-of-type {\n",
       "        vertical-align: middle;\n",
       "    }\n",
       "\n",
       "    .dataframe tbody tr th {\n",
       "        vertical-align: top;\n",
       "    }\n",
       "\n",
       "    .dataframe thead th {\n",
       "        text-align: right;\n",
       "    }\n",
       "</style>\n",
       "<table border=\"1\" class=\"dataframe\">\n",
       "  <thead>\n",
       "    <tr style=\"text-align: right;\">\n",
       "      <th></th>\n",
       "      <th>Instrument</th>\n",
       "      <th>Holding RIC</th>\n",
       "      <th>Holding Name</th>\n",
       "      <th>Percentage of Fund Assets</th>\n",
       "      <th>Number of Shares</th>\n",
       "      <th>Number of Shares Changed</th>\n",
       "    </tr>\n",
       "  </thead>\n",
       "  <tbody>\n",
       "    <tr>\n",
       "      <th>0</th>\n",
       "      <td>XLE</td>\n",
       "      <td>XOM.N</td>\n",
       "      <td>EXXON MOBIL CORP ORD</td>\n",
       "      <td>23.41</td>\n",
       "      <td>85651581.0</td>\n",
       "      <td>903479.0</td>\n",
       "    </tr>\n",
       "    <tr>\n",
       "      <th>1</th>\n",
       "      <td>XLE</td>\n",
       "      <td>CVX.N</td>\n",
       "      <td>CHEVRON CORP ORD</td>\n",
       "      <td>18.889</td>\n",
       "      <td>46072089.0</td>\n",
       "      <td>486014.0</td>\n",
       "    </tr>\n",
       "    <tr>\n",
       "      <th>2</th>\n",
       "      <td>XLE</td>\n",
       "      <td>SLB.N</td>\n",
       "      <td>SCHLUMBERGER NV ORD</td>\n",
       "      <td>4.9591</td>\n",
       "      <td>36940902.0</td>\n",
       "      <td>389655.0</td>\n",
       "    </tr>\n",
       "    <tr>\n",
       "      <th>3</th>\n",
       "      <td>XLE</td>\n",
       "      <td>COP.N</td>\n",
       "      <td>CONOCOPHILLIPS ORD</td>\n",
       "      <td>4.5282</td>\n",
       "      <td>15770957.0</td>\n",
       "      <td>166403.0</td>\n",
       "    </tr>\n",
       "    <tr>\n",
       "      <th>4</th>\n",
       "      <td>XLE</td>\n",
       "      <td>EOG.N</td>\n",
       "      <td>EOG RESOURCES INC ORD</td>\n",
       "      <td>4.4434</td>\n",
       "      <td>14260820.0</td>\n",
       "      <td>150428.0</td>\n",
       "    </tr>\n",
       "    <tr>\n",
       "      <th>5</th>\n",
       "      <td>XLE</td>\n",
       "      <td>MPC.N</td>\n",
       "      <td>MARATHON PETROLEUM CORP ORD</td>\n",
       "      <td>4.1514</td>\n",
       "      <td>13710609.0</td>\n",
       "      <td>144676.0</td>\n",
       "    </tr>\n",
       "    <tr>\n",
       "      <th>6</th>\n",
       "      <td>XLE</td>\n",
       "      <td>PXD.N</td>\n",
       "      <td>PIONEER NATURAL RESOURCES CO ORD</td>\n",
       "      <td>3.7723</td>\n",
       "      <td>6950903.0</td>\n",
       "      <td>73316.0</td>\n",
       "    </tr>\n",
       "    <tr>\n",
       "      <th>7</th>\n",
       "      <td>XLE</td>\n",
       "      <td>VLO.N</td>\n",
       "      <td>VALERO ENERGY CORP ORD</td>\n",
       "      <td>3.7208</td>\n",
       "      <td>11278375.0</td>\n",
       "      <td>118981.0</td>\n",
       "    </tr>\n",
       "    <tr>\n",
       "      <th>8</th>\n",
       "      <td>XLE</td>\n",
       "      <td>PSX.N</td>\n",
       "      <td>PHILLIPS 66 ORD</td>\n",
       "      <td>3.2663</td>\n",
       "      <td>13826737.0</td>\n",
       "      <td>145867.0</td>\n",
       "    </tr>\n",
       "    <tr>\n",
       "      <th>9</th>\n",
       "      <td>XLE</td>\n",
       "      <td>OXY.N</td>\n",
       "      <td>OCCIDENTAL PETROLEUM CORP ORD</td>\n",
       "      <td>3.247</td>\n",
       "      <td>21271979.0</td>\n",
       "      <td>224342.0</td>\n",
       "    </tr>\n",
       "    <tr>\n",
       "      <th>10</th>\n",
       "      <td>XLE</td>\n",
       "      <td>HES.N</td>\n",
       "      <td>HESS CORP ORD</td>\n",
       "      <td>2.8718</td>\n",
       "      <td>8117527.0</td>\n",
       "      <td>85619.0</td>\n",
       "    </tr>\n",
       "    <tr>\n",
       "      <th>11</th>\n",
       "      <td>XLE</td>\n",
       "      <td>DVN.N</td>\n",
       "      <td>DEVON ENERGY CORP ORD</td>\n",
       "      <td>2.8493</td>\n",
       "      <td>19123815.0</td>\n",
       "      <td>201720.0</td>\n",
       "    </tr>\n",
       "    <tr>\n",
       "      <th>12</th>\n",
       "      <td>XLE</td>\n",
       "      <td>WMB.N</td>\n",
       "      <td>WILLIAMS COMPANIES INC ORD</td>\n",
       "      <td>2.7065</td>\n",
       "      <td>35632263.0</td>\n",
       "      <td>375864.0</td>\n",
       "    </tr>\n",
       "    <tr>\n",
       "      <th>13</th>\n",
       "      <td>XLE</td>\n",
       "      <td>HAL.N</td>\n",
       "      <td>HALLIBURTON CO ORD</td>\n",
       "      <td>2.5798</td>\n",
       "      <td>26564666.0</td>\n",
       "      <td>280198.0</td>\n",
       "    </tr>\n",
       "    <tr>\n",
       "      <th>14</th>\n",
       "      <td>XLE</td>\n",
       "      <td>KMI.N</td>\n",
       "      <td>KINDER MORGAN INC ORD</td>\n",
       "      <td>2.4949</td>\n",
       "      <td>57866280.0</td>\n",
       "      <td>610423.0</td>\n",
       "    </tr>\n",
       "    <tr>\n",
       "      <th>15</th>\n",
       "      <td>XLE</td>\n",
       "      <td>BKR.OQ</td>\n",
       "      <td>BAKER HUGHES CO ORD</td>\n",
       "      <td>2.1908</td>\n",
       "      <td>29297728.0</td>\n",
       "      <td>309092.0</td>\n",
       "    </tr>\n",
       "    <tr>\n",
       "      <th>16</th>\n",
       "      <td>XLE</td>\n",
       "      <td>OKE.N</td>\n",
       "      <td>ONEOK INC ORD</td>\n",
       "      <td>2.1096</td>\n",
       "      <td>13075516.0</td>\n",
       "      <td>137930.0</td>\n",
       "    </tr>\n",
       "    <tr>\n",
       "      <th>17</th>\n",
       "      <td>XLE</td>\n",
       "      <td>FANG.OQ</td>\n",
       "      <td>DIAMONDBACK ENERGY INC ORD</td>\n",
       "      <td>1.7725</td>\n",
       "      <td>5148757.0</td>\n",
       "      <td>54268.0</td>\n",
       "    </tr>\n",
       "    <tr>\n",
       "      <th>18</th>\n",
       "      <td>XLE</td>\n",
       "      <td>CTRA.N</td>\n",
       "      <td>COTERRA ENERGY INC ORD</td>\n",
       "      <td>1.3602</td>\n",
       "      <td>23066372.0</td>\n",
       "      <td>243290.0</td>\n",
       "    </tr>\n",
       "    <tr>\n",
       "      <th>19</th>\n",
       "      <td>XLE</td>\n",
       "      <td>MRO.N</td>\n",
       "      <td>MARATHON OIL CORP ORD</td>\n",
       "      <td>1.2024</td>\n",
       "      <td>18578734.0</td>\n",
       "      <td>195966.0</td>\n",
       "    </tr>\n",
       "    <tr>\n",
       "      <th>20</th>\n",
       "      <td>XLE</td>\n",
       "      <td>TRGP.N</td>\n",
       "      <td>TARGA RESOURCES CORP ORD</td>\n",
       "      <td>1.1705</td>\n",
       "      <td>6622537.0</td>\n",
       "      <td>69845.0</td>\n",
       "    </tr>\n",
       "    <tr>\n",
       "      <th>21</th>\n",
       "      <td>XLE</td>\n",
       "      <td>APA.OQ</td>\n",
       "      <td>APA CORP (US) ORD</td>\n",
       "      <td>0.9823</td>\n",
       "      <td>9405759.0</td>\n",
       "      <td>99237.0</td>\n",
       "    </tr>\n",
       "    <tr>\n",
       "      <th>22</th>\n",
       "      <td>XLE</td>\n",
       "      <td>EQT.N</td>\n",
       "      <td>EQT CORP ORD</td>\n",
       "      <td>0.8265</td>\n",
       "      <td>10737842.0</td>\n",
       "      <td>113275.0</td>\n",
       "    </tr>\n",
       "    <tr>\n",
       "      <th>23</th>\n",
       "      <td>XLE</td>\n",
       "      <td>XAEH3</td>\n",
       "      <td>EMINI ENRGY MAR3</td>\n",
       "      <td>0.4221</td>\n",
       "      <td>190000.0</td>\n",
       "      <td>-1000.0</td>\n",
       "    </tr>\n",
       "    <tr>\n",
       "      <th>24</th>\n",
       "      <td>XLE</td>\n",
       "      <td>LP40098642</td>\n",
       "      <td>STATE STREET INSTITUTIONAL LIQUID RESERVES FD;...</td>\n",
       "      <td>0.3228</td>\n",
       "      <td>136944337.79</td>\n",
       "      <td>10076454.35</td>\n",
       "    </tr>\n",
       "    <tr>\n",
       "      <th>25</th>\n",
       "      <td>XLE</td>\n",
       "      <td></td>\n",
       "      <td>USD CASH</td>\n",
       "      <td>0.0046</td>\n",
       "      <td>1956953.68</td>\n",
       "      <td>-3658400.5</td>\n",
       "    </tr>\n",
       "    <tr>\n",
       "      <th>26</th>\n",
       "      <td>XLE</td>\n",
       "      <td></td>\n",
       "      <td>OTHER ASSETS LESS LIABILITIES</td>\n",
       "      <td>-0.2541</td>\n",
       "      <td>&lt;NA&gt;</td>\n",
       "      <td>&lt;NA&gt;</td>\n",
       "    </tr>\n",
       "  </tbody>\n",
       "</table>\n",
       "</div>"
      ],
      "text/plain": [
       "   Instrument Holding RIC                                       Holding Name  \\\n",
       "0         XLE       XOM.N                               EXXON MOBIL CORP ORD   \n",
       "1         XLE       CVX.N                                   CHEVRON CORP ORD   \n",
       "2         XLE       SLB.N                                SCHLUMBERGER NV ORD   \n",
       "3         XLE       COP.N                                 CONOCOPHILLIPS ORD   \n",
       "4         XLE       EOG.N                              EOG RESOURCES INC ORD   \n",
       "5         XLE       MPC.N                        MARATHON PETROLEUM CORP ORD   \n",
       "6         XLE       PXD.N                   PIONEER NATURAL RESOURCES CO ORD   \n",
       "7         XLE       VLO.N                             VALERO ENERGY CORP ORD   \n",
       "8         XLE       PSX.N                                    PHILLIPS 66 ORD   \n",
       "9         XLE       OXY.N                      OCCIDENTAL PETROLEUM CORP ORD   \n",
       "10        XLE       HES.N                                      HESS CORP ORD   \n",
       "11        XLE       DVN.N                              DEVON ENERGY CORP ORD   \n",
       "12        XLE       WMB.N                         WILLIAMS COMPANIES INC ORD   \n",
       "13        XLE       HAL.N                                 HALLIBURTON CO ORD   \n",
       "14        XLE       KMI.N                              KINDER MORGAN INC ORD   \n",
       "15        XLE      BKR.OQ                                BAKER HUGHES CO ORD   \n",
       "16        XLE       OKE.N                                      ONEOK INC ORD   \n",
       "17        XLE     FANG.OQ                         DIAMONDBACK ENERGY INC ORD   \n",
       "18        XLE      CTRA.N                             COTERRA ENERGY INC ORD   \n",
       "19        XLE       MRO.N                              MARATHON OIL CORP ORD   \n",
       "20        XLE      TRGP.N                           TARGA RESOURCES CORP ORD   \n",
       "21        XLE      APA.OQ                                  APA CORP (US) ORD   \n",
       "22        XLE       EQT.N                                       EQT CORP ORD   \n",
       "23        XLE       XAEH3                                   EMINI ENRGY MAR3   \n",
       "24        XLE  LP40098642  STATE STREET INSTITUTIONAL LIQUID RESERVES FD;...   \n",
       "25        XLE                                                       USD CASH   \n",
       "26        XLE                                  OTHER ASSETS LESS LIABILITIES   \n",
       "\n",
       "    Percentage of Fund Assets  Number of Shares  Number of Shares Changed  \n",
       "0                       23.41        85651581.0                  903479.0  \n",
       "1                      18.889        46072089.0                  486014.0  \n",
       "2                      4.9591        36940902.0                  389655.0  \n",
       "3                      4.5282        15770957.0                  166403.0  \n",
       "4                      4.4434        14260820.0                  150428.0  \n",
       "5                      4.1514        13710609.0                  144676.0  \n",
       "6                      3.7723         6950903.0                   73316.0  \n",
       "7                      3.7208        11278375.0                  118981.0  \n",
       "8                      3.2663        13826737.0                  145867.0  \n",
       "9                       3.247        21271979.0                  224342.0  \n",
       "10                     2.8718         8117527.0                   85619.0  \n",
       "11                     2.8493        19123815.0                  201720.0  \n",
       "12                     2.7065        35632263.0                  375864.0  \n",
       "13                     2.5798        26564666.0                  280198.0  \n",
       "14                     2.4949        57866280.0                  610423.0  \n",
       "15                     2.1908        29297728.0                  309092.0  \n",
       "16                     2.1096        13075516.0                  137930.0  \n",
       "17                     1.7725         5148757.0                   54268.0  \n",
       "18                     1.3602        23066372.0                  243290.0  \n",
       "19                     1.2024        18578734.0                  195966.0  \n",
       "20                     1.1705         6622537.0                   69845.0  \n",
       "21                     0.9823         9405759.0                   99237.0  \n",
       "22                     0.8265        10737842.0                  113275.0  \n",
       "23                     0.4221          190000.0                   -1000.0  \n",
       "24                     0.3228      136944337.79               10076454.35  \n",
       "25                     0.0046        1956953.68                -3658400.5  \n",
       "26                    -0.2541              <NA>                      <NA>  "
      ]
     },
     "execution_count": 52,
     "metadata": {},
     "output_type": "execute_result"
    }
   ],
   "source": [
    "XLE"
   ]
  },
  {
   "cell_type": "code",
   "execution_count": 56,
   "id": "cd6ecd3e",
   "metadata": {},
   "outputs": [
    {
     "data": {
      "text/plain": [
       "Holding RIC\n",
       "XOM.N           85651581.0\n",
       "CVX.N           46072089.0\n",
       "SLB.N           36940902.0\n",
       "COP.N           15770957.0\n",
       "EOG.N           14260820.0\n",
       "MPC.N           13710609.0\n",
       "PXD.N            6950903.0\n",
       "VLO.N           11278375.0\n",
       "PSX.N           13826737.0\n",
       "OXY.N           21271979.0\n",
       "HES.N            8117527.0\n",
       "DVN.N           19123815.0\n",
       "WMB.N           35632263.0\n",
       "HAL.N           26564666.0\n",
       "KMI.N           57866280.0\n",
       "BKR.OQ          29297728.0\n",
       "OKE.N           13075516.0\n",
       "FANG.OQ          5148757.0\n",
       "CTRA.N          23066372.0\n",
       "MRO.N           18578734.0\n",
       "TRGP.N           6622537.0\n",
       "APA.OQ           9405759.0\n",
       "EQT.N           10737842.0\n",
       "XAEH3             190000.0\n",
       "LP40098642    136944337.79\n",
       "                1956953.68\n",
       "                      <NA>\n",
       "Name: Number of Shares, dtype: Float64"
      ]
     },
     "execution_count": 56,
     "metadata": {},
     "output_type": "execute_result"
    }
   ],
   "source": [
    "XLE.set_index('Holding RIC')['Number of Shares']"
   ]
  },
  {
   "cell_type": "code",
   "execution_count": 60,
   "id": "fa606808",
   "metadata": {},
   "outputs": [
    {
     "data": {
      "application/vnd.plotly.v1+json": {
       "config": {
        "linkText": "Export to plot.ly",
        "plotlyServerURL": "https://plot.ly",
        "showLink": true
       },
       "data": [
        {
         "marker": {
          "color": "rgba(55, 128, 191, 0.6)",
          "line": {
           "color": "rgba(55, 128, 191, 1.0)",
           "width": 1
          }
         },
         "name": "Number of Shares",
         "orientation": "v",
         "text": "",
         "type": "bar",
         "x": [
          "XAEH3",
          "FANG.OQ",
          "TRGP.N",
          "PXD.N",
          "HES.N",
          "APA.OQ",
          "EQT.N",
          "VLO.N",
          "OKE.N",
          "MPC.N",
          "PSX.N",
          "EOG.N",
          "COP.N",
          "MRO.N",
          "DVN.N",
          "OXY.N",
          "CTRA.N",
          "HAL.N",
          "BKR.OQ",
          "WMB.N",
          "SLB.N",
          "CVX.N",
          "KMI.N",
          "XOM.N",
          "LP40098642"
         ],
         "y": [
          190000,
          5148757,
          6622537,
          6950903,
          8117527,
          9405759,
          10737842,
          11278375,
          13075516,
          13710609,
          13826737,
          14260820,
          15770957,
          18578734,
          19123815,
          21271979,
          23066372,
          26564666,
          29297728,
          35632263,
          36940902,
          46072089,
          57866280,
          85651581,
          136944337.79
         ]
        }
       ],
       "layout": {
        "legend": {
         "bgcolor": "#F5F6F9",
         "font": {
          "color": "#4D5663"
         }
        },
        "paper_bgcolor": "#F5F6F9",
        "plot_bgcolor": "#F5F6F9",
        "template": {
         "data": {
          "bar": [
           {
            "error_x": {
             "color": "#2a3f5f"
            },
            "error_y": {
             "color": "#2a3f5f"
            },
            "marker": {
             "line": {
              "color": "#E5ECF6",
              "width": 0.5
             },
             "pattern": {
              "fillmode": "overlay",
              "size": 10,
              "solidity": 0.2
             }
            },
            "type": "bar"
           }
          ],
          "barpolar": [
           {
            "marker": {
             "line": {
              "color": "#E5ECF6",
              "width": 0.5
             },
             "pattern": {
              "fillmode": "overlay",
              "size": 10,
              "solidity": 0.2
             }
            },
            "type": "barpolar"
           }
          ],
          "carpet": [
           {
            "aaxis": {
             "endlinecolor": "#2a3f5f",
             "gridcolor": "white",
             "linecolor": "white",
             "minorgridcolor": "white",
             "startlinecolor": "#2a3f5f"
            },
            "baxis": {
             "endlinecolor": "#2a3f5f",
             "gridcolor": "white",
             "linecolor": "white",
             "minorgridcolor": "white",
             "startlinecolor": "#2a3f5f"
            },
            "type": "carpet"
           }
          ],
          "choropleth": [
           {
            "colorbar": {
             "outlinewidth": 0,
             "ticks": ""
            },
            "type": "choropleth"
           }
          ],
          "contour": [
           {
            "colorbar": {
             "outlinewidth": 0,
             "ticks": ""
            },
            "colorscale": [
             [
              0,
              "#0d0887"
             ],
             [
              0.1111111111111111,
              "#46039f"
             ],
             [
              0.2222222222222222,
              "#7201a8"
             ],
             [
              0.3333333333333333,
              "#9c179e"
             ],
             [
              0.4444444444444444,
              "#bd3786"
             ],
             [
              0.5555555555555556,
              "#d8576b"
             ],
             [
              0.6666666666666666,
              "#ed7953"
             ],
             [
              0.7777777777777778,
              "#fb9f3a"
             ],
             [
              0.8888888888888888,
              "#fdca26"
             ],
             [
              1,
              "#f0f921"
             ]
            ],
            "type": "contour"
           }
          ],
          "contourcarpet": [
           {
            "colorbar": {
             "outlinewidth": 0,
             "ticks": ""
            },
            "type": "contourcarpet"
           }
          ],
          "heatmap": [
           {
            "colorbar": {
             "outlinewidth": 0,
             "ticks": ""
            },
            "colorscale": [
             [
              0,
              "#0d0887"
             ],
             [
              0.1111111111111111,
              "#46039f"
             ],
             [
              0.2222222222222222,
              "#7201a8"
             ],
             [
              0.3333333333333333,
              "#9c179e"
             ],
             [
              0.4444444444444444,
              "#bd3786"
             ],
             [
              0.5555555555555556,
              "#d8576b"
             ],
             [
              0.6666666666666666,
              "#ed7953"
             ],
             [
              0.7777777777777778,
              "#fb9f3a"
             ],
             [
              0.8888888888888888,
              "#fdca26"
             ],
             [
              1,
              "#f0f921"
             ]
            ],
            "type": "heatmap"
           }
          ],
          "heatmapgl": [
           {
            "colorbar": {
             "outlinewidth": 0,
             "ticks": ""
            },
            "colorscale": [
             [
              0,
              "#0d0887"
             ],
             [
              0.1111111111111111,
              "#46039f"
             ],
             [
              0.2222222222222222,
              "#7201a8"
             ],
             [
              0.3333333333333333,
              "#9c179e"
             ],
             [
              0.4444444444444444,
              "#bd3786"
             ],
             [
              0.5555555555555556,
              "#d8576b"
             ],
             [
              0.6666666666666666,
              "#ed7953"
             ],
             [
              0.7777777777777778,
              "#fb9f3a"
             ],
             [
              0.8888888888888888,
              "#fdca26"
             ],
             [
              1,
              "#f0f921"
             ]
            ],
            "type": "heatmapgl"
           }
          ],
          "histogram": [
           {
            "marker": {
             "pattern": {
              "fillmode": "overlay",
              "size": 10,
              "solidity": 0.2
             }
            },
            "type": "histogram"
           }
          ],
          "histogram2d": [
           {
            "colorbar": {
             "outlinewidth": 0,
             "ticks": ""
            },
            "colorscale": [
             [
              0,
              "#0d0887"
             ],
             [
              0.1111111111111111,
              "#46039f"
             ],
             [
              0.2222222222222222,
              "#7201a8"
             ],
             [
              0.3333333333333333,
              "#9c179e"
             ],
             [
              0.4444444444444444,
              "#bd3786"
             ],
             [
              0.5555555555555556,
              "#d8576b"
             ],
             [
              0.6666666666666666,
              "#ed7953"
             ],
             [
              0.7777777777777778,
              "#fb9f3a"
             ],
             [
              0.8888888888888888,
              "#fdca26"
             ],
             [
              1,
              "#f0f921"
             ]
            ],
            "type": "histogram2d"
           }
          ],
          "histogram2dcontour": [
           {
            "colorbar": {
             "outlinewidth": 0,
             "ticks": ""
            },
            "colorscale": [
             [
              0,
              "#0d0887"
             ],
             [
              0.1111111111111111,
              "#46039f"
             ],
             [
              0.2222222222222222,
              "#7201a8"
             ],
             [
              0.3333333333333333,
              "#9c179e"
             ],
             [
              0.4444444444444444,
              "#bd3786"
             ],
             [
              0.5555555555555556,
              "#d8576b"
             ],
             [
              0.6666666666666666,
              "#ed7953"
             ],
             [
              0.7777777777777778,
              "#fb9f3a"
             ],
             [
              0.8888888888888888,
              "#fdca26"
             ],
             [
              1,
              "#f0f921"
             ]
            ],
            "type": "histogram2dcontour"
           }
          ],
          "mesh3d": [
           {
            "colorbar": {
             "outlinewidth": 0,
             "ticks": ""
            },
            "type": "mesh3d"
           }
          ],
          "parcoords": [
           {
            "line": {
             "colorbar": {
              "outlinewidth": 0,
              "ticks": ""
             }
            },
            "type": "parcoords"
           }
          ],
          "pie": [
           {
            "automargin": true,
            "type": "pie"
           }
          ],
          "scatter": [
           {
            "fillpattern": {
             "fillmode": "overlay",
             "size": 10,
             "solidity": 0.2
            },
            "type": "scatter"
           }
          ],
          "scatter3d": [
           {
            "line": {
             "colorbar": {
              "outlinewidth": 0,
              "ticks": ""
             }
            },
            "marker": {
             "colorbar": {
              "outlinewidth": 0,
              "ticks": ""
             }
            },
            "type": "scatter3d"
           }
          ],
          "scattercarpet": [
           {
            "marker": {
             "colorbar": {
              "outlinewidth": 0,
              "ticks": ""
             }
            },
            "type": "scattercarpet"
           }
          ],
          "scattergeo": [
           {
            "marker": {
             "colorbar": {
              "outlinewidth": 0,
              "ticks": ""
             }
            },
            "type": "scattergeo"
           }
          ],
          "scattergl": [
           {
            "marker": {
             "colorbar": {
              "outlinewidth": 0,
              "ticks": ""
             }
            },
            "type": "scattergl"
           }
          ],
          "scattermapbox": [
           {
            "marker": {
             "colorbar": {
              "outlinewidth": 0,
              "ticks": ""
             }
            },
            "type": "scattermapbox"
           }
          ],
          "scatterpolar": [
           {
            "marker": {
             "colorbar": {
              "outlinewidth": 0,
              "ticks": ""
             }
            },
            "type": "scatterpolar"
           }
          ],
          "scatterpolargl": [
           {
            "marker": {
             "colorbar": {
              "outlinewidth": 0,
              "ticks": ""
             }
            },
            "type": "scatterpolargl"
           }
          ],
          "scatterternary": [
           {
            "marker": {
             "colorbar": {
              "outlinewidth": 0,
              "ticks": ""
             }
            },
            "type": "scatterternary"
           }
          ],
          "surface": [
           {
            "colorbar": {
             "outlinewidth": 0,
             "ticks": ""
            },
            "colorscale": [
             [
              0,
              "#0d0887"
             ],
             [
              0.1111111111111111,
              "#46039f"
             ],
             [
              0.2222222222222222,
              "#7201a8"
             ],
             [
              0.3333333333333333,
              "#9c179e"
             ],
             [
              0.4444444444444444,
              "#bd3786"
             ],
             [
              0.5555555555555556,
              "#d8576b"
             ],
             [
              0.6666666666666666,
              "#ed7953"
             ],
             [
              0.7777777777777778,
              "#fb9f3a"
             ],
             [
              0.8888888888888888,
              "#fdca26"
             ],
             [
              1,
              "#f0f921"
             ]
            ],
            "type": "surface"
           }
          ],
          "table": [
           {
            "cells": {
             "fill": {
              "color": "#EBF0F8"
             },
             "line": {
              "color": "white"
             }
            },
            "header": {
             "fill": {
              "color": "#C8D4E3"
             },
             "line": {
              "color": "white"
             }
            },
            "type": "table"
           }
          ]
         },
         "layout": {
          "annotationdefaults": {
           "arrowcolor": "#2a3f5f",
           "arrowhead": 0,
           "arrowwidth": 1
          },
          "autotypenumbers": "strict",
          "coloraxis": {
           "colorbar": {
            "outlinewidth": 0,
            "ticks": ""
           }
          },
          "colorscale": {
           "diverging": [
            [
             0,
             "#8e0152"
            ],
            [
             0.1,
             "#c51b7d"
            ],
            [
             0.2,
             "#de77ae"
            ],
            [
             0.3,
             "#f1b6da"
            ],
            [
             0.4,
             "#fde0ef"
            ],
            [
             0.5,
             "#f7f7f7"
            ],
            [
             0.6,
             "#e6f5d0"
            ],
            [
             0.7,
             "#b8e186"
            ],
            [
             0.8,
             "#7fbc41"
            ],
            [
             0.9,
             "#4d9221"
            ],
            [
             1,
             "#276419"
            ]
           ],
           "sequential": [
            [
             0,
             "#0d0887"
            ],
            [
             0.1111111111111111,
             "#46039f"
            ],
            [
             0.2222222222222222,
             "#7201a8"
            ],
            [
             0.3333333333333333,
             "#9c179e"
            ],
            [
             0.4444444444444444,
             "#bd3786"
            ],
            [
             0.5555555555555556,
             "#d8576b"
            ],
            [
             0.6666666666666666,
             "#ed7953"
            ],
            [
             0.7777777777777778,
             "#fb9f3a"
            ],
            [
             0.8888888888888888,
             "#fdca26"
            ],
            [
             1,
             "#f0f921"
            ]
           ],
           "sequentialminus": [
            [
             0,
             "#0d0887"
            ],
            [
             0.1111111111111111,
             "#46039f"
            ],
            [
             0.2222222222222222,
             "#7201a8"
            ],
            [
             0.3333333333333333,
             "#9c179e"
            ],
            [
             0.4444444444444444,
             "#bd3786"
            ],
            [
             0.5555555555555556,
             "#d8576b"
            ],
            [
             0.6666666666666666,
             "#ed7953"
            ],
            [
             0.7777777777777778,
             "#fb9f3a"
            ],
            [
             0.8888888888888888,
             "#fdca26"
            ],
            [
             1,
             "#f0f921"
            ]
           ]
          },
          "colorway": [
           "#636efa",
           "#EF553B",
           "#00cc96",
           "#ab63fa",
           "#FFA15A",
           "#19d3f3",
           "#FF6692",
           "#B6E880",
           "#FF97FF",
           "#FECB52"
          ],
          "font": {
           "color": "#2a3f5f"
          },
          "geo": {
           "bgcolor": "white",
           "lakecolor": "white",
           "landcolor": "#E5ECF6",
           "showlakes": true,
           "showland": true,
           "subunitcolor": "white"
          },
          "hoverlabel": {
           "align": "left"
          },
          "hovermode": "closest",
          "mapbox": {
           "style": "light"
          },
          "paper_bgcolor": "white",
          "plot_bgcolor": "#E5ECF6",
          "polar": {
           "angularaxis": {
            "gridcolor": "white",
            "linecolor": "white",
            "ticks": ""
           },
           "bgcolor": "#E5ECF6",
           "radialaxis": {
            "gridcolor": "white",
            "linecolor": "white",
            "ticks": ""
           }
          },
          "scene": {
           "xaxis": {
            "backgroundcolor": "#E5ECF6",
            "gridcolor": "white",
            "gridwidth": 2,
            "linecolor": "white",
            "showbackground": true,
            "ticks": "",
            "zerolinecolor": "white"
           },
           "yaxis": {
            "backgroundcolor": "#E5ECF6",
            "gridcolor": "white",
            "gridwidth": 2,
            "linecolor": "white",
            "showbackground": true,
            "ticks": "",
            "zerolinecolor": "white"
           },
           "zaxis": {
            "backgroundcolor": "#E5ECF6",
            "gridcolor": "white",
            "gridwidth": 2,
            "linecolor": "white",
            "showbackground": true,
            "ticks": "",
            "zerolinecolor": "white"
           }
          },
          "shapedefaults": {
           "line": {
            "color": "#2a3f5f"
           }
          },
          "ternary": {
           "aaxis": {
            "gridcolor": "white",
            "linecolor": "white",
            "ticks": ""
           },
           "baxis": {
            "gridcolor": "white",
            "linecolor": "white",
            "ticks": ""
           },
           "bgcolor": "#E5ECF6",
           "caxis": {
            "gridcolor": "white",
            "linecolor": "white",
            "ticks": ""
           }
          },
          "title": {
           "x": 0.05
          },
          "xaxis": {
           "automargin": true,
           "gridcolor": "white",
           "linecolor": "white",
           "ticks": "",
           "title": {
            "standoff": 15
           },
           "zerolinecolor": "white",
           "zerolinewidth": 2
          },
          "yaxis": {
           "automargin": true,
           "gridcolor": "white",
           "linecolor": "white",
           "ticks": "",
           "title": {
            "standoff": 15
           },
           "zerolinecolor": "white",
           "zerolinewidth": 2
          }
         }
        },
        "title": {
         "font": {
          "color": "#4D5663"
         }
        },
        "xaxis": {
         "gridcolor": "#E1E5ED",
         "showgrid": true,
         "tickfont": {
          "color": "#4D5663"
         },
         "title": {
          "font": {
           "color": "#4D5663"
          },
          "text": ""
         },
         "zerolinecolor": "#E1E5ED"
        },
        "yaxis": {
         "gridcolor": "#E1E5ED",
         "showgrid": true,
         "tickfont": {
          "color": "#4D5663"
         },
         "title": {
          "font": {
           "color": "#4D5663"
          },
          "text": ""
         },
         "zerolinecolor": "#E1E5ED"
        }
       }
      },
      "text/html": [
       "<div>                            <div id=\"c0ffdc1a-6dd8-4655-9d4a-3dcef4830a63\" class=\"plotly-graph-div\" style=\"height:525px; width:100%;\"></div>            <script type=\"text/javascript\">                require([\"plotly\"], function(Plotly) {                    window.PLOTLYENV=window.PLOTLYENV || {};\n",
       "                    window.PLOTLYENV.BASE_URL='https://plot.ly';                                    if (document.getElementById(\"c0ffdc1a-6dd8-4655-9d4a-3dcef4830a63\")) {                    Plotly.newPlot(                        \"c0ffdc1a-6dd8-4655-9d4a-3dcef4830a63\",                        [{\"marker\":{\"color\":\"rgba(55, 128, 191, 0.6)\",\"line\":{\"color\":\"rgba(55, 128, 191, 1.0)\",\"width\":1}},\"name\":\"Number of Shares\",\"orientation\":\"v\",\"text\":\"\",\"x\":[\"XAEH3\",\"FANG.OQ\",\"TRGP.N\",\"PXD.N\",\"HES.N\",\"APA.OQ\",\"EQT.N\",\"VLO.N\",\"OKE.N\",\"MPC.N\",\"PSX.N\",\"EOG.N\",\"COP.N\",\"MRO.N\",\"DVN.N\",\"OXY.N\",\"CTRA.N\",\"HAL.N\",\"BKR.OQ\",\"WMB.N\",\"SLB.N\",\"CVX.N\",\"KMI.N\",\"XOM.N\",\"LP40098642\"],\"y\":[190000.0,5148757.0,6622537.0,6950903.0,8117527.0,9405759.0,10737842.0,11278375.0,13075516.0,13710609.0,13826737.0,14260820.0,15770957.0,18578734.0,19123815.0,21271979.0,23066372.0,26564666.0,29297728.0,35632263.0,36940902.0,46072089.0,57866280.0,85651581.0,136944337.79],\"type\":\"bar\"}],                        {\"legend\":{\"bgcolor\":\"#F5F6F9\",\"font\":{\"color\":\"#4D5663\"}},\"paper_bgcolor\":\"#F5F6F9\",\"plot_bgcolor\":\"#F5F6F9\",\"template\":{\"data\":{\"barpolar\":[{\"marker\":{\"line\":{\"color\":\"#E5ECF6\",\"width\":0.5},\"pattern\":{\"fillmode\":\"overlay\",\"size\":10,\"solidity\":0.2}},\"type\":\"barpolar\"}],\"bar\":[{\"error_x\":{\"color\":\"#2a3f5f\"},\"error_y\":{\"color\":\"#2a3f5f\"},\"marker\":{\"line\":{\"color\":\"#E5ECF6\",\"width\":0.5},\"pattern\":{\"fillmode\":\"overlay\",\"size\":10,\"solidity\":0.2}},\"type\":\"bar\"}],\"carpet\":[{\"aaxis\":{\"endlinecolor\":\"#2a3f5f\",\"gridcolor\":\"white\",\"linecolor\":\"white\",\"minorgridcolor\":\"white\",\"startlinecolor\":\"#2a3f5f\"},\"baxis\":{\"endlinecolor\":\"#2a3f5f\",\"gridcolor\":\"white\",\"linecolor\":\"white\",\"minorgridcolor\":\"white\",\"startlinecolor\":\"#2a3f5f\"},\"type\":\"carpet\"}],\"choropleth\":[{\"colorbar\":{\"outlinewidth\":0,\"ticks\":\"\"},\"type\":\"choropleth\"}],\"contourcarpet\":[{\"colorbar\":{\"outlinewidth\":0,\"ticks\":\"\"},\"type\":\"contourcarpet\"}],\"contour\":[{\"colorbar\":{\"outlinewidth\":0,\"ticks\":\"\"},\"colorscale\":[[0.0,\"#0d0887\"],[0.1111111111111111,\"#46039f\"],[0.2222222222222222,\"#7201a8\"],[0.3333333333333333,\"#9c179e\"],[0.4444444444444444,\"#bd3786\"],[0.5555555555555556,\"#d8576b\"],[0.6666666666666666,\"#ed7953\"],[0.7777777777777778,\"#fb9f3a\"],[0.8888888888888888,\"#fdca26\"],[1.0,\"#f0f921\"]],\"type\":\"contour\"}],\"heatmapgl\":[{\"colorbar\":{\"outlinewidth\":0,\"ticks\":\"\"},\"colorscale\":[[0.0,\"#0d0887\"],[0.1111111111111111,\"#46039f\"],[0.2222222222222222,\"#7201a8\"],[0.3333333333333333,\"#9c179e\"],[0.4444444444444444,\"#bd3786\"],[0.5555555555555556,\"#d8576b\"],[0.6666666666666666,\"#ed7953\"],[0.7777777777777778,\"#fb9f3a\"],[0.8888888888888888,\"#fdca26\"],[1.0,\"#f0f921\"]],\"type\":\"heatmapgl\"}],\"heatmap\":[{\"colorbar\":{\"outlinewidth\":0,\"ticks\":\"\"},\"colorscale\":[[0.0,\"#0d0887\"],[0.1111111111111111,\"#46039f\"],[0.2222222222222222,\"#7201a8\"],[0.3333333333333333,\"#9c179e\"],[0.4444444444444444,\"#bd3786\"],[0.5555555555555556,\"#d8576b\"],[0.6666666666666666,\"#ed7953\"],[0.7777777777777778,\"#fb9f3a\"],[0.8888888888888888,\"#fdca26\"],[1.0,\"#f0f921\"]],\"type\":\"heatmap\"}],\"histogram2dcontour\":[{\"colorbar\":{\"outlinewidth\":0,\"ticks\":\"\"},\"colorscale\":[[0.0,\"#0d0887\"],[0.1111111111111111,\"#46039f\"],[0.2222222222222222,\"#7201a8\"],[0.3333333333333333,\"#9c179e\"],[0.4444444444444444,\"#bd3786\"],[0.5555555555555556,\"#d8576b\"],[0.6666666666666666,\"#ed7953\"],[0.7777777777777778,\"#fb9f3a\"],[0.8888888888888888,\"#fdca26\"],[1.0,\"#f0f921\"]],\"type\":\"histogram2dcontour\"}],\"histogram2d\":[{\"colorbar\":{\"outlinewidth\":0,\"ticks\":\"\"},\"colorscale\":[[0.0,\"#0d0887\"],[0.1111111111111111,\"#46039f\"],[0.2222222222222222,\"#7201a8\"],[0.3333333333333333,\"#9c179e\"],[0.4444444444444444,\"#bd3786\"],[0.5555555555555556,\"#d8576b\"],[0.6666666666666666,\"#ed7953\"],[0.7777777777777778,\"#fb9f3a\"],[0.8888888888888888,\"#fdca26\"],[1.0,\"#f0f921\"]],\"type\":\"histogram2d\"}],\"histogram\":[{\"marker\":{\"pattern\":{\"fillmode\":\"overlay\",\"size\":10,\"solidity\":0.2}},\"type\":\"histogram\"}],\"mesh3d\":[{\"colorbar\":{\"outlinewidth\":0,\"ticks\":\"\"},\"type\":\"mesh3d\"}],\"parcoords\":[{\"line\":{\"colorbar\":{\"outlinewidth\":0,\"ticks\":\"\"}},\"type\":\"parcoords\"}],\"pie\":[{\"automargin\":true,\"type\":\"pie\"}],\"scatter3d\":[{\"line\":{\"colorbar\":{\"outlinewidth\":0,\"ticks\":\"\"}},\"marker\":{\"colorbar\":{\"outlinewidth\":0,\"ticks\":\"\"}},\"type\":\"scatter3d\"}],\"scattercarpet\":[{\"marker\":{\"colorbar\":{\"outlinewidth\":0,\"ticks\":\"\"}},\"type\":\"scattercarpet\"}],\"scattergeo\":[{\"marker\":{\"colorbar\":{\"outlinewidth\":0,\"ticks\":\"\"}},\"type\":\"scattergeo\"}],\"scattergl\":[{\"marker\":{\"colorbar\":{\"outlinewidth\":0,\"ticks\":\"\"}},\"type\":\"scattergl\"}],\"scattermapbox\":[{\"marker\":{\"colorbar\":{\"outlinewidth\":0,\"ticks\":\"\"}},\"type\":\"scattermapbox\"}],\"scatterpolargl\":[{\"marker\":{\"colorbar\":{\"outlinewidth\":0,\"ticks\":\"\"}},\"type\":\"scatterpolargl\"}],\"scatterpolar\":[{\"marker\":{\"colorbar\":{\"outlinewidth\":0,\"ticks\":\"\"}},\"type\":\"scatterpolar\"}],\"scatter\":[{\"fillpattern\":{\"fillmode\":\"overlay\",\"size\":10,\"solidity\":0.2},\"type\":\"scatter\"}],\"scatterternary\":[{\"marker\":{\"colorbar\":{\"outlinewidth\":0,\"ticks\":\"\"}},\"type\":\"scatterternary\"}],\"surface\":[{\"colorbar\":{\"outlinewidth\":0,\"ticks\":\"\"},\"colorscale\":[[0.0,\"#0d0887\"],[0.1111111111111111,\"#46039f\"],[0.2222222222222222,\"#7201a8\"],[0.3333333333333333,\"#9c179e\"],[0.4444444444444444,\"#bd3786\"],[0.5555555555555556,\"#d8576b\"],[0.6666666666666666,\"#ed7953\"],[0.7777777777777778,\"#fb9f3a\"],[0.8888888888888888,\"#fdca26\"],[1.0,\"#f0f921\"]],\"type\":\"surface\"}],\"table\":[{\"cells\":{\"fill\":{\"color\":\"#EBF0F8\"},\"line\":{\"color\":\"white\"}},\"header\":{\"fill\":{\"color\":\"#C8D4E3\"},\"line\":{\"color\":\"white\"}},\"type\":\"table\"}]},\"layout\":{\"annotationdefaults\":{\"arrowcolor\":\"#2a3f5f\",\"arrowhead\":0,\"arrowwidth\":1},\"autotypenumbers\":\"strict\",\"coloraxis\":{\"colorbar\":{\"outlinewidth\":0,\"ticks\":\"\"}},\"colorscale\":{\"diverging\":[[0,\"#8e0152\"],[0.1,\"#c51b7d\"],[0.2,\"#de77ae\"],[0.3,\"#f1b6da\"],[0.4,\"#fde0ef\"],[0.5,\"#f7f7f7\"],[0.6,\"#e6f5d0\"],[0.7,\"#b8e186\"],[0.8,\"#7fbc41\"],[0.9,\"#4d9221\"],[1,\"#276419\"]],\"sequential\":[[0.0,\"#0d0887\"],[0.1111111111111111,\"#46039f\"],[0.2222222222222222,\"#7201a8\"],[0.3333333333333333,\"#9c179e\"],[0.4444444444444444,\"#bd3786\"],[0.5555555555555556,\"#d8576b\"],[0.6666666666666666,\"#ed7953\"],[0.7777777777777778,\"#fb9f3a\"],[0.8888888888888888,\"#fdca26\"],[1.0,\"#f0f921\"]],\"sequentialminus\":[[0.0,\"#0d0887\"],[0.1111111111111111,\"#46039f\"],[0.2222222222222222,\"#7201a8\"],[0.3333333333333333,\"#9c179e\"],[0.4444444444444444,\"#bd3786\"],[0.5555555555555556,\"#d8576b\"],[0.6666666666666666,\"#ed7953\"],[0.7777777777777778,\"#fb9f3a\"],[0.8888888888888888,\"#fdca26\"],[1.0,\"#f0f921\"]]},\"colorway\":[\"#636efa\",\"#EF553B\",\"#00cc96\",\"#ab63fa\",\"#FFA15A\",\"#19d3f3\",\"#FF6692\",\"#B6E880\",\"#FF97FF\",\"#FECB52\"],\"font\":{\"color\":\"#2a3f5f\"},\"geo\":{\"bgcolor\":\"white\",\"lakecolor\":\"white\",\"landcolor\":\"#E5ECF6\",\"showlakes\":true,\"showland\":true,\"subunitcolor\":\"white\"},\"hoverlabel\":{\"align\":\"left\"},\"hovermode\":\"closest\",\"mapbox\":{\"style\":\"light\"},\"paper_bgcolor\":\"white\",\"plot_bgcolor\":\"#E5ECF6\",\"polar\":{\"angularaxis\":{\"gridcolor\":\"white\",\"linecolor\":\"white\",\"ticks\":\"\"},\"bgcolor\":\"#E5ECF6\",\"radialaxis\":{\"gridcolor\":\"white\",\"linecolor\":\"white\",\"ticks\":\"\"}},\"scene\":{\"xaxis\":{\"backgroundcolor\":\"#E5ECF6\",\"gridcolor\":\"white\",\"gridwidth\":2,\"linecolor\":\"white\",\"showbackground\":true,\"ticks\":\"\",\"zerolinecolor\":\"white\"},\"yaxis\":{\"backgroundcolor\":\"#E5ECF6\",\"gridcolor\":\"white\",\"gridwidth\":2,\"linecolor\":\"white\",\"showbackground\":true,\"ticks\":\"\",\"zerolinecolor\":\"white\"},\"zaxis\":{\"backgroundcolor\":\"#E5ECF6\",\"gridcolor\":\"white\",\"gridwidth\":2,\"linecolor\":\"white\",\"showbackground\":true,\"ticks\":\"\",\"zerolinecolor\":\"white\"}},\"shapedefaults\":{\"line\":{\"color\":\"#2a3f5f\"}},\"ternary\":{\"aaxis\":{\"gridcolor\":\"white\",\"linecolor\":\"white\",\"ticks\":\"\"},\"baxis\":{\"gridcolor\":\"white\",\"linecolor\":\"white\",\"ticks\":\"\"},\"bgcolor\":\"#E5ECF6\",\"caxis\":{\"gridcolor\":\"white\",\"linecolor\":\"white\",\"ticks\":\"\"}},\"title\":{\"x\":0.05},\"xaxis\":{\"automargin\":true,\"gridcolor\":\"white\",\"linecolor\":\"white\",\"ticks\":\"\",\"title\":{\"standoff\":15},\"zerolinecolor\":\"white\",\"zerolinewidth\":2},\"yaxis\":{\"automargin\":true,\"gridcolor\":\"white\",\"linecolor\":\"white\",\"ticks\":\"\",\"title\":{\"standoff\":15},\"zerolinecolor\":\"white\",\"zerolinewidth\":2}}},\"title\":{\"font\":{\"color\":\"#4D5663\"}},\"xaxis\":{\"gridcolor\":\"#E1E5ED\",\"showgrid\":true,\"tickfont\":{\"color\":\"#4D5663\"},\"title\":{\"font\":{\"color\":\"#4D5663\"},\"text\":\"\"},\"zerolinecolor\":\"#E1E5ED\"},\"yaxis\":{\"gridcolor\":\"#E1E5ED\",\"showgrid\":true,\"tickfont\":{\"color\":\"#4D5663\"},\"title\":{\"font\":{\"color\":\"#4D5663\"},\"text\":\"\"},\"zerolinecolor\":\"#E1E5ED\"}},                        {\"showLink\": true, \"linkText\": \"Export to plot.ly\", \"plotlyServerURL\": \"https://plot.ly\", \"responsive\": true}                    ).then(function(){\n",
       "                            \n",
       "var gd = document.getElementById('c0ffdc1a-6dd8-4655-9d4a-3dcef4830a63');\n",
       "var x = new MutationObserver(function (mutations, observer) {{\n",
       "        var display = window.getComputedStyle(gd).display;\n",
       "        if (!display || display === 'none') {{\n",
       "            console.log([gd, 'removed!']);\n",
       "            Plotly.purge(gd);\n",
       "            observer.disconnect();\n",
       "        }}\n",
       "}});\n",
       "\n",
       "// Listen for the removal of the full notebook cells\n",
       "var notebookContainer = gd.closest('#notebook-container');\n",
       "if (notebookContainer) {{\n",
       "    x.observe(notebookContainer, {childList: true});\n",
       "}}\n",
       "\n",
       "// Listen for the clearing of the current output cell\n",
       "var outputEl = gd.closest('.output');\n",
       "if (outputEl) {{\n",
       "    x.observe(outputEl, {childList: true});\n",
       "}}\n",
       "\n",
       "                        })                };                });            </script>        </div>"
      ]
     },
     "metadata": {},
     "output_type": "display_data"
    }
   ],
   "source": [
    "XLE[(XLE['Holding RIC'] != '')].set_index('Holding RIC')['Number of Shares'].sort_values().iplot(kind='bar', color='blue')"
   ]
  },
  {
   "cell_type": "code",
   "execution_count": null,
   "id": "b87a5c30",
   "metadata": {},
   "outputs": [],
   "source": []
  },
  {
   "cell_type": "markdown",
   "id": "73aeb56c",
   "metadata": {},
   "source": [
    "# Descargar series de tiempo"
   ]
  },
  {
   "cell_type": "code",
   "execution_count": 47,
   "id": "73c2ec30",
   "metadata": {},
   "outputs": [],
   "source": [
    "#help(ek.get_timeseries)"
   ]
  },
  {
   "cell_type": "code",
   "execution_count": 63,
   "id": "93f30e3e",
   "metadata": {},
   "outputs": [
    {
     "name": "stdout",
     "output_type": "stream",
     "text": [
      "2023-02-23 20:54:32.469038 2020-05-29 20:54:32.469038\n"
     ]
    }
   ],
   "source": [
    "import datetime as dt\n",
    "today = dt.datetime.today()\n",
    "d = today - dt.timedelta(days=1000)\n",
    "print(today, d)"
   ]
  },
  {
   "cell_type": "code",
   "execution_count": 64,
   "id": "c4563de2",
   "metadata": {},
   "outputs": [
    {
     "data": {
      "text/html": [
       "<div>\n",
       "<style scoped>\n",
       "    .dataframe tbody tr th:only-of-type {\n",
       "        vertical-align: middle;\n",
       "    }\n",
       "\n",
       "    .dataframe tbody tr th {\n",
       "        vertical-align: top;\n",
       "    }\n",
       "\n",
       "    .dataframe thead th {\n",
       "        text-align: right;\n",
       "    }\n",
       "</style>\n",
       "<table border=\"1\" class=\"dataframe\">\n",
       "  <thead>\n",
       "    <tr style=\"text-align: right;\">\n",
       "      <th>000001.SZ</th>\n",
       "      <th>HIGH</th>\n",
       "      <th>CLOSE</th>\n",
       "      <th>LOW</th>\n",
       "      <th>OPEN</th>\n",
       "      <th>VOLUME</th>\n",
       "    </tr>\n",
       "    <tr>\n",
       "      <th>Date</th>\n",
       "      <th></th>\n",
       "      <th></th>\n",
       "      <th></th>\n",
       "      <th></th>\n",
       "      <th></th>\n",
       "    </tr>\n",
       "  </thead>\n",
       "  <tbody>\n",
       "    <tr>\n",
       "      <th>2016-06-14</th>\n",
       "      <td>8.674997</td>\n",
       "      <td>8.666663</td>\n",
       "      <td>8.599997</td>\n",
       "      <td>8.616663</td>\n",
       "      <td>32836484.334594</td>\n",
       "    </tr>\n",
       "    <tr>\n",
       "      <th>2016-06-15</th>\n",
       "      <td>8.73333</td>\n",
       "      <td>8.699997</td>\n",
       "      <td>8.599997</td>\n",
       "      <td>8.60833</td>\n",
       "      <td>45380707.352283</td>\n",
       "    </tr>\n",
       "    <tr>\n",
       "      <th>2016-06-16</th>\n",
       "      <td>8.6</td>\n",
       "      <td>8.57</td>\n",
       "      <td>8.53</td>\n",
       "      <td>8.57</td>\n",
       "      <td>38667008.0</td>\n",
       "    </tr>\n",
       "    <tr>\n",
       "      <th>2016-06-17</th>\n",
       "      <td>8.61</td>\n",
       "      <td>8.58</td>\n",
       "      <td>8.54</td>\n",
       "      <td>8.57</td>\n",
       "      <td>31517300.0</td>\n",
       "    </tr>\n",
       "    <tr>\n",
       "      <th>2016-06-20</th>\n",
       "      <td>8.6</td>\n",
       "      <td>8.6</td>\n",
       "      <td>8.56</td>\n",
       "      <td>8.59</td>\n",
       "      <td>27073158.0</td>\n",
       "    </tr>\n",
       "  </tbody>\n",
       "</table>\n",
       "</div>"
      ],
      "text/plain": [
       "000001.SZ       HIGH     CLOSE       LOW      OPEN           VOLUME\n",
       "Date                                                               \n",
       "2016-06-14  8.674997  8.666663  8.599997  8.616663  32836484.334594\n",
       "2016-06-15   8.73333  8.699997  8.599997   8.60833  45380707.352283\n",
       "2016-06-16       8.6      8.57      8.53      8.57       38667008.0\n",
       "2016-06-17      8.61      8.58      8.54      8.57       31517300.0\n",
       "2016-06-20       8.6       8.6      8.56      8.59       27073158.0"
      ]
     },
     "execution_count": 64,
     "metadata": {},
     "output_type": "execute_result"
    }
   ],
   "source": [
    "df_ts = ek.get_timeseries([\"000001.SZ\"], start_date = \"2016-06-14\", end_date = \"2016-06-20\", interval=\"daily\", corax = 'adjusted' )\n",
    "df_ts"
   ]
  },
  {
   "cell_type": "code",
   "execution_count": 65,
   "id": "4a75ae24",
   "metadata": {},
   "outputs": [
    {
     "name": "stdout",
     "output_type": "stream",
     "text": [
      "2023-02-23 20:54:39.570986 2022-11-15 20:54:39.570986\n"
     ]
    }
   ],
   "source": [
    "import datetime as dt\n",
    "today = dt.datetime.today()\n",
    "d = today - dt.timedelta(days=100)\n",
    "print(today, d)"
   ]
  },
  {
   "cell_type": "code",
   "execution_count": 66,
   "id": "8f78dd2e",
   "metadata": {},
   "outputs": [
    {
     "data": {
      "text/html": [
       "<div>\n",
       "<style scoped>\n",
       "    .dataframe tbody tr th:only-of-type {\n",
       "        vertical-align: middle;\n",
       "    }\n",
       "\n",
       "    .dataframe tbody tr th {\n",
       "        vertical-align: top;\n",
       "    }\n",
       "\n",
       "    .dataframe thead th {\n",
       "        text-align: right;\n",
       "    }\n",
       "</style>\n",
       "<table border=\"1\" class=\"dataframe\">\n",
       "  <thead>\n",
       "    <tr style=\"text-align: right;\">\n",
       "      <th>000001.SZ</th>\n",
       "      <th>HIGH</th>\n",
       "      <th>CLOSE</th>\n",
       "      <th>LOW</th>\n",
       "      <th>OPEN</th>\n",
       "      <th>VOLUME</th>\n",
       "    </tr>\n",
       "    <tr>\n",
       "      <th>Date</th>\n",
       "      <th></th>\n",
       "      <th></th>\n",
       "      <th></th>\n",
       "      <th></th>\n",
       "      <th></th>\n",
       "    </tr>\n",
       "  </thead>\n",
       "  <tbody>\n",
       "    <tr>\n",
       "      <th>2016-06-14</th>\n",
       "      <td>10.41</td>\n",
       "      <td>10.4</td>\n",
       "      <td>10.32</td>\n",
       "      <td>10.34</td>\n",
       "      <td>27363726</td>\n",
       "    </tr>\n",
       "    <tr>\n",
       "      <th>2016-06-15</th>\n",
       "      <td>10.48</td>\n",
       "      <td>10.44</td>\n",
       "      <td>10.32</td>\n",
       "      <td>10.33</td>\n",
       "      <td>37817241</td>\n",
       "    </tr>\n",
       "    <tr>\n",
       "      <th>2016-06-16</th>\n",
       "      <td>8.6</td>\n",
       "      <td>8.57</td>\n",
       "      <td>8.53</td>\n",
       "      <td>8.57</td>\n",
       "      <td>38667008</td>\n",
       "    </tr>\n",
       "    <tr>\n",
       "      <th>2016-06-17</th>\n",
       "      <td>8.61</td>\n",
       "      <td>8.58</td>\n",
       "      <td>8.54</td>\n",
       "      <td>8.57</td>\n",
       "      <td>31517300</td>\n",
       "    </tr>\n",
       "    <tr>\n",
       "      <th>2016-06-20</th>\n",
       "      <td>8.6</td>\n",
       "      <td>8.6</td>\n",
       "      <td>8.56</td>\n",
       "      <td>8.59</td>\n",
       "      <td>27073158</td>\n",
       "    </tr>\n",
       "  </tbody>\n",
       "</table>\n",
       "</div>"
      ],
      "text/plain": [
       "000001.SZ    HIGH  CLOSE    LOW   OPEN    VOLUME\n",
       "Date                                            \n",
       "2016-06-14  10.41   10.4  10.32  10.34  27363726\n",
       "2016-06-15  10.48  10.44  10.32  10.33  37817241\n",
       "2016-06-16    8.6   8.57   8.53   8.57  38667008\n",
       "2016-06-17   8.61   8.58   8.54   8.57  31517300\n",
       "2016-06-20    8.6    8.6   8.56   8.59  27073158"
      ]
     },
     "execution_count": 66,
     "metadata": {},
     "output_type": "execute_result"
    }
   ],
   "source": [
    "df_ts = ek.get_timeseries([\"000001.SZ\"], start_date = \"2016-06-14\", end_date = \"2016-06-20\", interval=\"daily\", corax = 'unadjusted')\n",
    "df_ts"
   ]
  },
  {
   "cell_type": "code",
   "execution_count": 67,
   "id": "b4a29d47",
   "metadata": {},
   "outputs": [
    {
     "data": {
      "text/html": [
       "<div>\n",
       "<style scoped>\n",
       "    .dataframe tbody tr th:only-of-type {\n",
       "        vertical-align: middle;\n",
       "    }\n",
       "\n",
       "    .dataframe tbody tr th {\n",
       "        vertical-align: top;\n",
       "    }\n",
       "\n",
       "    .dataframe thead th {\n",
       "        text-align: right;\n",
       "    }\n",
       "</style>\n",
       "<table border=\"1\" class=\"dataframe\">\n",
       "  <thead>\n",
       "    <tr style=\"text-align: right;\">\n",
       "      <th>MSFT.O</th>\n",
       "      <th>HIGH</th>\n",
       "      <th>CLOSE</th>\n",
       "      <th>LOW</th>\n",
       "      <th>OPEN</th>\n",
       "      <th>COUNT</th>\n",
       "      <th>VOLUME</th>\n",
       "    </tr>\n",
       "    <tr>\n",
       "      <th>Date</th>\n",
       "      <th></th>\n",
       "      <th></th>\n",
       "      <th></th>\n",
       "      <th></th>\n",
       "      <th></th>\n",
       "      <th></th>\n",
       "    </tr>\n",
       "  </thead>\n",
       "  <tbody>\n",
       "    <tr>\n",
       "      <th>2022-11-16</th>\n",
       "      <td>243.8</td>\n",
       "      <td>241.73</td>\n",
       "      <td>240.42</td>\n",
       "      <td>242.79</td>\n",
       "      <td>270175</td>\n",
       "      <td>24093272</td>\n",
       "    </tr>\n",
       "    <tr>\n",
       "      <th>2022-11-17</th>\n",
       "      <td>243.25</td>\n",
       "      <td>241.68</td>\n",
       "      <td>237.63</td>\n",
       "      <td>237.78</td>\n",
       "      <td>267476</td>\n",
       "      <td>23123544</td>\n",
       "    </tr>\n",
       "    <tr>\n",
       "      <th>2022-11-18</th>\n",
       "      <td>243.74</td>\n",
       "      <td>241.22</td>\n",
       "      <td>239.03</td>\n",
       "      <td>243.51</td>\n",
       "      <td>265827</td>\n",
       "      <td>27613523</td>\n",
       "    </tr>\n",
       "    <tr>\n",
       "      <th>2022-11-21</th>\n",
       "      <td>244.67</td>\n",
       "      <td>242.05</td>\n",
       "      <td>241.19</td>\n",
       "      <td>241.43</td>\n",
       "      <td>270840</td>\n",
       "      <td>26394700</td>\n",
       "    </tr>\n",
       "    <tr>\n",
       "      <th>2022-11-22</th>\n",
       "      <td>245.31</td>\n",
       "      <td>245.03</td>\n",
       "      <td>240.71</td>\n",
       "      <td>243.59</td>\n",
       "      <td>216514</td>\n",
       "      <td>19665699</td>\n",
       "    </tr>\n",
       "    <tr>\n",
       "      <th>...</th>\n",
       "      <td>...</td>\n",
       "      <td>...</td>\n",
       "      <td>...</td>\n",
       "      <td>...</td>\n",
       "      <td>...</td>\n",
       "      <td>...</td>\n",
       "    </tr>\n",
       "    <tr>\n",
       "      <th>2023-02-16</th>\n",
       "      <td>266.74</td>\n",
       "      <td>262.15</td>\n",
       "      <td>261.9</td>\n",
       "      <td>264.02</td>\n",
       "      <td>389914</td>\n",
       "      <td>29603616</td>\n",
       "    </tr>\n",
       "    <tr>\n",
       "      <th>2023-02-17</th>\n",
       "      <td>260.09</td>\n",
       "      <td>258.06</td>\n",
       "      <td>256.0</td>\n",
       "      <td>259.39</td>\n",
       "      <td>392724</td>\n",
       "      <td>30000055</td>\n",
       "    </tr>\n",
       "    <tr>\n",
       "      <th>2023-02-21</th>\n",
       "      <td>255.49</td>\n",
       "      <td>252.67</td>\n",
       "      <td>251.59</td>\n",
       "      <td>254.48</td>\n",
       "      <td>341326</td>\n",
       "      <td>28397444</td>\n",
       "    </tr>\n",
       "    <tr>\n",
       "      <th>2023-02-22</th>\n",
       "      <td>254.34</td>\n",
       "      <td>251.51</td>\n",
       "      <td>250.34</td>\n",
       "      <td>254.09</td>\n",
       "      <td>276380</td>\n",
       "      <td>22491056</td>\n",
       "    </tr>\n",
       "    <tr>\n",
       "      <th>2023-02-23</th>\n",
       "      <td>256.84</td>\n",
       "      <td>254.77</td>\n",
       "      <td>250.48</td>\n",
       "      <td>255.56</td>\n",
       "      <td>366248</td>\n",
       "      <td>29219095</td>\n",
       "    </tr>\n",
       "  </tbody>\n",
       "</table>\n",
       "<p>67 rows × 6 columns</p>\n",
       "</div>"
      ],
      "text/plain": [
       "MSFT.O        HIGH   CLOSE     LOW    OPEN   COUNT    VOLUME\n",
       "Date                                                        \n",
       "2022-11-16   243.8  241.73  240.42  242.79  270175  24093272\n",
       "2022-11-17  243.25  241.68  237.63  237.78  267476  23123544\n",
       "2022-11-18  243.74  241.22  239.03  243.51  265827  27613523\n",
       "2022-11-21  244.67  242.05  241.19  241.43  270840  26394700\n",
       "2022-11-22  245.31  245.03  240.71  243.59  216514  19665699\n",
       "...            ...     ...     ...     ...     ...       ...\n",
       "2023-02-16  266.74  262.15   261.9  264.02  389914  29603616\n",
       "2023-02-17  260.09  258.06   256.0  259.39  392724  30000055\n",
       "2023-02-21  255.49  252.67  251.59  254.48  341326  28397444\n",
       "2023-02-22  254.34  251.51  250.34  254.09  276380  22491056\n",
       "2023-02-23  256.84  254.77  250.48  255.56  366248  29219095\n",
       "\n",
       "[67 rows x 6 columns]"
      ]
     },
     "execution_count": 67,
     "metadata": {},
     "output_type": "execute_result"
    }
   ],
   "source": [
    "df_ts = ek.get_timeseries([\"MSFT.O\"], start_date = d, end_date = today, interval=\"daily\", corax = 'unadjusted')\n",
    "df_ts"
   ]
  },
  {
   "cell_type": "code",
   "execution_count": 68,
   "id": "a7e4bc73",
   "metadata": {},
   "outputs": [
    {
     "data": {
      "text/plain": [
       "pandas.core.frame.DataFrame"
      ]
     },
     "execution_count": 68,
     "metadata": {},
     "output_type": "execute_result"
    }
   ],
   "source": [
    "type(df_ts)"
   ]
  },
  {
   "cell_type": "code",
   "execution_count": 69,
   "id": "8db9ac8a",
   "metadata": {},
   "outputs": [
    {
     "data": {
      "text/plain": [
       "Index(['HIGH', 'CLOSE', 'LOW', 'OPEN', 'COUNT', 'VOLUME'], dtype='object', name='MSFT.O')"
      ]
     },
     "execution_count": 69,
     "metadata": {},
     "output_type": "execute_result"
    }
   ],
   "source": [
    "df_ts.columns"
   ]
  },
  {
   "cell_type": "code",
   "execution_count": 70,
   "id": "623e0e9b",
   "metadata": {},
   "outputs": [],
   "source": [
    "#df_ts.values"
   ]
  },
  {
   "cell_type": "code",
   "execution_count": 71,
   "id": "2383c8f0",
   "metadata": {},
   "outputs": [
    {
     "data": {
      "text/plain": [
       "Date\n",
       "2022-11-16    241.73\n",
       "2022-11-17    241.68\n",
       "2022-11-18    241.22\n",
       "2022-11-21    242.05\n",
       "2022-11-22    245.03\n",
       "               ...  \n",
       "2023-02-16    262.15\n",
       "2023-02-17    258.06\n",
       "2023-02-21    252.67\n",
       "2023-02-22    251.51\n",
       "2023-02-23    254.77\n",
       "Name: CLOSE, Length: 67, dtype: Float64"
      ]
     },
     "execution_count": 71,
     "metadata": {},
     "output_type": "execute_result"
    }
   ],
   "source": [
    "df_ts['CLOSE']"
   ]
  },
  {
   "cell_type": "code",
   "execution_count": 72,
   "id": "95ee8dd9",
   "metadata": {},
   "outputs": [
    {
     "data": {
      "text/html": [
       "<div>\n",
       "<style scoped>\n",
       "    .dataframe tbody tr th:only-of-type {\n",
       "        vertical-align: middle;\n",
       "    }\n",
       "\n",
       "    .dataframe tbody tr th {\n",
       "        vertical-align: top;\n",
       "    }\n",
       "\n",
       "    .dataframe thead th {\n",
       "        text-align: right;\n",
       "    }\n",
       "</style>\n",
       "<table border=\"1\" class=\"dataframe\">\n",
       "  <thead>\n",
       "    <tr style=\"text-align: right;\">\n",
       "      <th>MSFT.O</th>\n",
       "      <th>HIGH</th>\n",
       "      <th>CLOSE</th>\n",
       "      <th>LOW</th>\n",
       "      <th>OPEN</th>\n",
       "      <th>COUNT</th>\n",
       "      <th>VOLUME</th>\n",
       "    </tr>\n",
       "    <tr>\n",
       "      <th>Date</th>\n",
       "      <th></th>\n",
       "      <th></th>\n",
       "      <th></th>\n",
       "      <th></th>\n",
       "      <th></th>\n",
       "      <th></th>\n",
       "    </tr>\n",
       "  </thead>\n",
       "  <tbody>\n",
       "    <tr>\n",
       "      <th>2022-11-30</th>\n",
       "      <td>255.33</td>\n",
       "      <td>255.14</td>\n",
       "      <td>239.86</td>\n",
       "      <td>240.57</td>\n",
       "      <td>448911</td>\n",
       "      <td>47594239</td>\n",
       "    </tr>\n",
       "    <tr>\n",
       "      <th>2022-12-01</th>\n",
       "      <td>256.12</td>\n",
       "      <td>254.69</td>\n",
       "      <td>250.9156</td>\n",
       "      <td>253.87</td>\n",
       "      <td>352799</td>\n",
       "      <td>26041524</td>\n",
       "    </tr>\n",
       "    <tr>\n",
       "      <th>2022-12-02</th>\n",
       "      <td>256.06</td>\n",
       "      <td>255.02</td>\n",
       "      <td>249.69</td>\n",
       "      <td>249.82</td>\n",
       "      <td>278398</td>\n",
       "      <td>21528520</td>\n",
       "    </tr>\n",
       "    <tr>\n",
       "      <th>2022-12-05</th>\n",
       "      <td>253.819</td>\n",
       "      <td>250.2</td>\n",
       "      <td>248.06</td>\n",
       "      <td>252.01</td>\n",
       "      <td>276722</td>\n",
       "      <td>23435294</td>\n",
       "    </tr>\n",
       "    <tr>\n",
       "      <th>2022-12-12</th>\n",
       "      <td>252.54</td>\n",
       "      <td>252.51</td>\n",
       "      <td>247.17</td>\n",
       "      <td>247.445</td>\n",
       "      <td>325566</td>\n",
       "      <td>30665069</td>\n",
       "    </tr>\n",
       "    <tr>\n",
       "      <th>2022-12-13</th>\n",
       "      <td>263.915</td>\n",
       "      <td>256.92</td>\n",
       "      <td>253.07</td>\n",
       "      <td>261.69</td>\n",
       "      <td>486404</td>\n",
       "      <td>42196884</td>\n",
       "    </tr>\n",
       "    <tr>\n",
       "      <th>2022-12-14</th>\n",
       "      <td>262.588</td>\n",
       "      <td>257.22</td>\n",
       "      <td>254.31</td>\n",
       "      <td>257.13</td>\n",
       "      <td>458428</td>\n",
       "      <td>35410933</td>\n",
       "    </tr>\n",
       "    <tr>\n",
       "      <th>2023-02-01</th>\n",
       "      <td>255.18</td>\n",
       "      <td>252.75</td>\n",
       "      <td>245.47</td>\n",
       "      <td>248.0</td>\n",
       "      <td>386960</td>\n",
       "      <td>31259912</td>\n",
       "    </tr>\n",
       "    <tr>\n",
       "      <th>2023-02-02</th>\n",
       "      <td>264.69</td>\n",
       "      <td>264.6</td>\n",
       "      <td>257.25</td>\n",
       "      <td>258.82</td>\n",
       "      <td>533820</td>\n",
       "      <td>39940437</td>\n",
       "    </tr>\n",
       "    <tr>\n",
       "      <th>2023-02-03</th>\n",
       "      <td>264.2</td>\n",
       "      <td>258.35</td>\n",
       "      <td>257.1</td>\n",
       "      <td>259.542</td>\n",
       "      <td>408059</td>\n",
       "      <td>29077256</td>\n",
       "    </tr>\n",
       "    <tr>\n",
       "      <th>2023-02-06</th>\n",
       "      <td>258.3</td>\n",
       "      <td>256.77</td>\n",
       "      <td>254.78</td>\n",
       "      <td>257.44</td>\n",
       "      <td>276674</td>\n",
       "      <td>22517997</td>\n",
       "    </tr>\n",
       "    <tr>\n",
       "      <th>2023-02-07</th>\n",
       "      <td>268.775</td>\n",
       "      <td>267.56</td>\n",
       "      <td>260.08</td>\n",
       "      <td>260.53</td>\n",
       "      <td>618791</td>\n",
       "      <td>50841365</td>\n",
       "    </tr>\n",
       "    <tr>\n",
       "      <th>2023-02-08</th>\n",
       "      <td>276.76</td>\n",
       "      <td>266.73</td>\n",
       "      <td>266.21</td>\n",
       "      <td>273.2</td>\n",
       "      <td>659532</td>\n",
       "      <td>54686049</td>\n",
       "    </tr>\n",
       "    <tr>\n",
       "      <th>2023-02-09</th>\n",
       "      <td>273.98</td>\n",
       "      <td>263.62</td>\n",
       "      <td>262.8</td>\n",
       "      <td>273.8</td>\n",
       "      <td>472027</td>\n",
       "      <td>42375102</td>\n",
       "    </tr>\n",
       "    <tr>\n",
       "      <th>2023-02-10</th>\n",
       "      <td>264.09</td>\n",
       "      <td>263.1</td>\n",
       "      <td>260.662</td>\n",
       "      <td>261.53</td>\n",
       "      <td>334146</td>\n",
       "      <td>25818489</td>\n",
       "    </tr>\n",
       "    <tr>\n",
       "      <th>2023-02-13</th>\n",
       "      <td>274.6</td>\n",
       "      <td>271.32</td>\n",
       "      <td>267.15</td>\n",
       "      <td>267.64</td>\n",
       "      <td>499426</td>\n",
       "      <td>44630921</td>\n",
       "    </tr>\n",
       "    <tr>\n",
       "      <th>2023-02-14</th>\n",
       "      <td>274.97</td>\n",
       "      <td>272.17</td>\n",
       "      <td>269.28</td>\n",
       "      <td>272.67</td>\n",
       "      <td>471699</td>\n",
       "      <td>37047924</td>\n",
       "    </tr>\n",
       "    <tr>\n",
       "      <th>2023-02-15</th>\n",
       "      <td>270.73</td>\n",
       "      <td>269.32</td>\n",
       "      <td>266.18</td>\n",
       "      <td>268.32</td>\n",
       "      <td>370701</td>\n",
       "      <td>28962163</td>\n",
       "    </tr>\n",
       "    <tr>\n",
       "      <th>2023-02-16</th>\n",
       "      <td>266.74</td>\n",
       "      <td>262.15</td>\n",
       "      <td>261.9</td>\n",
       "      <td>264.02</td>\n",
       "      <td>389914</td>\n",
       "      <td>29603616</td>\n",
       "    </tr>\n",
       "    <tr>\n",
       "      <th>2023-02-17</th>\n",
       "      <td>260.09</td>\n",
       "      <td>258.06</td>\n",
       "      <td>256.0</td>\n",
       "      <td>259.39</td>\n",
       "      <td>392724</td>\n",
       "      <td>30000055</td>\n",
       "    </tr>\n",
       "    <tr>\n",
       "      <th>2023-02-21</th>\n",
       "      <td>255.49</td>\n",
       "      <td>252.67</td>\n",
       "      <td>251.59</td>\n",
       "      <td>254.48</td>\n",
       "      <td>341326</td>\n",
       "      <td>28397444</td>\n",
       "    </tr>\n",
       "    <tr>\n",
       "      <th>2023-02-22</th>\n",
       "      <td>254.34</td>\n",
       "      <td>251.51</td>\n",
       "      <td>250.34</td>\n",
       "      <td>254.09</td>\n",
       "      <td>276380</td>\n",
       "      <td>22491056</td>\n",
       "    </tr>\n",
       "    <tr>\n",
       "      <th>2023-02-23</th>\n",
       "      <td>256.84</td>\n",
       "      <td>254.77</td>\n",
       "      <td>250.48</td>\n",
       "      <td>255.56</td>\n",
       "      <td>366248</td>\n",
       "      <td>29219095</td>\n",
       "    </tr>\n",
       "  </tbody>\n",
       "</table>\n",
       "</div>"
      ],
      "text/plain": [
       "MSFT.O         HIGH   CLOSE       LOW     OPEN   COUNT    VOLUME\n",
       "Date                                                            \n",
       "2022-11-30   255.33  255.14    239.86   240.57  448911  47594239\n",
       "2022-12-01   256.12  254.69  250.9156   253.87  352799  26041524\n",
       "2022-12-02   256.06  255.02    249.69   249.82  278398  21528520\n",
       "2022-12-05  253.819   250.2    248.06   252.01  276722  23435294\n",
       "2022-12-12   252.54  252.51    247.17  247.445  325566  30665069\n",
       "2022-12-13  263.915  256.92    253.07   261.69  486404  42196884\n",
       "2022-12-14  262.588  257.22    254.31   257.13  458428  35410933\n",
       "2023-02-01   255.18  252.75    245.47    248.0  386960  31259912\n",
       "2023-02-02   264.69   264.6    257.25   258.82  533820  39940437\n",
       "2023-02-03    264.2  258.35     257.1  259.542  408059  29077256\n",
       "2023-02-06    258.3  256.77    254.78   257.44  276674  22517997\n",
       "2023-02-07  268.775  267.56    260.08   260.53  618791  50841365\n",
       "2023-02-08   276.76  266.73    266.21    273.2  659532  54686049\n",
       "2023-02-09   273.98  263.62     262.8    273.8  472027  42375102\n",
       "2023-02-10   264.09   263.1   260.662   261.53  334146  25818489\n",
       "2023-02-13    274.6  271.32    267.15   267.64  499426  44630921\n",
       "2023-02-14   274.97  272.17    269.28   272.67  471699  37047924\n",
       "2023-02-15   270.73  269.32    266.18   268.32  370701  28962163\n",
       "2023-02-16   266.74  262.15     261.9   264.02  389914  29603616\n",
       "2023-02-17   260.09  258.06     256.0   259.39  392724  30000055\n",
       "2023-02-21   255.49  252.67    251.59   254.48  341326  28397444\n",
       "2023-02-22   254.34  251.51    250.34   254.09  276380  22491056\n",
       "2023-02-23   256.84  254.77    250.48   255.56  366248  29219095"
      ]
     },
     "execution_count": 72,
     "metadata": {},
     "output_type": "execute_result"
    }
   ],
   "source": [
    "#podemos usar la seleccion boleeana dentro del pandas.DataFrame\n",
    "df_ts[(df_ts['CLOSE'] > 250) & (df_ts['CLOSE'] <= 310)]"
   ]
  },
  {
   "cell_type": "code",
   "execution_count": 73,
   "id": "6b3ac04a",
   "metadata": {},
   "outputs": [
    {
     "data": {
      "text/plain": [
       "DatetimeIndex(['2022-11-16', '2022-11-17', '2022-11-18', '2022-11-21',\n",
       "               '2022-11-22', '2022-11-23', '2022-11-25', '2022-11-28',\n",
       "               '2022-11-29', '2022-11-30', '2022-12-01', '2022-12-02',\n",
       "               '2022-12-05', '2022-12-06', '2022-12-07', '2022-12-08',\n",
       "               '2022-12-09', '2022-12-12', '2022-12-13', '2022-12-14',\n",
       "               '2022-12-15', '2022-12-16', '2022-12-19', '2022-12-20',\n",
       "               '2022-12-21', '2022-12-22', '2022-12-23', '2022-12-27',\n",
       "               '2022-12-28', '2022-12-29', '2022-12-30', '2023-01-03',\n",
       "               '2023-01-04', '2023-01-05', '2023-01-06', '2023-01-09',\n",
       "               '2023-01-10', '2023-01-11', '2023-01-12', '2023-01-13',\n",
       "               '2023-01-17', '2023-01-18', '2023-01-19', '2023-01-20',\n",
       "               '2023-01-23', '2023-01-24', '2023-01-25', '2023-01-26',\n",
       "               '2023-01-27', '2023-01-30', '2023-01-31', '2023-02-01',\n",
       "               '2023-02-02', '2023-02-03', '2023-02-06', '2023-02-07',\n",
       "               '2023-02-08', '2023-02-09', '2023-02-10', '2023-02-13',\n",
       "               '2023-02-14', '2023-02-15', '2023-02-16', '2023-02-17',\n",
       "               '2023-02-21', '2023-02-22', '2023-02-23'],\n",
       "              dtype='datetime64[ns]', name='Date', freq=None)"
      ]
     },
     "execution_count": 73,
     "metadata": {},
     "output_type": "execute_result"
    }
   ],
   "source": [
    "df_ts.index"
   ]
  },
  {
   "cell_type": "code",
   "execution_count": 74,
   "id": "235318b7",
   "metadata": {},
   "outputs": [
    {
     "name": "stdout",
     "output_type": "stream",
     "text": [
      "2023-02-13\n"
     ]
    }
   ],
   "source": [
    "today_date = dt.date.today()\n",
    "d = today_date - dt.timedelta(days=10)\n",
    "print(d)"
   ]
  },
  {
   "cell_type": "code",
   "execution_count": 75,
   "id": "86922fe8",
   "metadata": {},
   "outputs": [
    {
     "data": {
      "text/html": [
       "<div>\n",
       "<style scoped>\n",
       "    .dataframe tbody tr th:only-of-type {\n",
       "        vertical-align: middle;\n",
       "    }\n",
       "\n",
       "    .dataframe tbody tr th {\n",
       "        vertical-align: top;\n",
       "    }\n",
       "\n",
       "    .dataframe thead th {\n",
       "        text-align: right;\n",
       "    }\n",
       "</style>\n",
       "<table border=\"1\" class=\"dataframe\">\n",
       "  <thead>\n",
       "    <tr style=\"text-align: right;\">\n",
       "      <th>MSFT.O</th>\n",
       "      <th>HIGH</th>\n",
       "      <th>CLOSE</th>\n",
       "      <th>LOW</th>\n",
       "      <th>OPEN</th>\n",
       "      <th>COUNT</th>\n",
       "      <th>VOLUME</th>\n",
       "    </tr>\n",
       "    <tr>\n",
       "      <th>Date</th>\n",
       "      <th></th>\n",
       "      <th></th>\n",
       "      <th></th>\n",
       "      <th></th>\n",
       "      <th></th>\n",
       "      <th></th>\n",
       "    </tr>\n",
       "  </thead>\n",
       "  <tbody>\n",
       "    <tr>\n",
       "      <th>2022-11-16</th>\n",
       "      <td>243.8</td>\n",
       "      <td>241.73</td>\n",
       "      <td>240.42</td>\n",
       "      <td>242.79</td>\n",
       "      <td>270175</td>\n",
       "      <td>24093272</td>\n",
       "    </tr>\n",
       "  </tbody>\n",
       "</table>\n",
       "</div>"
      ],
      "text/plain": [
       "MSFT.O       HIGH   CLOSE     LOW    OPEN   COUNT    VOLUME\n",
       "Date                                                       \n",
       "2022-11-16  243.8  241.73  240.42  242.79  270175  24093272"
      ]
     },
     "execution_count": 75,
     "metadata": {},
     "output_type": "execute_result"
    }
   ],
   "source": [
    "#Podemos seleccionar una sola fila, como lo haciamos en numpy, de la siguiente manera:\n",
    "df_ts.iloc[[0]]"
   ]
  },
  {
   "cell_type": "code",
   "execution_count": 76,
   "id": "3ab4c2cd",
   "metadata": {},
   "outputs": [
    {
     "data": {
      "text/html": [
       "<div>\n",
       "<style scoped>\n",
       "    .dataframe tbody tr th:only-of-type {\n",
       "        vertical-align: middle;\n",
       "    }\n",
       "\n",
       "    .dataframe tbody tr th {\n",
       "        vertical-align: top;\n",
       "    }\n",
       "\n",
       "    .dataframe thead th {\n",
       "        text-align: right;\n",
       "    }\n",
       "</style>\n",
       "<table border=\"1\" class=\"dataframe\">\n",
       "  <thead>\n",
       "    <tr style=\"text-align: right;\">\n",
       "      <th>MSFT.O</th>\n",
       "      <th>HIGH</th>\n",
       "      <th>CLOSE</th>\n",
       "      <th>LOW</th>\n",
       "      <th>OPEN</th>\n",
       "      <th>COUNT</th>\n",
       "      <th>VOLUME</th>\n",
       "    </tr>\n",
       "    <tr>\n",
       "      <th>Date</th>\n",
       "      <th></th>\n",
       "      <th></th>\n",
       "      <th></th>\n",
       "      <th></th>\n",
       "      <th></th>\n",
       "      <th></th>\n",
       "    </tr>\n",
       "  </thead>\n",
       "  <tbody>\n",
       "    <tr>\n",
       "      <th>2023-02-13</th>\n",
       "      <td>274.6</td>\n",
       "      <td>271.32</td>\n",
       "      <td>267.15</td>\n",
       "      <td>267.64</td>\n",
       "      <td>499426</td>\n",
       "      <td>44630921</td>\n",
       "    </tr>\n",
       "  </tbody>\n",
       "</table>\n",
       "</div>"
      ],
      "text/plain": [
       "MSFT.O       HIGH   CLOSE     LOW    OPEN   COUNT    VOLUME\n",
       "Date                                                       \n",
       "2023-02-13  274.6  271.32  267.15  267.64  499426  44630921"
      ]
     },
     "execution_count": 76,
     "metadata": {},
     "output_type": "execute_result"
    }
   ],
   "source": [
    "#El atributo pandas.DateFrame.loc nos permite indexar las filas en vez de las columnas\n",
    "df_ts.loc[[d]]"
   ]
  },
  {
   "cell_type": "code",
   "execution_count": null,
   "id": "720a7e01",
   "metadata": {},
   "outputs": [],
   "source": []
  },
  {
   "cell_type": "markdown",
   "id": "80e047f0",
   "metadata": {},
   "source": [
    "# Estadística básica"
   ]
  },
  {
   "cell_type": "code",
   "execution_count": 77,
   "id": "5063a2fb",
   "metadata": {},
   "outputs": [
    {
     "data": {
      "text/plain": [
       "['BASFn.DE',\n",
       " 'IFXGn.DE',\n",
       " 'SIEGn.DE',\n",
       " 'EONGn.DE',\n",
       " 'DBKGn.DE',\n",
       " 'SATG_p.DE',\n",
       " 'SAPG.DE',\n",
       " 'BAYGn.DE',\n",
       " 'RWEG.DE',\n",
       " '1COV.DE']"
      ]
     },
     "execution_count": 77,
     "metadata": {},
     "output_type": "execute_result"
    }
   ],
   "source": [
    "dax_corto = dax['Instrument'][0:10].tolist()\n",
    "dax_corto"
   ]
  },
  {
   "cell_type": "code",
   "execution_count": 79,
   "id": "c79a93b7",
   "metadata": {},
   "outputs": [
    {
     "name": "stdout",
     "output_type": "stream",
     "text": [
      "2023-02-23 20:57:40.852908 2022-11-15 20:57:40.852908\n"
     ]
    }
   ],
   "source": [
    "today = dt.datetime.today()\n",
    "d = today - dt.timedelta(days=100)\n",
    "print(today, d)"
   ]
  },
  {
   "cell_type": "code",
   "execution_count": 82,
   "id": "8d753be3",
   "metadata": {},
   "outputs": [
    {
     "data": {
      "text/html": [
       "<div>\n",
       "<style scoped>\n",
       "    .dataframe tbody tr th:only-of-type {\n",
       "        vertical-align: middle;\n",
       "    }\n",
       "\n",
       "    .dataframe tbody tr th {\n",
       "        vertical-align: top;\n",
       "    }\n",
       "\n",
       "    .dataframe thead th {\n",
       "        text-align: right;\n",
       "    }\n",
       "</style>\n",
       "<table border=\"1\" class=\"dataframe\">\n",
       "  <thead>\n",
       "    <tr style=\"text-align: right;\">\n",
       "      <th>CLOSE</th>\n",
       "      <th>BASFn.DE</th>\n",
       "      <th>IFXGn.DE</th>\n",
       "      <th>SIEGn.DE</th>\n",
       "      <th>EONGn.DE</th>\n",
       "      <th>DBKGn.DE</th>\n",
       "      <th>SATG_p.DE</th>\n",
       "      <th>SAPG.DE</th>\n",
       "      <th>BAYGn.DE</th>\n",
       "      <th>RWEG.DE</th>\n",
       "      <th>1COV.DE</th>\n",
       "    </tr>\n",
       "    <tr>\n",
       "      <th>Date</th>\n",
       "      <th></th>\n",
       "      <th></th>\n",
       "      <th></th>\n",
       "      <th></th>\n",
       "      <th></th>\n",
       "      <th></th>\n",
       "      <th></th>\n",
       "      <th></th>\n",
       "      <th></th>\n",
       "      <th></th>\n",
       "    </tr>\n",
       "  </thead>\n",
       "  <tbody>\n",
       "    <tr>\n",
       "      <th>2022-11-16</th>\n",
       "      <td>49.57</td>\n",
       "      <td>32.055</td>\n",
       "      <td>121.12</td>\n",
       "      <td>8.892</td>\n",
       "      <td>10.134</td>\n",
       "      <td>380.7</td>\n",
       "      <td>106.84</td>\n",
       "      <td>52.62</td>\n",
       "      <td>39.89</td>\n",
       "      <td>35.59</td>\n",
       "    </tr>\n",
       "    <tr>\n",
       "      <th>2022-11-17</th>\n",
       "      <td>48.955</td>\n",
       "      <td>31.875</td>\n",
       "      <td>129.58</td>\n",
       "      <td>8.882</td>\n",
       "      <td>10.1</td>\n",
       "      <td>376.0</td>\n",
       "      <td>107.68</td>\n",
       "      <td>52.53</td>\n",
       "      <td>40.62</td>\n",
       "      <td>35.43</td>\n",
       "    </tr>\n",
       "    <tr>\n",
       "      <th>2022-11-18</th>\n",
       "      <td>49.625</td>\n",
       "      <td>32.095</td>\n",
       "      <td>132.5</td>\n",
       "      <td>9.116</td>\n",
       "      <td>10.212</td>\n",
       "      <td>377.3</td>\n",
       "      <td>105.16</td>\n",
       "      <td>53.79</td>\n",
       "      <td>41.21</td>\n",
       "      <td>36.29</td>\n",
       "    </tr>\n",
       "    <tr>\n",
       "      <th>2022-11-21</th>\n",
       "      <td>48.67</td>\n",
       "      <td>31.505</td>\n",
       "      <td>129.1</td>\n",
       "      <td>9.08</td>\n",
       "      <td>10.218</td>\n",
       "      <td>373.4</td>\n",
       "      <td>106.24</td>\n",
       "      <td>54.4</td>\n",
       "      <td>40.99</td>\n",
       "      <td>35.02</td>\n",
       "    </tr>\n",
       "    <tr>\n",
       "      <th>2022-11-22</th>\n",
       "      <td>49.52</td>\n",
       "      <td>31.67</td>\n",
       "      <td>130.68</td>\n",
       "      <td>9.0</td>\n",
       "      <td>10.168</td>\n",
       "      <td>367.6</td>\n",
       "      <td>105.62</td>\n",
       "      <td>54.61</td>\n",
       "      <td>41.3</td>\n",
       "      <td>36.61</td>\n",
       "    </tr>\n",
       "    <tr>\n",
       "      <th>...</th>\n",
       "      <td>...</td>\n",
       "      <td>...</td>\n",
       "      <td>...</td>\n",
       "      <td>...</td>\n",
       "      <td>...</td>\n",
       "      <td>...</td>\n",
       "      <td>...</td>\n",
       "      <td>...</td>\n",
       "      <td>...</td>\n",
       "      <td>...</td>\n",
       "    </tr>\n",
       "    <tr>\n",
       "      <th>2023-02-17</th>\n",
       "      <td>52.24</td>\n",
       "      <td>35.235</td>\n",
       "      <td>145.44</td>\n",
       "      <td>10.165</td>\n",
       "      <td>11.88</td>\n",
       "      <td>427.1</td>\n",
       "      <td>109.48</td>\n",
       "      <td>59.12</td>\n",
       "      <td>39.52</td>\n",
       "      <td>42.04</td>\n",
       "    </tr>\n",
       "    <tr>\n",
       "      <th>2023-02-20</th>\n",
       "      <td>53.11</td>\n",
       "      <td>34.92</td>\n",
       "      <td>144.66</td>\n",
       "      <td>10.215</td>\n",
       "      <td>11.632</td>\n",
       "      <td>429.2</td>\n",
       "      <td>109.28</td>\n",
       "      <td>58.94</td>\n",
       "      <td>39.55</td>\n",
       "      <td>42.52</td>\n",
       "    </tr>\n",
       "    <tr>\n",
       "      <th>2023-02-21</th>\n",
       "      <td>52.49</td>\n",
       "      <td>34.52</td>\n",
       "      <td>143.74</td>\n",
       "      <td>10.24</td>\n",
       "      <td>11.596</td>\n",
       "      <td>420.0</td>\n",
       "      <td>107.76</td>\n",
       "      <td>59.25</td>\n",
       "      <td>40.39</td>\n",
       "      <td>41.74</td>\n",
       "    </tr>\n",
       "    <tr>\n",
       "      <th>2023-02-22</th>\n",
       "      <td>52.36</td>\n",
       "      <td>34.26</td>\n",
       "      <td>144.34</td>\n",
       "      <td>10.245</td>\n",
       "      <td>11.42</td>\n",
       "      <td>420.5</td>\n",
       "      <td>108.72</td>\n",
       "      <td>59.06</td>\n",
       "      <td>40.3</td>\n",
       "      <td>41.18</td>\n",
       "    </tr>\n",
       "    <tr>\n",
       "      <th>2023-02-23</th>\n",
       "      <td>52.17</td>\n",
       "      <td>34.815</td>\n",
       "      <td>145.98</td>\n",
       "      <td>10.42</td>\n",
       "      <td>11.468</td>\n",
       "      <td>426.8</td>\n",
       "      <td>108.8</td>\n",
       "      <td>59.91</td>\n",
       "      <td>40.03</td>\n",
       "      <td>41.37</td>\n",
       "    </tr>\n",
       "  </tbody>\n",
       "</table>\n",
       "<p>71 rows × 10 columns</p>\n",
       "</div>"
      ],
      "text/plain": [
       "CLOSE       BASFn.DE  IFXGn.DE  SIEGn.DE  EONGn.DE  DBKGn.DE  SATG_p.DE  \\\n",
       "Date                                                                      \n",
       "2022-11-16     49.57    32.055    121.12     8.892    10.134      380.7   \n",
       "2022-11-17    48.955    31.875    129.58     8.882      10.1      376.0   \n",
       "2022-11-18    49.625    32.095     132.5     9.116    10.212      377.3   \n",
       "2022-11-21     48.67    31.505     129.1      9.08    10.218      373.4   \n",
       "2022-11-22     49.52     31.67    130.68       9.0    10.168      367.6   \n",
       "...              ...       ...       ...       ...       ...        ...   \n",
       "2023-02-17     52.24    35.235    145.44    10.165     11.88      427.1   \n",
       "2023-02-20     53.11     34.92    144.66    10.215    11.632      429.2   \n",
       "2023-02-21     52.49     34.52    143.74     10.24    11.596      420.0   \n",
       "2023-02-22     52.36     34.26    144.34    10.245     11.42      420.5   \n",
       "2023-02-23     52.17    34.815    145.98     10.42    11.468      426.8   \n",
       "\n",
       "CLOSE       SAPG.DE  BAYGn.DE  RWEG.DE  1COV.DE  \n",
       "Date                                             \n",
       "2022-11-16   106.84     52.62    39.89    35.59  \n",
       "2022-11-17   107.68     52.53    40.62    35.43  \n",
       "2022-11-18   105.16     53.79    41.21    36.29  \n",
       "2022-11-21   106.24      54.4    40.99    35.02  \n",
       "2022-11-22   105.62     54.61     41.3    36.61  \n",
       "...             ...       ...      ...      ...  \n",
       "2023-02-17   109.48     59.12    39.52    42.04  \n",
       "2023-02-20   109.28     58.94    39.55    42.52  \n",
       "2023-02-21   107.76     59.25    40.39    41.74  \n",
       "2023-02-22   108.72     59.06     40.3    41.18  \n",
       "2023-02-23    108.8     59.91    40.03    41.37  \n",
       "\n",
       "[71 rows x 10 columns]"
      ]
     },
     "execution_count": 82,
     "metadata": {},
     "output_type": "execute_result"
    }
   ],
   "source": [
    "df = ek.get_timeseries(dax_corto, start_date = d, end_date = today, fields='CLOSE', interval=\"daily\")\n",
    "df"
   ]
  },
  {
   "cell_type": "code",
   "execution_count": 89,
   "id": "b4c35f3d",
   "metadata": {},
   "outputs": [
    {
     "data": {
      "text/html": [
       "<div>\n",
       "<style scoped>\n",
       "    .dataframe tbody tr th:only-of-type {\n",
       "        vertical-align: middle;\n",
       "    }\n",
       "\n",
       "    .dataframe tbody tr th {\n",
       "        vertical-align: top;\n",
       "    }\n",
       "\n",
       "    .dataframe thead th {\n",
       "        text-align: right;\n",
       "    }\n",
       "</style>\n",
       "<table border=\"1\" class=\"dataframe\">\n",
       "  <thead>\n",
       "    <tr style=\"text-align: right;\">\n",
       "      <th>CLOSE</th>\n",
       "      <th>BASFn.DE</th>\n",
       "      <th>IFXGn.DE</th>\n",
       "      <th>SIEGn.DE</th>\n",
       "      <th>EONGn.DE</th>\n",
       "      <th>DBKGn.DE</th>\n",
       "      <th>SATG_p.DE</th>\n",
       "      <th>SAPG.DE</th>\n",
       "      <th>BAYGn.DE</th>\n",
       "      <th>RWEG.DE</th>\n",
       "      <th>1COV.DE</th>\n",
       "    </tr>\n",
       "  </thead>\n",
       "  <tbody>\n",
       "    <tr>\n",
       "      <th>count</th>\n",
       "      <td>71.0</td>\n",
       "      <td>71.0</td>\n",
       "      <td>71.0</td>\n",
       "      <td>71.0</td>\n",
       "      <td>71.0</td>\n",
       "      <td>71.0</td>\n",
       "      <td>71.0</td>\n",
       "      <td>71.0</td>\n",
       "      <td>71.0</td>\n",
       "      <td>71.0</td>\n",
       "    </tr>\n",
       "    <tr>\n",
       "      <th>mean</th>\n",
       "      <td>50.221408</td>\n",
       "      <td>32.106408</td>\n",
       "      <td>137.122535</td>\n",
       "      <td>9.592972</td>\n",
       "      <td>11.046042</td>\n",
       "      <td>390.747887</td>\n",
       "      <td>105.127746</td>\n",
       "      <td>54.570352</td>\n",
       "      <td>41.061127</td>\n",
       "      <td>39.508028</td>\n",
       "    </tr>\n",
       "    <tr>\n",
       "      <th>std</th>\n",
       "      <td>2.635083</td>\n",
       "      <td>2.299063</td>\n",
       "      <td>6.852048</td>\n",
       "      <td>0.453521</td>\n",
       "      <td>0.791595</td>\n",
       "      <td>35.563608</td>\n",
       "      <td>4.34331</td>\n",
       "      <td>3.716146</td>\n",
       "      <td>1.063031</td>\n",
       "      <td>2.744283</td>\n",
       "    </tr>\n",
       "    <tr>\n",
       "      <th>min</th>\n",
       "      <td>45.52</td>\n",
       "      <td>28.065</td>\n",
       "      <td>121.12</td>\n",
       "      <td>8.882</td>\n",
       "      <td>9.713</td>\n",
       "      <td>339.2</td>\n",
       "      <td>96.39</td>\n",
       "      <td>48.325</td>\n",
       "      <td>38.67</td>\n",
       "      <td>35.02</td>\n",
       "    </tr>\n",
       "    <tr>\n",
       "      <th>25%</th>\n",
       "      <td>47.8925</td>\n",
       "      <td>30.73</td>\n",
       "      <td>130.95</td>\n",
       "      <td>9.133</td>\n",
       "      <td>10.211</td>\n",
       "      <td>360.55</td>\n",
       "      <td>102.41</td>\n",
       "      <td>52.185</td>\n",
       "      <td>40.395</td>\n",
       "      <td>36.8</td>\n",
       "    </tr>\n",
       "    <tr>\n",
       "      <th>50%</th>\n",
       "      <td>51.06</td>\n",
       "      <td>31.765</td>\n",
       "      <td>135.44</td>\n",
       "      <td>9.79</td>\n",
       "      <td>11.356</td>\n",
       "      <td>377.3</td>\n",
       "      <td>105.94</td>\n",
       "      <td>55.45</td>\n",
       "      <td>41.3</td>\n",
       "      <td>40.49</td>\n",
       "    </tr>\n",
       "    <tr>\n",
       "      <th>75%</th>\n",
       "      <td>52.75</td>\n",
       "      <td>33.525</td>\n",
       "      <td>143.51</td>\n",
       "      <td>9.991</td>\n",
       "      <td>11.699</td>\n",
       "      <td>419.4</td>\n",
       "      <td>108.07</td>\n",
       "      <td>56.95</td>\n",
       "      <td>41.86</td>\n",
       "      <td>42.045</td>\n",
       "    </tr>\n",
       "    <tr>\n",
       "      <th>max</th>\n",
       "      <td>54.04</td>\n",
       "      <td>36.645</td>\n",
       "      <td>149.42</td>\n",
       "      <td>10.42</td>\n",
       "      <td>12.34</td>\n",
       "      <td>465.9</td>\n",
       "      <td>112.58</td>\n",
       "      <td>62.49</td>\n",
       "      <td>42.75</td>\n",
       "      <td>44.07</td>\n",
       "    </tr>\n",
       "  </tbody>\n",
       "</table>\n",
       "</div>"
      ],
      "text/plain": [
       "CLOSE   BASFn.DE   IFXGn.DE    SIEGn.DE  EONGn.DE   DBKGn.DE   SATG_p.DE  \\\n",
       "count       71.0       71.0        71.0      71.0       71.0        71.0   \n",
       "mean   50.221408  32.106408  137.122535  9.592972  11.046042  390.747887   \n",
       "std     2.635083   2.299063    6.852048  0.453521   0.791595   35.563608   \n",
       "min        45.52     28.065      121.12     8.882      9.713       339.2   \n",
       "25%      47.8925      30.73      130.95     9.133     10.211      360.55   \n",
       "50%        51.06     31.765      135.44      9.79     11.356       377.3   \n",
       "75%        52.75     33.525      143.51     9.991     11.699       419.4   \n",
       "max        54.04     36.645      149.42     10.42      12.34       465.9   \n",
       "\n",
       "CLOSE     SAPG.DE   BAYGn.DE    RWEG.DE    1COV.DE  \n",
       "count        71.0       71.0       71.0       71.0  \n",
       "mean   105.127746  54.570352  41.061127  39.508028  \n",
       "std       4.34331   3.716146   1.063031   2.744283  \n",
       "min         96.39     48.325      38.67      35.02  \n",
       "25%        102.41     52.185     40.395       36.8  \n",
       "50%        105.94      55.45       41.3      40.49  \n",
       "75%        108.07      56.95      41.86     42.045  \n",
       "max        112.58      62.49      42.75      44.07  "
      ]
     },
     "execution_count": 89,
     "metadata": {},
     "output_type": "execute_result"
    }
   ],
   "source": [
    "df.describe()"
   ]
  },
  {
   "cell_type": "code",
   "execution_count": 83,
   "id": "9f4b2137",
   "metadata": {},
   "outputs": [
    {
     "name": "stdout",
     "output_type": "stream",
     "text": [
      "CLOSE      BASFn.DE  IFXGn.DE  SIEGn.DE  EONGn.DE  DBKGn.DE  SATG_p.DE  \\\n",
      "CLOSE                                                                    \n",
      "BASFn.DE   1.000000  0.678360  0.851432  0.859709  0.855673   0.837957   \n",
      "IFXGn.DE   0.678360  1.000000  0.773288  0.598498  0.443590   0.885769   \n",
      "SIEGn.DE   0.851432  0.773288  1.000000  0.901385  0.815016   0.875133   \n",
      "EONGn.DE   0.859709  0.598498  0.901385  1.000000  0.916118   0.799103   \n",
      "DBKGn.DE   0.855673  0.443590  0.815016  0.916118  1.000000   0.714816   \n",
      "SATG_p.DE  0.837957  0.885769  0.875133  0.799103  0.714816   1.000000   \n",
      "SAPG.DE    0.792742  0.910362  0.768002  0.584147  0.487151   0.865788   \n",
      "BAYGn.DE   0.755790  0.881311  0.812007  0.638446  0.524024   0.854616   \n",
      "RWEG.DE   -0.474642 -0.382035 -0.372454 -0.501374 -0.473463  -0.407968   \n",
      "1COV.DE    0.918528  0.647426  0.886854  0.931894  0.908253   0.821541   \n",
      "\n",
      "CLOSE       SAPG.DE  BAYGn.DE   RWEG.DE   1COV.DE  \n",
      "CLOSE                                              \n",
      "BASFn.DE   0.792742  0.755790 -0.474642  0.918528  \n",
      "IFXGn.DE   0.910362  0.881311 -0.382035  0.647426  \n",
      "SIEGn.DE   0.768002  0.812007 -0.372454  0.886854  \n",
      "EONGn.DE   0.584147  0.638446 -0.501374  0.931894  \n",
      "DBKGn.DE   0.487151  0.524024 -0.473463  0.908253  \n",
      "SATG_p.DE  0.865788  0.854616 -0.407968  0.821541  \n",
      "SAPG.DE    1.000000  0.918595 -0.322827  0.660950  \n",
      "BAYGn.DE   0.918595  1.000000 -0.261858  0.657526  \n",
      "RWEG.DE   -0.322827 -0.261858  1.000000 -0.540278  \n",
      "1COV.DE    0.660950  0.657526 -0.540278  1.000000  \n"
     ]
    }
   ],
   "source": [
    "correlacion = df[dax_corto].corr()\n",
    "print(correlacion)"
   ]
  },
  {
   "cell_type": "code",
   "execution_count": 85,
   "id": "9fc5e2f0",
   "metadata": {},
   "outputs": [
    {
     "data": {
      "text/plain": [
       "<Axes: xlabel='CLOSE', ylabel='CLOSE'>"
      ]
     },
     "execution_count": 85,
     "metadata": {},
     "output_type": "execute_result"
    },
    {
     "data": {
      "image/png": "[encoded data removed]",
      "text/plain": [
       "<Figure size 640x480 with 2 Axes>"
      ]
     },
     "metadata": {},
     "output_type": "display_data"
    }
   ],
   "source": [
    "import seaborn as sns\n",
    "sns.heatmap(df[dax_corto].corr(), annot = True, fmt='.2g',cmap= 'coolwarm')"
   ]
  },
  {
   "cell_type": "markdown",
   "id": "843c63ce",
   "metadata": {},
   "source": [
    "# Bibliografía"
   ]
  },
  {
   "cell_type": "markdown",
   "id": "733cbe37",
   "metadata": {},
   "source": [
    "Python for Finance, 2nd Edition. December 2018 O'Reilly Media, Inc.\n",
    "Numpy | ndarray Last Updated : 28 Jun, 2021 https://www.geeksforgeeks.org/numpy-ndarray/\n",
    "Machine Learning for Trading, Tucker Balch, Arpan Chakraborty, Udacity. https://www.udacity.com/course/machine-learning-for-trading--ud501"
   ]
  },
  {
   "cell_type": "code",
   "execution_count": null,
   "id": "577d1927",
   "metadata": {},
   "outputs": [],
   "source": []
  }
 ],
 "metadata": {
  "kernelspec": {
   "display_name": "Python 3 (ipykernel)",
   "language": "python",
   "name": "python3"
  },
  "language_info": {
   "codemirror_mode": {
    "name": "ipython",
    "version": 3
   },
   "file_extension": ".py",
   "mimetype": "text/x-python",
   "name": "python",
   "nbconvert_exporter": "python",
   "pygments_lexer": "ipython3",
   "version": "3.8.15"
  }
 },
 "nbformat": 4,
 "nbformat_minor": 5
}
