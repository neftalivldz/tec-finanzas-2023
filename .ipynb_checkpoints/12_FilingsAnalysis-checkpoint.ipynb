{
 "cells": [
  {
   "cell_type": "markdown",
   "id": "53c5b44a",
   "metadata": {},
   "source": [
    "Basado en Nick Zincone\n",
    "https://developers.refinitiv.com/en/article-catalog/article/using-ai-modeling-to-interpret-10-Q-filings\n",
    "https://pypi.org/project/sec-api/"
   ]
  },
  {
   "cell_type": "code",
   "execution_count": 4,
   "id": "05d306c0",
   "metadata": {},
   "outputs": [],
   "source": [
    "#!pip3 install transformers\n",
    "#!pip3 install torch\n",
    "#!conda install -c pytorch torchtext\n",
    "#!conda install pytorch torchvision -c pytorch\n",
    "#!pip3 install sec-api"
   ]
  },
  {
   "cell_type": "code",
   "execution_count": 9,
   "id": "f4419977",
   "metadata": {},
   "outputs": [
    {
     "data": {
      "text/html": [
       "        <script type=\"text/javascript\">\n",
       "        window.PlotlyConfig = {MathJaxConfig: 'local'};\n",
       "        if (window.MathJax && window.MathJax.Hub && window.MathJax.Hub.Config) {window.MathJax.Hub.Config({SVG: {font: \"STIX-Web\"}});}\n",
       "        if (typeof require !== 'undefined') {\n",
       "        require.undef(\"plotly\");\n",
       "        requirejs.config({\n",
       "            paths: {\n",
       "                'plotly': ['https://cdn.plot.ly/plotly-2.20.0.min']\n",
       "            }\n",
       "        });\n",
       "        require(['plotly'], function(Plotly) {\n",
       "            window._Plotly = Plotly;\n",
       "        });\n",
       "        }\n",
       "        </script>\n",
       "        "
      ]
     },
     "metadata": {},
     "output_type": "display_data"
    },
    {
     "data": {
      "text/html": [
       "        <script type=\"text/javascript\">\n",
       "        window.PlotlyConfig = {MathJaxConfig: 'local'};\n",
       "        if (window.MathJax && window.MathJax.Hub && window.MathJax.Hub.Config) {window.MathJax.Hub.Config({SVG: {font: \"STIX-Web\"}});}\n",
       "        if (typeof require !== 'undefined') {\n",
       "        require.undef(\"plotly\");\n",
       "        requirejs.config({\n",
       "            paths: {\n",
       "                'plotly': ['https://cdn.plot.ly/plotly-2.20.0.min']\n",
       "            }\n",
       "        });\n",
       "        require(['plotly'], function(Plotly) {\n",
       "            window._Plotly = Plotly;\n",
       "        });\n",
       "        }\n",
       "        </script>\n",
       "        "
      ]
     },
     "metadata": {},
     "output_type": "display_data"
    }
   ],
   "source": [
    "import eikon as ek  # the Eikon Python wrapper package\n",
    "import numpy as np  # NumPy\n",
    "import pandas as pd  # pandas\n",
    "import cufflinks as cf  # Cufflinks\n",
    "import configparser as cp\n",
    "import datetime as dt\n",
    "cf.set_config_file(offline=True)  # set the plotting mode to offline"
   ]
  },
  {
   "cell_type": "code",
   "execution_count": 10,
   "id": "ac75b750",
   "metadata": {},
   "outputs": [],
   "source": [
    "# NLP package used to aid in text manipulation\n",
    "import nltk\n",
    "from nltk.tokenize import word_tokenize, sent_tokenize\n",
    "\n",
    "# Machine Learning modules used to prepare and measure text\n",
    "from transformers import AutoTokenizer, AutoModelForSequenceClassification\n",
    "from transformers import BertTokenizer, BertForSequenceClassification, pipeline\n",
    "import torch\n",
    "\n",
    "# HTML text processing\n",
    "from bs4 import BeautifulSoup\n",
    "\n",
    "# Helper modules\n",
    "import matplotlib.pyplot as plt\n",
    "from tqdm.notebook import trange # Progress bar\n",
    "import pandas as pd\n",
    "\n",
    "from sec_api import QueryApi\n",
    "\n",
    "pd.set_option('display.max_colwidth', 60)"
   ]
  },
  {
   "cell_type": "code",
   "execution_count": 11,
   "id": "17d91ad2",
   "metadata": {},
   "outputs": [],
   "source": [
    "cfg = cp.ConfigParser()\n",
    "cfg.read('../refinitiv.cfg')\n",
    "ek.set_app_key(cfg['eikon']['app_id'])"
   ]
  },
  {
   "cell_type": "code",
   "execution_count": 12,
   "id": "9c05fe1e",
   "metadata": {},
   "outputs": [],
   "source": [
    "cfg = cp.ConfigParser()\n",
    "cfg.read('../secapi.cfg')\n",
    "sec = cfg['sec']['app_id']\n"
   ]
  },
  {
   "cell_type": "code",
   "execution_count": 30,
   "id": "dda35f5a",
   "metadata": {},
   "outputs": [
    {
     "name": "stdout",
     "output_type": "stream",
     "text": [
      "2023-04-20 2018-04-20\n"
     ]
    }
   ],
   "source": [
    "today = dt.date.today()\n",
    "start = today - dt.timedelta(days=365.2*5)\n",
    "print(today, start)"
   ]
  },
  {
   "cell_type": "code",
   "execution_count": 31,
   "id": "d0a4f7b3",
   "metadata": {},
   "outputs": [],
   "source": [
    "fields = ['TR.PortfolioConstituentName','TR.PortfolioWeight']\n",
    "data, err = ek.get_data(['Portfolio(RETO2023_B)'],fields)\n",
    "t = data['Instrument'][3]"
   ]
  },
  {
   "cell_type": "code",
   "execution_count": 32,
   "id": "76e85f1d",
   "metadata": {},
   "outputs": [],
   "source": [
    "#help(ek.get_symbology)"
   ]
  },
  {
   "cell_type": "code",
   "execution_count": 33,
   "id": "f3b8fb19",
   "metadata": {},
   "outputs": [
    {
     "data": {
      "text/plain": [
       "'TSLA'"
      ]
     },
     "execution_count": 33,
     "metadata": {},
     "output_type": "execute_result"
    }
   ],
   "source": [
    "tick = ek.get_symbology(t, from_symbol_type=\"RIC\", to_symbol_type=\"ticker\")['ticker'][0]\n",
    "tick"
   ]
  },
  {
   "cell_type": "code",
   "execution_count": 34,
   "id": "fe5d4cb6",
   "metadata": {},
   "outputs": [
    {
     "name": "stdout",
     "output_type": "stream",
     "text": [
      "{'total': {'value': 3, 'relation': 'eq'}, 'query': {'from': 0, 'size': 10}, 'filings': [{'id': '9b09ba89105cd748ffc3dc4958a13f37', 'accessionNo': '0000950170-22-019867', 'cik': '1318605', 'ticker': 'TSLA', 'companyName': 'Tesla, Inc.', 'companyNameLong': 'Tesla, Inc. (Filer)', 'formType': '10-Q', 'description': 'Form 10-Q - Quarterly report [Sections 13 or 15(d)]', 'filedAt': '2022-10-24T06:08:50-04:00', 'linkToTxt': 'https://www.sec.gov/Archives/edgar/data/1318605/000095017022019867/0000950170-22-019867.txt', 'linkToHtml': 'https://www.sec.gov/Archives/edgar/data/1318605/000095017022019867/0000950170-22-019867-index.htm', 'linkToXbrl': '', 'linkToFilingDetails': 'https://www.sec.gov/Archives/edgar/data/1318605/000095017022019867/tsla-20220930.htm', 'entities': [{'companyName': 'Tesla, Inc. (Filer)', 'cik': '1318605', 'irsNo': '912197729', 'stateOfIncorporation': 'DE', 'fiscalYearEnd': '1231', 'type': '10-Q', 'act': '34', 'fileNo': '001-34756', 'filmNo': '221324774', 'sic': '3711 Motor Vehicles &amp; Passenger Car Bodies'}], 'documentFormatFiles': [{'sequence': '1', 'description': '10-Q', 'documentUrl': 'https://www.sec.gov/ix?doc=/Archives/edgar/data/1318605/000095017022019867/tsla-20220930.htm', 'type': '10-Q', 'size': '5602175'}, {'sequence': '2', 'description': 'EX-31.1', 'documentUrl': 'https://www.sec.gov/Archives/edgar/data/1318605/000095017022019867/tsla-ex31_1.htm', 'type': 'EX-31.1', 'size': '19833'}, {'sequence': '3', 'description': 'EX-31.2', 'documentUrl': 'https://www.sec.gov/Archives/edgar/data/1318605/000095017022019867/tsla-ex31_2.htm', 'type': 'EX-31.2', 'size': '19692'}, {'sequence': '4', 'description': 'EX-32.1', 'documentUrl': 'https://www.sec.gov/Archives/edgar/data/1318605/000095017022019867/tsla-ex32_1.htm', 'type': 'EX-32.1', 'size': '20859'}, {'sequence': '\\xa0', 'description': 'Complete submission text file', 'documentUrl': 'https://www.sec.gov/Archives/edgar/data/1318605/000095017022019867/0000950170-22-019867.txt', 'type': '\\xa0', 'size': '20844339'}], 'dataFiles': [{'sequence': '5', 'description': 'XBRL TAXONOMY EXTENSION DEFINITION LINKBASE DOCUMENT', 'documentUrl': 'https://www.sec.gov/Archives/edgar/data/1318605/000095017022019867/tsla-20220930_def.xml', 'type': 'EX-101.DEF', 'size': '383539'}, {'sequence': '6', 'description': 'XBRL TAXONOMY EXTENSION PRESENTATION LINKBASE DOCUMENT', 'documentUrl': 'https://www.sec.gov/Archives/edgar/data/1318605/000095017022019867/tsla-20220930_pre.xml', 'type': 'EX-101.PRE', 'size': '564648'}, {'sequence': '7', 'description': 'XBRL TAXONOMY EXTENSION LABEL LINKBASE DOCUMENT', 'documentUrl': 'https://www.sec.gov/Archives/edgar/data/1318605/000095017022019867/tsla-20220930_lab.xml', 'type': 'EX-101.LAB', 'size': '791604'}, {'sequence': '8', 'description': 'XBRL TAXONOMY EXTENSION SCHEMA DOCUMENT', 'documentUrl': 'https://www.sec.gov/Archives/edgar/data/1318605/000095017022019867/tsla-20220930.xsd', 'type': 'EX-101.SCH', 'size': '113002'}, {'sequence': '9', 'description': 'XBRL TAXONOMY EXTENSION CALCULATION LINKBASE DOCUMENT', 'documentUrl': 'https://www.sec.gov/Archives/edgar/data/1318605/000095017022019867/tsla-20220930_cal.xml', 'type': 'EX-101.CAL', 'size': '87349'}, {'sequence': '84', 'description': 'EXTRACTED XBRL INSTANCE DOCUMENT', 'documentUrl': 'https://www.sec.gov/Archives/edgar/data/1318605/000095017022019867/tsla-20220930_htm.xml', 'type': 'XML', 'size': '5305612'}], 'seriesAndClassesContractsInformation': [], 'periodOfReport': '2022-09-30'}, {'id': '5354328741f8078f3771da51e98cc882', 'accessionNo': '0000950170-22-012936', 'cik': '1318605', 'ticker': 'TSLA', 'companyName': 'Tesla, Inc.', 'companyNameLong': 'Tesla, Inc. (Filer)', 'formType': '10-Q', 'description': 'Form 10-Q - Quarterly report [Sections 13 or 15(d)]', 'filedAt': '2022-07-25T06:07:25-04:00', 'linkToTxt': 'https://www.sec.gov/Archives/edgar/data/1318605/000095017022012936/0000950170-22-012936.txt', 'linkToHtml': 'https://www.sec.gov/Archives/edgar/data/1318605/000095017022012936/0000950170-22-012936-index.htm', 'linkToXbrl': '', 'linkToFilingDetails': 'https://www.sec.gov/Archives/edgar/data/1318605/000095017022012936/tsla-20220630.htm', 'entities': [{'companyName': 'Tesla, Inc. (Filer)', 'cik': '1318605', 'irsNo': '912197729', 'stateOfIncorporation': 'DE', 'fiscalYearEnd': '1231', 'type': '10-Q', 'act': '34', 'fileNo': '001-34756', 'filmNo': '221100953', 'sic': '3711 Motor Vehicles &amp; Passenger Car Bodies'}], 'documentFormatFiles': [{'sequence': '1', 'description': '10-Q', 'documentUrl': 'https://www.sec.gov/ix?doc=/Archives/edgar/data/1318605/000095017022012936/tsla-20220630.htm', 'type': '10-Q', 'size': '5293087'}, {'sequence': '2', 'description': 'EX-31.1', 'documentUrl': 'https://www.sec.gov/Archives/edgar/data/1318605/000095017022012936/tsla-ex31_1.htm', 'type': 'EX-31.1', 'size': '18939'}, {'sequence': '3', 'description': 'EX-31.2', 'documentUrl': 'https://www.sec.gov/Archives/edgar/data/1318605/000095017022012936/tsla-ex31_2.htm', 'type': 'EX-31.2', 'size': '18817'}, {'sequence': '4', 'description': 'EX-32.1', 'documentUrl': 'https://www.sec.gov/Archives/edgar/data/1318605/000095017022012936/tsla-ex32_1.htm', 'type': 'EX-32.1', 'size': '19954'}, {'sequence': '\\xa0', 'description': 'Complete submission text file', 'documentUrl': 'https://www.sec.gov/Archives/edgar/data/1318605/000095017022012936/0000950170-22-012936.txt', 'type': '\\xa0', 'size': '19720042'}], 'dataFiles': [{'sequence': '5', 'description': 'XBRL TAXONOMY EXTENSION SCHEMA DOCUMENT', 'documentUrl': 'https://www.sec.gov/Archives/edgar/data/1318605/000095017022012936/tsla-20220630.xsd', 'type': 'EX-101.SCH', 'size': '109432'}, {'sequence': '6', 'description': 'XBRL TAXONOMY EXTENSION DEFINITION LINKBASE DOCUMENT', 'documentUrl': 'https://www.sec.gov/Archives/edgar/data/1318605/000095017022012936/tsla-20220630_def.xml', 'type': 'EX-101.DEF', 'size': '374630'}, {'sequence': '7', 'description': 'XBRL TAXONOMY EXTENSION LABEL LINKBASE DOCUMENT', 'documentUrl': 'https://www.sec.gov/Archives/edgar/data/1318605/000095017022012936/tsla-20220630_lab.xml', 'type': 'EX-101.LAB', 'size': '778542'}, {'sequence': '8', 'description': 'XBRL TAXONOMY EXTENSION PRESENTATION LINKBASE DOCUMENT', 'documentUrl': 'https://www.sec.gov/Archives/edgar/data/1318605/000095017022012936/tsla-20220630_pre.xml', 'type': 'EX-101.PRE', 'size': '550660'}, {'sequence': '9', 'description': 'XBRL TAXONOMY EXTENSION CALCULATION LINKBASE DOCUMENT', 'documentUrl': 'https://www.sec.gov/Archives/edgar/data/1318605/000095017022012936/tsla-20220630_cal.xml', 'type': 'EX-101.CAL', 'size': '87656'}, {'sequence': '82', 'description': 'EXTRACTED XBRL INSTANCE DOCUMENT', 'documentUrl': 'https://www.sec.gov/Archives/edgar/data/1318605/000095017022012936/tsla-20220630_htm.xml', 'type': 'XML', 'size': '4920221'}], 'seriesAndClassesContractsInformation': [], 'periodOfReport': '2022-06-30'}, {'id': '0a71e99b88e45a0972da2ed8cfb32d0b', 'accessionNo': '0000950170-22-006034', 'cik': '1318605', 'ticker': 'TSLA', 'companyName': 'Tesla, Inc.', 'companyNameLong': 'Tesla, Inc. (Filer)', 'formType': '10-Q', 'description': 'Form 10-Q - Quarterly report [Sections 13 or 15(d)]', 'filedAt': '2022-04-22T21:36:59-04:00', 'linkToTxt': 'https://www.sec.gov/Archives/edgar/data/1318605/000095017022006034/0000950170-22-006034.txt', 'linkToHtml': 'https://www.sec.gov/Archives/edgar/data/1318605/000095017022006034/0000950170-22-006034-index.htm', 'linkToXbrl': '', 'linkToFilingDetails': 'https://www.sec.gov/Archives/edgar/data/1318605/000095017022006034/tsla-20220331.htm', 'entities': [{'companyName': 'Tesla, Inc. (Filer)', 'cik': '1318605', 'irsNo': '912197729', 'stateOfIncorporation': 'DE', 'fiscalYearEnd': '1231', 'type': '10-Q', 'act': '34', 'fileNo': '001-34756', 'filmNo': '22847167', 'sic': '3711 Motor Vehicles &amp; Passenger Car Bodies'}], 'documentFormatFiles': [{'sequence': '1', 'description': '10-Q', 'documentUrl': 'https://www.sec.gov/ix?doc=/Archives/edgar/data/1318605/000095017022006034/tsla-20220331.htm', 'type': '10-Q', 'size': '3736851'}, {'sequence': '2', 'description': 'EX-31.1', 'documentUrl': 'https://www.sec.gov/Archives/edgar/data/1318605/000095017022006034/tsla-ex31_1.htm', 'type': 'EX-31.1', 'size': '17564'}, {'sequence': '3', 'description': 'EX-31.2', 'documentUrl': 'https://www.sec.gov/Archives/edgar/data/1318605/000095017022006034/tsla-ex31_2.htm', 'type': 'EX-31.2', 'size': '17464'}, {'sequence': '4', 'description': 'EX-32.1', 'documentUrl': 'https://www.sec.gov/Archives/edgar/data/1318605/000095017022006034/tsla-ex32_1.htm', 'type': 'EX-32.1', 'size': '18240'}, {'sequence': '\\xa0', 'description': 'Complete submission text file', 'documentUrl': 'https://www.sec.gov/Archives/edgar/data/1318605/000095017022006034/0000950170-22-006034.txt', 'type': '\\xa0', 'size': '17038699'}], 'dataFiles': [{'sequence': '5', 'description': 'XBRL TAXONOMY EXTENSION PRESENTATION LINKBASE DOCUMENT', 'documentUrl': 'https://www.sec.gov/Archives/edgar/data/1318605/000095017022006034/tsla-20220331_pre.xml', 'type': 'EX-101.PRE', 'size': '706679'}, {'sequence': '6', 'description': 'XBRL TAXONOMY EXTENSION DEFINITION LINKBASE DOCUMENT', 'documentUrl': 'https://www.sec.gov/Archives/edgar/data/1318605/000095017022006034/tsla-20220331_def.xml', 'type': 'EX-101.DEF', 'size': '467068'}, {'sequence': '7', 'description': 'XBRL TAXONOMY EXTENSION LABEL LINKBASE DOCUMENT', 'documentUrl': 'https://www.sec.gov/Archives/edgar/data/1318605/000095017022006034/tsla-20220331_lab.xml', 'type': 'EX-101.LAB', 'size': '942868'}, {'sequence': '8', 'description': 'XBRL TAXONOMY EXTENSION SCHEMA DOCUMENT', 'documentUrl': 'https://www.sec.gov/Archives/edgar/data/1318605/000095017022006034/tsla-20220331.xsd', 'type': 'EX-101.SCH', 'size': '129045'}, {'sequence': '9', 'description': 'XBRL TAXONOMY EXTENSION CALCULATION LINKBASE DOCUMENT', 'documentUrl': 'https://www.sec.gov/Archives/edgar/data/1318605/000095017022006034/tsla-20220331_cal.xml', 'type': 'EX-101.CAL', 'size': '115846'}, {'sequence': '87', 'description': 'EXTRACTED XBRL INSTANCE DOCUMENT', 'documentUrl': 'https://www.sec.gov/Archives/edgar/data/1318605/000095017022006034/tsla-20220331_htm.xml', 'type': 'XML', 'size': '3995486'}], 'seriesAndClassesContractsInformation': [], 'periodOfReport': '2022-03-31'}]}\n"
     ]
    }
   ],
   "source": [
    "# Query the Filings service using the Refinitiv Data Library for Python.\n",
    "#\n",
    "# Retrieve SEC filings for the specific company - specify the text we want to retrieve\n",
    "# is defined within the \"Management Discussion\" section.\n",
    "\n",
    "queryApi = QueryApi(api_key=sec)\n",
    "\n",
    "query = {\n",
    "  \"query\": { \"query_string\": {\n",
    "      \"query\": \"ticker:TSLA AND filedAt:{2022-01-01 TO 2023-12-31} AND formType:\\\"10-Q\\\"\"\n",
    "    } },\n",
    "  \"from\": \"0\",\n",
    "  \"size\": \"10\",\n",
    "  \"sort\": [{ \"filedAt\": { \"order\": \"desc\" } }]\n",
    "}\n",
    "\n",
    "filings = queryApi.get_filings(query)\n",
    "\n",
    "print(filings)"
   ]
  },
  {
   "cell_type": "code",
   "execution_count": 35,
   "id": "a1209547",
   "metadata": {},
   "outputs": [],
   "source": [
    "import json\n",
    "data = json.dumps(filings)\n",
    "#data"
   ]
  },
  {
   "cell_type": "code",
   "execution_count": 36,
   "id": "bdb2fe96",
   "metadata": {},
   "outputs": [
    {
     "data": {
      "text/plain": [
       "[{'id': '9b09ba89105cd748ffc3dc4958a13f37',\n",
       "  'accessionNo': '0000950170-22-019867',\n",
       "  'cik': '1318605',\n",
       "  'ticker': 'TSLA',\n",
       "  'companyName': 'Tesla, Inc.',\n",
       "  'companyNameLong': 'Tesla, Inc. (Filer)',\n",
       "  'formType': '10-Q',\n",
       "  'description': 'Form 10-Q - Quarterly report [Sections 13 or 15(d)]',\n",
       "  'filedAt': '2022-10-24T06:08:50-04:00',\n",
       "  'linkToTxt': 'https://www.sec.gov/Archives/edgar/data/1318605/000095017022019867/0000950170-22-019867.txt',\n",
       "  'linkToHtml': 'https://www.sec.gov/Archives/edgar/data/1318605/000095017022019867/0000950170-22-019867-index.htm',\n",
       "  'linkToXbrl': '',\n",
       "  'linkToFilingDetails': 'https://www.sec.gov/Archives/edgar/data/1318605/000095017022019867/tsla-20220930.htm',\n",
       "  'entities': [{'companyName': 'Tesla, Inc. (Filer)',\n",
       "    'cik': '1318605',\n",
       "    'irsNo': '912197729',\n",
       "    'stateOfIncorporation': 'DE',\n",
       "    'fiscalYearEnd': '1231',\n",
       "    'type': '10-Q',\n",
       "    'act': '34',\n",
       "    'fileNo': '001-34756',\n",
       "    'filmNo': '221324774',\n",
       "    'sic': '3711 Motor Vehicles &amp; Passenger Car Bodies'}],\n",
       "  'documentFormatFiles': [{'sequence': '1',\n",
       "    'description': '10-Q',\n",
       "    'documentUrl': 'https://www.sec.gov/ix?doc=/Archives/edgar/data/1318605/000095017022019867/tsla-20220930.htm',\n",
       "    'type': '10-Q',\n",
       "    'size': '5602175'},\n",
       "   {'sequence': '2',\n",
       "    'description': 'EX-31.1',\n",
       "    'documentUrl': 'https://www.sec.gov/Archives/edgar/data/1318605/000095017022019867/tsla-ex31_1.htm',\n",
       "    'type': 'EX-31.1',\n",
       "    'size': '19833'},\n",
       "   {'sequence': '3',\n",
       "    'description': 'EX-31.2',\n",
       "    'documentUrl': 'https://www.sec.gov/Archives/edgar/data/1318605/000095017022019867/tsla-ex31_2.htm',\n",
       "    'type': 'EX-31.2',\n",
       "    'size': '19692'},\n",
       "   {'sequence': '4',\n",
       "    'description': 'EX-32.1',\n",
       "    'documentUrl': 'https://www.sec.gov/Archives/edgar/data/1318605/000095017022019867/tsla-ex32_1.htm',\n",
       "    'type': 'EX-32.1',\n",
       "    'size': '20859'},\n",
       "   {'sequence': '\\xa0',\n",
       "    'description': 'Complete submission text file',\n",
       "    'documentUrl': 'https://www.sec.gov/Archives/edgar/data/1318605/000095017022019867/0000950170-22-019867.txt',\n",
       "    'type': '\\xa0',\n",
       "    'size': '20844339'}],\n",
       "  'dataFiles': [{'sequence': '5',\n",
       "    'description': 'XBRL TAXONOMY EXTENSION DEFINITION LINKBASE DOCUMENT',\n",
       "    'documentUrl': 'https://www.sec.gov/Archives/edgar/data/1318605/000095017022019867/tsla-20220930_def.xml',\n",
       "    'type': 'EX-101.DEF',\n",
       "    'size': '383539'},\n",
       "   {'sequence': '6',\n",
       "    'description': 'XBRL TAXONOMY EXTENSION PRESENTATION LINKBASE DOCUMENT',\n",
       "    'documentUrl': 'https://www.sec.gov/Archives/edgar/data/1318605/000095017022019867/tsla-20220930_pre.xml',\n",
       "    'type': 'EX-101.PRE',\n",
       "    'size': '564648'},\n",
       "   {'sequence': '7',\n",
       "    'description': 'XBRL TAXONOMY EXTENSION LABEL LINKBASE DOCUMENT',\n",
       "    'documentUrl': 'https://www.sec.gov/Archives/edgar/data/1318605/000095017022019867/tsla-20220930_lab.xml',\n",
       "    'type': 'EX-101.LAB',\n",
       "    'size': '791604'},\n",
       "   {'sequence': '8',\n",
       "    'description': 'XBRL TAXONOMY EXTENSION SCHEMA DOCUMENT',\n",
       "    'documentUrl': 'https://www.sec.gov/Archives/edgar/data/1318605/000095017022019867/tsla-20220930.xsd',\n",
       "    'type': 'EX-101.SCH',\n",
       "    'size': '113002'},\n",
       "   {'sequence': '9',\n",
       "    'description': 'XBRL TAXONOMY EXTENSION CALCULATION LINKBASE DOCUMENT',\n",
       "    'documentUrl': 'https://www.sec.gov/Archives/edgar/data/1318605/000095017022019867/tsla-20220930_cal.xml',\n",
       "    'type': 'EX-101.CAL',\n",
       "    'size': '87349'},\n",
       "   {'sequence': '84',\n",
       "    'description': 'EXTRACTED XBRL INSTANCE DOCUMENT',\n",
       "    'documentUrl': 'https://www.sec.gov/Archives/edgar/data/1318605/000095017022019867/tsla-20220930_htm.xml',\n",
       "    'type': 'XML',\n",
       "    'size': '5305612'}],\n",
       "  'seriesAndClassesContractsInformation': [],\n",
       "  'periodOfReport': '2022-09-30'},\n",
       " {'id': '5354328741f8078f3771da51e98cc882',\n",
       "  'accessionNo': '0000950170-22-012936',\n",
       "  'cik': '1318605',\n",
       "  'ticker': 'TSLA',\n",
       "  'companyName': 'Tesla, Inc.',\n",
       "  'companyNameLong': 'Tesla, Inc. (Filer)',\n",
       "  'formType': '10-Q',\n",
       "  'description': 'Form 10-Q - Quarterly report [Sections 13 or 15(d)]',\n",
       "  'filedAt': '2022-07-25T06:07:25-04:00',\n",
       "  'linkToTxt': 'https://www.sec.gov/Archives/edgar/data/1318605/000095017022012936/0000950170-22-012936.txt',\n",
       "  'linkToHtml': 'https://www.sec.gov/Archives/edgar/data/1318605/000095017022012936/0000950170-22-012936-index.htm',\n",
       "  'linkToXbrl': '',\n",
       "  'linkToFilingDetails': 'https://www.sec.gov/Archives/edgar/data/1318605/000095017022012936/tsla-20220630.htm',\n",
       "  'entities': [{'companyName': 'Tesla, Inc. (Filer)',\n",
       "    'cik': '1318605',\n",
       "    'irsNo': '912197729',\n",
       "    'stateOfIncorporation': 'DE',\n",
       "    'fiscalYearEnd': '1231',\n",
       "    'type': '10-Q',\n",
       "    'act': '34',\n",
       "    'fileNo': '001-34756',\n",
       "    'filmNo': '221100953',\n",
       "    'sic': '3711 Motor Vehicles &amp; Passenger Car Bodies'}],\n",
       "  'documentFormatFiles': [{'sequence': '1',\n",
       "    'description': '10-Q',\n",
       "    'documentUrl': 'https://www.sec.gov/ix?doc=/Archives/edgar/data/1318605/000095017022012936/tsla-20220630.htm',\n",
       "    'type': '10-Q',\n",
       "    'size': '5293087'},\n",
       "   {'sequence': '2',\n",
       "    'description': 'EX-31.1',\n",
       "    'documentUrl': 'https://www.sec.gov/Archives/edgar/data/1318605/000095017022012936/tsla-ex31_1.htm',\n",
       "    'type': 'EX-31.1',\n",
       "    'size': '18939'},\n",
       "   {'sequence': '3',\n",
       "    'description': 'EX-31.2',\n",
       "    'documentUrl': 'https://www.sec.gov/Archives/edgar/data/1318605/000095017022012936/tsla-ex31_2.htm',\n",
       "    'type': 'EX-31.2',\n",
       "    'size': '18817'},\n",
       "   {'sequence': '4',\n",
       "    'description': 'EX-32.1',\n",
       "    'documentUrl': 'https://www.sec.gov/Archives/edgar/data/1318605/000095017022012936/tsla-ex32_1.htm',\n",
       "    'type': 'EX-32.1',\n",
       "    'size': '19954'},\n",
       "   {'sequence': '\\xa0',\n",
       "    'description': 'Complete submission text file',\n",
       "    'documentUrl': 'https://www.sec.gov/Archives/edgar/data/1318605/000095017022012936/0000950170-22-012936.txt',\n",
       "    'type': '\\xa0',\n",
       "    'size': '19720042'}],\n",
       "  'dataFiles': [{'sequence': '5',\n",
       "    'description': 'XBRL TAXONOMY EXTENSION SCHEMA DOCUMENT',\n",
       "    'documentUrl': 'https://www.sec.gov/Archives/edgar/data/1318605/000095017022012936/tsla-20220630.xsd',\n",
       "    'type': 'EX-101.SCH',\n",
       "    'size': '109432'},\n",
       "   {'sequence': '6',\n",
       "    'description': 'XBRL TAXONOMY EXTENSION DEFINITION LINKBASE DOCUMENT',\n",
       "    'documentUrl': 'https://www.sec.gov/Archives/edgar/data/1318605/000095017022012936/tsla-20220630_def.xml',\n",
       "    'type': 'EX-101.DEF',\n",
       "    'size': '374630'},\n",
       "   {'sequence': '7',\n",
       "    'description': 'XBRL TAXONOMY EXTENSION LABEL LINKBASE DOCUMENT',\n",
       "    'documentUrl': 'https://www.sec.gov/Archives/edgar/data/1318605/000095017022012936/tsla-20220630_lab.xml',\n",
       "    'type': 'EX-101.LAB',\n",
       "    'size': '778542'},\n",
       "   {'sequence': '8',\n",
       "    'description': 'XBRL TAXONOMY EXTENSION PRESENTATION LINKBASE DOCUMENT',\n",
       "    'documentUrl': 'https://www.sec.gov/Archives/edgar/data/1318605/000095017022012936/tsla-20220630_pre.xml',\n",
       "    'type': 'EX-101.PRE',\n",
       "    'size': '550660'},\n",
       "   {'sequence': '9',\n",
       "    'description': 'XBRL TAXONOMY EXTENSION CALCULATION LINKBASE DOCUMENT',\n",
       "    'documentUrl': 'https://www.sec.gov/Archives/edgar/data/1318605/000095017022012936/tsla-20220630_cal.xml',\n",
       "    'type': 'EX-101.CAL',\n",
       "    'size': '87656'},\n",
       "   {'sequence': '82',\n",
       "    'description': 'EXTRACTED XBRL INSTANCE DOCUMENT',\n",
       "    'documentUrl': 'https://www.sec.gov/Archives/edgar/data/1318605/000095017022012936/tsla-20220630_htm.xml',\n",
       "    'type': 'XML',\n",
       "    'size': '4920221'}],\n",
       "  'seriesAndClassesContractsInformation': [],\n",
       "  'periodOfReport': '2022-06-30'},\n",
       " {'id': '0a71e99b88e45a0972da2ed8cfb32d0b',\n",
       "  'accessionNo': '0000950170-22-006034',\n",
       "  'cik': '1318605',\n",
       "  'ticker': 'TSLA',\n",
       "  'companyName': 'Tesla, Inc.',\n",
       "  'companyNameLong': 'Tesla, Inc. (Filer)',\n",
       "  'formType': '10-Q',\n",
       "  'description': 'Form 10-Q - Quarterly report [Sections 13 or 15(d)]',\n",
       "  'filedAt': '2022-04-22T21:36:59-04:00',\n",
       "  'linkToTxt': 'https://www.sec.gov/Archives/edgar/data/1318605/000095017022006034/0000950170-22-006034.txt',\n",
       "  'linkToHtml': 'https://www.sec.gov/Archives/edgar/data/1318605/000095017022006034/0000950170-22-006034-index.htm',\n",
       "  'linkToXbrl': '',\n",
       "  'linkToFilingDetails': 'https://www.sec.gov/Archives/edgar/data/1318605/000095017022006034/tsla-20220331.htm',\n",
       "  'entities': [{'companyName': 'Tesla, Inc. (Filer)',\n",
       "    'cik': '1318605',\n",
       "    'irsNo': '912197729',\n",
       "    'stateOfIncorporation': 'DE',\n",
       "    'fiscalYearEnd': '1231',\n",
       "    'type': '10-Q',\n",
       "    'act': '34',\n",
       "    'fileNo': '001-34756',\n",
       "    'filmNo': '22847167',\n",
       "    'sic': '3711 Motor Vehicles &amp; Passenger Car Bodies'}],\n",
       "  'documentFormatFiles': [{'sequence': '1',\n",
       "    'description': '10-Q',\n",
       "    'documentUrl': 'https://www.sec.gov/ix?doc=/Archives/edgar/data/1318605/000095017022006034/tsla-20220331.htm',\n",
       "    'type': '10-Q',\n",
       "    'size': '3736851'},\n",
       "   {'sequence': '2',\n",
       "    'description': 'EX-31.1',\n",
       "    'documentUrl': 'https://www.sec.gov/Archives/edgar/data/1318605/000095017022006034/tsla-ex31_1.htm',\n",
       "    'type': 'EX-31.1',\n",
       "    'size': '17564'},\n",
       "   {'sequence': '3',\n",
       "    'description': 'EX-31.2',\n",
       "    'documentUrl': 'https://www.sec.gov/Archives/edgar/data/1318605/000095017022006034/tsla-ex31_2.htm',\n",
       "    'type': 'EX-31.2',\n",
       "    'size': '17464'},\n",
       "   {'sequence': '4',\n",
       "    'description': 'EX-32.1',\n",
       "    'documentUrl': 'https://www.sec.gov/Archives/edgar/data/1318605/000095017022006034/tsla-ex32_1.htm',\n",
       "    'type': 'EX-32.1',\n",
       "    'size': '18240'},\n",
       "   {'sequence': '\\xa0',\n",
       "    'description': 'Complete submission text file',\n",
       "    'documentUrl': 'https://www.sec.gov/Archives/edgar/data/1318605/000095017022006034/0000950170-22-006034.txt',\n",
       "    'type': '\\xa0',\n",
       "    'size': '17038699'}],\n",
       "  'dataFiles': [{'sequence': '5',\n",
       "    'description': 'XBRL TAXONOMY EXTENSION PRESENTATION LINKBASE DOCUMENT',\n",
       "    'documentUrl': 'https://www.sec.gov/Archives/edgar/data/1318605/000095017022006034/tsla-20220331_pre.xml',\n",
       "    'type': 'EX-101.PRE',\n",
       "    'size': '706679'},\n",
       "   {'sequence': '6',\n",
       "    'description': 'XBRL TAXONOMY EXTENSION DEFINITION LINKBASE DOCUMENT',\n",
       "    'documentUrl': 'https://www.sec.gov/Archives/edgar/data/1318605/000095017022006034/tsla-20220331_def.xml',\n",
       "    'type': 'EX-101.DEF',\n",
       "    'size': '467068'},\n",
       "   {'sequence': '7',\n",
       "    'description': 'XBRL TAXONOMY EXTENSION LABEL LINKBASE DOCUMENT',\n",
       "    'documentUrl': 'https://www.sec.gov/Archives/edgar/data/1318605/000095017022006034/tsla-20220331_lab.xml',\n",
       "    'type': 'EX-101.LAB',\n",
       "    'size': '942868'},\n",
       "   {'sequence': '8',\n",
       "    'description': 'XBRL TAXONOMY EXTENSION SCHEMA DOCUMENT',\n",
       "    'documentUrl': 'https://www.sec.gov/Archives/edgar/data/1318605/000095017022006034/tsla-20220331.xsd',\n",
       "    'type': 'EX-101.SCH',\n",
       "    'size': '129045'},\n",
       "   {'sequence': '9',\n",
       "    'description': 'XBRL TAXONOMY EXTENSION CALCULATION LINKBASE DOCUMENT',\n",
       "    'documentUrl': 'https://www.sec.gov/Archives/edgar/data/1318605/000095017022006034/tsla-20220331_cal.xml',\n",
       "    'type': 'EX-101.CAL',\n",
       "    'size': '115846'},\n",
       "   {'sequence': '87',\n",
       "    'description': 'EXTRACTED XBRL INSTANCE DOCUMENT',\n",
       "    'documentUrl': 'https://www.sec.gov/Archives/edgar/data/1318605/000095017022006034/tsla-20220331_htm.xml',\n",
       "    'type': 'XML',\n",
       "    'size': '3995486'}],\n",
       "  'seriesAndClassesContractsInformation': [],\n",
       "  'periodOfReport': '2022-03-31'}]"
      ]
     },
     "execution_count": 36,
     "metadata": {},
     "output_type": "execute_result"
    }
   ],
   "source": [
    "filings['filings']"
   ]
  },
  {
   "cell_type": "code",
   "execution_count": 37,
   "id": "87ccae56",
   "metadata": {},
   "outputs": [
    {
     "data": {
      "text/html": [
       "<div>\n",
       "<style scoped>\n",
       "    .dataframe tbody tr th:only-of-type {\n",
       "        vertical-align: middle;\n",
       "    }\n",
       "\n",
       "    .dataframe tbody tr th {\n",
       "        vertical-align: top;\n",
       "    }\n",
       "\n",
       "    .dataframe thead th {\n",
       "        text-align: right;\n",
       "    }\n",
       "</style>\n",
       "<table border=\"1\" class=\"dataframe\">\n",
       "  <thead>\n",
       "    <tr style=\"text-align: right;\">\n",
       "      <th></th>\n",
       "      <th>id</th>\n",
       "      <th>accessionNo</th>\n",
       "      <th>cik</th>\n",
       "      <th>ticker</th>\n",
       "      <th>companyName</th>\n",
       "      <th>companyNameLong</th>\n",
       "      <th>formType</th>\n",
       "      <th>description</th>\n",
       "      <th>filedAt</th>\n",
       "      <th>linkToTxt</th>\n",
       "      <th>linkToHtml</th>\n",
       "      <th>linkToXbrl</th>\n",
       "      <th>linkToFilingDetails</th>\n",
       "      <th>entities</th>\n",
       "      <th>documentFormatFiles</th>\n",
       "      <th>dataFiles</th>\n",
       "      <th>seriesAndClassesContractsInformation</th>\n",
       "      <th>periodOfReport</th>\n",
       "    </tr>\n",
       "  </thead>\n",
       "  <tbody>\n",
       "    <tr>\n",
       "      <th>0</th>\n",
       "      <td>9b09ba89105cd748ffc3dc4958a13f37</td>\n",
       "      <td>0000950170-22-019867</td>\n",
       "      <td>1318605</td>\n",
       "      <td>TSLA</td>\n",
       "      <td>Tesla, Inc.</td>\n",
       "      <td>Tesla, Inc. (Filer)</td>\n",
       "      <td>10-Q</td>\n",
       "      <td>Form 10-Q - Quarterly report [Sections 13 or 15(d)]</td>\n",
       "      <td>2022-10-24T06:08:50-04:00</td>\n",
       "      <td>https://www.sec.gov/Archives/edgar/data/1318605/00009501...</td>\n",
       "      <td>https://www.sec.gov/Archives/edgar/data/1318605/00009501...</td>\n",
       "      <td></td>\n",
       "      <td>https://www.sec.gov/Archives/edgar/data/1318605/00009501...</td>\n",
       "      <td>[{'companyName': 'Tesla, Inc. (Filer)', 'cik': '1318605'...</td>\n",
       "      <td>[{'sequence': '1', 'description': '10-Q', 'documentUrl':...</td>\n",
       "      <td>[{'sequence': '5', 'description': 'XBRL TAXONOMY EXTENSI...</td>\n",
       "      <td>[]</td>\n",
       "      <td>2022-09-30</td>\n",
       "    </tr>\n",
       "    <tr>\n",
       "      <th>1</th>\n",
       "      <td>5354328741f8078f3771da51e98cc882</td>\n",
       "      <td>0000950170-22-012936</td>\n",
       "      <td>1318605</td>\n",
       "      <td>TSLA</td>\n",
       "      <td>Tesla, Inc.</td>\n",
       "      <td>Tesla, Inc. (Filer)</td>\n",
       "      <td>10-Q</td>\n",
       "      <td>Form 10-Q - Quarterly report [Sections 13 or 15(d)]</td>\n",
       "      <td>2022-07-25T06:07:25-04:00</td>\n",
       "      <td>https://www.sec.gov/Archives/edgar/data/1318605/00009501...</td>\n",
       "      <td>https://www.sec.gov/Archives/edgar/data/1318605/00009501...</td>\n",
       "      <td></td>\n",
       "      <td>https://www.sec.gov/Archives/edgar/data/1318605/00009501...</td>\n",
       "      <td>[{'companyName': 'Tesla, Inc. (Filer)', 'cik': '1318605'...</td>\n",
       "      <td>[{'sequence': '1', 'description': '10-Q', 'documentUrl':...</td>\n",
       "      <td>[{'sequence': '5', 'description': 'XBRL TAXONOMY EXTENSI...</td>\n",
       "      <td>[]</td>\n",
       "      <td>2022-06-30</td>\n",
       "    </tr>\n",
       "    <tr>\n",
       "      <th>2</th>\n",
       "      <td>0a71e99b88e45a0972da2ed8cfb32d0b</td>\n",
       "      <td>0000950170-22-006034</td>\n",
       "      <td>1318605</td>\n",
       "      <td>TSLA</td>\n",
       "      <td>Tesla, Inc.</td>\n",
       "      <td>Tesla, Inc. (Filer)</td>\n",
       "      <td>10-Q</td>\n",
       "      <td>Form 10-Q - Quarterly report [Sections 13 or 15(d)]</td>\n",
       "      <td>2022-04-22T21:36:59-04:00</td>\n",
       "      <td>https://www.sec.gov/Archives/edgar/data/1318605/00009501...</td>\n",
       "      <td>https://www.sec.gov/Archives/edgar/data/1318605/00009501...</td>\n",
       "      <td></td>\n",
       "      <td>https://www.sec.gov/Archives/edgar/data/1318605/00009501...</td>\n",
       "      <td>[{'companyName': 'Tesla, Inc. (Filer)', 'cik': '1318605'...</td>\n",
       "      <td>[{'sequence': '1', 'description': '10-Q', 'documentUrl':...</td>\n",
       "      <td>[{'sequence': '5', 'description': 'XBRL TAXONOMY EXTENSI...</td>\n",
       "      <td>[]</td>\n",
       "      <td>2022-03-31</td>\n",
       "    </tr>\n",
       "  </tbody>\n",
       "</table>\n",
       "</div>"
      ],
      "text/plain": [
       "                                 id           accessionNo      cik ticker  \\\n",
       "0  9b09ba89105cd748ffc3dc4958a13f37  0000950170-22-019867  1318605   TSLA   \n",
       "1  5354328741f8078f3771da51e98cc882  0000950170-22-012936  1318605   TSLA   \n",
       "2  0a71e99b88e45a0972da2ed8cfb32d0b  0000950170-22-006034  1318605   TSLA   \n",
       "\n",
       "   companyName      companyNameLong formType  \\\n",
       "0  Tesla, Inc.  Tesla, Inc. (Filer)     10-Q   \n",
       "1  Tesla, Inc.  Tesla, Inc. (Filer)     10-Q   \n",
       "2  Tesla, Inc.  Tesla, Inc. (Filer)     10-Q   \n",
       "\n",
       "                                           description  \\\n",
       "0  Form 10-Q - Quarterly report [Sections 13 or 15(d)]   \n",
       "1  Form 10-Q - Quarterly report [Sections 13 or 15(d)]   \n",
       "2  Form 10-Q - Quarterly report [Sections 13 or 15(d)]   \n",
       "\n",
       "                     filedAt  \\\n",
       "0  2022-10-24T06:08:50-04:00   \n",
       "1  2022-07-25T06:07:25-04:00   \n",
       "2  2022-04-22T21:36:59-04:00   \n",
       "\n",
       "                                                     linkToTxt  \\\n",
       "0  https://www.sec.gov/Archives/edgar/data/1318605/00009501...   \n",
       "1  https://www.sec.gov/Archives/edgar/data/1318605/00009501...   \n",
       "2  https://www.sec.gov/Archives/edgar/data/1318605/00009501...   \n",
       "\n",
       "                                                    linkToHtml linkToXbrl  \\\n",
       "0  https://www.sec.gov/Archives/edgar/data/1318605/00009501...              \n",
       "1  https://www.sec.gov/Archives/edgar/data/1318605/00009501...              \n",
       "2  https://www.sec.gov/Archives/edgar/data/1318605/00009501...              \n",
       "\n",
       "                                           linkToFilingDetails  \\\n",
       "0  https://www.sec.gov/Archives/edgar/data/1318605/00009501...   \n",
       "1  https://www.sec.gov/Archives/edgar/data/1318605/00009501...   \n",
       "2  https://www.sec.gov/Archives/edgar/data/1318605/00009501...   \n",
       "\n",
       "                                                      entities  \\\n",
       "0  [{'companyName': 'Tesla, Inc. (Filer)', 'cik': '1318605'...   \n",
       "1  [{'companyName': 'Tesla, Inc. (Filer)', 'cik': '1318605'...   \n",
       "2  [{'companyName': 'Tesla, Inc. (Filer)', 'cik': '1318605'...   \n",
       "\n",
       "                                           documentFormatFiles  \\\n",
       "0  [{'sequence': '1', 'description': '10-Q', 'documentUrl':...   \n",
       "1  [{'sequence': '1', 'description': '10-Q', 'documentUrl':...   \n",
       "2  [{'sequence': '1', 'description': '10-Q', 'documentUrl':...   \n",
       "\n",
       "                                                     dataFiles  \\\n",
       "0  [{'sequence': '5', 'description': 'XBRL TAXONOMY EXTENSI...   \n",
       "1  [{'sequence': '5', 'description': 'XBRL TAXONOMY EXTENSI...   \n",
       "2  [{'sequence': '5', 'description': 'XBRL TAXONOMY EXTENSI...   \n",
       "\n",
       "  seriesAndClassesContractsInformation periodOfReport  \n",
       "0                                   []     2022-09-30  \n",
       "1                                   []     2022-06-30  \n",
       "2                                   []     2022-03-31  "
      ]
     },
     "execution_count": 37,
     "metadata": {},
     "output_type": "execute_result"
    }
   ],
   "source": [
    "df = pd.json_normalize(filings['filings'])\n",
    "df"
   ]
  },
  {
   "cell_type": "code",
   "execution_count": 28,
   "id": "22f7719a",
   "metadata": {},
   "outputs": [
    {
     "data": {
      "text/plain": [
       "'ITEM 2.MANAGEMENT’S DISCUSSION AND ANALYSIS OF FINANCIAL CONDITION AND RESULTS OF OPERATIONS The following discussion and analysis should be read in conjunction with the consolidated financial statements and the related notes included elsewhere in this Quarterly Report on Form 10-Q. Overview Our mission is to accelerate the world’s transition to sustainable energy. We design, develop, manufacture, lease and sell high-performance fully electric vehicles, solar energy generation systems and energy storage products. We also offer maintenance, installation, operation, financial and other services related to our products. Additionally, we are increasingly focused on products and services based on artificial intelligence, robotics and automation. In 2022, we have produced 563,987 vehicles and delivered 564,743 vehicles through the second quarter, despite ongoing supply chain challenges and factory shutdowns. We are currently focused on increasing vehicle production and capacity, improving and developing battery technologies, improving our FSD capabilities, increasing the affordability and efficiency of our vehicles and expanding our global infrastructure. In 2022, we have deployed 1.98 GWh of energy storage products and 154 megawatts of solar energy systems through the second quarter. We are currently focused on ramping production of energy storage products, improving our Solar Roof installation capability and efficiency, and increasing market share of retrofit and new build solar energy systems. During the three and six months ended June 30, 2022, we recognized total revenues of $16.93 billion and $35.69 billion, respectively, representing increases of $4.98 billion and $13.34 billion, respectively, over the same periods ended June 30, 2021. We continue to ramp production, build new manufacturing capacity and expand our operations to enable increased deliveries and deployments of our products and further revenue growth. During the three and six months ended June 30, 2022, our net income attributable to common stockholders was $2.26 billion and $5.58 billion, respectively, representing favorable changes of $1.12 billion and $4.00 billion, respectively, over the same periods ended June 30, 2021. We continue to focus on improving our profitability through production and operational efficiencies. We ended the second quarter of 2022 with $18.92 billion in cash and cash equivalents and marketable securities, representing an increase of $1.21 billion from the end of 2021. Our cash flows provided by operating activities during the six month period ended June 30, 2022 was $6.35 billion, representing an increase of $2.58 billion compared to $3.77 billion during the same period ended June 30, 2021. Capital expenditures amounted to $3.50 billion during the six month period ended June 30, 2022, compared to $2.85 billion during the same period ended June 30, 2021. Sustained growth has allowed our business to generally fund itself, and we will continue investing in a number of capital-intensive projects in upcoming periods. Management Opportunities, Challenges and Risks and 2022 Outlook Impact of COVID-19 Pandemic   Beginning in the first quarter of 2021, there has been a trend in many parts of the world of increasing availability and administration of vaccines against COVID-19, as well as an easing of restrictions on social, business, travel and government activities and functions. On the other hand, infection rates and regulations continue to fluctuate in various regions and there are ongoing global impacts resulting from the pandemic, including challenges and increases in costs for logistics and supply chains, such as increased port congestion, intermittent supplier delays, labor shortages and a shortfall of semiconductor supply. We have been affected by temporary manufacturing closures, employment and compensation adjustments, and impediments to administrative activities supporting our product deliveries and deployments.   In addition, we have experienced and are experiencing varying levels of inflation resulting in part from various supply chain disruptions, increased shipping and transportation costs, increased raw material and labor costs and other disruptions caused by the COVID‐19 pandemic and general global economic conditions. The inflationary impact on our cost structure has contributed to adjustments in our product pricing, despite a continued focus on reducing our manufacturing costs where possible.   Ultimately, we cannot predict the duration of the COVID-19 pandemic or global economic trends. We continue to monitor macroeconomic conditions to remain flexible and to optimize and evolve our business as appropriate, and attempt to optimally project demand and infrastructure requirements globally and deploy our production, workforce and other resources accordingly. 30    Automotive—Production  The following is a summary of the status of production of each of our announced vehicle models in production and under development, as of the date of this Quarterly Report on Form 10-Q:            Production Location    Vehicle Model(s)    Production Status   Fremont Factory    Model S / Model X    Active         Model 3 / Model Y    Active   Gigafactory Shanghai    Model 3 / Model Y    Active   Gigafactory Berlin-Brandenburg    Model Y    Active   Gigafactory Texas    Model Y    Active         Cybertruck    In development   TBD    Tesla Semi    In development   TBD    Tesla Roadster    In development   TBD   Robotaxi & Others   In development      We are focused on growing our manufacturing capacity, which includes ramping all of our production vehicles to their installed production capacities as well as increasing capacity at our current factories. Our current production continues to be affected by the industry-wide semiconductor and other component shortages, requiring additional workaround manufacturing and production design solutions to be implemented which may be difficult to sustain. The next phase of production growth will depend on the ramp at Gigafactory Berlin-Brandenburg and Gigafactory Texas and the upgrade and expansion of Gigafactory Shanghai, as well as our ability to add to our available sources of battery cell supply by manufacturing our own cells that we are developing to have high-volume output, lower capital and production costs and longer range. Consistent with our approach of innovating manufacturing techniques at our new factories, we expect as well to pioneer new methods related to the mass production of these cells and our unique structural battery pack concept. Beginning this quarter, at Gigafactory Texas, we began delivering to customers Model Ys with Tesla-made 4680 cells with a structural battery pack. Our goals are to improve vehicle performance, decrease production costs and increase affordability.  However, these plans are subject to uncertainties inherent in establishing and ramping manufacturing operations, which may be exacerbated by the new product and manufacturing technologies we are introducing, the number of concurrent international projects, any industry-wide component constraints which may increase the number of manufacturing and production design workaround solutions required, labor shortages and any future impact from events outside of our control such as the COVID-19 pandemic. For example, spikes in COVID-19 cases in Shanghai resulted in limited production and temporary shutdowns to Gigafactory Shanghai as well as parts of our supply chain in the first and second quarters of 2022. Moreover, we have set ambitious technological targets with our plans for battery cells as well as for iterative manufacturing and design improvements for our vehicles with each new factory. Automotive—Demand and Sales Our cost reduction efforts and additional localized procurement and manufacturing are key to our vehicles’ affordability, and for example, have allowed us to competitively price our vehicles in China. In addition to our ongoing production ramp in 2022, we will also continue to generate demand and brand awareness by improving our vehicles’ performance and functionality, including through products based on artificial intelligence such as Autopilot and FSD, and other software features. Moreover, we expect to continue to benefit from a spike in demand in the automotive industry generally, as well as ongoing electrification of the automotive sector and increasing environmental awareness.  However, we operate in a cyclical industry that is sensitive to political and regulatory uncertainty, including with respect to trade and the environment, all of which may also be compounded by any future global impact from the COVID-19 pandemic, inflationary pressures and potential increases in interest rates. Moreover, as additional competitors enter the marketplace and help bring the world closer to sustainable transportation, we will have to continue to execute well to maintain our momentum. Automotive—Deliveries and Customer Infrastructure   As our deliveries increase, we must work constantly to prevent our vehicle delivery capability from becoming a bottleneck on our total deliveries. Increasing the exports of vehicles manufactured at Gigafactory Shanghai has been effective in mitigating the strain on our deliveries in markets outside of the United States, and we expect to benefit further from situating additional factories closer to local markets, including the recent production launch at Gigafactory Berlin-Brandenburg and Gigafactory Austin. As we expand our manufacturing operations globally, we will have to continue to increase and staff our delivery, servicing and charging infrastructure accordingly, maintain our vehicle reliability and optimize our Supercharger locations to ensure cost effectiveness and customer satisfaction. In particular, we remain focused on increasing the capability and efficiency of our servicing operations. 31    Energy Generation and Storage Demand, Production and Deployment   The long-term success of this business is dependent upon increasing margins through greater volumes. We continue to increase the production of our energy storage products to meet high levels of demand, including the construction and ramp of our Megafactory in Lathrop, California, but such production is also sensitive to global component constraints. For Megapack, energy storage deployments can vary meaningfully quarter to quarter depending on the timing of specific project milestones. For Powerwall, better availability and growing grid stability concerns drive higher customer interest, and we are emphasizing cross-selling with our residential solar energy products. We remain committed to growing our retrofit solar energy business by offering a low-cost and simplified online ordering experience. In addition, we continue to improve our installation capabilities and price efficiencies for Solar Roof by on-boarding and training new installers, as well as collaborating with real estate developers and builders on new homes to reduce installation time and costs. As these product lines grow, we will have to maintain adequate battery cell supply for our energy storage products and hire additional personnel, particularly skilled electricians, to support the ramp of Solar Roof.  Cash Flow and Capital Expenditure Trends  Our capital expenditures are typically difficult to project beyond the short-term given the number and breadth of our core projects at any given time, and may further be impacted by uncertainties in future global market conditions. We are simultaneously ramping new products, including new iterations of our Megapack, ramping manufacturing facilities on three continents and piloting the development and manufacture of new battery cell technologies, and the pace of our capital spend may vary depending on overall priority among projects, the pace at which we meet milestones, production adjustments to and among our various products, increased capital efficiencies and the addition of new projects. Owing and subject to the foregoing as well as the pipeline of announced projects under development, all other continuing infrastructure growth and varying levels of inflation, we currently expect our capital expenditures to be between $6.00 to $8.00 billion in 2022 and each of the next two fiscal years. Our business has recently been consistently generating cash flow from operations in excess of our level of capital spend, and with better working capital management resulting in shorter days sales outstanding than days payable outstanding, our sales growth is also facilitating positive cash generation. On the other hand, we are likely to see heightened levels of capital expenditures during certain periods depending on the specific pace of our capital-intensive projects and rising material prices and increasing supply chain and labor expenses resulting from changes in global trade conditions and labor availability associated with the COVID-19 pandemic. Overall, we expect our ability to be self-funding to continue as long as macroeconomic factors support current trends in our sales. Operating Expense Trends  As long as we see expanding sales, and excluding the potential impact of macroeconomic conditions including increased labor costs and impairment charges on certain assets as explained below, we generally expect operating expenses relative to revenues to decrease as we continue to increase operational efficiency and process automation. We expect operating expenses to grow in 2022 as we are expanding our operations globally. In the first quarter of 2021, we invested an aggregate $1.50 billion in bitcoin. As with any investment and consistent with how we manage fiat-based cash and cash-equivalent accounts, we may increase or decrease our holdings of digital assets at any time based on the needs of the business and our view of market and environmental conditions. Digital assets are considered indefinite-lived intangible assets under applicable accounting rules. Accordingly, any decrease in their fair values below our carrying values for such assets at any time subsequent to their acquisition will require us to recognize impairment charges, whereas we may make no upward revisions for any market price increases until a sale. For any digital assets held now or in the future, these charges may negatively impact our profitability in the periods in which such impairments occur even if the overall market values of these assets increase. For example, in the six month period ended June 30, 2022, we recorded $170 million of impairment losses resulting from changes to the carrying value of our bitcoin and gains of $64 million on certain conversions of bitcoin into fiat currency by us. Critical Accounting Policies and Estimates The consolidated financial statements are prepared in accordance with GAAP. The preparation of the consolidated financial statements requires us to make estimates and assumptions that affect the reported amounts of assets, liabilities, revenues, costs and expenses and related disclosures. We base our estimates on historical experience, as appropriate, and on various other assumptions that we believe to be reasonable under the circumstances. Changes in the accounting estimates are reasonably likely to occur from period to period. Accordingly, actual results could differ significantly from the estimates made by our management. We evaluate our estimates and assumptions on an ongoing basis. To the extent that there are material differences between these estimates and actual results, our future financial statement presentation, financial condition, results of operations and cash flows may be affected. 32    Due to the COVID-19 pandemic, there has been uncertainty and disruption in the global economy and financial markets. The estimates used for, but not limited to, determining significant economic incentive for resale value guarantee arrangements, sales return reserves, the collectability of accounts receivable, inventory valuation, warranties, fair value of long-lived assets, goodwill, fair value of financial instruments, fair value and residual value of operating lease vehicles and solar energy systems subject to leases could be impacted. We have assessed the impact and are not aware of any specific events or circumstances that required an update to our estimates and assumptions or materially affected the carrying value of our assets or liabilities as of the date of issuance of this Quarterly Report on Form 10-Q. These estimates may change as new events occur and additional information is obtained. Actual results could differ materially from these estimates under different assumptions or conditions. For a description of our critical accounting policies and estimates, refer to Part II, Item 7, Critical Accounting Policies and Estimates in our Annual Report on Form 10-K for the year ended December 31, 2021. There have been no material changes to our critical accounting policies and estimates since our Annual Report on Form 10-K for the year ended December 31, 2021. Recent Accounting Pronouncements See Note 2, Summary of Significant Accounting Policies, to the consolidated financial statements included elsewhere in this Quarterly Report on Form 10-Q. Results of Operations   Revenues                                            Three Months Ended June 30,     Change     Six Months Ended June 30,     Change     (Dollars in millions)   2022     2021     $     %     2022     2021     $     %     Automotive sales   $ 13,670     $ 9,520     $ 4,150       44 %   $ 29,184     $ 17,707     $ 11,477       65 %   Automotive regulatory credits     344       354       (10 )     -3 %     1,023       872       151       17 %   Automotive leasing     588       332       256       77 %     1,256       629       627       100 %   Total automotive revenues     14,602       10,206       4,396       43 %     31,463       19,208       12,255       64 %   Services and other     1,466       951       515       54 %     2,745       1,844       901       49 %   Total automotive & services and other segment revenue     16,068       11,157       4,911       44 %     34,208       21,052       13,156       62 %   Energy generation and storage segment revenue     866       801       65       8 %     1,482       1,295       187       14 %   Total revenues   $ 16,934     $ 11,958     $ 4,976       42 %   $ 35,690     $ 22,347     $ 13,343       60 %     Automotive & Services and Other Segment Automotive sales revenue includes revenues related to cash and financing deliveries of new Model S, Model X, Model 3, and Model Y vehicles, including access to our Supercharger network, internet connectivity, FSD features and over-the-air software updates. These deliveries are vehicles that are not subject to lease accounting.  Automotive regulatory credits includes sales of regulatory credits to other automotive manufacturers. Our revenue from automotive regulatory credits is directly related to our new vehicle production, sales and pricing negotiated with our customers. We monetize them proactively as new vehicles are sold based on standing arrangements with buyers of such credits, typically as close as possible to the production and delivery of the vehicle or changes in regulation impacting the credits.  Automotive leasing revenue includes the amortization of revenue for vehicles under direct operating lease agreements as well as those sold with resale value guarantees accounted for as operating leases under lease accounting. Additionally, automotive leasing revenue includes direct sales-type leasing programs where we recognize all revenue associated with the sales-type lease upon delivery to the customer. Services and other revenue consists of non-warranty after-sales vehicle services, paid supercharging, sales of used vehicles, retail merchandise, sales by our acquired subsidiaries to third party customers and vehicle insurance revenue. Automotive sales revenue increased $4.15 billion, or 44%, in the three months ended June 30, 2022 as compared to the three months ended June 30, 2021, primarily due to an increase of 44,364 Model 3 and Model Y cash deliveries, and an increase of 12,658 Model S and Model X cash deliveries year over year. This was achieved from production ramping of Model Y at Gigafactory Shanghai and the Fremont Factory as well as the start of production at Gigafactory Berlin-Brandenburg and Gigafactory Texas in 2022, at a higher combined average selling price from a higher proportion of Model Y sales. There was also an increase in production and an increase in the average selling price of Model S and Model X with a higher proportion of Model X sales, compared to the prior period as deliveries of the new versions of Model S and Model X only began ramping in the second and fourth quarters of 2021, respectively. 33    Automotive sales revenue increased $11.48 billion, or 65%, in the six months ended June 30, 2022 as compared to the six months ended June 30, 2021, primarily due to an increase of 156,279 Model 3 and Model Y cash deliveries, and an increase of 22,963 Model S and Model X cash deliveries year over year. This was achieved from production ramping of Model Y at Gigafactory Shanghai and the Fremont Factory as well as the start of production at Gigafactory Berlin-Brandenburg and Gigafactory Texas in 2022, at a higher combined average selling price from a higher proportion of Model Y sales offset by regional sales mix. There was also an increase in production and an increase in the average selling price of Model S and Model X with a higher proportion of Model X sales, compared to the prior period as deliveries of the new versions of Model S and Model X only began ramping in the second and fourth quarters of 2021, respectively. Automotive regulatory credits revenue decreased $10 million, or 3%, in the three months ended June 30, 2022 as compared to the three months ended June 30, 2021 primarily due to changes in pricing in certain regions. Automotive regulatory credits revenue increased $151 million, or 17%, in the six months ended June 30, 2022 as compared to the six months ended June 30, 2021, primarily due to changes in regulation which entitled us to additional consideration of $288 million in revenue in the first quarter of 2022 for credits sold previously, in the absence of which we had a decrease in automotive regulatory credits revenue driven by lower sales of regulatory credits.  Automotive leasing revenue increased $256 million, or 77%, in the three months ended June 30, 2022 as compared to the three months ended June 30, 2021. Automotive leasing revenue increased $627 million, or 100%, in the six months ended June 30, 2022 as compared to the six months ended June 30, 2021. The changes for both periods are primarily due to an increase in direct sales-type leasing revenue and an increase in activities under our direct operating lease program.  Services and other revenue increased $515 million, or 54%, in the three months ended June 30, 2022 as compared to the three months ended June 30, 2021. Services and other revenue increased $901 million, or 49%, in the six months ended June 30, 2022 as compared to the six months ended June 30, 2021. The changes for both periods are primarily due to increase in used vehicle revenue driven by increases in volume and average selling prices of used Tesla vehicles, non-warranty maintenance services revenue as our fleet continues to grow, paid supercharging revenue, insurance services revenue and retail merchandise revenue. Energy Generation and Storage Segment Energy generation and storage revenue includes sales and leasing of solar energy generation and energy storage products, financing of solar energy generation products, services related to such products and sales of solar energy systems incentives. Energy generation and storage revenue increased $65 million, or 8%, in the three months ended June 30, 2022 as compared to the three months ended June 30, 2021, primarily due to an increase in solar cash and loan deployments and Powerwall. This was partially offset by lower deployments of Megapack. Energy generation and storage revenue increased $187 million, or 14%, in the six months ended June 30, 2022 as compared to the six months ended June 30, 2021, primarily due to an increase in deployments of Powerwall. This was partially offset by lower deployments of Megapack. 34    Cost of Revenues and Gross Margin                                            Three Months Ended June 30,     Change     Six Months Ended June 30,     Change     (Dollars in millions)   2022     2021     $     %     2022     2021     $     %     Cost of revenues                                                   Automotive sales   $ 10,153     $ 7,119     $ 3,034       43 %   $ 21,067     $ 13,576     $ 7,491       55 %   Automotive leasing     368       188       180       96 %     776       348       428       123 %   Total automotive cost of revenues     10,521       7,307       3,214       44 %     21,843       13,924       7,919       57 %   Services and other     1,410       986       424       43 %     2,696       1,948       748       38 %   Total automotive & services and other  segment cost of revenues     11,931       8,293       3,638       44 %     24,539       15,872       8,667       55 %   Energy generation and storage segment     769       781       (12 )     -2 %     1,457       1,376       81       6 %   Total cost of revenues   $ 12,700     $ 9,074     $ 3,626       40 %   $ 25,996     $ 17,248     $ 8,748       51 %                                                       Gross profit total automotive   $ 4,081     $ 2,899                 $ 9,620     $ 5,284                 Gross margin total automotive     27.9 %     28.4 %                 30.6 %     27.5 %                                                                   Gross profit total automotive & services and other segment   $ 4,137     $ 2,864                 $ 9,669     $ 5,180                 Gross margin total automotive & services and other segment     25.7 %     25.7 %                 28.3 %     24.6 %                                                                   Gross profit energy generation and storage segment   $ 97     $ 20                 $ 25     $ (81 )               Gross margin energy generation and storage segment     11.2 %     2.5 %                 1.7 %     -6.3 %                                                                   Total gross profit   $ 4,234     $ 2,884                 $ 9,694     $ 5,099                 Total gross margin     25.0 %     24.1 %                 27.2 %     22.8 %                 Automotive & Services and Other Segment Cost of automotive sales revenue includes direct and indirect materials, labor costs, manufacturing overhead, including depreciation costs of tooling and machinery, shipping and logistic costs, vehicle connectivity costs, allocations of electricity and infrastructure costs related to our Supercharger network and reserves for estimated warranty expenses. Cost of automotive sales revenues also includes adjustments to warranty expense and charges to write down the carrying value of our inventory when it exceeds its estimated net realizable value and to provide for obsolete and on-hand inventory in excess of forecasted demand. Cost of automotive leasing revenue includes the depreciation of operating lease vehicles, cost of goods sold associated with direct sales-type leases and warranty expense related to leased vehicles. Cost of automotive leasing revenue also includes vehicle connectivity costs and allocations of electricity and infrastructure costs related to our Supercharger network for vehicles under our leasing programs. Cost of services and other revenue includes costs associated with providing non-warranty after-sales services, costs of paid supercharging, cost of used vehicles including refurbishment costs, costs for retail merchandise, and costs to provide vehicle insurance. Cost of services and other revenue also includes direct parts, material and labor costs and manufacturing overhead associated with the sales by our acquired subsidiaries to third party customers. Cost of automotive sales revenue increased $3.03 billion, or 43%, in the three months ended June 30, 2022 as compared to the three months ended June 30, 2021, in line with the growth in revenue year over year, as discussed above. There were also idle capacity charges of $168 million due to the temporary suspension of production at Gigafactory Shanghai as well as the ramping up of production in Gigafactory Texas during the three months ended June 30, 2022. Further there was an increase in combined average Model 3 and Model Y costs per unit due to overall rising raw material, commodity, logistics and expedite costs and the ramping up of production at Gigafactory Berlin-Brandenburg and Gigafactory Texas during the three months ended June 30, 2022 as compared to the three months ended June 30, 2021. These increases were partially offset by a decrease in combined average Model S and Model X costs per unit driven by lower average cost for the new versions of Model S and Model X from ramping up production.  Cost of automotive sales revenue increased $7.49 billion, or 55%, in the six months ended June 30, 2022 as compared to the six months ended June 30, 2021, in line with the growth in revenue year over year, as discussed above. There were also idle capacity charges of $198 million due to the temporary suspension of production at Gigafactory Shanghai as well as the ramping up of production in Gigafactory Texas during the six months ended June 30, 2022. These increases were partially offset by a decrease in combined average Model S and Model X costs per unit driven by lower average cost for the new versions of Model S and Model X from ramping up production.  35    Cost of automotive leasing revenue increased $180 million, or 96%, in the three months ended June 30, 2022 as compared to the three months ended June 30, 2021. Cost of automotive leasing revenue increased $428 million, or 123%, in the six months ended June 30, 2022 as compared to the six months ended June 30, 2021, primarily due to an increase in cumulative vehicles under our direct operating lease program and an increase in direct sales-type leasing cost of revenues from more activities in the current year. Cost of services and other revenue increased $424 million, or 43%, in the three months ended June 30, 2022 as compared to the three months ended June 30, 2021. Cost of services and other revenue increased $748 million, or 38%, in the six months ended June 30, 2022 as compared to the six months ended June 30, 2021. The change in both periods is primarily due to an increase in costs to support our increase in non-warranty maintenance services revenue, an increase in used vehicle cost of revenue driven by increases in volume and costs of used Tesla vehicles, an increase in costs of paid supercharging, insurance services and retail merchandise. Gross margin for total automotive decreased from 28.4% to 27.9% in the three months ended June 30, 2022 as compared to the three months ended June 30, 2021. This was driven by the change in automotive sales revenue and cost of automotive sales revenue, as discussed earlier.  Gross margin for total automotive increased from 27.5% to 30.6% in the six months ended June 30, 2022 as compared to the six months ended June 30, 2021. This was driven by the growth in automotive sales revenue and cost of automotive sales revenue as well as increase from regulatory credits revenue, as discussed earlier. Gross margin for total automotive & services and other segment stayed flat at 25.7% in the three months ended June 30, 2022 as compared to the three months ended June 30, 2021. Gross margin for total automotive & services and other segment increased from 24.6% to 28.3% in the six months ended June 30, 2022 as compared to the six months ended June 30, 2021, primarily due to the automotive gross margin impacts discussed above and an improvement in our services and other gross margin. Additionally, services and other was a higher percentage of the segment gross margin during the three months and six months ended June 30, 2022 as compared to the prior year. Energy Generation and Storage Segment Cost of energy generation and storage revenue includes direct and indirect material and labor costs, warehouse rent, freight, warranty expense, other overhead costs and amortization of certain acquired intangible assets. Cost of energy generation and storage revenue also includes charges to write down the carrying value of our inventory when it exceeds its estimated net realizable value and to provide for obsolete and on-hand inventory in excess of forecasted demand. In agreements for solar energy system and PPAs where we are the lessor, the cost of revenue is primarily comprised of depreciation of the cost of leased solar energy systems, maintenance costs associated with those systems and amortization of any initial direct costs. Cost of energy generation and storage revenue decreased $12 million, or 2%, in the three months ended June 30, 2022 as compared to the three months ended June 30, 2021, due to lower deployments of Megapack. This was partially offset by higher solar cash and loan deployments and higher Powerwall deployments.  Cost of energy generation and storage revenue increased $81 million, or 6%, in the six months ended June 30, 2022 as compared to the six months ended June 30, 2021, primarily due to increases in deployments of Powerwall and higher average cost of solar and cash and loan deployments due to increased component costs, partially offset by lower deployments of Megapack.  Gross margin for energy generation and storage increased from 2.5% to 11.2% in the three months ended June 30, 2022 as compared to the three months ended June 30, 2021. Gross margin for energy generation and storage increased from -6.3% to 1.7% in the six months ended June 30, 2022 as compared to the six months ended June 30, 2021, primarily due to higher deployments of Powerwall which operated at a higher gross margin. This was partially offset by higher average cost of solar and cash and loan deployments due to increased component costs, as well as lower deployments of Megapack. 36    Research and Development Expense                                            Three Months Ended June 30,     Change     Six Months Ended June 30,     Change     (Dollars in millions)   2022     2021     $     %     2022     2021     $     %     Research and development   $ 667     $ 576     $ 91       16 %   $ 1,532     $ 1,242     $ 290       23 %   As a percentage of revenues     4 %     5 %                 4 %     6 %                 Research and development (“R&D”) expenses consist primarily of personnel costs for our teams in engineering and research, manufacturing engineering and manufacturing test organizations, prototyping expense, contract and professional services and amortized equipment expense. R&D expenses increased $91 million, or 16%, in the three months ended June 30, 2022 as compared to the three months ended June 30, 2021. The increase was primarily due to a $47 million increase in employee and labor related expenses, an $18 million increase in stock-based compensation expense, a $14 million increase in facilities, outside services, freight and depreciation expense, and a $12 million increase in R&D expensed materials. These increases were to support our expanding product roadmap and technologies including our proprietary battery cells. R&D expenses increased $290 million, or 23%, in the six months ended June 30, 2022 as compared to the six months ended June 30, 2021. The increase was primarily due to a $122 million increase in employee and labor related expenses, a $107 million increase in facilities, freight and depreciation expense, a $36 million increase in stock-based compensation expense, and a $25 million increase in R&D expensed materials. These increases were to support our expanding product roadmap and technologies including our proprietary battery cells and there were additional R&D expenses in the first quarter of 2022 as we were in the pre-production phase at Gigafactory Texas and started production at Gigafactory Berlin-Brandenburg only closer to the end of the first quarter of 2022. R&D expenses as a percentage of revenue decreased from 5% to 4% in the three months ended June 30, 2022 as compared to the three months ended June 30, 2021. R&D expenses as a percentage of revenue decreased from 6% to 4% in the six months ended June 30, 2022 as compared to the six months ended June 30, 2021. Our R&D expenses have decreased as a proportion of total revenues despite expanding product roadmap and technologies. Selling, General and Administrative Expense                                            Three Months Ended June 30,     Change     Six Months Ended June 30,     Change     (Dollars in millions)   2022     2021     $     %     2022     2021     $     %     Selling, general and administrative   $ 961     $ 973     $ (12 )     -1 %   $ 1,953     $ 2,029     $ (76 )     -4 %   As a percentage of revenues     6 %     8 %                 5 %     9 %                 Selling, general and administrative (“SG&A”) expenses generally consist of personnel and facilities costs related to our stores, marketing, sales, executive, finance, human resources, information technology and legal organizations, as well as fees for professional and contract services and litigation settlements. SG&A expenses decreased $12 million, or 1%, in the three months ended June 30, 2022 as compared to the three months ended June 30, 2021. This is primarily due to a decrease of $166 million in stock-based compensation expense, most of which is attributable to the lower stock-based compensation expense of $167 million on the 2018 CEO Performance Award. See Note 11, Equity Incentive Plans, to the consolidated financial statements included elsewhere in this Quarterly Report on Form 10-Q. This was offset by an increase of $109 million in employee and labor related expenses from increased headcount and an increase of $45 million in office, information technology, facilities-related expenses, sales and marketing activities and other costs. SG&A expenses decreased $76 million, or 4%, in the six months ended June 30, 2022 as compared to the six months ended June 30, 2021. This is primarily due to a decrease of $408 million in stock-based compensation expense, most of which is attributable to the lower stock-based compensation expense of $418 million on the 2018 CEO Performance Award. See Note 11, Equity Incentive Plans, to the consolidated financial statements included elsewhere in this Quarterly Report on Form 10-Q. This was offset by an increase of $219 million in employee and labor related expenses from increased headcount and an increase of $113 million in office, information technology, facilities-related expenses, sales and marketing activities and other costs. SG&A expenses as a percentage of revenue decreased from 8% to 6% in the three months ended June 30, 2022 as compared to the three months ended June 30, 2021. SG&A expenses as a percentage of revenue decreased from 9% to 5% in the six months ended June 30, 2022 as compared to the six months ended June 30, 2021. Our SG&A expenses have decreased as a proportion of total revenues due to operational efficiencies. 37    Restructuring and Other Expense                                            Three Months Ended June 30,     Change     Six Months Ended June 30,     Change     (Dollars in millions)   2022     2021     $     %     2022     2021     $     %     Restructuring and other   $ 142     $ 23     $ 119       517 %   $ 142     $ (78 )   $ 220       -282 %     During the three and six months ended June 30, 2022, we recorded impairment loss of $170 million as well as realized gains of $64 million in connection with converting our holdings of digital assets into fiat currency. During the six months ended June 30, 2021, we realized gains of $128 million in connection with converting our holdings of digital assets into fiat currency. During the three and six months ended June 30, 2021, we recorded $23 million and $50 million, respectively, of impairment losses on bitcoin. See Note 3, Digital Assets, Net, to the consolidated financial statements included elsewhere in this Quarterly Report on Form 10-Q for further details. We also recorded other expenses of $36 million during the three months ended June 30, 2022, related to the recent employee terminations. Interest Expense                                            Three Months Ended June 30,     Change     Six Months Ended June 30,     Change     (Dollars in millions)   2022     2021     $     %     2022     2021     $     %     Interest expense   $ (44 )   $ (75 )   $ 31       -41 %   $ (105 )   $ (174 )   $ 69       -40 %     Interest expense decreased $31 million, or 41%, in the three months ended June 30, 2022 as compared to the three months ended June 30, 2021. Interest expense decreased $69 million, or 40%, in the six months ended June 30, 2022 as compared to the six months ended June 30, 2021. These decreases were primarily due to the continued reduction in our overall debt balance offset by lower capitalized interest. See Note 10, Debt, to the consolidated financial statements included elsewhere in this Quarterly Report on Form 10-Q for further details. Other Income, Net                                          Three Months Ended June 30,     Change     Six Months Ended June 30,     Change   (Dollars in millions)   2022     2021     $     %     2022     2021     $     %   Other income, net   $ 28     $ 45     $ (17 )     -38 %   $ 84     $ 73     $ 11     15%     Other income, net, consists primarily of foreign exchange gains and losses related to our foreign currency-denominated monetary assets and liabilities and changes in the fair values of our fixed-for-floating interest rate swaps. We expect our foreign exchange gains and losses will vary depending upon movements in the underlying exchange rates. Other income, net, changed unfavorably by $17 million in the three months ended June 30, 2022 as compared to the three months ended June 30, 2021. Other income, net, changed favorably by $11 million in the six months ended June 30, 2022 as compared to the six months ended June 30, 2021. The change for both periods was primarily due to fluctuations in foreign currency exchange rates. Additionally we did not have any outstanding interest rate swaps in the three months ended June 30, 2022 which resulted in no impacts from mark to market movements as compared to the prior period. 38    Provision for Income Taxes                                            Three Months Ended June 30,     Change     Six Months Ended June 30,     Change     (Dollars in millions)   2022     2021     $     %     2022     2021     $     %     Provision for income taxes   $ 205     $ 115     $ 90       78 %   $ 551     $ 184     $ 367       199 %   Effective tax rate     8 %     9 %                 9 %     10 %                 Our provision for income taxes increased by $90 million, or 78%, in the three months ended June 30, 2022 and increased by $367 million, or 199%, in the six months ended June 30, 2022 as compared to the three and six months ended June 30, 2021, primarily due to the increase in our pre-tax income year over year. Our effective tax rate decreased from 9% to 8% in the three months ended June 30, 2022 and from 10% to 9% in the six months ended June 30, 2022 as compared to the three and six months ended June 30, 2021, primarily due to changes in mix of jurisdictional earnings. See Note 2, Summary of Significant Accounting Policies, to the consolidated financial statements included elsewhere in this Quarterly Report on Form 10-Q for further details. Net Income Attributable to Noncontrolling Interests and Redeemable Noncontrolling Interests                                            Three Months Ended June 30,     Change     Six Months Ended June 30,     Change     (Dollars in millions)   2022     2021     $     %     2022     2021     $     %     Net income (loss) attributable to noncontrolling  interests and redeemable noncontrolling interests  in subsidiaries   $ 10     $ 36     $ (26 )     -72 %   $ (28 )   $ 62     $ (90 )     -145 %     Net income attributable to noncontrolling interests and redeemable noncontrolling interests decreased $26 million, or 72%, in the three months ended June 30, 2022 as compared to the three months ended June 30, 2021. Net income attributable to noncontrolling interests and redeemable noncontrolling interests decreased by $90 million, or 145%, in the six months ended June 30, 2022 as compared to the six months ended June 30, 2021. These changes were due to a decrease in allocations to financing fund investors. Liquidity and Capital Resources We expect to continue to generate net positive operating cash flow as we have done in the last four fiscal years. The cash we generate from our core operations enables us to fund ongoing operations and production, our research and development projects for new products and technologies including our proprietary battery cells, additional manufacturing ramps at existing manufacturing facilities such as the Fremont Factory, Gigafactory Nevada, Gigafactory Shanghai and Gigafactory New York, the ramp of Gigafactory Berlin-Brandenburg and Gigafactory Texas and the continued expansion of our retail and service locations, body shops, Mobile Service fleet, Supercharger network and energy product installation capabilities.  In addition, because a large portion of our future expenditures will be to fund our growth, we expect that if needed we will be able to adjust our capital and operating expenditures by operating segment. For example, if our near-term manufacturing operations decrease in scale or ramp more slowly than expected, including due to global economic or business conditions, we may choose to correspondingly slow the pace of our capital expenditures. Finally, we continually evaluate our cash needs and may decide it is best to raise additional capital or seek alternative financing sources to fund the rapid growth of our business, including through drawdowns on existing or new debt facilities or financing funds. Conversely, we may also from time to time determine that it is in our best interests to voluntarily repay certain indebtedness early. Accordingly, we believe that our current sources of funds will provide us with adequate liquidity during the 12-month period following June 30, 2022, as well as in the long-term.  See the sections below for more details regarding the material requirements for cash in our business and our sources of liquidity to meet such needs. 39    Material Cash Requirements From time to time in the ordinary course of business, we enter into agreements with vendors for the purchase of components and raw materials to be used in the manufacture of our products. However, due to contractual terms, variability in the precise growth curves of our development and production ramps, and opportunities to renegotiate pricing, we generally do not have binding and enforceable purchase orders under such contracts beyond the short-term, and the timing and magnitude of purchase orders beyond such period is difficult to accurately project. As discussed in and subject to the considerations referenced in Part I, Item 2, Management’s Discussion and Analysis of Financial Condition and Results of Operations—Management Opportunities, Challenges and Risks and 2022 Outlook—Cash Flow and Capital Expenditure Trends in this Quarterly Report on Form 10-Q, we currently expect our capital expenditures to support our projects globally to be between $6.00 to $8.00 billion in 2022 and each of the next two fiscal years. In connection with our operations at Gigafactory New York, we have an agreement to spend or incur $5.00 billion in combined capital, operational expenses, costs of goods sold and other costs in the State of New York through December 31, 2029 (pursuant to a deferral of our required timelines to meet such obligations that was granted in April 2021, and which was memorialized in an amendment to our agreement with the SUNY Foundation in August 2021). We also have an operating lease arrangement with the local government of Shanghai pursuant to which we are required to spend RMB 14.08 billion in capital expenditures at Gigafactory Shanghai by the end of 2023. For details regarding these obligations, refer to Note 12, Commitments and Contingencies, to the consolidated financial statements included elsewhere in this Quarterly Report on Form 10-Q. As of June 30, 2022, we and our subsidiaries had outstanding $3.18 billion in aggregate principal amount of indebtedness, of which $1.06 billion is scheduled to become due in the succeeding 12 months. For details regarding our indebtedness, refer to Note 10, Debt, to the consolidated financial statements included elsewhere in this Quarterly Report on Form 10-Q. Sources and Conditions of Liquidity Our sources to fund our material cash requirements are predominantly from our deliveries and servicing of new and used vehicles, sales and installations of our energy storage products and solar energy systems, proceeds from debt facilities and proceeds from equity offerings, when applicable.  As of June 30, 2022, we had $18.32 billion of cash and cash equivalents. Balances held in foreign currencies had a U.S. dollar equivalent of $5.07 billion and consisted primarily of Chinese yuan, euros and Canadian dollars. In addition, we had $2.44 billion of unused committed amounts under our credit facilities as of June 30, 2022. Certain of such unused committed amounts are subject to satisfying specified conditions prior to draw-down (such as pledging to our lenders sufficient amounts of qualified receivables, inventories, leased vehicles and our interests in those leases, solar energy systems and the associated customer contracts or various other assets). For details regarding our indebtedness, refer to Note 10, Debt to the consolidated financial statements included elsewhere in this Quarterly Report on Form 10-Q. We continue adapting our investment strategy to meet our liquidity and risk objectives, such as investing in U.S. government and other marketable securities, digital assets and providing product related financing. In the first quarter of 2021, we invested an aggregate $1.50 billion in digital assets. As with any investment and consistent with how we manage fiat-based cash and cash equivalent accounts, we may increase or decrease our holdings of digital assets at any time based on the needs of the business and our view of market and environmental conditions. The fair market value of our remaining holdings of digital assets as of June 30, 2022 was $222 million. Additionally, we held short-term marketable securities of $591 million as of June 30, 2022. Summary of Cash Flows                    Six Months Ended June 30,     (Dollars in millions)   2022     2021     Net cash provided by operating activities   $ 6,346     $ 3,765     Net cash used in investing activities   $ (3,051 )   $ (4,097 )   Net cash used in financing activities   $ (2,320 )   $ (2,565 )     Cash Flows from Operating Activities Our cash flows from operating activities are significantly affected by our cash investments to support the growth of our business in areas such as research and development and selling, general and administrative and working capital. Our operating cash inflows include cash from vehicle sales and related servicing, customer lease payments, customer deposits, cash from sales of regulatory credits and energy generation and storage products. These cash inflows are offset by our payments to suppliers for production materials and parts used in our manufacturing process, operating expenses, operating lease payments and interest payments on our financings. 40    Net cash provided by operating activities increased by $2.58 billion to $6.35 billion during the six months ended June 30, 2022 from $3.77 billion during the six months ended June 30, 2021. This increase was primarily due to the increase in net income excluding non-cash expenses, gains and losses of $4.19 billion, offset by the overall increase in net operating assets and liabilities of $1.61 billion. The increase in our net operating assets and liabilities was mainly driven by a larger increase of inventory in the six months ended June 30, 2022 as compared to the six months ended June 30, 2021 to support the ramp up in production at our factories and a larger increase in other non-current assets. The increase in our net operating assets and other liabilities was partially offset by a larger increase of other long-term liabilities and, an increase of deferred revenue from higher vehicle deliveries. Cash Flows from Investing Activities Cash flows from investing activities and their variability across each period related primarily to capital expenditures, which were $3.50 billion for the six months ended June 30, 2022 and $2.85 billion for the six months ended June 30, 2021, mainly for the expansions of Gigafactory Texas, the Fremont Factory, Gigafactory Berlin-Brandenburg, and Gigafactory Shanghai. We also paid $476 million for purchases of marketable securities in the six months ended June 30, 2022. Additionally, net cash inflows related to digital assets were $936 million in the six months ended June 30, 2022 from sales of digital assets. Cash Flows from Financing Activities Cash outflows from financing activities were $2.32 billion during six months ended June 30, 2022 compared to $2.57 billion net cash used in financing activities during the six months ended June 30, 2021. The change was primarily due to $327 million decrease in cash outflows from repayments of convertible and other debt, net of proceeds from issuances of convertible and other debt. See Note 10, Debt, to the consolidated financial statements included elsewhere in this Quarterly Report on Form 10-Q for further details regarding our debt obligations. 41    '"
      ]
     },
     "execution_count": 28,
     "metadata": {},
     "output_type": "execute_result"
    }
   ],
   "source": [
    "from sec_api import ExtractorApi\n",
    "\n",
    "extractorApi = ExtractorApi(sec)\n",
    "\n",
    "#\n",
    "# 10-Q example\n",
    "#\n",
    "# Tesla 10-Q filing\n",
    "filing_url_10q = \"https://www.sec.gov/Archives/edgar/data/1318605/000095017022012936/tsla-ex32_1.htm\"\n",
    "\n",
    "# get the original HTML of section 7 \"Management’s Discussion and Analysis of Financial Condition and Results of Operations\"\n",
    "section_html = extractorApi.get_section(filing_url_10q, \"part1item2\", \"html\")\n",
    "beautifulSoupText = BeautifulSoup(section_html, \"html.parser\").text.replace(u'\\xa0', ' ').replace('\\r', ' ')\n",
    "beautifulSoupText\n"
   ]
  },
  {
   "cell_type": "code",
   "execution_count": 47,
   "id": "83c6bb02",
   "metadata": {},
   "outputs": [],
   "source": [
    "# Declare our final results table\n",
    "results = pd.DataFrame()\n",
    "text = []\n",
    "dates = []\n",
    "\n",
    "# Pull out the filings text for each report\n",
    "for i in range(0,len(df)):\n",
    "    extractorApi = ExtractorApi(sec)\n",
    "    filing_url_10q = df.linkToHtml.values.tolist()[i]\n",
    "\n",
    "    # get the original HTML of section 7 \"Management’s Discussion and Analysis of Financial Condition and Results of Operations\"\n",
    "    section_html = extractorApi.get_section(filing_url_10q, \"part1item2\", \"html\")\n",
    "    beautifulSoupText = BeautifulSoup(section_html, \"html.parser\").text.replace(u'\\xa0', ' ').replace('\\r', ' ')\n",
    "    # Clean the data and capture it for later processing\n",
    "    text.append(beautifulSoupText)\n",
    "    dates.append(df.filedAt.values.tolist()[i])\n",
    "    "
   ]
  },
  {
   "cell_type": "code",
   "execution_count": 60,
   "id": "45b26132",
   "metadata": {},
   "outputs": [],
   "source": [
    "results['text'] = text\n",
    "results['FilingDate'] = dates"
   ]
  },
  {
   "cell_type": "code",
   "execution_count": 61,
   "id": "05735c92",
   "metadata": {},
   "outputs": [
    {
     "data": {
      "text/html": [
       "<div>\n",
       "<style scoped>\n",
       "    .dataframe tbody tr th:only-of-type {\n",
       "        vertical-align: middle;\n",
       "    }\n",
       "\n",
       "    .dataframe tbody tr th {\n",
       "        vertical-align: top;\n",
       "    }\n",
       "\n",
       "    .dataframe thead th {\n",
       "        text-align: right;\n",
       "    }\n",
       "</style>\n",
       "<table border=\"1\" class=\"dataframe\">\n",
       "  <thead>\n",
       "    <tr style=\"text-align: right;\">\n",
       "      <th></th>\n",
       "      <th>text</th>\n",
       "      <th>dates</th>\n",
       "      <th>FilingDate</th>\n",
       "    </tr>\n",
       "  </thead>\n",
       "  <tbody>\n",
       "    <tr>\n",
       "      <th>0</th>\n",
       "      <td>ITEM 2.MANAGEMENT’S DISCUSSION AND ANALYSIS OF FINANCIAL...</td>\n",
       "      <td>2022-10-24T06:08:50-04:00</td>\n",
       "      <td>2022-10-24T06:08:50-04:00</td>\n",
       "    </tr>\n",
       "    <tr>\n",
       "      <th>1</th>\n",
       "      <td>ITEM 2.MANAGEMENT’S DISCUSSION AND ANALYSIS OF FINANCIAL...</td>\n",
       "      <td>2022-07-25T06:07:25-04:00</td>\n",
       "      <td>2022-07-25T06:07:25-04:00</td>\n",
       "    </tr>\n",
       "    <tr>\n",
       "      <th>2</th>\n",
       "      <td>ITEM 2.MANAGEMENT’S DISCUSSION AND ANALYSIS OF FINANCIAL...</td>\n",
       "      <td>2022-04-22T21:36:59-04:00</td>\n",
       "      <td>2022-04-22T21:36:59-04:00</td>\n",
       "    </tr>\n",
       "  </tbody>\n",
       "</table>\n",
       "</div>"
      ],
      "text/plain": [
       "                                                          text  \\\n",
       "0  ITEM 2.MANAGEMENT’S DISCUSSION AND ANALYSIS OF FINANCIAL...   \n",
       "1  ITEM 2.MANAGEMENT’S DISCUSSION AND ANALYSIS OF FINANCIAL...   \n",
       "2  ITEM 2.MANAGEMENT’S DISCUSSION AND ANALYSIS OF FINANCIAL...   \n",
       "\n",
       "                       dates                 FilingDate  \n",
       "0  2022-10-24T06:08:50-04:00  2022-10-24T06:08:50-04:00  \n",
       "1  2022-07-25T06:07:25-04:00  2022-07-25T06:07:25-04:00  \n",
       "2  2022-04-22T21:36:59-04:00  2022-04-22T21:36:59-04:00  "
      ]
     },
     "execution_count": 61,
     "metadata": {},
     "output_type": "execute_result"
    }
   ],
   "source": [
    "results"
   ]
  },
  {
   "cell_type": "code",
   "execution_count": 53,
   "id": "e217a01f",
   "metadata": {},
   "outputs": [],
   "source": [
    "# Load models"
   ]
  },
  {
   "cell_type": "code",
   "execution_count": 97,
   "id": "903d0c38",
   "metadata": {},
   "outputs": [],
   "source": [
    "# Load the models\n",
    "finbert = BertForSequenceClassification.from_pretrained('yiyanghkust/finbert-fls',num_labels=3)"
   ]
  },
  {
   "cell_type": "code",
   "execution_count": 98,
   "id": "f2d52bdf",
   "metadata": {},
   "outputs": [],
   "source": [
    "# Download the Pre-trained transformer used to process our raw text\n",
    "tokenizer = BertTokenizer.from_pretrained('yiyanghkust/finbert-fls')\n"
   ]
  },
  {
   "cell_type": "code",
   "execution_count": 4,
   "id": "ab9cda88",
   "metadata": {},
   "outputs": [
    {
     "ename": "NameError",
     "evalue": "name 'nlp' is not defined",
     "output_type": "error",
     "traceback": [
      "\u001b[0;31m---------------------------------------------------------------------------\u001b[0m",
      "\u001b[0;31mNameError\u001b[0m                                 Traceback (most recent call last)",
      "Cell \u001b[0;32mIn[4], line 1\u001b[0m\n\u001b[0;32m----> 1\u001b[0m prediction \u001b[38;5;241m=\u001b[39m \u001b[43mnlp\u001b[49m(\u001b[38;5;124m\"\u001b[39m\u001b[38;5;124mThe future for next years sales will increase by 10 \u001b[39m\u001b[38;5;124m%\u001b[39m\u001b[38;5;124m.\u001b[39m\u001b[38;5;124m\"\u001b[39m, top_k\u001b[38;5;241m=\u001b[39m\u001b[38;5;241m3\u001b[39m)\n\u001b[1;32m      2\u001b[0m prediction\n",
      "\u001b[0;31mNameError\u001b[0m: name 'nlp' is not defined"
     ]
    }
   ],
   "source": [
    "prediction = nlp(\"The future for next years sales will increase by 10 %.\", top_k=3)\n",
    "prediction"
   ]
  },
  {
   "cell_type": "code",
   "execution_count": 99,
   "id": "c62afcd6",
   "metadata": {},
   "outputs": [],
   "source": [
    "# Sentiment - Download the Pre-trained transformer used to process our raw text\n",
    "sent_tokenizer = AutoTokenizer.from_pretrained(\"ProsusAI/finbert\")"
   ]
  },
  {
   "cell_type": "code",
   "execution_count": 100,
   "id": "49b60dfe",
   "metadata": {},
   "outputs": [],
   "source": [
    "# Sentiment - Download the FinBert model used to process our transformed data\n",
    "model = AutoModelForSequenceClassification.from_pretrained(\"ProsusAI/finbert\")\n"
   ]
  },
  {
   "cell_type": "code",
   "execution_count": 39,
   "id": "1448e0a8",
   "metadata": {},
   "outputs": [],
   "source": [
    "# Capture closing prices"
   ]
  },
  {
   "cell_type": "code",
   "execution_count": null,
   "id": "3ea1613d",
   "metadata": {},
   "outputs": [],
   "source": []
  },
  {
   "cell_type": "code",
   "execution_count": 69,
   "id": "1263baf2",
   "metadata": {},
   "outputs": [
    {
     "data": {
      "application/vnd.jupyter.widget-view+json": {
       "model_id": "a88a675f69a94e5a9c188972dcd184df",
       "version_major": 2,
       "version_minor": 0
      },
      "text/plain": [
       "  0%|          | 0/3 [00:00<?, ?it/s]"
      ]
     },
     "metadata": {},
     "output_type": "display_data"
    },
    {
     "ename": "KeyError",
     "evalue": "'Price Close'",
     "output_type": "error",
     "traceback": [
      "\u001b[0;31m---------------------------------------------------------------------------\u001b[0m",
      "\u001b[0;31mKeyError\u001b[0m                                  Traceback (most recent call last)",
      "File \u001b[0;32m/opt/homebrew/Caskroom/miniforge/base/envs/mlp/lib/python3.8/site-packages/pandas/core/indexes/base.py:3802\u001b[0m, in \u001b[0;36mIndex.get_loc\u001b[0;34m(self, key, method, tolerance)\u001b[0m\n\u001b[1;32m   3801\u001b[0m \u001b[38;5;28;01mtry\u001b[39;00m:\n\u001b[0;32m-> 3802\u001b[0m     \u001b[38;5;28;01mreturn\u001b[39;00m \u001b[38;5;28;43mself\u001b[39;49m\u001b[38;5;241;43m.\u001b[39;49m\u001b[43m_engine\u001b[49m\u001b[38;5;241;43m.\u001b[39;49m\u001b[43mget_loc\u001b[49m\u001b[43m(\u001b[49m\u001b[43mcasted_key\u001b[49m\u001b[43m)\u001b[49m\n\u001b[1;32m   3803\u001b[0m \u001b[38;5;28;01mexcept\u001b[39;00m \u001b[38;5;167;01mKeyError\u001b[39;00m \u001b[38;5;28;01mas\u001b[39;00m err:\n",
      "File \u001b[0;32m/opt/homebrew/Caskroom/miniforge/base/envs/mlp/lib/python3.8/site-packages/pandas/_libs/index.pyx:138\u001b[0m, in \u001b[0;36mpandas._libs.index.IndexEngine.get_loc\u001b[0;34m()\u001b[0m\n",
      "File \u001b[0;32m/opt/homebrew/Caskroom/miniforge/base/envs/mlp/lib/python3.8/site-packages/pandas/_libs/index.pyx:165\u001b[0m, in \u001b[0;36mpandas._libs.index.IndexEngine.get_loc\u001b[0;34m()\u001b[0m\n",
      "File \u001b[0;32mpandas/_libs/hashtable_class_helper.pxi:5745\u001b[0m, in \u001b[0;36mpandas._libs.hashtable.PyObjectHashTable.get_item\u001b[0;34m()\u001b[0m\n",
      "File \u001b[0;32mpandas/_libs/hashtable_class_helper.pxi:5753\u001b[0m, in \u001b[0;36mpandas._libs.hashtable.PyObjectHashTable.get_item\u001b[0;34m()\u001b[0m\n",
      "\u001b[0;31mKeyError\u001b[0m: 'Price Close'",
      "\nThe above exception was the direct cause of the following exception:\n",
      "\u001b[0;31mKeyError\u001b[0m                                  Traceback (most recent call last)",
      "Cell \u001b[0;32mIn[69], line 12\u001b[0m\n\u001b[1;32m      9\u001b[0m response, err \u001b[38;5;241m=\u001b[39m ek\u001b[38;5;241m.\u001b[39mget_data(tick, [\u001b[38;5;124m'\u001b[39m\u001b[38;5;124mTR.PriceClose.date\u001b[39m\u001b[38;5;124m'\u001b[39m, \u001b[38;5;124m'\u001b[39m\u001b[38;5;124mTR.PriceClose\u001b[39m\u001b[38;5;124m'\u001b[39m], parameters \u001b[38;5;241m=\u001b[39m {\u001b[38;5;124m'\u001b[39m\u001b[38;5;124mSDate\u001b[39m\u001b[38;5;124m'\u001b[39m: date, \u001b[38;5;124m'\u001b[39m\u001b[38;5;124mEDate\u001b[39m\u001b[38;5;124m'\u001b[39m: date})\n\u001b[1;32m     11\u001b[0m \u001b[38;5;28;01mif\u001b[39;00m \u001b[38;5;129;01mnot\u001b[39;00m response\u001b[38;5;241m.\u001b[39mempty:\n\u001b[0;32m---> 12\u001b[0m     prices\u001b[38;5;241m.\u001b[39mappend(\u001b[43mresponse\u001b[49m\u001b[38;5;241;43m.\u001b[39;49m\u001b[43miloc\u001b[49m\u001b[43m[\u001b[49m\u001b[38;5;241;43m0\u001b[39;49m\u001b[43m]\u001b[49m\u001b[43m[\u001b[49m\u001b[38;5;124;43m'\u001b[39;49m\u001b[38;5;124;43mPrice Close\u001b[39;49m\u001b[38;5;124;43m'\u001b[39;49m\u001b[43m]\u001b[49m)\n\u001b[1;32m     13\u001b[0m \u001b[38;5;28;01melse\u001b[39;00m:\n\u001b[1;32m     14\u001b[0m     \u001b[38;5;28mprint\u001b[39m(\u001b[38;5;124mf\u001b[39m\u001b[38;5;124m'\u001b[39m\u001b[38;5;124mUnable to retrieve any data price for \u001b[39m\u001b[38;5;132;01m{\u001b[39;00mtick\u001b[38;5;132;01m}\u001b[39;00m\u001b[38;5;124m. May be an issue with permissions\u001b[39m\u001b[38;5;124m'\u001b[39m)\n",
      "File \u001b[0;32m/opt/homebrew/Caskroom/miniforge/base/envs/mlp/lib/python3.8/site-packages/pandas/core/series.py:981\u001b[0m, in \u001b[0;36mSeries.__getitem__\u001b[0;34m(self, key)\u001b[0m\n\u001b[1;32m    978\u001b[0m     \u001b[38;5;28;01mreturn\u001b[39;00m \u001b[38;5;28mself\u001b[39m\u001b[38;5;241m.\u001b[39m_values[key]\n\u001b[1;32m    980\u001b[0m \u001b[38;5;28;01melif\u001b[39;00m key_is_scalar:\n\u001b[0;32m--> 981\u001b[0m     \u001b[38;5;28;01mreturn\u001b[39;00m \u001b[38;5;28;43mself\u001b[39;49m\u001b[38;5;241;43m.\u001b[39;49m\u001b[43m_get_value\u001b[49m\u001b[43m(\u001b[49m\u001b[43mkey\u001b[49m\u001b[43m)\u001b[49m\n\u001b[1;32m    983\u001b[0m \u001b[38;5;28;01mif\u001b[39;00m is_hashable(key):\n\u001b[1;32m    984\u001b[0m     \u001b[38;5;66;03m# Otherwise index.get_value will raise InvalidIndexError\u001b[39;00m\n\u001b[1;32m    985\u001b[0m     \u001b[38;5;28;01mtry\u001b[39;00m:\n\u001b[1;32m    986\u001b[0m         \u001b[38;5;66;03m# For labels that don't resolve as scalars like tuples and frozensets\u001b[39;00m\n",
      "File \u001b[0;32m/opt/homebrew/Caskroom/miniforge/base/envs/mlp/lib/python3.8/site-packages/pandas/core/series.py:1089\u001b[0m, in \u001b[0;36mSeries._get_value\u001b[0;34m(self, label, takeable)\u001b[0m\n\u001b[1;32m   1086\u001b[0m     \u001b[38;5;28;01mreturn\u001b[39;00m \u001b[38;5;28mself\u001b[39m\u001b[38;5;241m.\u001b[39m_values[label]\n\u001b[1;32m   1088\u001b[0m \u001b[38;5;66;03m# Similar to Index.get_value, but we do not fall back to positional\u001b[39;00m\n\u001b[0;32m-> 1089\u001b[0m loc \u001b[38;5;241m=\u001b[39m \u001b[38;5;28;43mself\u001b[39;49m\u001b[38;5;241;43m.\u001b[39;49m\u001b[43mindex\u001b[49m\u001b[38;5;241;43m.\u001b[39;49m\u001b[43mget_loc\u001b[49m\u001b[43m(\u001b[49m\u001b[43mlabel\u001b[49m\u001b[43m)\u001b[49m\n\u001b[1;32m   1090\u001b[0m \u001b[38;5;28;01mreturn\u001b[39;00m \u001b[38;5;28mself\u001b[39m\u001b[38;5;241m.\u001b[39mindex\u001b[38;5;241m.\u001b[39m_get_values_for_loc(\u001b[38;5;28mself\u001b[39m, loc, label)\n",
      "File \u001b[0;32m/opt/homebrew/Caskroom/miniforge/base/envs/mlp/lib/python3.8/site-packages/pandas/core/indexes/base.py:3804\u001b[0m, in \u001b[0;36mIndex.get_loc\u001b[0;34m(self, key, method, tolerance)\u001b[0m\n\u001b[1;32m   3802\u001b[0m     \u001b[38;5;28;01mreturn\u001b[39;00m \u001b[38;5;28mself\u001b[39m\u001b[38;5;241m.\u001b[39m_engine\u001b[38;5;241m.\u001b[39mget_loc(casted_key)\n\u001b[1;32m   3803\u001b[0m \u001b[38;5;28;01mexcept\u001b[39;00m \u001b[38;5;167;01mKeyError\u001b[39;00m \u001b[38;5;28;01mas\u001b[39;00m err:\n\u001b[0;32m-> 3804\u001b[0m     \u001b[38;5;28;01mraise\u001b[39;00m \u001b[38;5;167;01mKeyError\u001b[39;00m(key) \u001b[38;5;28;01mfrom\u001b[39;00m \u001b[38;5;21;01merr\u001b[39;00m\n\u001b[1;32m   3805\u001b[0m \u001b[38;5;28;01mexcept\u001b[39;00m \u001b[38;5;167;01mTypeError\u001b[39;00m:\n\u001b[1;32m   3806\u001b[0m     \u001b[38;5;66;03m# If we have a listlike key, _check_indexing_error will raise\u001b[39;00m\n\u001b[1;32m   3807\u001b[0m     \u001b[38;5;66;03m#  InvalidIndexError. Otherwise we fall through and re-raise\u001b[39;00m\n\u001b[1;32m   3808\u001b[0m     \u001b[38;5;66;03m#  the TypeError.\u001b[39;00m\n\u001b[1;32m   3809\u001b[0m     \u001b[38;5;28mself\u001b[39m\u001b[38;5;241m.\u001b[39m_check_indexing_error(key)\n",
      "\u001b[0;31mKeyError\u001b[0m: 'Price Close'"
     ]
    }
   ],
   "source": [
    "# Container to hold the Closing Prices based on the filing date\n",
    "prices = []\n",
    "\n",
    "# Walk through the collection of filings and pull out the reported filing date\n",
    "num_rows = len(results)\n",
    "\n",
    "for i in trange(num_rows):\n",
    "    date = results.iloc[i]['FilingDate']\n",
    "    response, err = ek.get_data(tick, ['TR.PriceClose.date', \"TR.PriceClose\"], parameters = {'SDate': date, 'EDate': date})\n",
    "    \n",
    "    if not response.empty:\n",
    "        prices.append(response.iloc[0]['Price Close'])\n",
    "    else:\n",
    "        print(f'Unable to retrieve any data price for {tick}. May be an issue with permissions')\n",
    "        \n",
    "if prices:\n",
    "    results['close'] = prices"
   ]
  },
  {
   "cell_type": "code",
   "execution_count": 70,
   "id": "c658cd06",
   "metadata": {},
   "outputs": [
    {
     "data": {
      "text/html": [
       "<div>\n",
       "<style scoped>\n",
       "    .dataframe tbody tr th:only-of-type {\n",
       "        vertical-align: middle;\n",
       "    }\n",
       "\n",
       "    .dataframe tbody tr th {\n",
       "        vertical-align: top;\n",
       "    }\n",
       "\n",
       "    .dataframe thead th {\n",
       "        text-align: right;\n",
       "    }\n",
       "</style>\n",
       "<table border=\"1\" class=\"dataframe\">\n",
       "  <thead>\n",
       "    <tr style=\"text-align: right;\">\n",
       "      <th></th>\n",
       "      <th>None</th>\n",
       "      <th>TR.PRICECLOSE.DATE</th>\n",
       "      <th>TR.PRICECLOSE</th>\n",
       "    </tr>\n",
       "  </thead>\n",
       "  <tbody>\n",
       "    <tr>\n",
       "      <th>0</th>\n",
       "      <td>TSLA</td>\n",
       "      <td>&lt;NA&gt;</td>\n",
       "      <td>&lt;NA&gt;</td>\n",
       "    </tr>\n",
       "  </tbody>\n",
       "</table>\n",
       "</div>"
      ],
      "text/plain": [
       "   None  TR.PRICECLOSE.DATE  TR.PRICECLOSE\n",
       "0  TSLA                <NA>           <NA>"
      ]
     },
     "execution_count": 70,
     "metadata": {},
     "output_type": "execute_result"
    }
   ],
   "source": [
    "response"
   ]
  },
  {
   "cell_type": "code",
   "execution_count": 71,
   "id": "50f6bd12",
   "metadata": {},
   "outputs": [
    {
     "data": {
      "text/plain": [
       "'2022-10-24T06:08:50-04:00'"
      ]
     },
     "execution_count": 71,
     "metadata": {},
     "output_type": "execute_result"
    }
   ],
   "source": [
    "date"
   ]
  },
  {
   "cell_type": "code",
   "execution_count": 72,
   "id": "9a2127a8",
   "metadata": {},
   "outputs": [],
   "source": [
    "response, err = ek.get_data(tick, ['TR.PriceClose.date', \"TR.PriceClose\"], parameters = {'SDate': '2022-10-24T06:08:50-04:00', 'EDate': '2022-10-24T06:08:50-04:00'})"
   ]
  },
  {
   "cell_type": "raw",
   "id": "7c1b6389",
   "metadata": {},
   "source": []
  },
  {
   "cell_type": "code",
   "execution_count": null,
   "id": "97baa632",
   "metadata": {},
   "outputs": [],
   "source": []
  }
 ],
 "metadata": {
  "kernelspec": {
   "display_name": "Python 3 (ipykernel)",
   "language": "python",
   "name": "python3"
  },
  "language_info": {
   "codemirror_mode": {
    "name": "ipython",
    "version": 3
   },
   "file_extension": ".py",
   "mimetype": "text/x-python",
   "name": "python",
   "nbconvert_exporter": "python",
   "pygments_lexer": "ipython3",
   "version": "3.8.15"
  }
 },
 "nbformat": 4,
 "nbformat_minor": 5
}
