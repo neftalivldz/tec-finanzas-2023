{
 "cells": [
  {
   "cell_type": "markdown",
   "id": "1cdb098c",
   "metadata": {},
   "source": [
    "# Información y Programación Financiera, TI, Algoritmos y Ciencia de Datos"
   ]
  },
  {
   "cell_type": "markdown",
   "id": "1d84b070",
   "metadata": {},
   "source": [
    "Neftalí Valdez\n",
    "\n",
    "<a href=\"http://twitter.com/neftalivldz\" target=\"_blank\">@neftalivldz</a> | <a href=\"mailto:nvaldez@tec.mx\">nvaldez@tec.mx</a>\n"
   ]
  },
  {
   "cell_type": "markdown",
   "id": "e3109b6a",
   "metadata": {},
   "source": [
    "# Importar librerías"
   ]
  },
  {
   "cell_type": "code",
   "execution_count": 1,
   "id": "38b8fdf6",
   "metadata": {},
   "outputs": [
    {
     "data": {
      "text/html": [
       "        <script type=\"text/javascript\">\n",
       "        window.PlotlyConfig = {MathJaxConfig: 'local'};\n",
       "        if (window.MathJax && window.MathJax.Hub && window.MathJax.Hub.Config) {window.MathJax.Hub.Config({SVG: {font: \"STIX-Web\"}});}\n",
       "        if (typeof require !== 'undefined') {\n",
       "        require.undef(\"plotly\");\n",
       "        requirejs.config({\n",
       "            paths: {\n",
       "                'plotly': ['https://cdn.plot.ly/plotly-2.18.0.min']\n",
       "            }\n",
       "        });\n",
       "        require(['plotly'], function(Plotly) {\n",
       "            window._Plotly = Plotly;\n",
       "        });\n",
       "        }\n",
       "        </script>\n",
       "        "
      ]
     },
     "metadata": {},
     "output_type": "display_data"
    },
    {
     "data": {
      "text/html": [
       "        <script type=\"text/javascript\">\n",
       "        window.PlotlyConfig = {MathJaxConfig: 'local'};\n",
       "        if (window.MathJax && window.MathJax.Hub && window.MathJax.Hub.Config) {window.MathJax.Hub.Config({SVG: {font: \"STIX-Web\"}});}\n",
       "        if (typeof require !== 'undefined') {\n",
       "        require.undef(\"plotly\");\n",
       "        requirejs.config({\n",
       "            paths: {\n",
       "                'plotly': ['https://cdn.plot.ly/plotly-2.18.0.min']\n",
       "            }\n",
       "        });\n",
       "        require(['plotly'], function(Plotly) {\n",
       "            window._Plotly = Plotly;\n",
       "        });\n",
       "        }\n",
       "        </script>\n",
       "        "
      ]
     },
     "metadata": {},
     "output_type": "display_data"
    }
   ],
   "source": [
    "import eikon as ek  # the Eikon Python wrapper package\n",
    "import numpy as np  # NumPy\n",
    "import pandas as pd  # pandas\n",
    "import cufflinks as cf  # Cufflinks\n",
    "import configparser as cp\n",
    "cf.set_config_file(offline=True)  # set the plotting mode to offline"
   ]
  },
  {
   "cell_type": "markdown",
   "id": "5a7f3389",
   "metadata": {},
   "source": [
    "# Se valida el 'environment'"
   ]
  },
  {
   "cell_type": "code",
   "execution_count": 2,
   "id": "f921f690",
   "metadata": {},
   "outputs": [
    {
     "name": "stdout",
     "output_type": "stream",
     "text": [
      "/opt/homebrew/Caskroom/miniforge/base/envs/mlp\n"
     ]
    }
   ],
   "source": [
    "import sys\n",
    "print(sys.prefix)"
   ]
  },
  {
   "cell_type": "markdown",
   "id": "d95cbd4b",
   "metadata": {},
   "source": [
    "# Se inicia la conexión a refinitiv mediante eikon "
   ]
  },
  {
   "cell_type": "code",
   "execution_count": 4,
   "id": "d22f65a7",
   "metadata": {},
   "outputs": [],
   "source": [
    "cfg = cp.ConfigParser()\n",
    "cfg.read('../refinitiv.cfg')\n",
    "ek.set_app_key(cfg['eikon']['app_id'])"
   ]
  },
  {
   "cell_type": "markdown",
   "id": "2cffc497",
   "metadata": {},
   "source": [
    "# Extracción de datos"
   ]
  },
  {
   "cell_type": "code",
   "execution_count": 5,
   "id": "69199b18",
   "metadata": {},
   "outputs": [],
   "source": [
    "dji = ek.get_data('0#.DJI', fields=['TR.CommonName', 'TR.PriceClose',\n",
    "                                      'TR.Volume', 'TR.TotalReturnYTD'])[0]"
   ]
  },
  {
   "cell_type": "code",
   "execution_count": 6,
   "id": "19693266",
   "metadata": {},
   "outputs": [
    {
     "data": {
      "text/html": [
       "<div>\n",
       "<style scoped>\n",
       "    .dataframe tbody tr th:only-of-type {\n",
       "        vertical-align: middle;\n",
       "    }\n",
       "\n",
       "    .dataframe tbody tr th {\n",
       "        vertical-align: top;\n",
       "    }\n",
       "\n",
       "    .dataframe thead th {\n",
       "        text-align: right;\n",
       "    }\n",
       "</style>\n",
       "<table border=\"1\" class=\"dataframe\">\n",
       "  <thead>\n",
       "    <tr style=\"text-align: right;\">\n",
       "      <th></th>\n",
       "      <th>Instrument</th>\n",
       "      <th>Company Common Name</th>\n",
       "      <th>Price Close</th>\n",
       "      <th>Volume</th>\n",
       "      <th>YTD Total Return</th>\n",
       "    </tr>\n",
       "  </thead>\n",
       "  <tbody>\n",
       "    <tr>\n",
       "      <th>0</th>\n",
       "      <td>GS.N</td>\n",
       "      <td>Goldman Sachs Group Inc</td>\n",
       "      <td>318.53</td>\n",
       "      <td>831779</td>\n",
       "      <td>-6.567072</td>\n",
       "    </tr>\n",
       "    <tr>\n",
       "      <th>1</th>\n",
       "      <td>NKE.N</td>\n",
       "      <td>Nike Inc</td>\n",
       "      <td>117.81</td>\n",
       "      <td>1679697</td>\n",
       "      <td>0.966755</td>\n",
       "    </tr>\n",
       "    <tr>\n",
       "      <th>2</th>\n",
       "      <td>CSCO.OQ</td>\n",
       "      <td>Cisco Systems Inc</td>\n",
       "      <td>50.54</td>\n",
       "      <td>4990287</td>\n",
       "      <td>6.935128</td>\n",
       "    </tr>\n",
       "    <tr>\n",
       "      <th>3</th>\n",
       "      <td>JPM.N</td>\n",
       "      <td>JPMorgan Chase &amp; Co</td>\n",
       "      <td>128.49</td>\n",
       "      <td>4448528</td>\n",
       "      <td>-3.475528</td>\n",
       "    </tr>\n",
       "    <tr>\n",
       "      <th>4</th>\n",
       "      <td>DIS.N</td>\n",
       "      <td>Walt Disney Co</td>\n",
       "      <td>95.62</td>\n",
       "      <td>1585345</td>\n",
       "      <td>10.059853</td>\n",
       "    </tr>\n",
       "    <tr>\n",
       "      <th>5</th>\n",
       "      <td>INTC.OQ</td>\n",
       "      <td>Intel Corp</td>\n",
       "      <td>29.18</td>\n",
       "      <td>10363607</td>\n",
       "      <td>11.809436</td>\n",
       "    </tr>\n",
       "    <tr>\n",
       "      <th>6</th>\n",
       "      <td>DOW.N</td>\n",
       "      <td>Dow Inc</td>\n",
       "      <td>52.0</td>\n",
       "      <td>1195707</td>\n",
       "      <td>4.462609</td>\n",
       "    </tr>\n",
       "    <tr>\n",
       "      <th>7</th>\n",
       "      <td>MRK.N</td>\n",
       "      <td>Merck &amp; Co Inc</td>\n",
       "      <td>106.93</td>\n",
       "      <td>2544449</td>\n",
       "      <td>-2.965546</td>\n",
       "    </tr>\n",
       "    <tr>\n",
       "      <th>8</th>\n",
       "      <td>CVX.N</td>\n",
       "      <td>Chevron Corp</td>\n",
       "      <td>157.65</td>\n",
       "      <td>1748080</td>\n",
       "      <td>-11.383082</td>\n",
       "    </tr>\n",
       "    <tr>\n",
       "      <th>9</th>\n",
       "      <td>AXP.N</td>\n",
       "      <td>American Express Co</td>\n",
       "      <td>163.12</td>\n",
       "      <td>882848</td>\n",
       "      <td>10.794768</td>\n",
       "    </tr>\n",
       "    <tr>\n",
       "      <th>10</th>\n",
       "      <td>VZ.N</td>\n",
       "      <td>Verizon Communications Inc</td>\n",
       "      <td>38.05</td>\n",
       "      <td>4027361</td>\n",
       "      <td>-1.903208</td>\n",
       "    </tr>\n",
       "    <tr>\n",
       "      <th>11</th>\n",
       "      <td>HD.N</td>\n",
       "      <td>Home Depot Inc</td>\n",
       "      <td>281.27</td>\n",
       "      <td>1010559</td>\n",
       "      <td>-10.312568</td>\n",
       "    </tr>\n",
       "    <tr>\n",
       "      <th>12</th>\n",
       "      <td>WBA.OQ</td>\n",
       "      <td>Walgreens Boots Alliance Inc</td>\n",
       "      <td>32.94</td>\n",
       "      <td>2757580</td>\n",
       "      <td>-10.671985</td>\n",
       "    </tr>\n",
       "    <tr>\n",
       "      <th>13</th>\n",
       "      <td>MCD.N</td>\n",
       "      <td>McDonald's Corp</td>\n",
       "      <td>273.84</td>\n",
       "      <td>862470</td>\n",
       "      <td>4.510755</td>\n",
       "    </tr>\n",
       "    <tr>\n",
       "      <th>14</th>\n",
       "      <td>UNH.N</td>\n",
       "      <td>UnitedHealth Group Inc</td>\n",
       "      <td>481.9</td>\n",
       "      <td>679527</td>\n",
       "      <td>-8.780543</td>\n",
       "    </tr>\n",
       "    <tr>\n",
       "      <th>15</th>\n",
       "      <td>KO.N</td>\n",
       "      <td>Coca-Cola Co</td>\n",
       "      <td>61.35</td>\n",
       "      <td>4328794</td>\n",
       "      <td>-2.817151</td>\n",
       "    </tr>\n",
       "    <tr>\n",
       "      <th>16</th>\n",
       "      <td>JNJ.N</td>\n",
       "      <td>Johnson &amp; Johnson</td>\n",
       "      <td>153.3</td>\n",
       "      <td>2037422</td>\n",
       "      <td>-12.606822</td>\n",
       "    </tr>\n",
       "    <tr>\n",
       "      <th>17</th>\n",
       "      <td>MSFT.OQ</td>\n",
       "      <td>Microsoft Corp</td>\n",
       "      <td>276.38</td>\n",
       "      <td>8149746</td>\n",
       "      <td>15.535746</td>\n",
       "    </tr>\n",
       "    <tr>\n",
       "      <th>18</th>\n",
       "      <td>HON.OQ</td>\n",
       "      <td>Honeywell International Inc</td>\n",
       "      <td>187.99</td>\n",
       "      <td>968275</td>\n",
       "      <td>-11.813873</td>\n",
       "    </tr>\n",
       "    <tr>\n",
       "      <th>19</th>\n",
       "      <td>CRM.N</td>\n",
       "      <td>Salesforce Inc</td>\n",
       "      <td>191.26</td>\n",
       "      <td>2037293</td>\n",
       "      <td>44.249189</td>\n",
       "    </tr>\n",
       "    <tr>\n",
       "      <th>20</th>\n",
       "      <td>PG.N</td>\n",
       "      <td>Procter &amp; Gamble Co</td>\n",
       "      <td>145.95</td>\n",
       "      <td>2092716</td>\n",
       "      <td>-3.083969</td>\n",
       "    </tr>\n",
       "    <tr>\n",
       "      <th>21</th>\n",
       "      <td>IBM.N</td>\n",
       "      <td>International Business Machines Corp</td>\n",
       "      <td>129.31</td>\n",
       "      <td>1664209</td>\n",
       "      <td>-7.086929</td>\n",
       "    </tr>\n",
       "    <tr>\n",
       "      <th>22</th>\n",
       "      <td>MMM.N</td>\n",
       "      <td>3M Co</td>\n",
       "      <td>101.49</td>\n",
       "      <td>691316</td>\n",
       "      <td>-14.235123</td>\n",
       "    </tr>\n",
       "    <tr>\n",
       "      <th>23</th>\n",
       "      <td>AAPL.OQ</td>\n",
       "      <td>Apple Inc</td>\n",
       "      <td>158.28</td>\n",
       "      <td>14491142</td>\n",
       "      <td>22.004982</td>\n",
       "    </tr>\n",
       "    <tr>\n",
       "      <th>24</th>\n",
       "      <td>WMT.N</td>\n",
       "      <td>Walmart Inc</td>\n",
       "      <td>144.17</td>\n",
       "      <td>2106916</td>\n",
       "      <td>2.097665</td>\n",
       "    </tr>\n",
       "    <tr>\n",
       "      <th>25</th>\n",
       "      <td>CAT.N</td>\n",
       "      <td>Caterpillar Inc</td>\n",
       "      <td>218.0</td>\n",
       "      <td>760658</td>\n",
       "      <td>-8.555478</td>\n",
       "    </tr>\n",
       "    <tr>\n",
       "      <th>26</th>\n",
       "      <td>AMGN.OQ</td>\n",
       "      <td>Amgen Inc</td>\n",
       "      <td>236.76</td>\n",
       "      <td>880198</td>\n",
       "      <td>-9.057164</td>\n",
       "    </tr>\n",
       "    <tr>\n",
       "      <th>27</th>\n",
       "      <td>V.N</td>\n",
       "      <td>Visa Inc</td>\n",
       "      <td>221.81</td>\n",
       "      <td>4450426</td>\n",
       "      <td>6.972086</td>\n",
       "    </tr>\n",
       "    <tr>\n",
       "      <th>28</th>\n",
       "      <td>TRV.N</td>\n",
       "      <td>Travelers Companies Inc</td>\n",
       "      <td>166.35</td>\n",
       "      <td>449349</td>\n",
       "      <td>-10.800831</td>\n",
       "    </tr>\n",
       "    <tr>\n",
       "      <th>29</th>\n",
       "      <td>BA.N</td>\n",
       "      <td>Boeing Co</td>\n",
       "      <td>200.57</td>\n",
       "      <td>815840</td>\n",
       "      <td>5.291616</td>\n",
       "    </tr>\n",
       "  </tbody>\n",
       "</table>\n",
       "</div>"
      ],
      "text/plain": [
       "   Instrument                   Company Common Name  Price Close    Volume  \\\n",
       "0        GS.N               Goldman Sachs Group Inc       318.53    831779   \n",
       "1       NKE.N                              Nike Inc       117.81   1679697   \n",
       "2     CSCO.OQ                     Cisco Systems Inc        50.54   4990287   \n",
       "3       JPM.N                   JPMorgan Chase & Co       128.49   4448528   \n",
       "4       DIS.N                        Walt Disney Co        95.62   1585345   \n",
       "5     INTC.OQ                            Intel Corp        29.18  10363607   \n",
       "6       DOW.N                               Dow Inc         52.0   1195707   \n",
       "7       MRK.N                        Merck & Co Inc       106.93   2544449   \n",
       "8       CVX.N                          Chevron Corp       157.65   1748080   \n",
       "9       AXP.N                   American Express Co       163.12    882848   \n",
       "10       VZ.N            Verizon Communications Inc        38.05   4027361   \n",
       "11       HD.N                        Home Depot Inc       281.27   1010559   \n",
       "12     WBA.OQ          Walgreens Boots Alliance Inc        32.94   2757580   \n",
       "13      MCD.N                       McDonald's Corp       273.84    862470   \n",
       "14      UNH.N                UnitedHealth Group Inc        481.9    679527   \n",
       "15       KO.N                          Coca-Cola Co        61.35   4328794   \n",
       "16      JNJ.N                     Johnson & Johnson        153.3   2037422   \n",
       "17    MSFT.OQ                        Microsoft Corp       276.38   8149746   \n",
       "18     HON.OQ           Honeywell International Inc       187.99    968275   \n",
       "19      CRM.N                        Salesforce Inc       191.26   2037293   \n",
       "20       PG.N                   Procter & Gamble Co       145.95   2092716   \n",
       "21      IBM.N  International Business Machines Corp       129.31   1664209   \n",
       "22      MMM.N                                 3M Co       101.49    691316   \n",
       "23    AAPL.OQ                             Apple Inc       158.28  14491142   \n",
       "24      WMT.N                           Walmart Inc       144.17   2106916   \n",
       "25      CAT.N                       Caterpillar Inc        218.0    760658   \n",
       "26    AMGN.OQ                             Amgen Inc       236.76    880198   \n",
       "27        V.N                              Visa Inc       221.81   4450426   \n",
       "28      TRV.N               Travelers Companies Inc       166.35    449349   \n",
       "29       BA.N                             Boeing Co       200.57    815840   \n",
       "\n",
       "    YTD Total Return  \n",
       "0          -6.567072  \n",
       "1           0.966755  \n",
       "2           6.935128  \n",
       "3          -3.475528  \n",
       "4          10.059853  \n",
       "5          11.809436  \n",
       "6           4.462609  \n",
       "7          -2.965546  \n",
       "8         -11.383082  \n",
       "9          10.794768  \n",
       "10         -1.903208  \n",
       "11        -10.312568  \n",
       "12        -10.671985  \n",
       "13          4.510755  \n",
       "14         -8.780543  \n",
       "15         -2.817151  \n",
       "16        -12.606822  \n",
       "17         15.535746  \n",
       "18        -11.813873  \n",
       "19         44.249189  \n",
       "20         -3.083969  \n",
       "21         -7.086929  \n",
       "22        -14.235123  \n",
       "23         22.004982  \n",
       "24          2.097665  \n",
       "25         -8.555478  \n",
       "26         -9.057164  \n",
       "27          6.972086  \n",
       "28        -10.800831  \n",
       "29          5.291616  "
      ]
     },
     "execution_count": 6,
     "metadata": {},
     "output_type": "execute_result"
    }
   ],
   "source": [
    "dji"
   ]
  },
  {
   "cell_type": "code",
   "execution_count": 7,
   "id": "bf5f2358",
   "metadata": {},
   "outputs": [
    {
     "data": {
      "application/vnd.plotly.v1+json": {
       "config": {
        "linkText": "Export to plot.ly",
        "plotlyServerURL": "https://plot.ly",
        "showLink": true
       },
       "data": [
        {
         "marker": {
          "color": "rgba(55, 128, 191, 0.6)",
          "line": {
           "color": "rgba(55, 128, 191, 1.0)",
           "width": 1
          }
         },
         "name": "YTD Total Return",
         "orientation": "v",
         "text": "",
         "type": "bar",
         "x": [
          "MMM.N",
          "JNJ.N",
          "HON.OQ",
          "CVX.N",
          "TRV.N",
          "WBA.OQ",
          "HD.N",
          "AMGN.OQ",
          "UNH.N",
          "CAT.N",
          "IBM.N",
          "GS.N",
          "JPM.N",
          "PG.N",
          "MRK.N",
          "KO.N",
          "VZ.N",
          "NKE.N",
          "WMT.N",
          "DOW.N",
          "MCD.N",
          "BA.N",
          "CSCO.OQ",
          "V.N",
          "DIS.N",
          "AXP.N",
          "INTC.OQ",
          "MSFT.OQ",
          "AAPL.OQ",
          "CRM.N"
         ],
         "y": [
          -14.2351225221576,
          -12.6068221729629,
          -11.8138726142833,
          -11.3830823924002,
          -10.8008314874616,
          -10.6719851959913,
          -10.312568221846,
          -9.05716353447034,
          -8.78054336509651,
          -8.55547819357533,
          -7.08692869030845,
          -6.567071918287,
          -3.47552827246287,
          -3.08396878335268,
          -2.96554571764847,
          -2.81715146950356,
          -1.90320820281009,
          0.966755486998183,
          2.09766485586595,
          4.46260874252591,
          4.51075483801542,
          5.29161635781403,
          6.93512772361218,
          6.97208606902409,
          10.05985267035,
          10.794767699101,
          11.8094357903916,
          15.5357458239231,
          22.004981741428,
          44.249189229957
         ]
        }
       ],
       "layout": {
        "legend": {
         "bgcolor": "#F5F6F9",
         "font": {
          "color": "#4D5663"
         }
        },
        "paper_bgcolor": "#F5F6F9",
        "plot_bgcolor": "#F5F6F9",
        "template": {
         "data": {
          "bar": [
           {
            "error_x": {
             "color": "#2a3f5f"
            },
            "error_y": {
             "color": "#2a3f5f"
            },
            "marker": {
             "line": {
              "color": "#E5ECF6",
              "width": 0.5
             },
             "pattern": {
              "fillmode": "overlay",
              "size": 10,
              "solidity": 0.2
             }
            },
            "type": "bar"
           }
          ],
          "barpolar": [
           {
            "marker": {
             "line": {
              "color": "#E5ECF6",
              "width": 0.5
             },
             "pattern": {
              "fillmode": "overlay",
              "size": 10,
              "solidity": 0.2
             }
            },
            "type": "barpolar"
           }
          ],
          "carpet": [
           {
            "aaxis": {
             "endlinecolor": "#2a3f5f",
             "gridcolor": "white",
             "linecolor": "white",
             "minorgridcolor": "white",
             "startlinecolor": "#2a3f5f"
            },
            "baxis": {
             "endlinecolor": "#2a3f5f",
             "gridcolor": "white",
             "linecolor": "white",
             "minorgridcolor": "white",
             "startlinecolor": "#2a3f5f"
            },
            "type": "carpet"
           }
          ],
          "choropleth": [
           {
            "colorbar": {
             "outlinewidth": 0,
             "ticks": ""
            },
            "type": "choropleth"
           }
          ],
          "contour": [
           {
            "colorbar": {
             "outlinewidth": 0,
             "ticks": ""
            },
            "colorscale": [
             [
              0,
              "#0d0887"
             ],
             [
              0.1111111111111111,
              "#46039f"
             ],
             [
              0.2222222222222222,
              "#7201a8"
             ],
             [
              0.3333333333333333,
              "#9c179e"
             ],
             [
              0.4444444444444444,
              "#bd3786"
             ],
             [
              0.5555555555555556,
              "#d8576b"
             ],
             [
              0.6666666666666666,
              "#ed7953"
             ],
             [
              0.7777777777777778,
              "#fb9f3a"
             ],
             [
              0.8888888888888888,
              "#fdca26"
             ],
             [
              1,
              "#f0f921"
             ]
            ],
            "type": "contour"
           }
          ],
          "contourcarpet": [
           {
            "colorbar": {
             "outlinewidth": 0,
             "ticks": ""
            },
            "type": "contourcarpet"
           }
          ],
          "heatmap": [
           {
            "colorbar": {
             "outlinewidth": 0,
             "ticks": ""
            },
            "colorscale": [
             [
              0,
              "#0d0887"
             ],
             [
              0.1111111111111111,
              "#46039f"
             ],
             [
              0.2222222222222222,
              "#7201a8"
             ],
             [
              0.3333333333333333,
              "#9c179e"
             ],
             [
              0.4444444444444444,
              "#bd3786"
             ],
             [
              0.5555555555555556,
              "#d8576b"
             ],
             [
              0.6666666666666666,
              "#ed7953"
             ],
             [
              0.7777777777777778,
              "#fb9f3a"
             ],
             [
              0.8888888888888888,
              "#fdca26"
             ],
             [
              1,
              "#f0f921"
             ]
            ],
            "type": "heatmap"
           }
          ],
          "heatmapgl": [
           {
            "colorbar": {
             "outlinewidth": 0,
             "ticks": ""
            },
            "colorscale": [
             [
              0,
              "#0d0887"
             ],
             [
              0.1111111111111111,
              "#46039f"
             ],
             [
              0.2222222222222222,
              "#7201a8"
             ],
             [
              0.3333333333333333,
              "#9c179e"
             ],
             [
              0.4444444444444444,
              "#bd3786"
             ],
             [
              0.5555555555555556,
              "#d8576b"
             ],
             [
              0.6666666666666666,
              "#ed7953"
             ],
             [
              0.7777777777777778,
              "#fb9f3a"
             ],
             [
              0.8888888888888888,
              "#fdca26"
             ],
             [
              1,
              "#f0f921"
             ]
            ],
            "type": "heatmapgl"
           }
          ],
          "histogram": [
           {
            "marker": {
             "pattern": {
              "fillmode": "overlay",
              "size": 10,
              "solidity": 0.2
             }
            },
            "type": "histogram"
           }
          ],
          "histogram2d": [
           {
            "colorbar": {
             "outlinewidth": 0,
             "ticks": ""
            },
            "colorscale": [
             [
              0,
              "#0d0887"
             ],
             [
              0.1111111111111111,
              "#46039f"
             ],
             [
              0.2222222222222222,
              "#7201a8"
             ],
             [
              0.3333333333333333,
              "#9c179e"
             ],
             [
              0.4444444444444444,
              "#bd3786"
             ],
             [
              0.5555555555555556,
              "#d8576b"
             ],
             [
              0.6666666666666666,
              "#ed7953"
             ],
             [
              0.7777777777777778,
              "#fb9f3a"
             ],
             [
              0.8888888888888888,
              "#fdca26"
             ],
             [
              1,
              "#f0f921"
             ]
            ],
            "type": "histogram2d"
           }
          ],
          "histogram2dcontour": [
           {
            "colorbar": {
             "outlinewidth": 0,
             "ticks": ""
            },
            "colorscale": [
             [
              0,
              "#0d0887"
             ],
             [
              0.1111111111111111,
              "#46039f"
             ],
             [
              0.2222222222222222,
              "#7201a8"
             ],
             [
              0.3333333333333333,
              "#9c179e"
             ],
             [
              0.4444444444444444,
              "#bd3786"
             ],
             [
              0.5555555555555556,
              "#d8576b"
             ],
             [
              0.6666666666666666,
              "#ed7953"
             ],
             [
              0.7777777777777778,
              "#fb9f3a"
             ],
             [
              0.8888888888888888,
              "#fdca26"
             ],
             [
              1,
              "#f0f921"
             ]
            ],
            "type": "histogram2dcontour"
           }
          ],
          "mesh3d": [
           {
            "colorbar": {
             "outlinewidth": 0,
             "ticks": ""
            },
            "type": "mesh3d"
           }
          ],
          "parcoords": [
           {
            "line": {
             "colorbar": {
              "outlinewidth": 0,
              "ticks": ""
             }
            },
            "type": "parcoords"
           }
          ],
          "pie": [
           {
            "automargin": true,
            "type": "pie"
           }
          ],
          "scatter": [
           {
            "fillpattern": {
             "fillmode": "overlay",
             "size": 10,
             "solidity": 0.2
            },
            "type": "scatter"
           }
          ],
          "scatter3d": [
           {
            "line": {
             "colorbar": {
              "outlinewidth": 0,
              "ticks": ""
             }
            },
            "marker": {
             "colorbar": {
              "outlinewidth": 0,
              "ticks": ""
             }
            },
            "type": "scatter3d"
           }
          ],
          "scattercarpet": [
           {
            "marker": {
             "colorbar": {
              "outlinewidth": 0,
              "ticks": ""
             }
            },
            "type": "scattercarpet"
           }
          ],
          "scattergeo": [
           {
            "marker": {
             "colorbar": {
              "outlinewidth": 0,
              "ticks": ""
             }
            },
            "type": "scattergeo"
           }
          ],
          "scattergl": [
           {
            "marker": {
             "colorbar": {
              "outlinewidth": 0,
              "ticks": ""
             }
            },
            "type": "scattergl"
           }
          ],
          "scattermapbox": [
           {
            "marker": {
             "colorbar": {
              "outlinewidth": 0,
              "ticks": ""
             }
            },
            "type": "scattermapbox"
           }
          ],
          "scatterpolar": [
           {
            "marker": {
             "colorbar": {
              "outlinewidth": 0,
              "ticks": ""
             }
            },
            "type": "scatterpolar"
           }
          ],
          "scatterpolargl": [
           {
            "marker": {
             "colorbar": {
              "outlinewidth": 0,
              "ticks": ""
             }
            },
            "type": "scatterpolargl"
           }
          ],
          "scatterternary": [
           {
            "marker": {
             "colorbar": {
              "outlinewidth": 0,
              "ticks": ""
             }
            },
            "type": "scatterternary"
           }
          ],
          "surface": [
           {
            "colorbar": {
             "outlinewidth": 0,
             "ticks": ""
            },
            "colorscale": [
             [
              0,
              "#0d0887"
             ],
             [
              0.1111111111111111,
              "#46039f"
             ],
             [
              0.2222222222222222,
              "#7201a8"
             ],
             [
              0.3333333333333333,
              "#9c179e"
             ],
             [
              0.4444444444444444,
              "#bd3786"
             ],
             [
              0.5555555555555556,
              "#d8576b"
             ],
             [
              0.6666666666666666,
              "#ed7953"
             ],
             [
              0.7777777777777778,
              "#fb9f3a"
             ],
             [
              0.8888888888888888,
              "#fdca26"
             ],
             [
              1,
              "#f0f921"
             ]
            ],
            "type": "surface"
           }
          ],
          "table": [
           {
            "cells": {
             "fill": {
              "color": "#EBF0F8"
             },
             "line": {
              "color": "white"
             }
            },
            "header": {
             "fill": {
              "color": "#C8D4E3"
             },
             "line": {
              "color": "white"
             }
            },
            "type": "table"
           }
          ]
         },
         "layout": {
          "annotationdefaults": {
           "arrowcolor": "#2a3f5f",
           "arrowhead": 0,
           "arrowwidth": 1
          },
          "autotypenumbers": "strict",
          "coloraxis": {
           "colorbar": {
            "outlinewidth": 0,
            "ticks": ""
           }
          },
          "colorscale": {
           "diverging": [
            [
             0,
             "#8e0152"
            ],
            [
             0.1,
             "#c51b7d"
            ],
            [
             0.2,
             "#de77ae"
            ],
            [
             0.3,
             "#f1b6da"
            ],
            [
             0.4,
             "#fde0ef"
            ],
            [
             0.5,
             "#f7f7f7"
            ],
            [
             0.6,
             "#e6f5d0"
            ],
            [
             0.7,
             "#b8e186"
            ],
            [
             0.8,
             "#7fbc41"
            ],
            [
             0.9,
             "#4d9221"
            ],
            [
             1,
             "#276419"
            ]
           ],
           "sequential": [
            [
             0,
             "#0d0887"
            ],
            [
             0.1111111111111111,
             "#46039f"
            ],
            [
             0.2222222222222222,
             "#7201a8"
            ],
            [
             0.3333333333333333,
             "#9c179e"
            ],
            [
             0.4444444444444444,
             "#bd3786"
            ],
            [
             0.5555555555555556,
             "#d8576b"
            ],
            [
             0.6666666666666666,
             "#ed7953"
            ],
            [
             0.7777777777777778,
             "#fb9f3a"
            ],
            [
             0.8888888888888888,
             "#fdca26"
            ],
            [
             1,
             "#f0f921"
            ]
           ],
           "sequentialminus": [
            [
             0,
             "#0d0887"
            ],
            [
             0.1111111111111111,
             "#46039f"
            ],
            [
             0.2222222222222222,
             "#7201a8"
            ],
            [
             0.3333333333333333,
             "#9c179e"
            ],
            [
             0.4444444444444444,
             "#bd3786"
            ],
            [
             0.5555555555555556,
             "#d8576b"
            ],
            [
             0.6666666666666666,
             "#ed7953"
            ],
            [
             0.7777777777777778,
             "#fb9f3a"
            ],
            [
             0.8888888888888888,
             "#fdca26"
            ],
            [
             1,
             "#f0f921"
            ]
           ]
          },
          "colorway": [
           "#636efa",
           "#EF553B",
           "#00cc96",
           "#ab63fa",
           "#FFA15A",
           "#19d3f3",
           "#FF6692",
           "#B6E880",
           "#FF97FF",
           "#FECB52"
          ],
          "font": {
           "color": "#2a3f5f"
          },
          "geo": {
           "bgcolor": "white",
           "lakecolor": "white",
           "landcolor": "#E5ECF6",
           "showlakes": true,
           "showland": true,
           "subunitcolor": "white"
          },
          "hoverlabel": {
           "align": "left"
          },
          "hovermode": "closest",
          "mapbox": {
           "style": "light"
          },
          "paper_bgcolor": "white",
          "plot_bgcolor": "#E5ECF6",
          "polar": {
           "angularaxis": {
            "gridcolor": "white",
            "linecolor": "white",
            "ticks": ""
           },
           "bgcolor": "#E5ECF6",
           "radialaxis": {
            "gridcolor": "white",
            "linecolor": "white",
            "ticks": ""
           }
          },
          "scene": {
           "xaxis": {
            "backgroundcolor": "#E5ECF6",
            "gridcolor": "white",
            "gridwidth": 2,
            "linecolor": "white",
            "showbackground": true,
            "ticks": "",
            "zerolinecolor": "white"
           },
           "yaxis": {
            "backgroundcolor": "#E5ECF6",
            "gridcolor": "white",
            "gridwidth": 2,
            "linecolor": "white",
            "showbackground": true,
            "ticks": "",
            "zerolinecolor": "white"
           },
           "zaxis": {
            "backgroundcolor": "#E5ECF6",
            "gridcolor": "white",
            "gridwidth": 2,
            "linecolor": "white",
            "showbackground": true,
            "ticks": "",
            "zerolinecolor": "white"
           }
          },
          "shapedefaults": {
           "line": {
            "color": "#2a3f5f"
           }
          },
          "ternary": {
           "aaxis": {
            "gridcolor": "white",
            "linecolor": "white",
            "ticks": ""
           },
           "baxis": {
            "gridcolor": "white",
            "linecolor": "white",
            "ticks": ""
           },
           "bgcolor": "#E5ECF6",
           "caxis": {
            "gridcolor": "white",
            "linecolor": "white",
            "ticks": ""
           }
          },
          "title": {
           "x": 0.05
          },
          "xaxis": {
           "automargin": true,
           "gridcolor": "white",
           "linecolor": "white",
           "ticks": "",
           "title": {
            "standoff": 15
           },
           "zerolinecolor": "white",
           "zerolinewidth": 2
          },
          "yaxis": {
           "automargin": true,
           "gridcolor": "white",
           "linecolor": "white",
           "ticks": "",
           "title": {
            "standoff": 15
           },
           "zerolinecolor": "white",
           "zerolinewidth": 2
          }
         }
        },
        "title": {
         "font": {
          "color": "#4D5663"
         }
        },
        "xaxis": {
         "gridcolor": "#E1E5ED",
         "showgrid": true,
         "tickfont": {
          "color": "#4D5663"
         },
         "title": {
          "font": {
           "color": "#4D5663"
          },
          "text": ""
         },
         "zerolinecolor": "#E1E5ED"
        },
        "yaxis": {
         "gridcolor": "#E1E5ED",
         "showgrid": true,
         "tickfont": {
          "color": "#4D5663"
         },
         "title": {
          "font": {
           "color": "#4D5663"
          },
          "text": ""
         },
         "zerolinecolor": "#E1E5ED"
        }
       }
      },
      "text/html": [
       "<div>                            <div id=\"7e47755e-0f7e-4d29-bc6d-f2d6ec46ad5c\" class=\"plotly-graph-div\" style=\"height:525px; width:100%;\"></div>            <script type=\"text/javascript\">                require([\"plotly\"], function(Plotly) {                    window.PLOTLYENV=window.PLOTLYENV || {};\n",
       "                    window.PLOTLYENV.BASE_URL='https://plot.ly';                                    if (document.getElementById(\"7e47755e-0f7e-4d29-bc6d-f2d6ec46ad5c\")) {                    Plotly.newPlot(                        \"7e47755e-0f7e-4d29-bc6d-f2d6ec46ad5c\",                        [{\"marker\":{\"color\":\"rgba(55, 128, 191, 0.6)\",\"line\":{\"color\":\"rgba(55, 128, 191, 1.0)\",\"width\":1}},\"name\":\"YTD Total Return\",\"orientation\":\"v\",\"text\":\"\",\"x\":[\"MMM.N\",\"JNJ.N\",\"HON.OQ\",\"CVX.N\",\"TRV.N\",\"WBA.OQ\",\"HD.N\",\"AMGN.OQ\",\"UNH.N\",\"CAT.N\",\"IBM.N\",\"GS.N\",\"JPM.N\",\"PG.N\",\"MRK.N\",\"KO.N\",\"VZ.N\",\"NKE.N\",\"WMT.N\",\"DOW.N\",\"MCD.N\",\"BA.N\",\"CSCO.OQ\",\"V.N\",\"DIS.N\",\"AXP.N\",\"INTC.OQ\",\"MSFT.OQ\",\"AAPL.OQ\",\"CRM.N\"],\"y\":[-14.2351225221576,-12.6068221729629,-11.8138726142833,-11.3830823924002,-10.8008314874616,-10.6719851959913,-10.312568221846,-9.05716353447034,-8.78054336509651,-8.55547819357533,-7.08692869030845,-6.567071918287,-3.47552827246287,-3.08396878335268,-2.96554571764847,-2.81715146950356,-1.90320820281009,0.966755486998183,2.09766485586595,4.46260874252591,4.51075483801542,5.29161635781403,6.93512772361218,6.97208606902409,10.05985267035,10.794767699101,11.8094357903916,15.5357458239231,22.004981741428,44.249189229957],\"type\":\"bar\"}],                        {\"legend\":{\"bgcolor\":\"#F5F6F9\",\"font\":{\"color\":\"#4D5663\"}},\"paper_bgcolor\":\"#F5F6F9\",\"plot_bgcolor\":\"#F5F6F9\",\"template\":{\"data\":{\"barpolar\":[{\"marker\":{\"line\":{\"color\":\"#E5ECF6\",\"width\":0.5},\"pattern\":{\"fillmode\":\"overlay\",\"size\":10,\"solidity\":0.2}},\"type\":\"barpolar\"}],\"bar\":[{\"error_x\":{\"color\":\"#2a3f5f\"},\"error_y\":{\"color\":\"#2a3f5f\"},\"marker\":{\"line\":{\"color\":\"#E5ECF6\",\"width\":0.5},\"pattern\":{\"fillmode\":\"overlay\",\"size\":10,\"solidity\":0.2}},\"type\":\"bar\"}],\"carpet\":[{\"aaxis\":{\"endlinecolor\":\"#2a3f5f\",\"gridcolor\":\"white\",\"linecolor\":\"white\",\"minorgridcolor\":\"white\",\"startlinecolor\":\"#2a3f5f\"},\"baxis\":{\"endlinecolor\":\"#2a3f5f\",\"gridcolor\":\"white\",\"linecolor\":\"white\",\"minorgridcolor\":\"white\",\"startlinecolor\":\"#2a3f5f\"},\"type\":\"carpet\"}],\"choropleth\":[{\"colorbar\":{\"outlinewidth\":0,\"ticks\":\"\"},\"type\":\"choropleth\"}],\"contourcarpet\":[{\"colorbar\":{\"outlinewidth\":0,\"ticks\":\"\"},\"type\":\"contourcarpet\"}],\"contour\":[{\"colorbar\":{\"outlinewidth\":0,\"ticks\":\"\"},\"colorscale\":[[0.0,\"#0d0887\"],[0.1111111111111111,\"#46039f\"],[0.2222222222222222,\"#7201a8\"],[0.3333333333333333,\"#9c179e\"],[0.4444444444444444,\"#bd3786\"],[0.5555555555555556,\"#d8576b\"],[0.6666666666666666,\"#ed7953\"],[0.7777777777777778,\"#fb9f3a\"],[0.8888888888888888,\"#fdca26\"],[1.0,\"#f0f921\"]],\"type\":\"contour\"}],\"heatmapgl\":[{\"colorbar\":{\"outlinewidth\":0,\"ticks\":\"\"},\"colorscale\":[[0.0,\"#0d0887\"],[0.1111111111111111,\"#46039f\"],[0.2222222222222222,\"#7201a8\"],[0.3333333333333333,\"#9c179e\"],[0.4444444444444444,\"#bd3786\"],[0.5555555555555556,\"#d8576b\"],[0.6666666666666666,\"#ed7953\"],[0.7777777777777778,\"#fb9f3a\"],[0.8888888888888888,\"#fdca26\"],[1.0,\"#f0f921\"]],\"type\":\"heatmapgl\"}],\"heatmap\":[{\"colorbar\":{\"outlinewidth\":0,\"ticks\":\"\"},\"colorscale\":[[0.0,\"#0d0887\"],[0.1111111111111111,\"#46039f\"],[0.2222222222222222,\"#7201a8\"],[0.3333333333333333,\"#9c179e\"],[0.4444444444444444,\"#bd3786\"],[0.5555555555555556,\"#d8576b\"],[0.6666666666666666,\"#ed7953\"],[0.7777777777777778,\"#fb9f3a\"],[0.8888888888888888,\"#fdca26\"],[1.0,\"#f0f921\"]],\"type\":\"heatmap\"}],\"histogram2dcontour\":[{\"colorbar\":{\"outlinewidth\":0,\"ticks\":\"\"},\"colorscale\":[[0.0,\"#0d0887\"],[0.1111111111111111,\"#46039f\"],[0.2222222222222222,\"#7201a8\"],[0.3333333333333333,\"#9c179e\"],[0.4444444444444444,\"#bd3786\"],[0.5555555555555556,\"#d8576b\"],[0.6666666666666666,\"#ed7953\"],[0.7777777777777778,\"#fb9f3a\"],[0.8888888888888888,\"#fdca26\"],[1.0,\"#f0f921\"]],\"type\":\"histogram2dcontour\"}],\"histogram2d\":[{\"colorbar\":{\"outlinewidth\":0,\"ticks\":\"\"},\"colorscale\":[[0.0,\"#0d0887\"],[0.1111111111111111,\"#46039f\"],[0.2222222222222222,\"#7201a8\"],[0.3333333333333333,\"#9c179e\"],[0.4444444444444444,\"#bd3786\"],[0.5555555555555556,\"#d8576b\"],[0.6666666666666666,\"#ed7953\"],[0.7777777777777778,\"#fb9f3a\"],[0.8888888888888888,\"#fdca26\"],[1.0,\"#f0f921\"]],\"type\":\"histogram2d\"}],\"histogram\":[{\"marker\":{\"pattern\":{\"fillmode\":\"overlay\",\"size\":10,\"solidity\":0.2}},\"type\":\"histogram\"}],\"mesh3d\":[{\"colorbar\":{\"outlinewidth\":0,\"ticks\":\"\"},\"type\":\"mesh3d\"}],\"parcoords\":[{\"line\":{\"colorbar\":{\"outlinewidth\":0,\"ticks\":\"\"}},\"type\":\"parcoords\"}],\"pie\":[{\"automargin\":true,\"type\":\"pie\"}],\"scatter3d\":[{\"line\":{\"colorbar\":{\"outlinewidth\":0,\"ticks\":\"\"}},\"marker\":{\"colorbar\":{\"outlinewidth\":0,\"ticks\":\"\"}},\"type\":\"scatter3d\"}],\"scattercarpet\":[{\"marker\":{\"colorbar\":{\"outlinewidth\":0,\"ticks\":\"\"}},\"type\":\"scattercarpet\"}],\"scattergeo\":[{\"marker\":{\"colorbar\":{\"outlinewidth\":0,\"ticks\":\"\"}},\"type\":\"scattergeo\"}],\"scattergl\":[{\"marker\":{\"colorbar\":{\"outlinewidth\":0,\"ticks\":\"\"}},\"type\":\"scattergl\"}],\"scattermapbox\":[{\"marker\":{\"colorbar\":{\"outlinewidth\":0,\"ticks\":\"\"}},\"type\":\"scattermapbox\"}],\"scatterpolargl\":[{\"marker\":{\"colorbar\":{\"outlinewidth\":0,\"ticks\":\"\"}},\"type\":\"scatterpolargl\"}],\"scatterpolar\":[{\"marker\":{\"colorbar\":{\"outlinewidth\":0,\"ticks\":\"\"}},\"type\":\"scatterpolar\"}],\"scatter\":[{\"fillpattern\":{\"fillmode\":\"overlay\",\"size\":10,\"solidity\":0.2},\"type\":\"scatter\"}],\"scatterternary\":[{\"marker\":{\"colorbar\":{\"outlinewidth\":0,\"ticks\":\"\"}},\"type\":\"scatterternary\"}],\"surface\":[{\"colorbar\":{\"outlinewidth\":0,\"ticks\":\"\"},\"colorscale\":[[0.0,\"#0d0887\"],[0.1111111111111111,\"#46039f\"],[0.2222222222222222,\"#7201a8\"],[0.3333333333333333,\"#9c179e\"],[0.4444444444444444,\"#bd3786\"],[0.5555555555555556,\"#d8576b\"],[0.6666666666666666,\"#ed7953\"],[0.7777777777777778,\"#fb9f3a\"],[0.8888888888888888,\"#fdca26\"],[1.0,\"#f0f921\"]],\"type\":\"surface\"}],\"table\":[{\"cells\":{\"fill\":{\"color\":\"#EBF0F8\"},\"line\":{\"color\":\"white\"}},\"header\":{\"fill\":{\"color\":\"#C8D4E3\"},\"line\":{\"color\":\"white\"}},\"type\":\"table\"}]},\"layout\":{\"annotationdefaults\":{\"arrowcolor\":\"#2a3f5f\",\"arrowhead\":0,\"arrowwidth\":1},\"autotypenumbers\":\"strict\",\"coloraxis\":{\"colorbar\":{\"outlinewidth\":0,\"ticks\":\"\"}},\"colorscale\":{\"diverging\":[[0,\"#8e0152\"],[0.1,\"#c51b7d\"],[0.2,\"#de77ae\"],[0.3,\"#f1b6da\"],[0.4,\"#fde0ef\"],[0.5,\"#f7f7f7\"],[0.6,\"#e6f5d0\"],[0.7,\"#b8e186\"],[0.8,\"#7fbc41\"],[0.9,\"#4d9221\"],[1,\"#276419\"]],\"sequential\":[[0.0,\"#0d0887\"],[0.1111111111111111,\"#46039f\"],[0.2222222222222222,\"#7201a8\"],[0.3333333333333333,\"#9c179e\"],[0.4444444444444444,\"#bd3786\"],[0.5555555555555556,\"#d8576b\"],[0.6666666666666666,\"#ed7953\"],[0.7777777777777778,\"#fb9f3a\"],[0.8888888888888888,\"#fdca26\"],[1.0,\"#f0f921\"]],\"sequentialminus\":[[0.0,\"#0d0887\"],[0.1111111111111111,\"#46039f\"],[0.2222222222222222,\"#7201a8\"],[0.3333333333333333,\"#9c179e\"],[0.4444444444444444,\"#bd3786\"],[0.5555555555555556,\"#d8576b\"],[0.6666666666666666,\"#ed7953\"],[0.7777777777777778,\"#fb9f3a\"],[0.8888888888888888,\"#fdca26\"],[1.0,\"#f0f921\"]]},\"colorway\":[\"#636efa\",\"#EF553B\",\"#00cc96\",\"#ab63fa\",\"#FFA15A\",\"#19d3f3\",\"#FF6692\",\"#B6E880\",\"#FF97FF\",\"#FECB52\"],\"font\":{\"color\":\"#2a3f5f\"},\"geo\":{\"bgcolor\":\"white\",\"lakecolor\":\"white\",\"landcolor\":\"#E5ECF6\",\"showlakes\":true,\"showland\":true,\"subunitcolor\":\"white\"},\"hoverlabel\":{\"align\":\"left\"},\"hovermode\":\"closest\",\"mapbox\":{\"style\":\"light\"},\"paper_bgcolor\":\"white\",\"plot_bgcolor\":\"#E5ECF6\",\"polar\":{\"angularaxis\":{\"gridcolor\":\"white\",\"linecolor\":\"white\",\"ticks\":\"\"},\"bgcolor\":\"#E5ECF6\",\"radialaxis\":{\"gridcolor\":\"white\",\"linecolor\":\"white\",\"ticks\":\"\"}},\"scene\":{\"xaxis\":{\"backgroundcolor\":\"#E5ECF6\",\"gridcolor\":\"white\",\"gridwidth\":2,\"linecolor\":\"white\",\"showbackground\":true,\"ticks\":\"\",\"zerolinecolor\":\"white\"},\"yaxis\":{\"backgroundcolor\":\"#E5ECF6\",\"gridcolor\":\"white\",\"gridwidth\":2,\"linecolor\":\"white\",\"showbackground\":true,\"ticks\":\"\",\"zerolinecolor\":\"white\"},\"zaxis\":{\"backgroundcolor\":\"#E5ECF6\",\"gridcolor\":\"white\",\"gridwidth\":2,\"linecolor\":\"white\",\"showbackground\":true,\"ticks\":\"\",\"zerolinecolor\":\"white\"}},\"shapedefaults\":{\"line\":{\"color\":\"#2a3f5f\"}},\"ternary\":{\"aaxis\":{\"gridcolor\":\"white\",\"linecolor\":\"white\",\"ticks\":\"\"},\"baxis\":{\"gridcolor\":\"white\",\"linecolor\":\"white\",\"ticks\":\"\"},\"bgcolor\":\"#E5ECF6\",\"caxis\":{\"gridcolor\":\"white\",\"linecolor\":\"white\",\"ticks\":\"\"}},\"title\":{\"x\":0.05},\"xaxis\":{\"automargin\":true,\"gridcolor\":\"white\",\"linecolor\":\"white\",\"ticks\":\"\",\"title\":{\"standoff\":15},\"zerolinecolor\":\"white\",\"zerolinewidth\":2},\"yaxis\":{\"automargin\":true,\"gridcolor\":\"white\",\"linecolor\":\"white\",\"ticks\":\"\",\"title\":{\"standoff\":15},\"zerolinecolor\":\"white\",\"zerolinewidth\":2}}},\"title\":{\"font\":{\"color\":\"#4D5663\"}},\"xaxis\":{\"gridcolor\":\"#E1E5ED\",\"showgrid\":true,\"tickfont\":{\"color\":\"#4D5663\"},\"title\":{\"font\":{\"color\":\"#4D5663\"},\"text\":\"\"},\"zerolinecolor\":\"#E1E5ED\"},\"yaxis\":{\"gridcolor\":\"#E1E5ED\",\"showgrid\":true,\"tickfont\":{\"color\":\"#4D5663\"},\"title\":{\"font\":{\"color\":\"#4D5663\"},\"text\":\"\"},\"zerolinecolor\":\"#E1E5ED\"}},                        {\"showLink\": true, \"linkText\": \"Export to plot.ly\", \"plotlyServerURL\": \"https://plot.ly\", \"responsive\": true}                    ).then(function(){\n",
       "                            \n",
       "var gd = document.getElementById('7e47755e-0f7e-4d29-bc6d-f2d6ec46ad5c');\n",
       "var x = new MutationObserver(function (mutations, observer) {{\n",
       "        var display = window.getComputedStyle(gd).display;\n",
       "        if (!display || display === 'none') {{\n",
       "            console.log([gd, 'removed!']);\n",
       "            Plotly.purge(gd);\n",
       "            observer.disconnect();\n",
       "        }}\n",
       "}});\n",
       "\n",
       "// Listen for the removal of the full notebook cells\n",
       "var notebookContainer = gd.closest('#notebook-container');\n",
       "if (notebookContainer) {{\n",
       "    x.observe(notebookContainer, {childList: true});\n",
       "}}\n",
       "\n",
       "// Listen for the clearing of the current output cell\n",
       "var outputEl = gd.closest('.output');\n",
       "if (outputEl) {{\n",
       "    x.observe(outputEl, {childList: true});\n",
       "}}\n",
       "\n",
       "                        })                };                });            </script>        </div>"
      ]
     },
     "metadata": {},
     "output_type": "display_data"
    }
   ],
   "source": [
    "dji.set_index('Instrument')['YTD Total Return'].sort_values().iplot(kind='bar', color='blue')"
   ]
  },
  {
   "cell_type": "markdown",
   "id": "2ee2ae3a",
   "metadata": {},
   "source": [
    "# Efficient frontier in Python Ch 5 Jansen\n",
    "https://github.com/stefan-jansen/machine-learning-for-trading/blob/main/05_strategy_evaluation/04_mean_variance_optimization.ipynb"
   ]
  },
  {
   "cell_type": "markdown",
   "id": "159e780a",
   "metadata": {},
   "source": [
    "# Imports & Settings"
   ]
  },
  {
   "cell_type": "code",
   "execution_count": 8,
   "id": "d01a152a",
   "metadata": {},
   "outputs": [],
   "source": [
    "import warnings\n",
    "warnings.filterwarnings('ignore')"
   ]
  },
  {
   "cell_type": "code",
   "execution_count": 10,
   "id": "75d2324c",
   "metadata": {},
   "outputs": [],
   "source": [
    "%matplotlib inline\n",
    "\n",
    "import pandas as pd\n",
    "import numpy as np\n",
    "from numpy.random import random, uniform, dirichlet, choice\n",
    "from numpy.linalg import inv\n",
    "\n",
    "from scipy.optimize import minimize\n",
    "\n",
    "#import pandas_datareader.data as web\n",
    "import matplotlib.pyplot as plt\n",
    "from matplotlib.ticker import FuncFormatter\n",
    "import seaborn as sns\n",
    "import math"
   ]
  },
  {
   "cell_type": "code",
   "execution_count": 11,
   "id": "468bd4c6",
   "metadata": {},
   "outputs": [],
   "source": [
    "sns.set_style('whitegrid')\n",
    "np.random.seed(42)"
   ]
  },
  {
   "cell_type": "code",
   "execution_count": 12,
   "id": "ddbdd0bc",
   "metadata": {},
   "outputs": [],
   "source": [
    "cmap = sns.diverging_palette(10, 240, n=9, as_cmap=True)"
   ]
  },
  {
   "cell_type": "markdown",
   "id": "6595be4d",
   "metadata": {},
   "source": [
    "# Prepare Data"
   ]
  },
  {
   "cell_type": "code",
   "execution_count": 13,
   "id": "5f7f500e",
   "metadata": {},
   "outputs": [
    {
     "name": "stdout",
     "output_type": "stream",
     "text": [
      "2013-03-27 23:34:55.461814 2023-03-27 23:34:55.461814\n"
     ]
    }
   ],
   "source": [
    "from datetime import datetime, timedelta\n",
    "end = datetime.today()\n",
    "start = end - timedelta(days=(365.2*10))\n",
    "print(start, end)"
   ]
  },
  {
   "cell_type": "code",
   "execution_count": 14,
   "id": "538e827e",
   "metadata": {},
   "outputs": [
    {
     "data": {
      "text/plain": [
       "['GS.N',\n",
       " 'NKE.N',\n",
       " 'CSCO.OQ',\n",
       " 'JPM.N',\n",
       " 'DIS.N',\n",
       " 'INTC.OQ',\n",
       " 'DOW.N',\n",
       " 'MRK.N',\n",
       " 'CVX.N',\n",
       " 'AXP.N',\n",
       " 'VZ.N',\n",
       " 'HD.N',\n",
       " 'WBA.OQ',\n",
       " 'MCD.N',\n",
       " 'UNH.N',\n",
       " 'KO.N',\n",
       " 'JNJ.N',\n",
       " 'MSFT.OQ',\n",
       " 'HON.OQ',\n",
       " 'CRM.N',\n",
       " 'PG.N',\n",
       " 'IBM.N',\n",
       " 'MMM.N',\n",
       " 'AAPL.OQ',\n",
       " 'WMT.N',\n",
       " 'CAT.N',\n",
       " 'AMGN.OQ',\n",
       " 'V.N',\n",
       " 'TRV.N',\n",
       " 'BA.N']"
      ]
     },
     "execution_count": 14,
     "metadata": {},
     "output_type": "execute_result"
    }
   ],
   "source": [
    "const = dji['Instrument'].tolist()\n",
    "const_limp = [i for i in const if i != '']\n",
    "const"
   ]
  },
  {
   "cell_type": "code",
   "execution_count": 15,
   "id": "56f0286b",
   "metadata": {},
   "outputs": [
    {
     "data": {
      "text/plain": [
       "CLOSE\n",
       "GS.N       100\n",
       "NKE.N      100\n",
       "CSCO.OQ    100\n",
       "JPM.N      100\n",
       "DIS.N      100\n",
       "INTC.OQ    100\n",
       "DOW.N      100\n",
       "MRK.N      100\n",
       "CVX.N      100\n",
       "AXP.N      100\n",
       "VZ.N       100\n",
       "HD.N       100\n",
       "WBA.OQ     100\n",
       "MCD.N      100\n",
       "UNH.N      100\n",
       "KO.N       100\n",
       "JNJ.N      100\n",
       "MSFT.OQ    100\n",
       "HON.OQ     100\n",
       "CRM.N      100\n",
       "PG.N       100\n",
       "IBM.N      100\n",
       "MMM.N      100\n",
       "AAPL.OQ    100\n",
       "WMT.N      100\n",
       "CAT.N      100\n",
       "AMGN.OQ    100\n",
       "V.N        100\n",
       "TRV.N      100\n",
       "BA.N       100\n",
       "dtype: int64"
      ]
     },
     "execution_count": 15,
     "metadata": {},
     "output_type": "execute_result"
    }
   ],
   "source": [
    "df = ek.get_timeseries(const_limp, start_date = start, end_date = end, fields='CLOSE', interval=\"weekly\")\n",
    "df.count()"
   ]
  },
  {
   "cell_type": "code",
   "execution_count": 16,
   "id": "513d0ed6",
   "metadata": {},
   "outputs": [
    {
     "data": {
      "text/html": [
       "<div>\n",
       "<style scoped>\n",
       "    .dataframe tbody tr th:only-of-type {\n",
       "        vertical-align: middle;\n",
       "    }\n",
       "\n",
       "    .dataframe tbody tr th {\n",
       "        vertical-align: top;\n",
       "    }\n",
       "\n",
       "    .dataframe thead th {\n",
       "        text-align: right;\n",
       "    }\n",
       "</style>\n",
       "<table border=\"1\" class=\"dataframe\">\n",
       "  <thead>\n",
       "    <tr style=\"text-align: right;\">\n",
       "      <th>GS.N</th>\n",
       "      <th>GS.N</th>\n",
       "    </tr>\n",
       "    <tr>\n",
       "      <th>Date</th>\n",
       "      <th></th>\n",
       "    </tr>\n",
       "  </thead>\n",
       "  <tbody>\n",
       "    <tr>\n",
       "      <th>2013-04-05</th>\n",
       "      <td>-0.023794</td>\n",
       "    </tr>\n",
       "    <tr>\n",
       "      <th>2013-04-12</th>\n",
       "      <td>0.037093</td>\n",
       "    </tr>\n",
       "    <tr>\n",
       "      <th>2013-04-19</th>\n",
       "      <td>-0.072294</td>\n",
       "    </tr>\n",
       "    <tr>\n",
       "      <th>2013-04-26</th>\n",
       "      <td>0.038119</td>\n",
       "    </tr>\n",
       "    <tr>\n",
       "      <th>2013-05-03</th>\n",
       "      <td>0.008705</td>\n",
       "    </tr>\n",
       "    <tr>\n",
       "      <th>...</th>\n",
       "      <td>...</td>\n",
       "    </tr>\n",
       "    <tr>\n",
       "      <th>2023-02-24</th>\n",
       "      <td>-0.012699</td>\n",
       "    </tr>\n",
       "    <tr>\n",
       "      <th>2023-03-03</th>\n",
       "      <td>-0.018754</td>\n",
       "    </tr>\n",
       "    <tr>\n",
       "      <th>2023-03-10</th>\n",
       "      <td>-0.085981</td>\n",
       "    </tr>\n",
       "    <tr>\n",
       "      <th>2023-03-17</th>\n",
       "      <td>-0.076494</td>\n",
       "    </tr>\n",
       "    <tr>\n",
       "      <th>2023-03-24</th>\n",
       "      <td>0.029315</td>\n",
       "    </tr>\n",
       "  </tbody>\n",
       "</table>\n",
       "<p>521 rows × 1 columns</p>\n",
       "</div>"
      ],
      "text/plain": [
       "GS.N            GS.N\n",
       "Date                \n",
       "2013-04-05 -0.023794\n",
       "2013-04-12  0.037093\n",
       "2013-04-19 -0.072294\n",
       "2013-04-26  0.038119\n",
       "2013-05-03  0.008705\n",
       "...              ...\n",
       "2023-02-24 -0.012699\n",
       "2023-03-03 -0.018754\n",
       "2023-03-10 -0.085981\n",
       "2023-03-17 -0.076494\n",
       "2023-03-24  0.029315\n",
       "\n",
       "[521 rows x 1 columns]"
      ]
     },
     "execution_count": 16,
     "metadata": {},
     "output_type": "execute_result"
    }
   ],
   "source": [
    "df = ek.get_timeseries(const_limp[0], start_date = start, end_date = end, fields='CLOSE', interval=\"weekly\")\n",
    "df[const_limp[0]] = np.log(df['CLOSE'].div(df['CLOSE'].shift(1)))\n",
    "weekly_returns = df.drop('CLOSE', 1).iloc[1:]\n",
    "weekly_returns"
   ]
  },
  {
   "cell_type": "code",
   "execution_count": 17,
   "id": "07dca46b",
   "metadata": {},
   "outputs": [],
   "source": [
    "semanas = weekly_returns.shape[0]"
   ]
  },
  {
   "cell_type": "code",
   "execution_count": null,
   "id": "241ac539",
   "metadata": {},
   "outputs": [],
   "source": []
  },
  {
   "cell_type": "code",
   "execution_count": 18,
   "id": "60010851",
   "metadata": {},
   "outputs": [
    {
     "name": "stdout",
     "output_type": "stream",
     "text": [
      "NKE.N 521\n",
      "CSCO.OQ 521\n",
      "JPM.N 521\n",
      "DIS.N 521\n",
      "INTC.OQ 521\n",
      "DOW.N 209\n",
      "MRK.N 521\n",
      "CVX.N 521\n",
      "AXP.N 521\n",
      "VZ.N 521\n",
      "HD.N 521\n",
      "WBA.OQ 521\n",
      "MCD.N 521\n",
      "UNH.N 521\n",
      "KO.N 521\n",
      "JNJ.N 521\n",
      "MSFT.OQ 521\n",
      "HON.OQ 521\n",
      "CRM.N 521\n",
      "PG.N 521\n",
      "IBM.N 521\n",
      "MMM.N 521\n",
      "AAPL.OQ 521\n",
      "WMT.N 521\n",
      "CAT.N 521\n",
      "AMGN.OQ 521\n",
      "V.N 521\n",
      "TRV.N 521\n",
      "BA.N 521\n"
     ]
    }
   ],
   "source": [
    "for i in const_limp[1:]:\n",
    "    w = ek.get_timeseries(i, start_date = start, end_date = end, fields='CLOSE', interval=\"weekly\")\n",
    "    w[i] = np.log(w['CLOSE'].div(w['CLOSE'].shift(1)))\n",
    "    w1 = w.drop('CLOSE', 1).iloc[1:]\n",
    "    p = round(w1.count()[0])\n",
    "    print(i, p)\n",
    "    if p == semanas:    \n",
    "        weekly_returns = weekly_returns.join(w1, lsuffix=\"_left\", rsuffix=\"_right\")"
   ]
  },
  {
   "cell_type": "code",
   "execution_count": null,
   "id": "8f553982",
   "metadata": {},
   "outputs": [],
   "source": []
  },
  {
   "cell_type": "code",
   "execution_count": 19,
   "id": "ff87aef6",
   "metadata": {},
   "outputs": [
    {
     "data": {
      "text/html": [
       "<div>\n",
       "<style scoped>\n",
       "    .dataframe tbody tr th:only-of-type {\n",
       "        vertical-align: middle;\n",
       "    }\n",
       "\n",
       "    .dataframe tbody tr th {\n",
       "        vertical-align: top;\n",
       "    }\n",
       "\n",
       "    .dataframe thead th {\n",
       "        text-align: right;\n",
       "    }\n",
       "</style>\n",
       "<table border=\"1\" class=\"dataframe\">\n",
       "  <thead>\n",
       "    <tr style=\"text-align: right;\">\n",
       "      <th></th>\n",
       "      <th>GS.N</th>\n",
       "      <th>NKE.N</th>\n",
       "      <th>CSCO.OQ</th>\n",
       "      <th>JPM.N</th>\n",
       "      <th>DIS.N</th>\n",
       "      <th>INTC.OQ</th>\n",
       "      <th>MRK.N</th>\n",
       "      <th>CVX.N</th>\n",
       "      <th>AXP.N</th>\n",
       "      <th>VZ.N</th>\n",
       "      <th>...</th>\n",
       "      <th>PG.N</th>\n",
       "      <th>IBM.N</th>\n",
       "      <th>MMM.N</th>\n",
       "      <th>AAPL.OQ</th>\n",
       "      <th>WMT.N</th>\n",
       "      <th>CAT.N</th>\n",
       "      <th>AMGN.OQ</th>\n",
       "      <th>V.N</th>\n",
       "      <th>TRV.N</th>\n",
       "      <th>BA.N</th>\n",
       "    </tr>\n",
       "    <tr>\n",
       "      <th>Date</th>\n",
       "      <th></th>\n",
       "      <th></th>\n",
       "      <th></th>\n",
       "      <th></th>\n",
       "      <th></th>\n",
       "      <th></th>\n",
       "      <th></th>\n",
       "      <th></th>\n",
       "      <th></th>\n",
       "      <th></th>\n",
       "      <th></th>\n",
       "      <th></th>\n",
       "      <th></th>\n",
       "      <th></th>\n",
       "      <th></th>\n",
       "      <th></th>\n",
       "      <th></th>\n",
       "      <th></th>\n",
       "      <th></th>\n",
       "      <th></th>\n",
       "      <th></th>\n",
       "    </tr>\n",
       "  </thead>\n",
       "  <tbody>\n",
       "    <tr>\n",
       "      <th>2013-04-05</th>\n",
       "      <td>-0.023794</td>\n",
       "      <td>-0.000678</td>\n",
       "      <td>-0.014451</td>\n",
       "      <td>0.009437</td>\n",
       "      <td>0.015721</td>\n",
       "      <td>-0.04254</td>\n",
       "      <td>0.020144</td>\n",
       "      <td>-0.011001</td>\n",
       "      <td>-0.032543</td>\n",
       "      <td>0.008307</td>\n",
       "      <td>...</td>\n",
       "      <td>0.015069</td>\n",
       "      <td>-0.018406</td>\n",
       "      <td>-0.004998</td>\n",
       "      <td>-0.04496</td>\n",
       "      <td>0.020633</td>\n",
       "      <td>-0.027629</td>\n",
       "      <td>0.014815</td>\n",
       "      <td>-0.027942</td>\n",
       "      <td>0.00261</td>\n",
       "      <td>0.003721</td>\n",
       "    </tr>\n",
       "    <tr>\n",
       "      <th>2013-04-12</th>\n",
       "      <td>0.037093</td>\n",
       "      <td>0.026936</td>\n",
       "      <td>0.044135</td>\n",
       "      <td>0.0227</td>\n",
       "      <td>0.048212</td>\n",
       "      <td>0.034729</td>\n",
       "      <td>0.042938</td>\n",
       "      <td>0.020383</td>\n",
       "      <td>0.005802</td>\n",
       "      <td>0.025893</td>\n",
       "      <td>...</td>\n",
       "      <td>0.023373</td>\n",
       "      <td>0.009363</td>\n",
       "      <td>0.017802</td>\n",
       "      <td>0.015546</td>\n",
       "      <td>0.028011</td>\n",
       "      <td>0.005305</td>\n",
       "      <td>0.069877</td>\n",
       "      <td>0.003566</td>\n",
       "      <td>0.02168</td>\n",
       "      <td>0.031078</td>\n",
       "    </tr>\n",
       "    <tr>\n",
       "      <th>2013-04-19</th>\n",
       "      <td>-0.072294</td>\n",
       "      <td>0.005597</td>\n",
       "      <td>-0.051929</td>\n",
       "      <td>-0.036995</td>\n",
       "      <td>0.016543</td>\n",
       "      <td>0.034455</td>\n",
       "      <td>0.008034</td>\n",
       "      <td>-0.034264</td>\n",
       "      <td>0.023474</td>\n",
       "      <td>0.026963</td>\n",
       "      <td>...</td>\n",
       "      <td>0.016718</td>\n",
       "      <td>-0.106633</td>\n",
       "      <td>-0.018464</td>\n",
       "      <td>-0.095892</td>\n",
       "      <td>-0.003443</td>\n",
       "      <td>-0.055852</td>\n",
       "      <td>-0.001704</td>\n",
       "      <td>-0.010858</td>\n",
       "      <td>-0.016953</td>\n",
       "      <td>-0.010517</td>\n",
       "    </tr>\n",
       "    <tr>\n",
       "      <th>2013-04-26</th>\n",
       "      <td>0.038119</td>\n",
       "      <td>0.015797</td>\n",
       "      <td>0.0107</td>\n",
       "      <td>0.034339</td>\n",
       "      <td>0.005023</td>\n",
       "      <td>0.041891</td>\n",
       "      <td>0.00797</td>\n",
       "      <td>0.035097</td>\n",
       "      <td>0.007556</td>\n",
       "      <td>0.026069</td>\n",
       "      <td>...</td>\n",
       "      <td>-0.05464</td>\n",
       "      <td>0.022431</td>\n",
       "      <td>-0.01833</td>\n",
       "      <td>0.065922</td>\n",
       "      <td>0.009534</td>\n",
       "      <td>0.051492</td>\n",
       "      <td>-0.027304</td>\n",
       "      <td>0.019748</td>\n",
       "      <td>0.004001</td>\n",
       "      <td>0.054103</td>\n",
       "    </tr>\n",
       "    <tr>\n",
       "      <th>2013-05-03</th>\n",
       "      <td>0.008705</td>\n",
       "      <td>0.042082</td>\n",
       "      <td>0.007711</td>\n",
       "      <td>-0.027166</td>\n",
       "      <td>0.04627</td>\n",
       "      <td>0.02365</td>\n",
       "      <td>-0.047047</td>\n",
       "      <td>0.028335</td>\n",
       "      <td>0.035951</td>\n",
       "      <td>-0.017873</td>\n",
       "      <td>...</td>\n",
       "      <td>0.014038</td>\n",
       "      <td>0.051162</td>\n",
       "      <td>0.038186</td>\n",
       "      <td>0.075853</td>\n",
       "      <td>0.002653</td>\n",
       "      <td>0.026799</td>\n",
       "      <td>-0.017686</td>\n",
       "      <td>0.071028</td>\n",
       "      <td>0.003049</td>\n",
       "      <td>0.00954</td>\n",
       "    </tr>\n",
       "    <tr>\n",
       "      <th>...</th>\n",
       "      <td>...</td>\n",
       "      <td>...</td>\n",
       "      <td>...</td>\n",
       "      <td>...</td>\n",
       "      <td>...</td>\n",
       "      <td>...</td>\n",
       "      <td>...</td>\n",
       "      <td>...</td>\n",
       "      <td>...</td>\n",
       "      <td>...</td>\n",
       "      <td>...</td>\n",
       "      <td>...</td>\n",
       "      <td>...</td>\n",
       "      <td>...</td>\n",
       "      <td>...</td>\n",
       "      <td>...</td>\n",
       "      <td>...</td>\n",
       "      <td>...</td>\n",
       "      <td>...</td>\n",
       "      <td>...</td>\n",
       "      <td>...</td>\n",
       "    </tr>\n",
       "    <tr>\n",
       "      <th>2023-02-24</th>\n",
       "      <td>-0.012699</td>\n",
       "      <td>-0.056009</td>\n",
       "      <td>-0.046154</td>\n",
       "      <td>-0.009252</td>\n",
       "      <td>-0.047888</td>\n",
       "      <td>-0.093718</td>\n",
       "      <td>0.003373</td>\n",
       "      <td>-0.002706</td>\n",
       "      <td>-0.017352</td>\n",
       "      <td>-0.037492</td>\n",
       "      <td>...</td>\n",
       "      <td>-0.005371</td>\n",
       "      <td>-0.033513</td>\n",
       "      <td>-0.047022</td>\n",
       "      <td>-0.039035</td>\n",
       "      <td>-0.027484</td>\n",
       "      <td>-0.04803</td>\n",
       "      <td>-0.028978</td>\n",
       "      <td>-0.0181</td>\n",
       "      <td>-0.002264</td>\n",
       "      <td>-0.065957</td>\n",
       "    </tr>\n",
       "    <tr>\n",
       "      <th>2023-03-03</th>\n",
       "      <td>-0.018754</td>\n",
       "      <td>0.024271</td>\n",
       "      <td>0.016367</td>\n",
       "      <td>0.019186</td>\n",
       "      <td>0.00834</td>\n",
       "      <td>0.048904</td>\n",
       "      <td>-0.027773</td>\n",
       "      <td>0.015579</td>\n",
       "      <td>0.027397</td>\n",
       "      <td>-0.012468</td>\n",
       "      <td>...</td>\n",
       "      <td>0.012063</td>\n",
       "      <td>-0.007148</td>\n",
       "      <td>0.031592</td>\n",
       "      <td>0.029021</td>\n",
       "      <td>-0.012715</td>\n",
       "      <td>0.077927</td>\n",
       "      <td>0.00491</td>\n",
       "      <td>0.019039</td>\n",
       "      <td>-0.009433</td>\n",
       "      <td>0.082125</td>\n",
       "    </tr>\n",
       "    <tr>\n",
       "      <th>2023-03-10</th>\n",
       "      <td>-0.085981</td>\n",
       "      <td>-0.028941</td>\n",
       "      <td>-0.014718</td>\n",
       "      <td>-0.072225</td>\n",
       "      <td>-0.077796</td>\n",
       "      <td>0.030588</td>\n",
       "      <td>0.00755</td>\n",
       "      <td>-0.032594</td>\n",
       "      <td>-0.07771</td>\n",
       "      <td>-0.042173</td>\n",
       "      <td>...</td>\n",
       "      <td>-0.027038</td>\n",
       "      <td>-0.032854</td>\n",
       "      <td>-0.066902</td>\n",
       "      <td>-0.016894</td>\n",
       "      <td>-0.026655</td>\n",
       "      <td>-0.117484</td>\n",
       "      <td>-0.030001</td>\n",
       "      <td>-0.034692</td>\n",
       "      <td>-0.044041</td>\n",
       "      <td>-0.057599</td>\n",
       "    </tr>\n",
       "    <tr>\n",
       "      <th>2023-03-17</th>\n",
       "      <td>-0.076494</td>\n",
       "      <td>0.024383</td>\n",
       "      <td>0.033016</td>\n",
       "      <td>-0.060452</td>\n",
       "      <td>-0.003962</td>\n",
       "      <td>0.090892</td>\n",
       "      <td>-0.033905</td>\n",
       "      <td>-0.046994</td>\n",
       "      <td>-0.056995</td>\n",
       "      <td>0.002994</td>\n",
       "      <td>...</td>\n",
       "      <td>0.040988</td>\n",
       "      <td>-0.014129</td>\n",
       "      <td>-0.010045</td>\n",
       "      <td>0.04284</td>\n",
       "      <td>0.017586</td>\n",
       "      <td>-0.05431</td>\n",
       "      <td>0.008391</td>\n",
       "      <td>0.005767</td>\n",
       "      <td>-0.062537</td>\n",
       "      <td>-0.009997</td>\n",
       "    </tr>\n",
       "    <tr>\n",
       "      <th>2023-03-24</th>\n",
       "      <td>0.029315</td>\n",
       "      <td>0.002655</td>\n",
       "      <td>0.006356</td>\n",
       "      <td>-0.007179</td>\n",
       "      <td>0.009398</td>\n",
       "      <td>-0.015211</td>\n",
       "      <td>0.006702</td>\n",
       "      <td>0.024126</td>\n",
       "      <td>0.020614</td>\n",
       "      <td>0.023372</td>\n",
       "      <td>...</td>\n",
       "      <td>0.026171</td>\n",
       "      <td>0.012853</td>\n",
       "      <td>-0.018417</td>\n",
       "      <td>0.03331</td>\n",
       "      <td>0.01707</td>\n",
       "      <td>0.009259</td>\n",
       "      <td>0.035231</td>\n",
       "      <td>0.016651</td>\n",
       "      <td>-0.000727</td>\n",
       "      <td>-0.017663</td>\n",
       "    </tr>\n",
       "  </tbody>\n",
       "</table>\n",
       "<p>521 rows × 29 columns</p>\n",
       "</div>"
      ],
      "text/plain": [
       "                GS.N     NKE.N   CSCO.OQ     JPM.N     DIS.N   INTC.OQ  \\\n",
       "Date                                                                     \n",
       "2013-04-05 -0.023794 -0.000678 -0.014451  0.009437  0.015721  -0.04254   \n",
       "2013-04-12  0.037093  0.026936  0.044135    0.0227  0.048212  0.034729   \n",
       "2013-04-19 -0.072294  0.005597 -0.051929 -0.036995  0.016543  0.034455   \n",
       "2013-04-26  0.038119  0.015797    0.0107  0.034339  0.005023  0.041891   \n",
       "2013-05-03  0.008705  0.042082  0.007711 -0.027166   0.04627   0.02365   \n",
       "...              ...       ...       ...       ...       ...       ...   \n",
       "2023-02-24 -0.012699 -0.056009 -0.046154 -0.009252 -0.047888 -0.093718   \n",
       "2023-03-03 -0.018754  0.024271  0.016367  0.019186   0.00834  0.048904   \n",
       "2023-03-10 -0.085981 -0.028941 -0.014718 -0.072225 -0.077796  0.030588   \n",
       "2023-03-17 -0.076494  0.024383  0.033016 -0.060452 -0.003962  0.090892   \n",
       "2023-03-24  0.029315  0.002655  0.006356 -0.007179  0.009398 -0.015211   \n",
       "\n",
       "               MRK.N     CVX.N     AXP.N      VZ.N  ...      PG.N     IBM.N  \\\n",
       "Date                                                ...                       \n",
       "2013-04-05  0.020144 -0.011001 -0.032543  0.008307  ...  0.015069 -0.018406   \n",
       "2013-04-12  0.042938  0.020383  0.005802  0.025893  ...  0.023373  0.009363   \n",
       "2013-04-19  0.008034 -0.034264  0.023474  0.026963  ...  0.016718 -0.106633   \n",
       "2013-04-26   0.00797  0.035097  0.007556  0.026069  ...  -0.05464  0.022431   \n",
       "2013-05-03 -0.047047  0.028335  0.035951 -0.017873  ...  0.014038  0.051162   \n",
       "...              ...       ...       ...       ...  ...       ...       ...   \n",
       "2023-02-24  0.003373 -0.002706 -0.017352 -0.037492  ... -0.005371 -0.033513   \n",
       "2023-03-03 -0.027773  0.015579  0.027397 -0.012468  ...  0.012063 -0.007148   \n",
       "2023-03-10   0.00755 -0.032594  -0.07771 -0.042173  ... -0.027038 -0.032854   \n",
       "2023-03-17 -0.033905 -0.046994 -0.056995  0.002994  ...  0.040988 -0.014129   \n",
       "2023-03-24  0.006702  0.024126  0.020614  0.023372  ...  0.026171  0.012853   \n",
       "\n",
       "               MMM.N   AAPL.OQ     WMT.N     CAT.N   AMGN.OQ       V.N  \\\n",
       "Date                                                                     \n",
       "2013-04-05 -0.004998  -0.04496  0.020633 -0.027629  0.014815 -0.027942   \n",
       "2013-04-12  0.017802  0.015546  0.028011  0.005305  0.069877  0.003566   \n",
       "2013-04-19 -0.018464 -0.095892 -0.003443 -0.055852 -0.001704 -0.010858   \n",
       "2013-04-26  -0.01833  0.065922  0.009534  0.051492 -0.027304  0.019748   \n",
       "2013-05-03  0.038186  0.075853  0.002653  0.026799 -0.017686  0.071028   \n",
       "...              ...       ...       ...       ...       ...       ...   \n",
       "2023-02-24 -0.047022 -0.039035 -0.027484  -0.04803 -0.028978   -0.0181   \n",
       "2023-03-03  0.031592  0.029021 -0.012715  0.077927   0.00491  0.019039   \n",
       "2023-03-10 -0.066902 -0.016894 -0.026655 -0.117484 -0.030001 -0.034692   \n",
       "2023-03-17 -0.010045   0.04284  0.017586  -0.05431  0.008391  0.005767   \n",
       "2023-03-24 -0.018417   0.03331   0.01707  0.009259  0.035231  0.016651   \n",
       "\n",
       "               TRV.N      BA.N  \n",
       "Date                            \n",
       "2013-04-05   0.00261  0.003721  \n",
       "2013-04-12   0.02168  0.031078  \n",
       "2013-04-19 -0.016953 -0.010517  \n",
       "2013-04-26  0.004001  0.054103  \n",
       "2013-05-03  0.003049   0.00954  \n",
       "...              ...       ...  \n",
       "2023-02-24 -0.002264 -0.065957  \n",
       "2023-03-03 -0.009433  0.082125  \n",
       "2023-03-10 -0.044041 -0.057599  \n",
       "2023-03-17 -0.062537 -0.009997  \n",
       "2023-03-24 -0.000727 -0.017663  \n",
       "\n",
       "[521 rows x 29 columns]"
      ]
     },
     "execution_count": 19,
     "metadata": {},
     "output_type": "execute_result"
    }
   ],
   "source": [
    "weekly_returns"
   ]
  },
  {
   "cell_type": "code",
   "execution_count": 20,
   "id": "6bd2e74a",
   "metadata": {},
   "outputs": [
    {
     "data": {
      "text/plain": [
       "(521, 29)"
      ]
     },
     "execution_count": 20,
     "metadata": {},
     "output_type": "execute_result"
    }
   ],
   "source": [
    "weekly_returns.shape\n",
    "#weekly_returns.info()\n",
    "#weekly_returns"
   ]
  },
  {
   "cell_type": "markdown",
   "id": "ba86bc06",
   "metadata": {},
   "source": [
    "# Set Parameters"
   ]
  },
  {
   "cell_type": "code",
   "execution_count": 21,
   "id": "fda0fffa",
   "metadata": {},
   "outputs": [],
   "source": [
    "stocks = weekly_returns.columns"
   ]
  },
  {
   "cell_type": "code",
   "execution_count": 22,
   "id": "052d030a",
   "metadata": {},
   "outputs": [
    {
     "data": {
      "text/plain": [
       "(29, 521)"
      ]
     },
     "execution_count": 22,
     "metadata": {},
     "output_type": "execute_result"
    }
   ],
   "source": [
    "n_obs, n_assets = weekly_returns.shape\n",
    "n_assets, n_obs"
   ]
  },
  {
   "cell_type": "code",
   "execution_count": 23,
   "id": "42782c2f",
   "metadata": {},
   "outputs": [
    {
     "data": {
      "text/plain": [
       "(521, 29)"
      ]
     },
     "execution_count": 23,
     "metadata": {},
     "output_type": "execute_result"
    }
   ],
   "source": [
    "weekly_returns.shape"
   ]
  },
  {
   "cell_type": "code",
   "execution_count": 24,
   "id": "aae2ea0f",
   "metadata": {},
   "outputs": [],
   "source": [
    "NUM_PF = 100000 # no of portfolios to simulate"
   ]
  },
  {
   "cell_type": "code",
   "execution_count": 25,
   "id": "383f98f2",
   "metadata": {},
   "outputs": [],
   "source": [
    "x0 = uniform(0, 1, n_assets)\n",
    "x0 /= np.sum(np.abs(x0))"
   ]
  },
  {
   "cell_type": "markdown",
   "id": "34f861b3",
   "metadata": {},
   "source": [
    "# Annualization Factor"
   ]
  },
  {
   "cell_type": "code",
   "execution_count": 26,
   "id": "4b04edcd",
   "metadata": {},
   "outputs": [
    {
     "data": {
      "text/plain": [
       "47"
      ]
     },
     "execution_count": 26,
     "metadata": {},
     "output_type": "execute_result"
    }
   ],
   "source": [
    "periods_per_year = round(weekly_returns.resample('A').size().mean())\n",
    "periods_per_year"
   ]
  },
  {
   "cell_type": "markdown",
   "id": "d6098a4f",
   "metadata": {},
   "source": [
    "# Compute Mean Returns, Covariance and Precision Matrix"
   ]
  },
  {
   "cell_type": "code",
   "execution_count": 27,
   "id": "0dbe45e8",
   "metadata": {},
   "outputs": [],
   "source": [
    "mean_returns = weekly_returns.mean()\n",
    "cov_matrix = weekly_returns.cov()\n",
    "#cov_matrix"
   ]
  },
  {
   "cell_type": "code",
   "execution_count": 28,
   "id": "514aca13",
   "metadata": {},
   "outputs": [],
   "source": [
    "precision_matrix = pd.DataFrame(inv(cov_matrix), index=stocks, columns=stocks)\n",
    "#precision_matrix"
   ]
  },
  {
   "cell_type": "markdown",
   "id": "867500e8",
   "metadata": {},
   "source": [
    "# Risk-Free Rate\n",
    "Load historical 10-year Treasury rate:"
   ]
  },
  {
   "cell_type": "code",
   "execution_count": 29,
   "id": "fe1bfe85",
   "metadata": {},
   "outputs": [
    {
     "ename": "NameError",
     "evalue": "name 'web' is not defined",
     "output_type": "error",
     "traceback": [
      "\u001b[0;31m---------------------------------------------------------------------------\u001b[0m",
      "\u001b[0;31mNameError\u001b[0m                                 Traceback (most recent call last)",
      "Cell \u001b[0;32mIn[29], line 1\u001b[0m\n\u001b[0;32m----> 1\u001b[0m treasury_10yr_monthly \u001b[38;5;241m=\u001b[39m (\u001b[43mweb\u001b[49m\u001b[38;5;241m.\u001b[39mDataReader(\u001b[38;5;124m'\u001b[39m\u001b[38;5;124mDGS10\u001b[39m\u001b[38;5;124m'\u001b[39m, \u001b[38;5;124m'\u001b[39m\u001b[38;5;124mfred\u001b[39m\u001b[38;5;124m'\u001b[39m, start, end)\n\u001b[1;32m      2\u001b[0m                          \u001b[38;5;241m.\u001b[39mresample(\u001b[38;5;124m'\u001b[39m\u001b[38;5;124mM\u001b[39m\u001b[38;5;124m'\u001b[39m)\n\u001b[1;32m      3\u001b[0m                          \u001b[38;5;241m.\u001b[39mlast()\n\u001b[1;32m      4\u001b[0m                          \u001b[38;5;241m.\u001b[39mdiv(periods_per_year)\n\u001b[1;32m      5\u001b[0m                          \u001b[38;5;241m.\u001b[39mdiv(\u001b[38;5;241m100\u001b[39m)\n\u001b[1;32m      6\u001b[0m                          \u001b[38;5;241m.\u001b[39msqueeze())\n",
      "\u001b[0;31mNameError\u001b[0m: name 'web' is not defined"
     ]
    }
   ],
   "source": [
    "treasury_10yr_monthly = (web.DataReader('DGS10', 'fred', start, end)\n",
    "                         .resample('M')\n",
    "                         .last()\n",
    "                         .div(periods_per_year)\n",
    "                         .div(100)\n",
    "                         .squeeze())"
   ]
  },
  {
   "cell_type": "code",
   "execution_count": 303,
   "id": "478261c3",
   "metadata": {},
   "outputs": [
    {
     "data": {
      "text/plain": [
       "DATE\n",
       "2012-03-31    0.000474\n",
       "2012-04-30    0.000415\n",
       "2012-05-31    0.000338\n",
       "2012-06-30    0.000355\n",
       "2012-07-31    0.000321\n",
       "                ...   \n",
       "2021-11-30    0.000304\n",
       "2021-12-31    0.000323\n",
       "2022-01-31    0.000381\n",
       "2022-02-28    0.000389\n",
       "2022-03-31    0.000370\n",
       "Freq: M, Name: DGS10, Length: 121, dtype: float64"
      ]
     },
     "execution_count": 303,
     "metadata": {},
     "output_type": "execute_result"
    }
   ],
   "source": [
    "treasury_10yr_monthly"
   ]
  },
  {
   "cell_type": "code",
   "execution_count": 344,
   "id": "4fa0d07e",
   "metadata": {},
   "outputs": [
    {
     "data": {
      "text/plain": [
       "0.0008044297520661157"
      ]
     },
     "execution_count": 344,
     "metadata": {},
     "output_type": "execute_result"
    }
   ],
   "source": [
    "rf_rate = 0.0008044297520661157"
   ]
  },
  {
   "cell_type": "raw",
   "id": "e0dffd99",
   "metadata": {},
   "source": [
    "rf_rate"
   ]
  },
  {
   "cell_type": "markdown",
   "id": "1fde088d",
   "metadata": {},
   "source": [
    "# Simulate Random Portfolios\n",
    "The simulation generates random weights using the Dirichlet distribution, and computes the mean, standard deviation, and SR for each sample portfolio using the historical return data:"
   ]
  },
  {
   "cell_type": "code",
   "execution_count": 342,
   "id": "4a1f1bbe",
   "metadata": {},
   "outputs": [],
   "source": [
    "def simulate_portfolios(mean_ret, cov, rf_rate=rf_rate, short=True):\n",
    "    alpha = np.full(shape=n_assets, fill_value=.05)\n",
    "    weights = dirichlet(alpha=alpha, size=NUM_PF)\n",
    "    if short:\n",
    "        weights *= choice([-1, 1], size=weights.shape)\n",
    "\n",
    "    returns = weights @ mean_ret.values + 1\n",
    "    returns = returns ** periods_per_year - 1\n",
    "    std = (weights @ weekly_returns.T).std(1)\n",
    "    std *= np.sqrt(periods_per_year)\n",
    "    sharpe = (returns - rf_rate) / std\n",
    "    return pd.DataFrame({'Annualized Standard Deviation': std,\n",
    "                         'Annualized Returns': returns,\n",
    "                         'Sharpe Ratio': sharpe}), weights"
   ]
  },
  {
   "cell_type": "code",
   "execution_count": 305,
   "id": "58396fc2",
   "metadata": {},
   "outputs": [],
   "source": [
    "simul_perf, simul_wt = simulate_portfolios(mean_returns, cov_matrix, short=False)"
   ]
  },
  {
   "cell_type": "code",
   "execution_count": 345,
   "id": "947b7aec",
   "metadata": {},
   "outputs": [
    {
     "data": {
      "text/html": [
       "<div>\n",
       "<style scoped>\n",
       "    .dataframe tbody tr th:only-of-type {\n",
       "        vertical-align: middle;\n",
       "    }\n",
       "\n",
       "    .dataframe tbody tr th {\n",
       "        vertical-align: top;\n",
       "    }\n",
       "\n",
       "    .dataframe thead th {\n",
       "        text-align: right;\n",
       "    }\n",
       "</style>\n",
       "<table border=\"1\" class=\"dataframe\">\n",
       "  <thead>\n",
       "    <tr style=\"text-align: right;\">\n",
       "      <th></th>\n",
       "      <th>0</th>\n",
       "      <th>1</th>\n",
       "      <th>2</th>\n",
       "      <th>3</th>\n",
       "      <th>4</th>\n",
       "      <th>5</th>\n",
       "      <th>6</th>\n",
       "      <th>7</th>\n",
       "      <th>8</th>\n",
       "      <th>9</th>\n",
       "      <th>...</th>\n",
       "      <th>19</th>\n",
       "      <th>20</th>\n",
       "      <th>21</th>\n",
       "      <th>22</th>\n",
       "      <th>23</th>\n",
       "      <th>24</th>\n",
       "      <th>25</th>\n",
       "      <th>26</th>\n",
       "      <th>27</th>\n",
       "      <th>28</th>\n",
       "    </tr>\n",
       "  </thead>\n",
       "  <tbody>\n",
       "    <tr>\n",
       "      <th>count</th>\n",
       "      <td>1.000000e+05</td>\n",
       "      <td>1.000000e+05</td>\n",
       "      <td>1.000000e+05</td>\n",
       "      <td>1.000000e+05</td>\n",
       "      <td>1.000000e+05</td>\n",
       "      <td>1.000000e+05</td>\n",
       "      <td>1.000000e+05</td>\n",
       "      <td>1.000000e+05</td>\n",
       "      <td>1.000000e+05</td>\n",
       "      <td>1.000000e+05</td>\n",
       "      <td>...</td>\n",
       "      <td>1.000000e+05</td>\n",
       "      <td>1.000000e+05</td>\n",
       "      <td>1.000000e+05</td>\n",
       "      <td>1.000000e+05</td>\n",
       "      <td>1.000000e+05</td>\n",
       "      <td>1.000000e+05</td>\n",
       "      <td>1.000000e+05</td>\n",
       "      <td>1.000000e+05</td>\n",
       "      <td>1.000000e+05</td>\n",
       "      <td>1.000000e+05</td>\n",
       "    </tr>\n",
       "    <tr>\n",
       "      <th>mean</th>\n",
       "      <td>3.430421e-02</td>\n",
       "      <td>3.403775e-02</td>\n",
       "      <td>3.405414e-02</td>\n",
       "      <td>3.480573e-02</td>\n",
       "      <td>3.444834e-02</td>\n",
       "      <td>3.529950e-02</td>\n",
       "      <td>3.413524e-02</td>\n",
       "      <td>3.436330e-02</td>\n",
       "      <td>3.485071e-02</td>\n",
       "      <td>3.519445e-02</td>\n",
       "      <td>...</td>\n",
       "      <td>3.445764e-02</td>\n",
       "      <td>3.410600e-02</td>\n",
       "      <td>3.498034e-02</td>\n",
       "      <td>3.390941e-02</td>\n",
       "      <td>3.474279e-02</td>\n",
       "      <td>3.416324e-02</td>\n",
       "      <td>3.466585e-02</td>\n",
       "      <td>3.465663e-02</td>\n",
       "      <td>3.441749e-02</td>\n",
       "      <td>3.464379e-02</td>\n",
       "    </tr>\n",
       "    <tr>\n",
       "      <th>std</th>\n",
       "      <td>1.162723e-01</td>\n",
       "      <td>1.158470e-01</td>\n",
       "      <td>1.164764e-01</td>\n",
       "      <td>1.177155e-01</td>\n",
       "      <td>1.163431e-01</td>\n",
       "      <td>1.188460e-01</td>\n",
       "      <td>1.161192e-01</td>\n",
       "      <td>1.170535e-01</td>\n",
       "      <td>1.172286e-01</td>\n",
       "      <td>1.181133e-01</td>\n",
       "      <td>...</td>\n",
       "      <td>1.164612e-01</td>\n",
       "      <td>1.160744e-01</td>\n",
       "      <td>1.177378e-01</td>\n",
       "      <td>1.154140e-01</td>\n",
       "      <td>1.178120e-01</td>\n",
       "      <td>1.159898e-01</td>\n",
       "      <td>1.169628e-01</td>\n",
       "      <td>1.174804e-01</td>\n",
       "      <td>1.163367e-01</td>\n",
       "      <td>1.169874e-01</td>\n",
       "    </tr>\n",
       "    <tr>\n",
       "      <th>min</th>\n",
       "      <td>6.465524e-96</td>\n",
       "      <td>3.405386e-125</td>\n",
       "      <td>1.931936e-90</td>\n",
       "      <td>6.917960e-115</td>\n",
       "      <td>7.473836e-87</td>\n",
       "      <td>2.065978e-95</td>\n",
       "      <td>1.326551e-97</td>\n",
       "      <td>7.375387e-97</td>\n",
       "      <td>9.900073e-101</td>\n",
       "      <td>4.723213e-115</td>\n",
       "      <td>...</td>\n",
       "      <td>2.228061e-105</td>\n",
       "      <td>1.855466e-129</td>\n",
       "      <td>1.671986e-110</td>\n",
       "      <td>1.504493e-116</td>\n",
       "      <td>1.345795e-95</td>\n",
       "      <td>6.094811e-103</td>\n",
       "      <td>6.918844e-115</td>\n",
       "      <td>4.041585e-120</td>\n",
       "      <td>1.085715e-100</td>\n",
       "      <td>1.177179e-96</td>\n",
       "    </tr>\n",
       "    <tr>\n",
       "      <th>25%</th>\n",
       "      <td>5.868220e-13</td>\n",
       "      <td>5.655109e-13</td>\n",
       "      <td>4.812704e-13</td>\n",
       "      <td>4.888144e-13</td>\n",
       "      <td>5.359289e-13</td>\n",
       "      <td>5.255065e-13</td>\n",
       "      <td>5.558535e-13</td>\n",
       "      <td>5.513528e-13</td>\n",
       "      <td>5.566133e-13</td>\n",
       "      <td>5.804894e-13</td>\n",
       "      <td>...</td>\n",
       "      <td>6.190556e-13</td>\n",
       "      <td>5.873547e-13</td>\n",
       "      <td>6.020688e-13</td>\n",
       "      <td>5.124557e-13</td>\n",
       "      <td>5.174730e-13</td>\n",
       "      <td>5.378972e-13</td>\n",
       "      <td>5.636581e-13</td>\n",
       "      <td>4.937393e-13</td>\n",
       "      <td>5.590649e-13</td>\n",
       "      <td>5.224223e-13</td>\n",
       "    </tr>\n",
       "    <tr>\n",
       "      <th>50%</th>\n",
       "      <td>5.697698e-07</td>\n",
       "      <td>5.829386e-07</td>\n",
       "      <td>5.003749e-07</td>\n",
       "      <td>5.896452e-07</td>\n",
       "      <td>5.777261e-07</td>\n",
       "      <td>5.557167e-07</td>\n",
       "      <td>5.773893e-07</td>\n",
       "      <td>5.557101e-07</td>\n",
       "      <td>5.415808e-07</td>\n",
       "      <td>5.916929e-07</td>\n",
       "      <td>...</td>\n",
       "      <td>5.907355e-07</td>\n",
       "      <td>6.190229e-07</td>\n",
       "      <td>6.069556e-07</td>\n",
       "      <td>5.864053e-07</td>\n",
       "      <td>5.502984e-07</td>\n",
       "      <td>5.239827e-07</td>\n",
       "      <td>5.564713e-07</td>\n",
       "      <td>5.950632e-07</td>\n",
       "      <td>5.757918e-07</td>\n",
       "      <td>5.632180e-07</td>\n",
       "    </tr>\n",
       "    <tr>\n",
       "      <th>75%</th>\n",
       "      <td>1.864058e-03</td>\n",
       "      <td>1.835967e-03</td>\n",
       "      <td>1.725827e-03</td>\n",
       "      <td>1.852020e-03</td>\n",
       "      <td>1.952626e-03</td>\n",
       "      <td>1.888022e-03</td>\n",
       "      <td>1.828419e-03</td>\n",
       "      <td>1.840667e-03</td>\n",
       "      <td>1.997405e-03</td>\n",
       "      <td>1.951334e-03</td>\n",
       "      <td>...</td>\n",
       "      <td>1.938218e-03</td>\n",
       "      <td>1.892551e-03</td>\n",
       "      <td>1.901140e-03</td>\n",
       "      <td>1.810599e-03</td>\n",
       "      <td>1.910511e-03</td>\n",
       "      <td>1.797172e-03</td>\n",
       "      <td>1.920049e-03</td>\n",
       "      <td>1.869014e-03</td>\n",
       "      <td>1.895982e-03</td>\n",
       "      <td>1.880918e-03</td>\n",
       "    </tr>\n",
       "    <tr>\n",
       "      <th>max</th>\n",
       "      <td>9.973458e-01</td>\n",
       "      <td>9.989065e-01</td>\n",
       "      <td>9.979441e-01</td>\n",
       "      <td>9.954728e-01</td>\n",
       "      <td>9.993855e-01</td>\n",
       "      <td>9.984629e-01</td>\n",
       "      <td>9.973016e-01</td>\n",
       "      <td>9.985679e-01</td>\n",
       "      <td>9.990279e-01</td>\n",
       "      <td>9.989651e-01</td>\n",
       "      <td>...</td>\n",
       "      <td>9.952171e-01</td>\n",
       "      <td>9.974084e-01</td>\n",
       "      <td>9.980465e-01</td>\n",
       "      <td>9.995147e-01</td>\n",
       "      <td>9.991353e-01</td>\n",
       "      <td>9.989504e-01</td>\n",
       "      <td>9.976767e-01</td>\n",
       "      <td>9.996893e-01</td>\n",
       "      <td>9.970854e-01</td>\n",
       "      <td>9.968264e-01</td>\n",
       "    </tr>\n",
       "  </tbody>\n",
       "</table>\n",
       "<p>8 rows × 29 columns</p>\n",
       "</div>"
      ],
      "text/plain": [
       "                 0              1             2              3             4   \\\n",
       "count  1.000000e+05   1.000000e+05  1.000000e+05   1.000000e+05  1.000000e+05   \n",
       "mean   3.430421e-02   3.403775e-02  3.405414e-02   3.480573e-02  3.444834e-02   \n",
       "std    1.162723e-01   1.158470e-01  1.164764e-01   1.177155e-01  1.163431e-01   \n",
       "min    6.465524e-96  3.405386e-125  1.931936e-90  6.917960e-115  7.473836e-87   \n",
       "25%    5.868220e-13   5.655109e-13  4.812704e-13   4.888144e-13  5.359289e-13   \n",
       "50%    5.697698e-07   5.829386e-07  5.003749e-07   5.896452e-07  5.777261e-07   \n",
       "75%    1.864058e-03   1.835967e-03  1.725827e-03   1.852020e-03  1.952626e-03   \n",
       "max    9.973458e-01   9.989065e-01  9.979441e-01   9.954728e-01  9.993855e-01   \n",
       "\n",
       "                 5             6             7              8              9   \\\n",
       "count  1.000000e+05  1.000000e+05  1.000000e+05   1.000000e+05   1.000000e+05   \n",
       "mean   3.529950e-02  3.413524e-02  3.436330e-02   3.485071e-02   3.519445e-02   \n",
       "std    1.188460e-01  1.161192e-01  1.170535e-01   1.172286e-01   1.181133e-01   \n",
       "min    2.065978e-95  1.326551e-97  7.375387e-97  9.900073e-101  4.723213e-115   \n",
       "25%    5.255065e-13  5.558535e-13  5.513528e-13   5.566133e-13   5.804894e-13   \n",
       "50%    5.557167e-07  5.773893e-07  5.557101e-07   5.415808e-07   5.916929e-07   \n",
       "75%    1.888022e-03  1.828419e-03  1.840667e-03   1.997405e-03   1.951334e-03   \n",
       "max    9.984629e-01  9.973016e-01  9.985679e-01   9.990279e-01   9.989651e-01   \n",
       "\n",
       "       ...             19             20             21             22  \\\n",
       "count  ...   1.000000e+05   1.000000e+05   1.000000e+05   1.000000e+05   \n",
       "mean   ...   3.445764e-02   3.410600e-02   3.498034e-02   3.390941e-02   \n",
       "std    ...   1.164612e-01   1.160744e-01   1.177378e-01   1.154140e-01   \n",
       "min    ...  2.228061e-105  1.855466e-129  1.671986e-110  1.504493e-116   \n",
       "25%    ...   6.190556e-13   5.873547e-13   6.020688e-13   5.124557e-13   \n",
       "50%    ...   5.907355e-07   6.190229e-07   6.069556e-07   5.864053e-07   \n",
       "75%    ...   1.938218e-03   1.892551e-03   1.901140e-03   1.810599e-03   \n",
       "max    ...   9.952171e-01   9.974084e-01   9.980465e-01   9.995147e-01   \n",
       "\n",
       "                 23             24             25             26  \\\n",
       "count  1.000000e+05   1.000000e+05   1.000000e+05   1.000000e+05   \n",
       "mean   3.474279e-02   3.416324e-02   3.466585e-02   3.465663e-02   \n",
       "std    1.178120e-01   1.159898e-01   1.169628e-01   1.174804e-01   \n",
       "min    1.345795e-95  6.094811e-103  6.918844e-115  4.041585e-120   \n",
       "25%    5.174730e-13   5.378972e-13   5.636581e-13   4.937393e-13   \n",
       "50%    5.502984e-07   5.239827e-07   5.564713e-07   5.950632e-07   \n",
       "75%    1.910511e-03   1.797172e-03   1.920049e-03   1.869014e-03   \n",
       "max    9.991353e-01   9.989504e-01   9.976767e-01   9.996893e-01   \n",
       "\n",
       "                  27            28  \n",
       "count   1.000000e+05  1.000000e+05  \n",
       "mean    3.441749e-02  3.464379e-02  \n",
       "std     1.163367e-01  1.169874e-01  \n",
       "min    1.085715e-100  1.177179e-96  \n",
       "25%     5.590649e-13  5.224223e-13  \n",
       "50%     5.757918e-07  5.632180e-07  \n",
       "75%     1.895982e-03  1.880918e-03  \n",
       "max     9.970854e-01  9.968264e-01  \n",
       "\n",
       "[8 rows x 29 columns]"
      ]
     },
     "execution_count": 345,
     "metadata": {},
     "output_type": "execute_result"
    }
   ],
   "source": [
    "df = pd.DataFrame(simul_wt)\n",
    "df.describe()"
   ]
  },
  {
   "cell_type": "markdown",
   "id": "04488205",
   "metadata": {},
   "source": [
    "# Plot Simulated Portfolios"
   ]
  },
  {
   "cell_type": "code",
   "execution_count": 307,
   "id": "581696f7",
   "metadata": {},
   "outputs": [
    {
     "name": "stdout",
     "output_type": "stream",
     "text": [
      "Max Sharpe: 16.94%, 19.86%\n"
     ]
    },
    {
     "data": {
      "image/png": "[encoded data removed]",
      "text/plain": [
       "<Figure size 1008x648 with 2 Axes>"
      ]
     },
     "metadata": {},
     "output_type": "display_data"
    }
   ],
   "source": [
    "ax = simul_perf.plot.scatter(x=0, y=1, c=2, cmap='Blues',\n",
    "                             alpha=0.5, figsize=(14, 9), colorbar=True,\n",
    "                             title=f'{NUM_PF:,d} Simulated Portfolios')\n",
    "\n",
    "max_sharpe_idx = simul_perf.iloc[:, 2].idxmax()\n",
    "sd, r = simul_perf.iloc[max_sharpe_idx, :2].values\n",
    "print(f'Max Sharpe: {sd:.2%}, {r:.2%}')\n",
    "ax.scatter(sd, r, marker='*', color='darkblue', s=500, label='Max. Sharpe Ratio')\n",
    "\n",
    "min_vol_idx = simul_perf.iloc[:, 0].idxmin()\n",
    "sd, r = simul_perf.iloc[min_vol_idx, :2].values\n",
    "ax.scatter(sd, r, marker='*', color='green', s=500, label='Min Volatility')\n",
    "plt.legend(labelspacing=1, loc='upper left')\n",
    "plt.tight_layout()"
   ]
  },
  {
   "cell_type": "markdown",
   "id": "8e80fa21",
   "metadata": {},
   "source": [
    "# Compute Annualize PF Performance\n",
    "Now we'll set up the quadratic optimization problem to solve for the minimum standard deviation for a given return or the maximum SR.\n",
    "\n",
    "To this end, define the functions that measure the key metrics:"
   ]
  },
  {
   "cell_type": "code",
   "execution_count": 308,
   "id": "03c84c81",
   "metadata": {},
   "outputs": [],
   "source": [
    "def portfolio_std(wt, rt=None, cov=None):\n",
    "    \"\"\"Annualized PF standard deviation\"\"\"\n",
    "    return np.sqrt(wt @ cov @ wt * periods_per_year)"
   ]
  },
  {
   "cell_type": "code",
   "execution_count": 309,
   "id": "0ed7746c",
   "metadata": {},
   "outputs": [],
   "source": [
    "def portfolio_returns(wt, rt=None, cov=None):\n",
    "    \"\"\"Annualized PF returns\"\"\"\n",
    "    return (wt @ rt + 1) ** periods_per_year - 1"
   ]
  },
  {
   "cell_type": "code",
   "execution_count": 310,
   "id": "3122f0a7",
   "metadata": {},
   "outputs": [],
   "source": [
    "def portfolio_performance(wt, rt, cov):\n",
    "    \"\"\"Annualized PF returns & standard deviation\"\"\"\n",
    "    r = portfolio_returns(wt, rt=rt)\n",
    "    sd = portfolio_std(wt, cov=cov)\n",
    "    return r, sd"
   ]
  },
  {
   "cell_type": "markdown",
   "id": "967294a9",
   "metadata": {},
   "source": [
    "# Max Sharpe PF\n",
    "Define a target function that represents the negative SR for scipy's minimize function to optimize, given the constraints that the weights are bounded by [-1, 1], if short trading is permitted, and [0, 1] otherwise, and sum to one in absolute terms."
   ]
  },
  {
   "cell_type": "code",
   "execution_count": 311,
   "id": "374964e8",
   "metadata": {},
   "outputs": [],
   "source": [
    "def neg_sharpe_ratio(weights, mean_ret, cov):\n",
    "    r, sd = portfolio_performance(weights, mean_ret, cov)\n",
    "    return -(r - rf_rate) / sd"
   ]
  },
  {
   "cell_type": "code",
   "execution_count": 312,
   "id": "e5f09a7c",
   "metadata": {},
   "outputs": [],
   "source": [
    "weight_constraint = {'type': 'eq', \n",
    "                     'fun': lambda x: np.sum(np.abs(x))-1}"
   ]
  },
  {
   "cell_type": "code",
   "execution_count": 313,
   "id": "0ce62002",
   "metadata": {},
   "outputs": [],
   "source": [
    "def max_sharpe_ratio(mean_ret, cov, short=False):\n",
    "    return minimize(fun=neg_sharpe_ratio,\n",
    "                    x0=x0,\n",
    "                    args=(mean_ret, cov),\n",
    "                    method='SLSQP',\n",
    "                    bounds=((-1 if short else 0, 1),) * n_assets,\n",
    "                    constraints=weight_constraint,\n",
    "                    options={'tol':1e-10, 'maxiter':1e4})"
   ]
  },
  {
   "cell_type": "markdown",
   "id": "802d47f8",
   "metadata": {},
   "source": [
    "# Compute Efficient Frontier\n",
    "The solution requires iterating over ranges of acceptable values to identify optimal risk-return combinations"
   ]
  },
  {
   "cell_type": "code",
   "execution_count": 314,
   "id": "aa7372ab",
   "metadata": {},
   "outputs": [],
   "source": [
    "def min_vol_target(mean_ret, cov, target, short=False):\n",
    "\n",
    "    def ret_(wt):\n",
    "        return portfolio_returns(wt, mean_ret)\n",
    "\n",
    "    constraints = [{'type': 'eq',\n",
    "                    'fun': lambda x: ret_(x) - target},\n",
    "                   weight_constraint]\n",
    "\n",
    "    bounds = ((-1 if short else 0, 1),) * n_assets\n",
    "    return minimize(portfolio_std,\n",
    "                    x0=x0,\n",
    "                    args=(mean_ret, cov),\n",
    "                    method='SLSQP',\n",
    "                    bounds=bounds,\n",
    "                    constraints=constraints,\n",
    "                    options={'tol': 1e-10, 'maxiter': 1e4})"
   ]
  },
  {
   "cell_type": "markdown",
   "id": "e16708be",
   "metadata": {},
   "source": [
    "# Min Volatility Portfolio"
   ]
  },
  {
   "cell_type": "code",
   "execution_count": 315,
   "id": "c3b6527f",
   "metadata": {},
   "outputs": [],
   "source": [
    "def min_vol(mean_ret, cov, short=False):\n",
    "    bounds = ((-1 if short else 0, 1),) * n_assets\n",
    "\n",
    "    return minimize(fun=portfolio_std,\n",
    "                    x0=x0,\n",
    "                    args=(mean_ret, cov),\n",
    "                    method='SLSQP',\n",
    "                    bounds=bounds,\n",
    "                    constraints=weight_constraint,\n",
    "                    options={'tol': 1e-10, 'maxiter': 1e4})"
   ]
  },
  {
   "cell_type": "code",
   "execution_count": 316,
   "id": "6f35f4ee",
   "metadata": {},
   "outputs": [],
   "source": [
    "def efficient_frontier(mean_ret, cov, ret_range, short=False):\n",
    "    return [min_vol_target(mean_ret, cov, ret) for ret in ret_range]"
   ]
  },
  {
   "cell_type": "markdown",
   "id": "422d3687",
   "metadata": {},
   "source": [
    "# Run Calculation\n",
    "## Get random PF"
   ]
  },
  {
   "cell_type": "code",
   "execution_count": 317,
   "id": "66240863",
   "metadata": {},
   "outputs": [],
   "source": [
    "simul_perf, simul_wt = simulate_portfolios(mean_returns, cov_matrix, short=False)"
   ]
  },
  {
   "cell_type": "code",
   "execution_count": 318,
   "id": "de989ae4",
   "metadata": {},
   "outputs": [
    {
     "name": "stdout",
     "output_type": "stream",
     "text": [
      "       Annualized Standard Deviation  Annualized Returns   Sharpe Ratio\n",
      "count                  100000.000000       100000.000000  100000.000000\n",
      "mean                        0.184446            0.101576       0.556377\n",
      "std                         0.034265            0.038790       0.209263\n",
      "min                         0.120899           -0.036307      -0.171782\n",
      "25%                         0.160859            0.076956       0.420555\n",
      "50%                         0.179892            0.098459       0.553488\n",
      "75%                         0.200665            0.123357       0.691308\n",
      "max                         0.409194            0.219391       1.157137\n"
     ]
    }
   ],
   "source": [
    "print(simul_perf.describe())"
   ]
  },
  {
   "cell_type": "code",
   "execution_count": 319,
   "id": "a1357d04",
   "metadata": {},
   "outputs": [
    {
     "data": {
      "text/plain": [
       "Annualized Standard Deviation    0.167021\n",
       "Annualized Returns               0.194071\n",
       "Sharpe Ratio                     1.157137\n",
       "Name: 98335, dtype: float64"
      ]
     },
     "execution_count": 319,
     "metadata": {},
     "output_type": "execute_result"
    }
   ],
   "source": [
    "simul_max_sharpe = simul_perf.iloc[:, 2].idxmax()\n",
    "simul_perf.iloc[simul_max_sharpe]"
   ]
  },
  {
   "cell_type": "markdown",
   "id": "f26b3451",
   "metadata": {},
   "source": [
    "# Get Max Sharpe PF"
   ]
  },
  {
   "cell_type": "code",
   "execution_count": 320,
   "id": "bfa4eae6",
   "metadata": {},
   "outputs": [],
   "source": [
    "max_sharpe_pf = max_sharpe_ratio(mean_returns, cov_matrix, short=False)\n",
    "max_sharpe_perf = portfolio_performance(max_sharpe_pf.x, mean_returns, cov_matrix)"
   ]
  },
  {
   "cell_type": "code",
   "execution_count": 321,
   "id": "611e5e67",
   "metadata": {},
   "outputs": [
    {
     "data": {
      "text/plain": [
       "ret    0.209741\n",
       "sd     0.173040\n",
       "sr     1.207451\n",
       "dtype: float64"
      ]
     },
     "execution_count": 321,
     "metadata": {},
     "output_type": "execute_result"
    }
   ],
   "source": [
    "r, sd = max_sharpe_perf\n",
    "pd.Series({'ret': r, 'sd': sd, 'sr': (r-rf_rate)/sd})"
   ]
  },
  {
   "cell_type": "markdown",
   "id": "a75fd9c9",
   "metadata": {},
   "source": [
    "# Get Min Vol PF"
   ]
  },
  {
   "cell_type": "code",
   "execution_count": 322,
   "id": "e9d3b417",
   "metadata": {},
   "outputs": [],
   "source": [
    "min_vol_pf = min_vol(mean_returns, cov_matrix, short=False)\n",
    "min_vol_perf = portfolio_performance(min_vol_pf.x, mean_returns, cov_matrix)"
   ]
  },
  {
   "cell_type": "code",
   "execution_count": 323,
   "id": "2c7a3606",
   "metadata": {},
   "outputs": [],
   "source": [
    "ret_range = np.linspace(simul_perf.iloc[:, 1].min(), simul_perf.iloc[:, 1].max(), 50)\n",
    "eff_pf = efficient_frontier(mean_returns, cov_matrix, ret_range, short=True)\n",
    "eff_pf = pd.Series(dict(zip([p['fun'] for p in eff_pf], ret_range)))"
   ]
  },
  {
   "cell_type": "markdown",
   "id": "7adf8b0e",
   "metadata": {},
   "source": [
    "# Plot Result"
   ]
  },
  {
   "cell_type": "code",
   "execution_count": 324,
   "id": "5a043a9c",
   "metadata": {},
   "outputs": [
    {
     "data": {
      "image/png": "[encoded data removed]",
      "text/plain": [
       "<Figure size 1008x648 with 2 Axes>"
      ]
     },
     "metadata": {},
     "output_type": "display_data"
    }
   ],
   "source": [
    "fig, ax = plt.subplots()\n",
    "simul_perf.plot.scatter(x=0, y=1, c=2, ax=ax, cmap='Blues',alpha=0.25, \n",
    "                        figsize=(14, 9), colorbar=True)\n",
    "\n",
    "eff_pf[eff_pf.index.min():].plot(linestyle='--', lw=2, ax=ax, c='k',\n",
    "                                 label='Efficient Frontier')\n",
    "\n",
    "r, sd = max_sharpe_perf\n",
    "ax.scatter(sd, r, marker='*', color='k', s=500, label='Max Sharpe Ratio PF')\n",
    "\n",
    "r, sd = min_vol_perf\n",
    "ax.scatter(sd, r, marker='v', color='k', s=200, label='Min Volatility PF')\n",
    "\n",
    "kelly_wt = precision_matrix.dot(mean_returns).clip(lower=0).values\n",
    "kelly_wt /= np.sum(np.abs(kelly_wt))\n",
    "r, sd = portfolio_performance(kelly_wt, mean_returns, cov_matrix)\n",
    "ax.scatter(sd, r, marker='D', color='k', s=150, label='Kelly PF')\n",
    "\n",
    "std = weekly_returns.std()\n",
    "std /= std.sum()\n",
    "r, sd = portfolio_performance(std, mean_returns, cov_matrix)\n",
    "ax.scatter(sd, r, marker='X', color='k', s=250, label='Risk Parity PF')\n",
    "\n",
    "r, sd = portfolio_performance(np.full(n_assets, 1/n_assets), mean_returns, cov_matrix)\n",
    "ax.scatter(sd, r, marker='o', color='k', s=200, label='1/n PF')\n",
    "\n",
    "\n",
    "ax.legend(labelspacing=0.8)\n",
    "ax.set_xlim(0, eff_pf.max()+.4)\n",
    "ax.set_title('Mean-Variance Efficient Frontier', fontsize=16)\n",
    "ax.yaxis.set_major_formatter(FuncFormatter(lambda y, _: '{:.0%}'.format(y)))\n",
    "ax.xaxis.set_major_formatter(FuncFormatter(lambda y, _: '{:.0%}'.format(y)))\n",
    "sns.despine()\n",
    "fig.tight_layout();"
   ]
  },
  {
   "cell_type": "code",
   "execution_count": 363,
   "id": "4453ebc7",
   "metadata": {},
   "outputs": [
    {
     "name": "stdout",
     "output_type": "stream",
     "text": [
      "\u001b[31mERROR: Could not find a version that satisfies the requirement penpyxl (from versions: none)\u001b[0m\u001b[31m\r\n",
      "\u001b[0m\u001b[31mERROR: No matching distribution found for penpyxl\u001b[0m\u001b[31m\r\n",
      "\u001b[0m"
     ]
    }
   ],
   "source": [
    "!pip install penpyxl"
   ]
  },
  {
   "cell_type": "code",
   "execution_count": 362,
   "id": "58c29f7b",
   "metadata": {},
   "outputs": [
    {
     "ename": "ModuleNotFoundError",
     "evalue": "No module named 'openpyxl'",
     "output_type": "error",
     "traceback": [
      "\u001b[0;31m---------------------------------------------------------------------------\u001b[0m",
      "\u001b[0;31mModuleNotFoundError\u001b[0m                       Traceback (most recent call last)",
      "Input \u001b[0;32mIn [362]\u001b[0m, in \u001b[0;36m<module>\u001b[0;34m\u001b[0m\n\u001b[0;32m----> 1\u001b[0m \u001b[43msimul_perf\u001b[49m\u001b[38;5;241;43m.\u001b[39;49m\u001b[43mto_excel\u001b[49m\u001b[43m(\u001b[49m\u001b[38;5;124;43m\"\u001b[39;49m\u001b[38;5;124;43moutput.xlsx\u001b[39;49m\u001b[38;5;124;43m\"\u001b[39;49m\u001b[43m)\u001b[49m\n",
      "File \u001b[0;32m~/miniforge3/envs/refinitiv/lib/python3.9/site-packages/pandas/core/generic.py:2357\u001b[0m, in \u001b[0;36mNDFrame.to_excel\u001b[0;34m(self, excel_writer, sheet_name, na_rep, float_format, columns, header, index, index_label, startrow, startcol, engine, merge_cells, encoding, inf_rep, verbose, freeze_panes, storage_options)\u001b[0m\n\u001b[1;32m   2344\u001b[0m \u001b[38;5;28;01mfrom\u001b[39;00m \u001b[38;5;21;01mpandas\u001b[39;00m\u001b[38;5;21;01m.\u001b[39;00m\u001b[38;5;21;01mio\u001b[39;00m\u001b[38;5;21;01m.\u001b[39;00m\u001b[38;5;21;01mformats\u001b[39;00m\u001b[38;5;21;01m.\u001b[39;00m\u001b[38;5;21;01mexcel\u001b[39;00m \u001b[38;5;28;01mimport\u001b[39;00m ExcelFormatter\n\u001b[1;32m   2346\u001b[0m formatter \u001b[38;5;241m=\u001b[39m ExcelFormatter(\n\u001b[1;32m   2347\u001b[0m     df,\n\u001b[1;32m   2348\u001b[0m     na_rep\u001b[38;5;241m=\u001b[39mna_rep,\n\u001b[0;32m   (...)\u001b[0m\n\u001b[1;32m   2355\u001b[0m     inf_rep\u001b[38;5;241m=\u001b[39minf_rep,\n\u001b[1;32m   2356\u001b[0m )\n\u001b[0;32m-> 2357\u001b[0m \u001b[43mformatter\u001b[49m\u001b[38;5;241;43m.\u001b[39;49m\u001b[43mwrite\u001b[49m\u001b[43m(\u001b[49m\n\u001b[1;32m   2358\u001b[0m \u001b[43m    \u001b[49m\u001b[43mexcel_writer\u001b[49m\u001b[43m,\u001b[49m\n\u001b[1;32m   2359\u001b[0m \u001b[43m    \u001b[49m\u001b[43msheet_name\u001b[49m\u001b[38;5;241;43m=\u001b[39;49m\u001b[43msheet_name\u001b[49m\u001b[43m,\u001b[49m\n\u001b[1;32m   2360\u001b[0m \u001b[43m    \u001b[49m\u001b[43mstartrow\u001b[49m\u001b[38;5;241;43m=\u001b[39;49m\u001b[43mstartrow\u001b[49m\u001b[43m,\u001b[49m\n\u001b[1;32m   2361\u001b[0m \u001b[43m    \u001b[49m\u001b[43mstartcol\u001b[49m\u001b[38;5;241;43m=\u001b[39;49m\u001b[43mstartcol\u001b[49m\u001b[43m,\u001b[49m\n\u001b[1;32m   2362\u001b[0m \u001b[43m    \u001b[49m\u001b[43mfreeze_panes\u001b[49m\u001b[38;5;241;43m=\u001b[39;49m\u001b[43mfreeze_panes\u001b[49m\u001b[43m,\u001b[49m\n\u001b[1;32m   2363\u001b[0m \u001b[43m    \u001b[49m\u001b[43mengine\u001b[49m\u001b[38;5;241;43m=\u001b[39;49m\u001b[43mengine\u001b[49m\u001b[43m,\u001b[49m\n\u001b[1;32m   2364\u001b[0m \u001b[43m    \u001b[49m\u001b[43mstorage_options\u001b[49m\u001b[38;5;241;43m=\u001b[39;49m\u001b[43mstorage_options\u001b[49m\u001b[43m,\u001b[49m\n\u001b[1;32m   2365\u001b[0m \u001b[43m\u001b[49m\u001b[43m)\u001b[49m\n",
      "File \u001b[0;32m~/miniforge3/envs/refinitiv/lib/python3.9/site-packages/pandas/io/formats/excel.py:886\u001b[0m, in \u001b[0;36mExcelFormatter.write\u001b[0;34m(self, writer, sheet_name, startrow, startcol, freeze_panes, engine, storage_options)\u001b[0m\n\u001b[1;32m    882\u001b[0m     need_save \u001b[38;5;241m=\u001b[39m \u001b[38;5;28;01mFalse\u001b[39;00m\n\u001b[1;32m    883\u001b[0m \u001b[38;5;28;01melse\u001b[39;00m:\n\u001b[1;32m    884\u001b[0m     \u001b[38;5;66;03m# error: Cannot instantiate abstract class 'ExcelWriter' with abstract\u001b[39;00m\n\u001b[1;32m    885\u001b[0m     \u001b[38;5;66;03m# attributes 'engine', 'save', 'supported_extensions' and 'write_cells'\u001b[39;00m\n\u001b[0;32m--> 886\u001b[0m     writer \u001b[38;5;241m=\u001b[39m \u001b[43mExcelWriter\u001b[49m\u001b[43m(\u001b[49m\u001b[43m  \u001b[49m\u001b[38;5;66;43;03m# type: ignore[abstract]\u001b[39;49;00m\n\u001b[1;32m    887\u001b[0m \u001b[43m        \u001b[49m\u001b[43mwriter\u001b[49m\u001b[43m,\u001b[49m\u001b[43m \u001b[49m\u001b[43mengine\u001b[49m\u001b[38;5;241;43m=\u001b[39;49m\u001b[43mengine\u001b[49m\u001b[43m,\u001b[49m\u001b[43m \u001b[49m\u001b[43mstorage_options\u001b[49m\u001b[38;5;241;43m=\u001b[39;49m\u001b[43mstorage_options\u001b[49m\n\u001b[1;32m    888\u001b[0m \u001b[43m    \u001b[49m\u001b[43m)\u001b[49m\n\u001b[1;32m    889\u001b[0m     need_save \u001b[38;5;241m=\u001b[39m \u001b[38;5;28;01mTrue\u001b[39;00m\n\u001b[1;32m    891\u001b[0m \u001b[38;5;28;01mtry\u001b[39;00m:\n",
      "File \u001b[0;32m~/miniforge3/envs/refinitiv/lib/python3.9/site-packages/pandas/io/excel/_openpyxl.py:49\u001b[0m, in \u001b[0;36mOpenpyxlWriter.__init__\u001b[0;34m(self, path, engine, date_format, datetime_format, mode, storage_options, if_sheet_exists, engine_kwargs, **kwargs)\u001b[0m\n\u001b[1;32m     36\u001b[0m \u001b[38;5;28;01mdef\u001b[39;00m \u001b[38;5;21m__init__\u001b[39m(\n\u001b[1;32m     37\u001b[0m     \u001b[38;5;28mself\u001b[39m,\n\u001b[1;32m     38\u001b[0m     path,\n\u001b[0;32m   (...)\u001b[0m\n\u001b[1;32m     47\u001b[0m ):\n\u001b[1;32m     48\u001b[0m     \u001b[38;5;66;03m# Use the openpyxl module as the Excel writer.\u001b[39;00m\n\u001b[0;32m---> 49\u001b[0m     \u001b[38;5;28;01mfrom\u001b[39;00m \u001b[38;5;21;01mopenpyxl\u001b[39;00m\u001b[38;5;21;01m.\u001b[39;00m\u001b[38;5;21;01mworkbook\u001b[39;00m \u001b[38;5;28;01mimport\u001b[39;00m Workbook\n\u001b[1;32m     51\u001b[0m     engine_kwargs \u001b[38;5;241m=\u001b[39m combine_kwargs(engine_kwargs, kwargs)\n\u001b[1;32m     53\u001b[0m     \u001b[38;5;28msuper\u001b[39m()\u001b[38;5;241m.\u001b[39m\u001b[38;5;21m__init__\u001b[39m(\n\u001b[1;32m     54\u001b[0m         path,\n\u001b[1;32m     55\u001b[0m         mode\u001b[38;5;241m=\u001b[39mmode,\n\u001b[0;32m   (...)\u001b[0m\n\u001b[1;32m     58\u001b[0m         engine_kwargs\u001b[38;5;241m=\u001b[39mengine_kwargs,\n\u001b[1;32m     59\u001b[0m     )\n",
      "\u001b[0;31mModuleNotFoundError\u001b[0m: No module named 'openpyxl'"
     ]
    }
   ],
   "source": [
    "simul_perf.to_excel(\"output.xlsx\")"
   ]
  },
  {
   "cell_type": "code",
   "execution_count": 349,
   "id": "f82c4a1a",
   "metadata": {},
   "outputs": [
    {
     "data": {
      "text/plain": [
       "array([1.13678543e-26, 3.11239046e-07, 1.06360189e-07, 1.21988587e-08,\n",
       "       6.20101684e-15, 8.35919278e-05, 5.78723438e-01, 6.38780442e-19,\n",
       "       1.51426423e-13, 2.20434145e-06, 5.01356489e-10, 1.37842470e-06,\n",
       "       2.26096431e-01, 2.64975333e-13, 3.08064007e-07, 3.02313833e-12,\n",
       "       1.73954142e-17, 1.21095197e-26, 1.37742280e-15, 4.86663747e-04,\n",
       "       2.90744231e-09, 3.92793410e-02, 3.50340452e-13, 2.87684106e-15,\n",
       "       5.37879143e-06, 1.55304129e-01, 3.30967054e-12, 1.67027602e-05,\n",
       "       2.69188715e-15])"
      ]
     },
     "execution_count": 349,
     "metadata": {},
     "output_type": "execute_result"
    }
   ],
   "source": [
    "simul_wt[99995]"
   ]
  },
  {
   "cell_type": "code",
   "execution_count": 350,
   "id": "e06037e1",
   "metadata": {},
   "outputs": [
    {
     "data": {
      "text/plain": [
       "0.215423   -0.036307\n",
       "0.202994   -0.031088\n",
       "0.191414   -0.025870\n",
       "0.180819   -0.020652\n",
       "0.171363   -0.015433\n",
       "0.163173   -0.010215\n",
       "0.156267   -0.004997\n",
       "0.150329    0.000222\n",
       "0.145015    0.005440\n",
       "0.140190    0.010658\n",
       "0.135796    0.015877\n",
       "0.131845    0.021095\n",
       "0.128299    0.026313\n",
       "0.125149    0.031532\n",
       "0.122419    0.036750\n",
       "0.120128    0.041968\n",
       "0.118288    0.047187\n",
       "0.116863    0.052405\n",
       "0.115851    0.057623\n",
       "0.115189    0.062842\n",
       "0.114821    0.068060\n",
       "0.114685    0.073278\n",
       "0.114719    0.078497\n",
       "0.114956    0.083715\n",
       "0.115424    0.088933\n",
       "0.116144    0.094151\n",
       "0.117080    0.099370\n",
       "0.118212    0.104588\n",
       "0.119532    0.109806\n",
       "0.121033    0.115025\n",
       "0.122702    0.120243\n",
       "0.124534    0.125461\n",
       "0.126520    0.130680\n",
       "0.128649    0.135898\n",
       "0.130914    0.141116\n",
       "0.133304    0.146335\n",
       "0.135811    0.151553\n",
       "0.138456    0.156771\n",
       "0.141258    0.161990\n",
       "0.144208    0.167208\n",
       "0.147291    0.172426\n",
       "0.150499    0.177645\n",
       "0.153821    0.182863\n",
       "0.157247    0.188081\n",
       "0.160769    0.193300\n",
       "0.164427    0.198518\n",
       "0.168305    0.203736\n",
       "0.172403    0.208955\n",
       "0.178236    0.214173\n",
       "0.209835    0.219391\n",
       "dtype: float64"
      ]
     },
     "execution_count": 350,
     "metadata": {},
     "output_type": "execute_result"
    }
   ],
   "source": [
    "eff_pf"
   ]
  },
  {
   "cell_type": "code",
   "execution_count": null,
   "id": "dffeb7f2",
   "metadata": {},
   "outputs": [],
   "source": [
    "simul_perf.where(Annualized Returns)"
   ]
  },
  {
   "cell_type": "code",
   "execution_count": 361,
   "id": "a7e2224c",
   "metadata": {},
   "outputs": [],
   "source": [
    "# making boolean series for a team name\n",
    "#filter1 = simul_perf[\"Annualized Standard Deviation\"]==0.16830\n",
    "  \n",
    "# making boolean series for age\n",
    "filter1 = simul_perf[\"Annualized Returns\"]>=0.10\n",
    "filter2 = simul_perf[\"Annualized Returns\"]<=0.15\n",
    "\n",
    "\n",
    "  \n",
    "# filtering data on basis of both filters\n",
    "simul_perf.where(filter1 & filter2, inplace = True)"
   ]
  },
  {
   "cell_type": "code",
   "execution_count": 358,
   "id": "299ad423",
   "metadata": {},
   "outputs": [
    {
     "name": "stdout",
     "output_type": "stream",
     "text": [
      "None\n"
     ]
    }
   ],
   "source": [
    "print(dd)"
   ]
  },
  {
   "cell_type": "code",
   "execution_count": 359,
   "id": "00215046",
   "metadata": {},
   "outputs": [
    {
     "data": {
      "text/plain": [
       "Index(['Annualized Standard Deviation', 'Annualized Returns', 'Sharpe Ratio'], dtype='object')"
      ]
     },
     "execution_count": 359,
     "metadata": {},
     "output_type": "execute_result"
    }
   ],
   "source": [
    "simul_perf.columns"
   ]
  },
  {
   "cell_type": "code",
   "execution_count": null,
   "id": "0305cf2d",
   "metadata": {},
   "outputs": [],
   "source": []
  },
  {
   "cell_type": "code",
   "execution_count": null,
   "id": "df95db50",
   "metadata": {},
   "outputs": [],
   "source": []
  },
  {
   "cell_type": "code",
   "execution_count": null,
   "id": "7c161659",
   "metadata": {},
   "outputs": [],
   "source": []
  },
  {
   "cell_type": "code",
   "execution_count": null,
   "id": "acc19714",
   "metadata": {},
   "outputs": [],
   "source": []
  },
  {
   "cell_type": "code",
   "execution_count": null,
   "id": "eac5ed78",
   "metadata": {},
   "outputs": [],
   "source": []
  },
  {
   "cell_type": "code",
   "execution_count": null,
   "id": "f3430aef",
   "metadata": {},
   "outputs": [],
   "source": []
  },
  {
   "cell_type": "code",
   "execution_count": null,
   "id": "4af01753",
   "metadata": {},
   "outputs": [],
   "source": []
  }
 ],
 "metadata": {
  "kernelspec": {
   "display_name": "Python 3 (ipykernel)",
   "language": "python",
   "name": "python3"
  },
  "language_info": {
   "codemirror_mode": {
    "name": "ipython",
    "version": 3
   },
   "file_extension": ".py",
   "mimetype": "text/x-python",
   "name": "python",
   "nbconvert_exporter": "python",
   "pygments_lexer": "ipython3",
   "version": "3.8.15"
  }
 },
 "nbformat": 4,
 "nbformat_minor": 5
}
