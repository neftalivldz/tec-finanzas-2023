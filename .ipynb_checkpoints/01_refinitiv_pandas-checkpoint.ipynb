{
 "cells": [
  {
   "cell_type": "markdown",
   "id": "1334912b",
   "metadata": {},
   "source": [
    "# Información y Programación Financiera, TI, Algoritmos y Ciencia de Datos"
   ]
  },
  {
   "cell_type": "markdown",
   "id": "d582e293",
   "metadata": {},
   "source": [
    "Neftalí Valdez\n",
    "\n",
    "<a href=\"http://twitter.com/neftalivldz\" target=\"_blank\">@neftalivldz</a> | <a href=\"mailto:nvaldez@tec.mx\">nvaldez@tec.mx</a>"
   ]
  },
  {
   "cell_type": "code",
   "execution_count": 33,
   "id": "d7e54f6e",
   "metadata": {},
   "outputs": [],
   "source": [
    "#!pip3 install eikon\n",
    "#!pip3 install cufflinks\n",
    "#!pip3 install seaborn"
   ]
  },
  {
   "cell_type": "markdown",
   "id": "ce666ef7",
   "metadata": {},
   "source": [
    "# Importar librerías"
   ]
  },
  {
   "cell_type": "code",
   "execution_count": 6,
   "id": "500ee4fb",
   "metadata": {},
   "outputs": [
    {
     "data": {
      "text/html": [
       "        <script type=\"text/javascript\">\n",
       "        window.PlotlyConfig = {MathJaxConfig: 'local'};\n",
       "        if (window.MathJax && window.MathJax.Hub && window.MathJax.Hub.Config) {window.MathJax.Hub.Config({SVG: {font: \"STIX-Web\"}});}\n",
       "        if (typeof require !== 'undefined') {\n",
       "        require.undef(\"plotly\");\n",
       "        requirejs.config({\n",
       "            paths: {\n",
       "                'plotly': ['https://cdn.plot.ly/plotly-2.18.0.min']\n",
       "            }\n",
       "        });\n",
       "        require(['plotly'], function(Plotly) {\n",
       "            window._Plotly = Plotly;\n",
       "        });\n",
       "        }\n",
       "        </script>\n",
       "        "
      ]
     },
     "metadata": {},
     "output_type": "display_data"
    }
   ],
   "source": [
    "import eikon as ek  # the Eikon Python wrapper package\n",
    "import numpy as np  # NumPy\n",
    "import pandas as pd  # pandas\n",
    "import cufflinks as cf  # Cufflinks\n",
    "import configparser as cp\n",
    "cf.set_config_file(offline=True)  # set the plotting mode to offline"
   ]
  },
  {
   "cell_type": "code",
   "execution_count": 8,
   "id": "d7f3a7fa",
   "metadata": {},
   "outputs": [],
   "source": [
    "# Se inicia la conexión a refinitiv mediante eikon "
   ]
  },
  {
   "cell_type": "code",
   "execution_count": 10,
   "id": "90dded4e",
   "metadata": {},
   "outputs": [],
   "source": [
    "cfg = cp.ConfigParser()\n",
    "cfg.read('../refinitiv.cfg')\n",
    "ek.set_app_key(cfg['eikon']['app_id'])"
   ]
  },
  {
   "cell_type": "markdown",
   "id": "09f06a5a",
   "metadata": {},
   "source": [
    "### Numpy"
   ]
  },
  {
   "cell_type": "code",
   "execution_count": 91,
   "id": "73a8c712",
   "metadata": {},
   "outputs": [
    {
     "name": "stdout",
     "output_type": "stream",
     "text": [
      "Array is of type:  <class 'numpy.ndarray'>\n",
      "No. of dimensions:  2\n",
      "Shape of array:  (2, 3)\n",
      "Size of array:  6\n",
      "Array stores elements of type:  int64\n"
     ]
    }
   ],
   "source": [
    "# Python program to demonstrate\n",
    "# basic array characteristics\n",
    "import numpy as np\n",
    " \n",
    "# Creating array object\n",
    "arr = np.array( [[ 1, 2, 3],\n",
    "                 [ 4, 2, 5]] )\n",
    " \n",
    "# Printing type of arr object\n",
    "print(\"Array is of type: \", type(arr))\n",
    " \n",
    "# Printing array dimensions (axes)\n",
    "print(\"No. of dimensions: \", arr.ndim)\n",
    " \n",
    "# Printing shape of array\n",
    "print(\"Shape of array: \", arr.shape)\n",
    " \n",
    "# Printing size (total number of elements) of array\n",
    "print(\"Size of array: \", arr.size)\n",
    " \n",
    "# Printing type of elements in array\n",
    "print(\"Array stores elements of type: \", arr.dtype)"
   ]
  },
  {
   "cell_type": "code",
   "execution_count": null,
   "id": "36c6a35c",
   "metadata": {},
   "outputs": [],
   "source": [
    "## Python Pandas"
   ]
  },
  {
   "cell_type": "code",
   "execution_count": 92,
   "id": "bdde4180",
   "metadata": {},
   "outputs": [
    {
     "name": "stdout",
     "output_type": "stream",
     "text": [
      "   sesion  asistencia\n",
      "0     420          25\n",
      "1     380          20\n",
      "2     390          27\n"
     ]
    }
   ],
   "source": [
    "import pandas as pd \n",
    "\n",
    "data = {\n",
    "  \"sesion\": [420, 380, 390],\n",
    "  \"asistencia\": [25, 20, 27]\n",
    "}\n",
    "\n",
    "#load data into a DataFrame object:\n",
    "df = pd.DataFrame(data)\n",
    "\n",
    "print(df) "
   ]
  },
  {
   "cell_type": "code",
   "execution_count": null,
   "id": "fc2645c4",
   "metadata": {},
   "outputs": [],
   "source": [
    "#utilización de índice:\n",
    "print(df.loc[0])"
   ]
  },
  {
   "cell_type": "code",
   "execution_count": 93,
   "id": "4505a8b9",
   "metadata": {},
   "outputs": [
    {
     "name": "stdout",
     "output_type": "stream",
     "text": [
      "      sesion  asistencia\n",
      "dia1     420          25\n",
      "dia2     380          20\n",
      "dia3     390          27\n"
     ]
    }
   ],
   "source": [
    "df = pd.DataFrame(data, index = [\"dia1\", \"dia2\", \"dia3\"])\n",
    "\n",
    "print(df) "
   ]
  },
  {
   "cell_type": "code",
   "execution_count": 94,
   "id": "6b27f989",
   "metadata": {},
   "outputs": [
    {
     "data": {
      "text/html": [
       "<div>\n",
       "<style scoped>\n",
       "    .dataframe tbody tr th:only-of-type {\n",
       "        vertical-align: middle;\n",
       "    }\n",
       "\n",
       "    .dataframe tbody tr th {\n",
       "        vertical-align: top;\n",
       "    }\n",
       "\n",
       "    .dataframe thead th {\n",
       "        text-align: right;\n",
       "    }\n",
       "</style>\n",
       "<table border=\"1\" class=\"dataframe\">\n",
       "  <thead>\n",
       "    <tr style=\"text-align: right;\">\n",
       "      <th></th>\n",
       "      <th>sesion</th>\n",
       "      <th>asistencia</th>\n",
       "    </tr>\n",
       "  </thead>\n",
       "  <tbody>\n",
       "    <tr>\n",
       "      <th>dia1</th>\n",
       "      <td>420</td>\n",
       "      <td>25</td>\n",
       "    </tr>\n",
       "    <tr>\n",
       "      <th>dia2</th>\n",
       "      <td>380</td>\n",
       "      <td>20</td>\n",
       "    </tr>\n",
       "    <tr>\n",
       "      <th>dia3</th>\n",
       "      <td>390</td>\n",
       "      <td>27</td>\n",
       "    </tr>\n",
       "  </tbody>\n",
       "</table>\n",
       "</div>"
      ],
      "text/plain": [
       "      sesion  asistencia\n",
       "dia1     420          25\n",
       "dia2     380          20\n",
       "dia3     390          27"
      ]
     },
     "execution_count": 94,
     "metadata": {},
     "output_type": "execute_result"
    }
   ],
   "source": [
    "df"
   ]
  },
  {
   "cell_type": "markdown",
   "id": "198cec1a",
   "metadata": {},
   "source": [
    "# Refinitiv Python"
   ]
  },
  {
   "cell_type": "markdown",
   "id": "ce4c3fe1",
   "metadata": {},
   "source": [
    "# Extracción de datos estructurados"
   ]
  },
  {
   "cell_type": "markdown",
   "id": "4b52959d",
   "metadata": {},
   "source": [
    "Las funciones básicas para extraer datos de eikon son las siguiente:\n",
    "- get_symbology\n",
    "- get_data\n",
    "- get_timeseries\n",
    "\n",
    "get_symbology(symbol, from_symbol_type='RIC', to_symbol_type=None, raw_output=False, debug=False, bestMatch=True)\n",
    "Devuelve una lista de nombre de instrumentos convertiods en el código del intrumento.\n",
    "\n",
    "get_data(instruments, fields, parameters=None, field_name=False, raw_output=False, debug=False)\n",
    "Devuelve un dataframe de pandas con campos en columnas e intrumentos como índice de renglones.\n",
    "\n",
    "get_timeseries(rics, fields='*', start_date=None, end_date=None, interval='daily', count=None, calendar=None, corax=None, normalize=False, raw_output=False, debug=False)\n",
    "Devuelve series históricas de uno o varios RICs.\n",
    "<br>\n",
    "Referencia: https://docs-developers.refinitiv.com/1594387995587/14684/book/en/eikon/index.html\n",
    "RICs Reuters instrument code"
   ]
  },
  {
   "cell_type": "markdown",
   "id": "42f95495",
   "metadata": {},
   "source": [
    "# Obtener datos"
   ]
  },
  {
   "cell_type": "code",
   "execution_count": 11,
   "id": "7bb540fd",
   "metadata": {},
   "outputs": [],
   "source": [
    "data, err = ek.get_data([\"IBM\", \"GOOG.O\", \"MSFT.O\"], [\"TR.PriceClose\", \"TR.Volume\", \"TR.PriceLow\", \"TR.TotalReturnYTD\"])"
   ]
  },
  {
   "cell_type": "code",
   "execution_count": 12,
   "id": "26d9d49d",
   "metadata": {},
   "outputs": [
    {
     "data": {
      "text/html": [
       "<div>\n",
       "<style scoped>\n",
       "    .dataframe tbody tr th:only-of-type {\n",
       "        vertical-align: middle;\n",
       "    }\n",
       "\n",
       "    .dataframe tbody tr th {\n",
       "        vertical-align: top;\n",
       "    }\n",
       "\n",
       "    .dataframe thead th {\n",
       "        text-align: right;\n",
       "    }\n",
       "</style>\n",
       "<table border=\"1\" class=\"dataframe\">\n",
       "  <thead>\n",
       "    <tr style=\"text-align: right;\">\n",
       "      <th></th>\n",
       "      <th>Instrument</th>\n",
       "      <th>Price Close</th>\n",
       "      <th>Volume</th>\n",
       "      <th>Price Low</th>\n",
       "      <th>YTD Total Return</th>\n",
       "    </tr>\n",
       "  </thead>\n",
       "  <tbody>\n",
       "    <tr>\n",
       "      <th>0</th>\n",
       "      <td>IBM</td>\n",
       "      <td>135.02</td>\n",
       "      <td>3466184</td>\n",
       "      <td>133.89</td>\n",
       "      <td>-2.984124</td>\n",
       "    </tr>\n",
       "    <tr>\n",
       "      <th>1</th>\n",
       "      <td>GOOG.O</td>\n",
       "      <td>94.59</td>\n",
       "      <td>31095067</td>\n",
       "      <td>93.45</td>\n",
       "      <td>6.604305</td>\n",
       "    </tr>\n",
       "    <tr>\n",
       "      <th>2</th>\n",
       "      <td>MSFT.O</td>\n",
       "      <td>258.06</td>\n",
       "      <td>30000055</td>\n",
       "      <td>256.0</td>\n",
       "      <td>7.877395</td>\n",
       "    </tr>\n",
       "  </tbody>\n",
       "</table>\n",
       "</div>"
      ],
      "text/plain": [
       "  Instrument  Price Close    Volume  Price Low  YTD Total Return\n",
       "0        IBM       135.02   3466184     133.89         -2.984124\n",
       "1     GOOG.O        94.59  31095067      93.45          6.604305\n",
       "2     MSFT.O       258.06  30000055      256.0          7.877395"
      ]
     },
     "execution_count": 12,
     "metadata": {},
     "output_type": "execute_result"
    }
   ],
   "source": [
    "data"
   ]
  },
  {
   "cell_type": "code",
   "execution_count": 36,
   "id": "0d47737c",
   "metadata": {},
   "outputs": [
    {
     "data": {
      "text/plain": [
       "pandas.core.frame.DataFrame"
      ]
     },
     "execution_count": 36,
     "metadata": {},
     "output_type": "execute_result"
    }
   ],
   "source": [
    "type(data)"
   ]
  },
  {
   "cell_type": "code",
   "execution_count": 37,
   "id": "cadc4ce3",
   "metadata": {},
   "outputs": [
    {
     "data": {
      "text/plain": [
       "Index(['Instrument', 'Price Close', 'Volume', 'Price Low', 'YTD Total Return'], dtype='object')"
      ]
     },
     "execution_count": 37,
     "metadata": {},
     "output_type": "execute_result"
    }
   ],
   "source": [
    "data.columns"
   ]
  },
  {
   "cell_type": "code",
   "execution_count": 13,
   "id": "9f2898b0",
   "metadata": {},
   "outputs": [],
   "source": []
  },
  {
   "cell_type": "markdown",
   "id": "81795762",
   "metadata": {},
   "source": [
    "# Obtener datos de un índice"
   ]
  },
  {
   "cell_type": "code",
   "execution_count": 15,
   "id": "2e09b33a",
   "metadata": {},
   "outputs": [],
   "source": [
    "dax = ek.get_data('0#.GDAXI', fields=['TR.CommonName', 'TR.PriceClose',\n",
    "                                      'TR.Volume', 'TR.TotalReturnYTD'])[0]"
   ]
  },
  {
   "cell_type": "code",
   "execution_count": 57,
   "id": "b897c1a9",
   "metadata": {},
   "outputs": [
    {
     "data": {
      "text/html": [
       "<div>\n",
       "<style scoped>\n",
       "    .dataframe tbody tr th:only-of-type {\n",
       "        vertical-align: middle;\n",
       "    }\n",
       "\n",
       "    .dataframe tbody tr th {\n",
       "        vertical-align: top;\n",
       "    }\n",
       "\n",
       "    .dataframe thead th {\n",
       "        text-align: right;\n",
       "    }\n",
       "</style>\n",
       "<table border=\"1\" class=\"dataframe\">\n",
       "  <thead>\n",
       "    <tr style=\"text-align: right;\">\n",
       "      <th></th>\n",
       "      <th>Instrument</th>\n",
       "      <th>Company Common Name</th>\n",
       "      <th>Price Close</th>\n",
       "      <th>Volume</th>\n",
       "      <th>YTD Total Return</th>\n",
       "    </tr>\n",
       "  </thead>\n",
       "  <tbody>\n",
       "    <tr>\n",
       "      <th>0</th>\n",
       "      <td>BASFn.DE</td>\n",
       "      <td>BASF SE</td>\n",
       "      <td>52.24</td>\n",
       "      <td>2164661</td>\n",
       "      <td>12.610476</td>\n",
       "    </tr>\n",
       "    <tr>\n",
       "      <th>1</th>\n",
       "      <td>IFXGn.DE</td>\n",
       "      <td>Infineon Technologies AG</td>\n",
       "      <td>35.235</td>\n",
       "      <td>4342803</td>\n",
       "      <td>25.061555</td>\n",
       "    </tr>\n",
       "    <tr>\n",
       "      <th>2</th>\n",
       "      <td>SIEGn.DE</td>\n",
       "      <td>Siemens AG</td>\n",
       "      <td>145.44</td>\n",
       "      <td>1456118</td>\n",
       "      <td>15.459157</td>\n",
       "    </tr>\n",
       "    <tr>\n",
       "      <th>3</th>\n",
       "      <td>EONGn.DE</td>\n",
       "      <td>E ON SE</td>\n",
       "      <td>10.165</td>\n",
       "      <td>5060835</td>\n",
       "      <td>8.902936</td>\n",
       "    </tr>\n",
       "    <tr>\n",
       "      <th>4</th>\n",
       "      <td>DBKGn.DE</td>\n",
       "      <td>Deutsche Bank AG</td>\n",
       "      <td>11.88</td>\n",
       "      <td>12121921</td>\n",
       "      <td>12.202493</td>\n",
       "    </tr>\n",
       "  </tbody>\n",
       "</table>\n",
       "</div>"
      ],
      "text/plain": [
       "  Instrument       Company Common Name  Price Close    Volume  \\\n",
       "0   BASFn.DE                   BASF SE        52.24   2164661   \n",
       "1   IFXGn.DE  Infineon Technologies AG       35.235   4342803   \n",
       "2   SIEGn.DE                Siemens AG       145.44   1456118   \n",
       "3   EONGn.DE                   E ON SE       10.165   5060835   \n",
       "4   DBKGn.DE          Deutsche Bank AG        11.88  12121921   \n",
       "\n",
       "   YTD Total Return  \n",
       "0         12.610476  \n",
       "1         25.061555  \n",
       "2         15.459157  \n",
       "3          8.902936  \n",
       "4         12.202493  "
      ]
     },
     "execution_count": 57,
     "metadata": {},
     "output_type": "execute_result"
    }
   ],
   "source": [
    "dax[0:5]"
   ]
  },
  {
   "cell_type": "code",
   "execution_count": 35,
   "id": "f586f060",
   "metadata": {},
   "outputs": [
    {
     "data": {
      "application/vnd.plotly.v1+json": {
       "config": {
        "linkText": "Export to plot.ly",
        "plotlyServerURL": "https://plot.ly",
        "showLink": true
       },
       "data": [
        {
         "marker": {
          "color": "rgba(55, 128, 191, 0.6)",
          "line": {
           "color": "rgba(55, 128, 191, 1.0)",
           "width": 1
          }
         },
         "name": "YTD Total Return",
         "orientation": "v",
         "text": "",
         "type": "bar",
         "x": [
          "SY1G.DE",
          "RWEG.DE",
          "QIA.DE",
          "HNRGn.DE",
          "LINI.DE",
          "MRCG.DE",
          "HNKG_p.DE",
          "BEIG.DE",
          "DB1Gn.DE",
          "ALVG.DE",
          "PSHG_p.DE",
          "MUVGn.DE",
          "DTGGe.DE",
          "EONGn.DE",
          "ENR1n.DE",
          "SHLG.DE",
          "FREG.DE",
          "DTEGn.DE",
          "DBKGn.DE",
          "ADSGn.DE",
          "BASFn.DE",
          "VOWG_p.DE",
          "AIRG.DE",
          "SAPG.DE",
          "1COV.DE",
          "DPWGn.DE",
          "SIEGn.DE",
          "SATG_p.DE",
          "VNAn.DE",
          "MTXGn.DE",
          "BMWG.DE",
          "ZALG.DE",
          "P911_p.DE",
          "HEIG.DE",
          "MBGn.DE",
          "BNRGn.DE",
          "BAYGn.DE",
          "FMEG.DE",
          "CONG.DE",
          "IFXGn.DE"
         ],
         "y": [
          -5.49926217412693,
          -4.97715797066603,
          -4.85003190810468,
          -1.91374663072774,
          -1.50597479129152,
          1.40961857379773,
          3.4143340510612,
          5.59701492537312,
          6.22676579925656,
          7.98904927824788,
          8.50897736143637,
          8.51973684210527,
          8.56797374330622,
          8.90293550460679,
          9.24608819345654,
          9.71862345143062,
          10.4380952380952,
          11.3853417748685,
          12.202493388742,
          12.6000313823944,
          12.610476395775,
          12.7125923380863,
          12.8927994253907,
          13.5802469135802,
          15.0205198358413,
          15.4064809550881,
          15.459157315524,
          15.6199242014077,
          15.622161671208,
          15.7270029673592,
          19.6330055169106,
          20.144971307762,
          20.4221635883906,
          20.9084084084083,
          21.5635179153094,
          22.1031480241125,
          22.338334195551,
          22.5711481844947,
          24.3658449446231,
          25.0615546957439
         ]
        }
       ],
       "layout": {
        "legend": {
         "bgcolor": "#F5F6F9",
         "font": {
          "color": "#4D5663"
         }
        },
        "paper_bgcolor": "#F5F6F9",
        "plot_bgcolor": "#F5F6F9",
        "template": {
         "data": {
          "bar": [
           {
            "error_x": {
             "color": "#2a3f5f"
            },
            "error_y": {
             "color": "#2a3f5f"
            },
            "marker": {
             "line": {
              "color": "#E5ECF6",
              "width": 0.5
             },
             "pattern": {
              "fillmode": "overlay",
              "size": 10,
              "solidity": 0.2
             }
            },
            "type": "bar"
           }
          ],
          "barpolar": [
           {
            "marker": {
             "line": {
              "color": "#E5ECF6",
              "width": 0.5
             },
             "pattern": {
              "fillmode": "overlay",
              "size": 10,
              "solidity": 0.2
             }
            },
            "type": "barpolar"
           }
          ],
          "carpet": [
           {
            "aaxis": {
             "endlinecolor": "#2a3f5f",
             "gridcolor": "white",
             "linecolor": "white",
             "minorgridcolor": "white",
             "startlinecolor": "#2a3f5f"
            },
            "baxis": {
             "endlinecolor": "#2a3f5f",
             "gridcolor": "white",
             "linecolor": "white",
             "minorgridcolor": "white",
             "startlinecolor": "#2a3f5f"
            },
            "type": "carpet"
           }
          ],
          "choropleth": [
           {
            "colorbar": {
             "outlinewidth": 0,
             "ticks": ""
            },
            "type": "choropleth"
           }
          ],
          "contour": [
           {
            "colorbar": {
             "outlinewidth": 0,
             "ticks": ""
            },
            "colorscale": [
             [
              0,
              "#0d0887"
             ],
             [
              0.1111111111111111,
              "#46039f"
             ],
             [
              0.2222222222222222,
              "#7201a8"
             ],
             [
              0.3333333333333333,
              "#9c179e"
             ],
             [
              0.4444444444444444,
              "#bd3786"
             ],
             [
              0.5555555555555556,
              "#d8576b"
             ],
             [
              0.6666666666666666,
              "#ed7953"
             ],
             [
              0.7777777777777778,
              "#fb9f3a"
             ],
             [
              0.8888888888888888,
              "#fdca26"
             ],
             [
              1,
              "#f0f921"
             ]
            ],
            "type": "contour"
           }
          ],
          "contourcarpet": [
           {
            "colorbar": {
             "outlinewidth": 0,
             "ticks": ""
            },
            "type": "contourcarpet"
           }
          ],
          "heatmap": [
           {
            "colorbar": {
             "outlinewidth": 0,
             "ticks": ""
            },
            "colorscale": [
             [
              0,
              "#0d0887"
             ],
             [
              0.1111111111111111,
              "#46039f"
             ],
             [
              0.2222222222222222,
              "#7201a8"
             ],
             [
              0.3333333333333333,
              "#9c179e"
             ],
             [
              0.4444444444444444,
              "#bd3786"
             ],
             [
              0.5555555555555556,
              "#d8576b"
             ],
             [
              0.6666666666666666,
              "#ed7953"
             ],
             [
              0.7777777777777778,
              "#fb9f3a"
             ],
             [
              0.8888888888888888,
              "#fdca26"
             ],
             [
              1,
              "#f0f921"
             ]
            ],
            "type": "heatmap"
           }
          ],
          "heatmapgl": [
           {
            "colorbar": {
             "outlinewidth": 0,
             "ticks": ""
            },
            "colorscale": [
             [
              0,
              "#0d0887"
             ],
             [
              0.1111111111111111,
              "#46039f"
             ],
             [
              0.2222222222222222,
              "#7201a8"
             ],
             [
              0.3333333333333333,
              "#9c179e"
             ],
             [
              0.4444444444444444,
              "#bd3786"
             ],
             [
              0.5555555555555556,
              "#d8576b"
             ],
             [
              0.6666666666666666,
              "#ed7953"
             ],
             [
              0.7777777777777778,
              "#fb9f3a"
             ],
             [
              0.8888888888888888,
              "#fdca26"
             ],
             [
              1,
              "#f0f921"
             ]
            ],
            "type": "heatmapgl"
           }
          ],
          "histogram": [
           {
            "marker": {
             "pattern": {
              "fillmode": "overlay",
              "size": 10,
              "solidity": 0.2
             }
            },
            "type": "histogram"
           }
          ],
          "histogram2d": [
           {
            "colorbar": {
             "outlinewidth": 0,
             "ticks": ""
            },
            "colorscale": [
             [
              0,
              "#0d0887"
             ],
             [
              0.1111111111111111,
              "#46039f"
             ],
             [
              0.2222222222222222,
              "#7201a8"
             ],
             [
              0.3333333333333333,
              "#9c179e"
             ],
             [
              0.4444444444444444,
              "#bd3786"
             ],
             [
              0.5555555555555556,
              "#d8576b"
             ],
             [
              0.6666666666666666,
              "#ed7953"
             ],
             [
              0.7777777777777778,
              "#fb9f3a"
             ],
             [
              0.8888888888888888,
              "#fdca26"
             ],
             [
              1,
              "#f0f921"
             ]
            ],
            "type": "histogram2d"
           }
          ],
          "histogram2dcontour": [
           {
            "colorbar": {
             "outlinewidth": 0,
             "ticks": ""
            },
            "colorscale": [
             [
              0,
              "#0d0887"
             ],
             [
              0.1111111111111111,
              "#46039f"
             ],
             [
              0.2222222222222222,
              "#7201a8"
             ],
             [
              0.3333333333333333,
              "#9c179e"
             ],
             [
              0.4444444444444444,
              "#bd3786"
             ],
             [
              0.5555555555555556,
              "#d8576b"
             ],
             [
              0.6666666666666666,
              "#ed7953"
             ],
             [
              0.7777777777777778,
              "#fb9f3a"
             ],
             [
              0.8888888888888888,
              "#fdca26"
             ],
             [
              1,
              "#f0f921"
             ]
            ],
            "type": "histogram2dcontour"
           }
          ],
          "mesh3d": [
           {
            "colorbar": {
             "outlinewidth": 0,
             "ticks": ""
            },
            "type": "mesh3d"
           }
          ],
          "parcoords": [
           {
            "line": {
             "colorbar": {
              "outlinewidth": 0,
              "ticks": ""
             }
            },
            "type": "parcoords"
           }
          ],
          "pie": [
           {
            "automargin": true,
            "type": "pie"
           }
          ],
          "scatter": [
           {
            "fillpattern": {
             "fillmode": "overlay",
             "size": 10,
             "solidity": 0.2
            },
            "type": "scatter"
           }
          ],
          "scatter3d": [
           {
            "line": {
             "colorbar": {
              "outlinewidth": 0,
              "ticks": ""
             }
            },
            "marker": {
             "colorbar": {
              "outlinewidth": 0,
              "ticks": ""
             }
            },
            "type": "scatter3d"
           }
          ],
          "scattercarpet": [
           {
            "marker": {
             "colorbar": {
              "outlinewidth": 0,
              "ticks": ""
             }
            },
            "type": "scattercarpet"
           }
          ],
          "scattergeo": [
           {
            "marker": {
             "colorbar": {
              "outlinewidth": 0,
              "ticks": ""
             }
            },
            "type": "scattergeo"
           }
          ],
          "scattergl": [
           {
            "marker": {
             "colorbar": {
              "outlinewidth": 0,
              "ticks": ""
             }
            },
            "type": "scattergl"
           }
          ],
          "scattermapbox": [
           {
            "marker": {
             "colorbar": {
              "outlinewidth": 0,
              "ticks": ""
             }
            },
            "type": "scattermapbox"
           }
          ],
          "scatterpolar": [
           {
            "marker": {
             "colorbar": {
              "outlinewidth": 0,
              "ticks": ""
             }
            },
            "type": "scatterpolar"
           }
          ],
          "scatterpolargl": [
           {
            "marker": {
             "colorbar": {
              "outlinewidth": 0,
              "ticks": ""
             }
            },
            "type": "scatterpolargl"
           }
          ],
          "scatterternary": [
           {
            "marker": {
             "colorbar": {
              "outlinewidth": 0,
              "ticks": ""
             }
            },
            "type": "scatterternary"
           }
          ],
          "surface": [
           {
            "colorbar": {
             "outlinewidth": 0,
             "ticks": ""
            },
            "colorscale": [
             [
              0,
              "#0d0887"
             ],
             [
              0.1111111111111111,
              "#46039f"
             ],
             [
              0.2222222222222222,
              "#7201a8"
             ],
             [
              0.3333333333333333,
              "#9c179e"
             ],
             [
              0.4444444444444444,
              "#bd3786"
             ],
             [
              0.5555555555555556,
              "#d8576b"
             ],
             [
              0.6666666666666666,
              "#ed7953"
             ],
             [
              0.7777777777777778,
              "#fb9f3a"
             ],
             [
              0.8888888888888888,
              "#fdca26"
             ],
             [
              1,
              "#f0f921"
             ]
            ],
            "type": "surface"
           }
          ],
          "table": [
           {
            "cells": {
             "fill": {
              "color": "#EBF0F8"
             },
             "line": {
              "color": "white"
             }
            },
            "header": {
             "fill": {
              "color": "#C8D4E3"
             },
             "line": {
              "color": "white"
             }
            },
            "type": "table"
           }
          ]
         },
         "layout": {
          "annotationdefaults": {
           "arrowcolor": "#2a3f5f",
           "arrowhead": 0,
           "arrowwidth": 1
          },
          "autotypenumbers": "strict",
          "coloraxis": {
           "colorbar": {
            "outlinewidth": 0,
            "ticks": ""
           }
          },
          "colorscale": {
           "diverging": [
            [
             0,
             "#8e0152"
            ],
            [
             0.1,
             "#c51b7d"
            ],
            [
             0.2,
             "#de77ae"
            ],
            [
             0.3,
             "#f1b6da"
            ],
            [
             0.4,
             "#fde0ef"
            ],
            [
             0.5,
             "#f7f7f7"
            ],
            [
             0.6,
             "#e6f5d0"
            ],
            [
             0.7,
             "#b8e186"
            ],
            [
             0.8,
             "#7fbc41"
            ],
            [
             0.9,
             "#4d9221"
            ],
            [
             1,
             "#276419"
            ]
           ],
           "sequential": [
            [
             0,
             "#0d0887"
            ],
            [
             0.1111111111111111,
             "#46039f"
            ],
            [
             0.2222222222222222,
             "#7201a8"
            ],
            [
             0.3333333333333333,
             "#9c179e"
            ],
            [
             0.4444444444444444,
             "#bd3786"
            ],
            [
             0.5555555555555556,
             "#d8576b"
            ],
            [
             0.6666666666666666,
             "#ed7953"
            ],
            [
             0.7777777777777778,
             "#fb9f3a"
            ],
            [
             0.8888888888888888,
             "#fdca26"
            ],
            [
             1,
             "#f0f921"
            ]
           ],
           "sequentialminus": [
            [
             0,
             "#0d0887"
            ],
            [
             0.1111111111111111,
             "#46039f"
            ],
            [
             0.2222222222222222,
             "#7201a8"
            ],
            [
             0.3333333333333333,
             "#9c179e"
            ],
            [
             0.4444444444444444,
             "#bd3786"
            ],
            [
             0.5555555555555556,
             "#d8576b"
            ],
            [
             0.6666666666666666,
             "#ed7953"
            ],
            [
             0.7777777777777778,
             "#fb9f3a"
            ],
            [
             0.8888888888888888,
             "#fdca26"
            ],
            [
             1,
             "#f0f921"
            ]
           ]
          },
          "colorway": [
           "#636efa",
           "#EF553B",
           "#00cc96",
           "#ab63fa",
           "#FFA15A",
           "#19d3f3",
           "#FF6692",
           "#B6E880",
           "#FF97FF",
           "#FECB52"
          ],
          "font": {
           "color": "#2a3f5f"
          },
          "geo": {
           "bgcolor": "white",
           "lakecolor": "white",
           "landcolor": "#E5ECF6",
           "showlakes": true,
           "showland": true,
           "subunitcolor": "white"
          },
          "hoverlabel": {
           "align": "left"
          },
          "hovermode": "closest",
          "mapbox": {
           "style": "light"
          },
          "paper_bgcolor": "white",
          "plot_bgcolor": "#E5ECF6",
          "polar": {
           "angularaxis": {
            "gridcolor": "white",
            "linecolor": "white",
            "ticks": ""
           },
           "bgcolor": "#E5ECF6",
           "radialaxis": {
            "gridcolor": "white",
            "linecolor": "white",
            "ticks": ""
           }
          },
          "scene": {
           "xaxis": {
            "backgroundcolor": "#E5ECF6",
            "gridcolor": "white",
            "gridwidth": 2,
            "linecolor": "white",
            "showbackground": true,
            "ticks": "",
            "zerolinecolor": "white"
           },
           "yaxis": {
            "backgroundcolor": "#E5ECF6",
            "gridcolor": "white",
            "gridwidth": 2,
            "linecolor": "white",
            "showbackground": true,
            "ticks": "",
            "zerolinecolor": "white"
           },
           "zaxis": {
            "backgroundcolor": "#E5ECF6",
            "gridcolor": "white",
            "gridwidth": 2,
            "linecolor": "white",
            "showbackground": true,
            "ticks": "",
            "zerolinecolor": "white"
           }
          },
          "shapedefaults": {
           "line": {
            "color": "#2a3f5f"
           }
          },
          "ternary": {
           "aaxis": {
            "gridcolor": "white",
            "linecolor": "white",
            "ticks": ""
           },
           "baxis": {
            "gridcolor": "white",
            "linecolor": "white",
            "ticks": ""
           },
           "bgcolor": "#E5ECF6",
           "caxis": {
            "gridcolor": "white",
            "linecolor": "white",
            "ticks": ""
           }
          },
          "title": {
           "x": 0.05
          },
          "xaxis": {
           "automargin": true,
           "gridcolor": "white",
           "linecolor": "white",
           "ticks": "",
           "title": {
            "standoff": 15
           },
           "zerolinecolor": "white",
           "zerolinewidth": 2
          },
          "yaxis": {
           "automargin": true,
           "gridcolor": "white",
           "linecolor": "white",
           "ticks": "",
           "title": {
            "standoff": 15
           },
           "zerolinecolor": "white",
           "zerolinewidth": 2
          }
         }
        },
        "title": {
         "font": {
          "color": "#4D5663"
         }
        },
        "xaxis": {
         "gridcolor": "#E1E5ED",
         "showgrid": true,
         "tickfont": {
          "color": "#4D5663"
         },
         "title": {
          "font": {
           "color": "#4D5663"
          },
          "text": ""
         },
         "zerolinecolor": "#E1E5ED"
        },
        "yaxis": {
         "gridcolor": "#E1E5ED",
         "showgrid": true,
         "tickfont": {
          "color": "#4D5663"
         },
         "title": {
          "font": {
           "color": "#4D5663"
          },
          "text": ""
         },
         "zerolinecolor": "#E1E5ED"
        }
       }
      },
      "text/html": [
       "<div>                            <div id=\"f0eb70ad-f4b3-4c94-a8fc-6b85f72cdb6e\" class=\"plotly-graph-div\" style=\"height:525px; width:100%;\"></div>            <script type=\"text/javascript\">                require([\"plotly\"], function(Plotly) {                    window.PLOTLYENV=window.PLOTLYENV || {};\n",
       "                    window.PLOTLYENV.BASE_URL='https://plot.ly';                                    if (document.getElementById(\"f0eb70ad-f4b3-4c94-a8fc-6b85f72cdb6e\")) {                    Plotly.newPlot(                        \"f0eb70ad-f4b3-4c94-a8fc-6b85f72cdb6e\",                        [{\"marker\":{\"color\":\"rgba(55, 128, 191, 0.6)\",\"line\":{\"color\":\"rgba(55, 128, 191, 1.0)\",\"width\":1}},\"name\":\"YTD Total Return\",\"orientation\":\"v\",\"text\":\"\",\"x\":[\"SY1G.DE\",\"RWEG.DE\",\"QIA.DE\",\"HNRGn.DE\",\"LINI.DE\",\"MRCG.DE\",\"HNKG_p.DE\",\"BEIG.DE\",\"DB1Gn.DE\",\"ALVG.DE\",\"PSHG_p.DE\",\"MUVGn.DE\",\"DTGGe.DE\",\"EONGn.DE\",\"ENR1n.DE\",\"SHLG.DE\",\"FREG.DE\",\"DTEGn.DE\",\"DBKGn.DE\",\"ADSGn.DE\",\"BASFn.DE\",\"VOWG_p.DE\",\"AIRG.DE\",\"SAPG.DE\",\"1COV.DE\",\"DPWGn.DE\",\"SIEGn.DE\",\"SATG_p.DE\",\"VNAn.DE\",\"MTXGn.DE\",\"BMWG.DE\",\"ZALG.DE\",\"P911_p.DE\",\"HEIG.DE\",\"MBGn.DE\",\"BNRGn.DE\",\"BAYGn.DE\",\"FMEG.DE\",\"CONG.DE\",\"IFXGn.DE\"],\"y\":[-5.49926217412693,-4.97715797066603,-4.85003190810468,-1.91374663072774,-1.50597479129152,1.40961857379773,3.4143340510612,5.59701492537312,6.22676579925656,7.98904927824788,8.50897736143637,8.51973684210527,8.56797374330622,8.90293550460679,9.24608819345654,9.71862345143062,10.4380952380952,11.3853417748685,12.202493388742,12.6000313823944,12.610476395775,12.7125923380863,12.8927994253907,13.5802469135802,15.0205198358413,15.4064809550881,15.459157315524,15.6199242014077,15.622161671208,15.7270029673592,19.6330055169106,20.144971307762,20.4221635883906,20.9084084084083,21.5635179153094,22.1031480241125,22.338334195551,22.5711481844947,24.3658449446231,25.0615546957439],\"type\":\"bar\"}],                        {\"legend\":{\"bgcolor\":\"#F5F6F9\",\"font\":{\"color\":\"#4D5663\"}},\"paper_bgcolor\":\"#F5F6F9\",\"plot_bgcolor\":\"#F5F6F9\",\"template\":{\"data\":{\"barpolar\":[{\"marker\":{\"line\":{\"color\":\"#E5ECF6\",\"width\":0.5},\"pattern\":{\"fillmode\":\"overlay\",\"size\":10,\"solidity\":0.2}},\"type\":\"barpolar\"}],\"bar\":[{\"error_x\":{\"color\":\"#2a3f5f\"},\"error_y\":{\"color\":\"#2a3f5f\"},\"marker\":{\"line\":{\"color\":\"#E5ECF6\",\"width\":0.5},\"pattern\":{\"fillmode\":\"overlay\",\"size\":10,\"solidity\":0.2}},\"type\":\"bar\"}],\"carpet\":[{\"aaxis\":{\"endlinecolor\":\"#2a3f5f\",\"gridcolor\":\"white\",\"linecolor\":\"white\",\"minorgridcolor\":\"white\",\"startlinecolor\":\"#2a3f5f\"},\"baxis\":{\"endlinecolor\":\"#2a3f5f\",\"gridcolor\":\"white\",\"linecolor\":\"white\",\"minorgridcolor\":\"white\",\"startlinecolor\":\"#2a3f5f\"},\"type\":\"carpet\"}],\"choropleth\":[{\"colorbar\":{\"outlinewidth\":0,\"ticks\":\"\"},\"type\":\"choropleth\"}],\"contourcarpet\":[{\"colorbar\":{\"outlinewidth\":0,\"ticks\":\"\"},\"type\":\"contourcarpet\"}],\"contour\":[{\"colorbar\":{\"outlinewidth\":0,\"ticks\":\"\"},\"colorscale\":[[0.0,\"#0d0887\"],[0.1111111111111111,\"#46039f\"],[0.2222222222222222,\"#7201a8\"],[0.3333333333333333,\"#9c179e\"],[0.4444444444444444,\"#bd3786\"],[0.5555555555555556,\"#d8576b\"],[0.6666666666666666,\"#ed7953\"],[0.7777777777777778,\"#fb9f3a\"],[0.8888888888888888,\"#fdca26\"],[1.0,\"#f0f921\"]],\"type\":\"contour\"}],\"heatmapgl\":[{\"colorbar\":{\"outlinewidth\":0,\"ticks\":\"\"},\"colorscale\":[[0.0,\"#0d0887\"],[0.1111111111111111,\"#46039f\"],[0.2222222222222222,\"#7201a8\"],[0.3333333333333333,\"#9c179e\"],[0.4444444444444444,\"#bd3786\"],[0.5555555555555556,\"#d8576b\"],[0.6666666666666666,\"#ed7953\"],[0.7777777777777778,\"#fb9f3a\"],[0.8888888888888888,\"#fdca26\"],[1.0,\"#f0f921\"]],\"type\":\"heatmapgl\"}],\"heatmap\":[{\"colorbar\":{\"outlinewidth\":0,\"ticks\":\"\"},\"colorscale\":[[0.0,\"#0d0887\"],[0.1111111111111111,\"#46039f\"],[0.2222222222222222,\"#7201a8\"],[0.3333333333333333,\"#9c179e\"],[0.4444444444444444,\"#bd3786\"],[0.5555555555555556,\"#d8576b\"],[0.6666666666666666,\"#ed7953\"],[0.7777777777777778,\"#fb9f3a\"],[0.8888888888888888,\"#fdca26\"],[1.0,\"#f0f921\"]],\"type\":\"heatmap\"}],\"histogram2dcontour\":[{\"colorbar\":{\"outlinewidth\":0,\"ticks\":\"\"},\"colorscale\":[[0.0,\"#0d0887\"],[0.1111111111111111,\"#46039f\"],[0.2222222222222222,\"#7201a8\"],[0.3333333333333333,\"#9c179e\"],[0.4444444444444444,\"#bd3786\"],[0.5555555555555556,\"#d8576b\"],[0.6666666666666666,\"#ed7953\"],[0.7777777777777778,\"#fb9f3a\"],[0.8888888888888888,\"#fdca26\"],[1.0,\"#f0f921\"]],\"type\":\"histogram2dcontour\"}],\"histogram2d\":[{\"colorbar\":{\"outlinewidth\":0,\"ticks\":\"\"},\"colorscale\":[[0.0,\"#0d0887\"],[0.1111111111111111,\"#46039f\"],[0.2222222222222222,\"#7201a8\"],[0.3333333333333333,\"#9c179e\"],[0.4444444444444444,\"#bd3786\"],[0.5555555555555556,\"#d8576b\"],[0.6666666666666666,\"#ed7953\"],[0.7777777777777778,\"#fb9f3a\"],[0.8888888888888888,\"#fdca26\"],[1.0,\"#f0f921\"]],\"type\":\"histogram2d\"}],\"histogram\":[{\"marker\":{\"pattern\":{\"fillmode\":\"overlay\",\"size\":10,\"solidity\":0.2}},\"type\":\"histogram\"}],\"mesh3d\":[{\"colorbar\":{\"outlinewidth\":0,\"ticks\":\"\"},\"type\":\"mesh3d\"}],\"parcoords\":[{\"line\":{\"colorbar\":{\"outlinewidth\":0,\"ticks\":\"\"}},\"type\":\"parcoords\"}],\"pie\":[{\"automargin\":true,\"type\":\"pie\"}],\"scatter3d\":[{\"line\":{\"colorbar\":{\"outlinewidth\":0,\"ticks\":\"\"}},\"marker\":{\"colorbar\":{\"outlinewidth\":0,\"ticks\":\"\"}},\"type\":\"scatter3d\"}],\"scattercarpet\":[{\"marker\":{\"colorbar\":{\"outlinewidth\":0,\"ticks\":\"\"}},\"type\":\"scattercarpet\"}],\"scattergeo\":[{\"marker\":{\"colorbar\":{\"outlinewidth\":0,\"ticks\":\"\"}},\"type\":\"scattergeo\"}],\"scattergl\":[{\"marker\":{\"colorbar\":{\"outlinewidth\":0,\"ticks\":\"\"}},\"type\":\"scattergl\"}],\"scattermapbox\":[{\"marker\":{\"colorbar\":{\"outlinewidth\":0,\"ticks\":\"\"}},\"type\":\"scattermapbox\"}],\"scatterpolargl\":[{\"marker\":{\"colorbar\":{\"outlinewidth\":0,\"ticks\":\"\"}},\"type\":\"scatterpolargl\"}],\"scatterpolar\":[{\"marker\":{\"colorbar\":{\"outlinewidth\":0,\"ticks\":\"\"}},\"type\":\"scatterpolar\"}],\"scatter\":[{\"fillpattern\":{\"fillmode\":\"overlay\",\"size\":10,\"solidity\":0.2},\"type\":\"scatter\"}],\"scatterternary\":[{\"marker\":{\"colorbar\":{\"outlinewidth\":0,\"ticks\":\"\"}},\"type\":\"scatterternary\"}],\"surface\":[{\"colorbar\":{\"outlinewidth\":0,\"ticks\":\"\"},\"colorscale\":[[0.0,\"#0d0887\"],[0.1111111111111111,\"#46039f\"],[0.2222222222222222,\"#7201a8\"],[0.3333333333333333,\"#9c179e\"],[0.4444444444444444,\"#bd3786\"],[0.5555555555555556,\"#d8576b\"],[0.6666666666666666,\"#ed7953\"],[0.7777777777777778,\"#fb9f3a\"],[0.8888888888888888,\"#fdca26\"],[1.0,\"#f0f921\"]],\"type\":\"surface\"}],\"table\":[{\"cells\":{\"fill\":{\"color\":\"#EBF0F8\"},\"line\":{\"color\":\"white\"}},\"header\":{\"fill\":{\"color\":\"#C8D4E3\"},\"line\":{\"color\":\"white\"}},\"type\":\"table\"}]},\"layout\":{\"annotationdefaults\":{\"arrowcolor\":\"#2a3f5f\",\"arrowhead\":0,\"arrowwidth\":1},\"autotypenumbers\":\"strict\",\"coloraxis\":{\"colorbar\":{\"outlinewidth\":0,\"ticks\":\"\"}},\"colorscale\":{\"diverging\":[[0,\"#8e0152\"],[0.1,\"#c51b7d\"],[0.2,\"#de77ae\"],[0.3,\"#f1b6da\"],[0.4,\"#fde0ef\"],[0.5,\"#f7f7f7\"],[0.6,\"#e6f5d0\"],[0.7,\"#b8e186\"],[0.8,\"#7fbc41\"],[0.9,\"#4d9221\"],[1,\"#276419\"]],\"sequential\":[[0.0,\"#0d0887\"],[0.1111111111111111,\"#46039f\"],[0.2222222222222222,\"#7201a8\"],[0.3333333333333333,\"#9c179e\"],[0.4444444444444444,\"#bd3786\"],[0.5555555555555556,\"#d8576b\"],[0.6666666666666666,\"#ed7953\"],[0.7777777777777778,\"#fb9f3a\"],[0.8888888888888888,\"#fdca26\"],[1.0,\"#f0f921\"]],\"sequentialminus\":[[0.0,\"#0d0887\"],[0.1111111111111111,\"#46039f\"],[0.2222222222222222,\"#7201a8\"],[0.3333333333333333,\"#9c179e\"],[0.4444444444444444,\"#bd3786\"],[0.5555555555555556,\"#d8576b\"],[0.6666666666666666,\"#ed7953\"],[0.7777777777777778,\"#fb9f3a\"],[0.8888888888888888,\"#fdca26\"],[1.0,\"#f0f921\"]]},\"colorway\":[\"#636efa\",\"#EF553B\",\"#00cc96\",\"#ab63fa\",\"#FFA15A\",\"#19d3f3\",\"#FF6692\",\"#B6E880\",\"#FF97FF\",\"#FECB52\"],\"font\":{\"color\":\"#2a3f5f\"},\"geo\":{\"bgcolor\":\"white\",\"lakecolor\":\"white\",\"landcolor\":\"#E5ECF6\",\"showlakes\":true,\"showland\":true,\"subunitcolor\":\"white\"},\"hoverlabel\":{\"align\":\"left\"},\"hovermode\":\"closest\",\"mapbox\":{\"style\":\"light\"},\"paper_bgcolor\":\"white\",\"plot_bgcolor\":\"#E5ECF6\",\"polar\":{\"angularaxis\":{\"gridcolor\":\"white\",\"linecolor\":\"white\",\"ticks\":\"\"},\"bgcolor\":\"#E5ECF6\",\"radialaxis\":{\"gridcolor\":\"white\",\"linecolor\":\"white\",\"ticks\":\"\"}},\"scene\":{\"xaxis\":{\"backgroundcolor\":\"#E5ECF6\",\"gridcolor\":\"white\",\"gridwidth\":2,\"linecolor\":\"white\",\"showbackground\":true,\"ticks\":\"\",\"zerolinecolor\":\"white\"},\"yaxis\":{\"backgroundcolor\":\"#E5ECF6\",\"gridcolor\":\"white\",\"gridwidth\":2,\"linecolor\":\"white\",\"showbackground\":true,\"ticks\":\"\",\"zerolinecolor\":\"white\"},\"zaxis\":{\"backgroundcolor\":\"#E5ECF6\",\"gridcolor\":\"white\",\"gridwidth\":2,\"linecolor\":\"white\",\"showbackground\":true,\"ticks\":\"\",\"zerolinecolor\":\"white\"}},\"shapedefaults\":{\"line\":{\"color\":\"#2a3f5f\"}},\"ternary\":{\"aaxis\":{\"gridcolor\":\"white\",\"linecolor\":\"white\",\"ticks\":\"\"},\"baxis\":{\"gridcolor\":\"white\",\"linecolor\":\"white\",\"ticks\":\"\"},\"bgcolor\":\"#E5ECF6\",\"caxis\":{\"gridcolor\":\"white\",\"linecolor\":\"white\",\"ticks\":\"\"}},\"title\":{\"x\":0.05},\"xaxis\":{\"automargin\":true,\"gridcolor\":\"white\",\"linecolor\":\"white\",\"ticks\":\"\",\"title\":{\"standoff\":15},\"zerolinecolor\":\"white\",\"zerolinewidth\":2},\"yaxis\":{\"automargin\":true,\"gridcolor\":\"white\",\"linecolor\":\"white\",\"ticks\":\"\",\"title\":{\"standoff\":15},\"zerolinecolor\":\"white\",\"zerolinewidth\":2}}},\"title\":{\"font\":{\"color\":\"#4D5663\"}},\"xaxis\":{\"gridcolor\":\"#E1E5ED\",\"showgrid\":true,\"tickfont\":{\"color\":\"#4D5663\"},\"title\":{\"font\":{\"color\":\"#4D5663\"},\"text\":\"\"},\"zerolinecolor\":\"#E1E5ED\"},\"yaxis\":{\"gridcolor\":\"#E1E5ED\",\"showgrid\":true,\"tickfont\":{\"color\":\"#4D5663\"},\"title\":{\"font\":{\"color\":\"#4D5663\"},\"text\":\"\"},\"zerolinecolor\":\"#E1E5ED\"}},                        {\"showLink\": true, \"linkText\": \"Export to plot.ly\", \"plotlyServerURL\": \"https://plot.ly\", \"responsive\": true}                    ).then(function(){\n",
       "                            \n",
       "var gd = document.getElementById('f0eb70ad-f4b3-4c94-a8fc-6b85f72cdb6e');\n",
       "var x = new MutationObserver(function (mutations, observer) {{\n",
       "        var display = window.getComputedStyle(gd).display;\n",
       "        if (!display || display === 'none') {{\n",
       "            console.log([gd, 'removed!']);\n",
       "            Plotly.purge(gd);\n",
       "            observer.disconnect();\n",
       "        }}\n",
       "}});\n",
       "\n",
       "// Listen for the removal of the full notebook cells\n",
       "var notebookContainer = gd.closest('#notebook-container');\n",
       "if (notebookContainer) {{\n",
       "    x.observe(notebookContainer, {childList: true});\n",
       "}}\n",
       "\n",
       "// Listen for the clearing of the current output cell\n",
       "var outputEl = gd.closest('.output');\n",
       "if (outputEl) {{\n",
       "    x.observe(outputEl, {childList: true});\n",
       "}}\n",
       "\n",
       "                        })                };                });            </script>        </div>"
      ]
     },
     "metadata": {},
     "output_type": "display_data"
    }
   ],
   "source": [
    "dax.set_index('Instrument')['YTD Total Return'].sort_values().iplot(kind='bar', color='blue')"
   ]
  },
  {
   "cell_type": "markdown",
   "id": "73aeb56c",
   "metadata": {},
   "source": [
    "# Descargar series de tiempo"
   ]
  },
  {
   "cell_type": "code",
   "execution_count": 21,
   "id": "73c2ec30",
   "metadata": {},
   "outputs": [],
   "source": [
    "#help(ek.get_timeseries)"
   ]
  },
  {
   "cell_type": "code",
   "execution_count": 67,
   "id": "93f30e3e",
   "metadata": {},
   "outputs": [
    {
     "name": "stdout",
     "output_type": "stream",
     "text": [
      "2023-02-17 23:28:57.355449 2020-05-23 23:28:57.355449\n"
     ]
    }
   ],
   "source": [
    "import datetime\n",
    "today = datetime.datetime.today()\n",
    "d = today - timedelta(days=1000)\n",
    "print(today, d)"
   ]
  },
  {
   "cell_type": "code",
   "execution_count": 70,
   "id": "c4563de2",
   "metadata": {},
   "outputs": [
    {
     "data": {
      "text/html": [
       "<div>\n",
       "<style scoped>\n",
       "    .dataframe tbody tr th:only-of-type {\n",
       "        vertical-align: middle;\n",
       "    }\n",
       "\n",
       "    .dataframe tbody tr th {\n",
       "        vertical-align: top;\n",
       "    }\n",
       "\n",
       "    .dataframe thead th {\n",
       "        text-align: right;\n",
       "    }\n",
       "</style>\n",
       "<table border=\"1\" class=\"dataframe\">\n",
       "  <thead>\n",
       "    <tr style=\"text-align: right;\">\n",
       "      <th>000001.SZ</th>\n",
       "      <th>HIGH</th>\n",
       "      <th>CLOSE</th>\n",
       "      <th>LOW</th>\n",
       "      <th>OPEN</th>\n",
       "      <th>VOLUME</th>\n",
       "    </tr>\n",
       "    <tr>\n",
       "      <th>Date</th>\n",
       "      <th></th>\n",
       "      <th></th>\n",
       "      <th></th>\n",
       "      <th></th>\n",
       "      <th></th>\n",
       "    </tr>\n",
       "  </thead>\n",
       "  <tbody>\n",
       "    <tr>\n",
       "      <th>2016-06-14</th>\n",
       "      <td>8.674997</td>\n",
       "      <td>8.666663</td>\n",
       "      <td>8.599997</td>\n",
       "      <td>8.616663</td>\n",
       "      <td>32836484.334594</td>\n",
       "    </tr>\n",
       "    <tr>\n",
       "      <th>2016-06-15</th>\n",
       "      <td>8.73333</td>\n",
       "      <td>8.699997</td>\n",
       "      <td>8.599997</td>\n",
       "      <td>8.60833</td>\n",
       "      <td>45380707.352283</td>\n",
       "    </tr>\n",
       "    <tr>\n",
       "      <th>2016-06-16</th>\n",
       "      <td>8.6</td>\n",
       "      <td>8.57</td>\n",
       "      <td>8.53</td>\n",
       "      <td>8.57</td>\n",
       "      <td>38667008.0</td>\n",
       "    </tr>\n",
       "    <tr>\n",
       "      <th>2016-06-17</th>\n",
       "      <td>8.61</td>\n",
       "      <td>8.58</td>\n",
       "      <td>8.54</td>\n",
       "      <td>8.57</td>\n",
       "      <td>31517300.0</td>\n",
       "    </tr>\n",
       "    <tr>\n",
       "      <th>2016-06-20</th>\n",
       "      <td>8.6</td>\n",
       "      <td>8.6</td>\n",
       "      <td>8.56</td>\n",
       "      <td>8.59</td>\n",
       "      <td>27073158.0</td>\n",
       "    </tr>\n",
       "  </tbody>\n",
       "</table>\n",
       "</div>"
      ],
      "text/plain": [
       "000001.SZ       HIGH     CLOSE       LOW      OPEN           VOLUME\n",
       "Date                                                               \n",
       "2016-06-14  8.674997  8.666663  8.599997  8.616663  32836484.334594\n",
       "2016-06-15   8.73333  8.699997  8.599997   8.60833  45380707.352283\n",
       "2016-06-16       8.6      8.57      8.53      8.57       38667008.0\n",
       "2016-06-17      8.61      8.58      8.54      8.57       31517300.0\n",
       "2016-06-20       8.6       8.6      8.56      8.59       27073158.0"
      ]
     },
     "execution_count": 70,
     "metadata": {},
     "output_type": "execute_result"
    }
   ],
   "source": [
    "df_ts = ek.get_timeseries([\"000001.SZ\"], start_date = \"2016-06-14\", end_date = \"2016-06-20\", interval=\"daily\", corax = 'adjusted' )\n",
    "df_ts"
   ]
  },
  {
   "cell_type": "code",
   "execution_count": 64,
   "id": "4a75ae24",
   "metadata": {},
   "outputs": [
    {
     "name": "stdout",
     "output_type": "stream",
     "text": [
      "2023-02-17 2020-05-23\n"
     ]
    }
   ],
   "source": [
    "import datetime\n",
    "today = datetime.date.today()\n",
    "d = today - timedelta(days=1000)\n",
    "print(today, d)"
   ]
  },
  {
   "cell_type": "code",
   "execution_count": 73,
   "id": "8f78dd2e",
   "metadata": {},
   "outputs": [
    {
     "data": {
      "text/html": [
       "<div>\n",
       "<style scoped>\n",
       "    .dataframe tbody tr th:only-of-type {\n",
       "        vertical-align: middle;\n",
       "    }\n",
       "\n",
       "    .dataframe tbody tr th {\n",
       "        vertical-align: top;\n",
       "    }\n",
       "\n",
       "    .dataframe thead th {\n",
       "        text-align: right;\n",
       "    }\n",
       "</style>\n",
       "<table border=\"1\" class=\"dataframe\">\n",
       "  <thead>\n",
       "    <tr style=\"text-align: right;\">\n",
       "      <th>000001.SZ</th>\n",
       "      <th>HIGH</th>\n",
       "      <th>CLOSE</th>\n",
       "      <th>LOW</th>\n",
       "      <th>OPEN</th>\n",
       "      <th>VOLUME</th>\n",
       "    </tr>\n",
       "    <tr>\n",
       "      <th>Date</th>\n",
       "      <th></th>\n",
       "      <th></th>\n",
       "      <th></th>\n",
       "      <th></th>\n",
       "      <th></th>\n",
       "    </tr>\n",
       "  </thead>\n",
       "  <tbody>\n",
       "    <tr>\n",
       "      <th>2016-06-14</th>\n",
       "      <td>10.41</td>\n",
       "      <td>10.4</td>\n",
       "      <td>10.32</td>\n",
       "      <td>10.34</td>\n",
       "      <td>27363726</td>\n",
       "    </tr>\n",
       "    <tr>\n",
       "      <th>2016-06-15</th>\n",
       "      <td>10.48</td>\n",
       "      <td>10.44</td>\n",
       "      <td>10.32</td>\n",
       "      <td>10.33</td>\n",
       "      <td>37817241</td>\n",
       "    </tr>\n",
       "    <tr>\n",
       "      <th>2016-06-16</th>\n",
       "      <td>8.6</td>\n",
       "      <td>8.57</td>\n",
       "      <td>8.53</td>\n",
       "      <td>8.57</td>\n",
       "      <td>38667008</td>\n",
       "    </tr>\n",
       "    <tr>\n",
       "      <th>2016-06-17</th>\n",
       "      <td>8.61</td>\n",
       "      <td>8.58</td>\n",
       "      <td>8.54</td>\n",
       "      <td>8.57</td>\n",
       "      <td>31517300</td>\n",
       "    </tr>\n",
       "    <tr>\n",
       "      <th>2016-06-20</th>\n",
       "      <td>8.6</td>\n",
       "      <td>8.6</td>\n",
       "      <td>8.56</td>\n",
       "      <td>8.59</td>\n",
       "      <td>27073158</td>\n",
       "    </tr>\n",
       "  </tbody>\n",
       "</table>\n",
       "</div>"
      ],
      "text/plain": [
       "000001.SZ    HIGH  CLOSE    LOW   OPEN    VOLUME\n",
       "Date                                            \n",
       "2016-06-14  10.41   10.4  10.32  10.34  27363726\n",
       "2016-06-15  10.48  10.44  10.32  10.33  37817241\n",
       "2016-06-16    8.6   8.57   8.53   8.57  38667008\n",
       "2016-06-17   8.61   8.58   8.54   8.57  31517300\n",
       "2016-06-20    8.6    8.6   8.56   8.59  27073158"
      ]
     },
     "execution_count": 73,
     "metadata": {},
     "output_type": "execute_result"
    }
   ],
   "source": [
    "df_ts = ek.get_timeseries([\"000001.SZ\"], start_date = \"2016-06-14\", end_date = \"2016-06-20\", interval=\"daily\", corax = 'unadjusted')\n",
    "df_ts"
   ]
  },
  {
   "cell_type": "code",
   "execution_count": 72,
   "id": "b4a29d47",
   "metadata": {},
   "outputs": [
    {
     "data": {
      "text/html": [
       "<div>\n",
       "<style scoped>\n",
       "    .dataframe tbody tr th:only-of-type {\n",
       "        vertical-align: middle;\n",
       "    }\n",
       "\n",
       "    .dataframe tbody tr th {\n",
       "        vertical-align: top;\n",
       "    }\n",
       "\n",
       "    .dataframe thead th {\n",
       "        text-align: right;\n",
       "    }\n",
       "</style>\n",
       "<table border=\"1\" class=\"dataframe\">\n",
       "  <thead>\n",
       "    <tr style=\"text-align: right;\">\n",
       "      <th>MSFT.O</th>\n",
       "      <th>HIGH</th>\n",
       "      <th>CLOSE</th>\n",
       "      <th>LOW</th>\n",
       "      <th>OPEN</th>\n",
       "      <th>COUNT</th>\n",
       "      <th>VOLUME</th>\n",
       "    </tr>\n",
       "    <tr>\n",
       "      <th>Date</th>\n",
       "      <th></th>\n",
       "      <th></th>\n",
       "      <th></th>\n",
       "      <th></th>\n",
       "      <th></th>\n",
       "      <th></th>\n",
       "    </tr>\n",
       "  </thead>\n",
       "  <tbody>\n",
       "    <tr>\n",
       "      <th>2020-05-26</th>\n",
       "      <td>186.5</td>\n",
       "      <td>181.57</td>\n",
       "      <td>181.1</td>\n",
       "      <td>186.34</td>\n",
       "      <td>331207</td>\n",
       "      <td>36073609</td>\n",
       "    </tr>\n",
       "    <tr>\n",
       "      <th>2020-05-27</th>\n",
       "      <td>181.9877</td>\n",
       "      <td>181.81</td>\n",
       "      <td>176.6</td>\n",
       "      <td>180.2</td>\n",
       "      <td>398879</td>\n",
       "      <td>39517146</td>\n",
       "    </tr>\n",
       "    <tr>\n",
       "      <th>2020-05-28</th>\n",
       "      <td>184.1474</td>\n",
       "      <td>181.4</td>\n",
       "      <td>180.38</td>\n",
       "      <td>180.74</td>\n",
       "      <td>280192</td>\n",
       "      <td>33831824</td>\n",
       "    </tr>\n",
       "    <tr>\n",
       "      <th>2020-05-29</th>\n",
       "      <td>184.27</td>\n",
       "      <td>183.25</td>\n",
       "      <td>180.41</td>\n",
       "      <td>182.73</td>\n",
       "      <td>294858</td>\n",
       "      <td>42146720</td>\n",
       "    </tr>\n",
       "    <tr>\n",
       "      <th>2020-06-01</th>\n",
       "      <td>183.0</td>\n",
       "      <td>182.83</td>\n",
       "      <td>181.46</td>\n",
       "      <td>182.54</td>\n",
       "      <td>212797</td>\n",
       "      <td>22668821</td>\n",
       "    </tr>\n",
       "    <tr>\n",
       "      <th>...</th>\n",
       "      <td>...</td>\n",
       "      <td>...</td>\n",
       "      <td>...</td>\n",
       "      <td>...</td>\n",
       "      <td>...</td>\n",
       "      <td>...</td>\n",
       "    </tr>\n",
       "    <tr>\n",
       "      <th>2023-02-13</th>\n",
       "      <td>274.6</td>\n",
       "      <td>271.32</td>\n",
       "      <td>267.15</td>\n",
       "      <td>267.64</td>\n",
       "      <td>499426</td>\n",
       "      <td>44630921</td>\n",
       "    </tr>\n",
       "    <tr>\n",
       "      <th>2023-02-14</th>\n",
       "      <td>274.97</td>\n",
       "      <td>272.17</td>\n",
       "      <td>269.28</td>\n",
       "      <td>272.67</td>\n",
       "      <td>471699</td>\n",
       "      <td>37047924</td>\n",
       "    </tr>\n",
       "    <tr>\n",
       "      <th>2023-02-15</th>\n",
       "      <td>270.73</td>\n",
       "      <td>269.32</td>\n",
       "      <td>266.18</td>\n",
       "      <td>268.32</td>\n",
       "      <td>370701</td>\n",
       "      <td>28962163</td>\n",
       "    </tr>\n",
       "    <tr>\n",
       "      <th>2023-02-16</th>\n",
       "      <td>266.74</td>\n",
       "      <td>262.15</td>\n",
       "      <td>261.9</td>\n",
       "      <td>264.02</td>\n",
       "      <td>389914</td>\n",
       "      <td>29603616</td>\n",
       "    </tr>\n",
       "    <tr>\n",
       "      <th>2023-02-17</th>\n",
       "      <td>260.09</td>\n",
       "      <td>258.06</td>\n",
       "      <td>256.0</td>\n",
       "      <td>259.39</td>\n",
       "      <td>392724</td>\n",
       "      <td>30000055</td>\n",
       "    </tr>\n",
       "  </tbody>\n",
       "</table>\n",
       "<p>690 rows × 6 columns</p>\n",
       "</div>"
      ],
      "text/plain": [
       "MSFT.O          HIGH   CLOSE     LOW    OPEN   COUNT    VOLUME\n",
       "Date                                                          \n",
       "2020-05-26     186.5  181.57   181.1  186.34  331207  36073609\n",
       "2020-05-27  181.9877  181.81   176.6   180.2  398879  39517146\n",
       "2020-05-28  184.1474   181.4  180.38  180.74  280192  33831824\n",
       "2020-05-29    184.27  183.25  180.41  182.73  294858  42146720\n",
       "2020-06-01     183.0  182.83  181.46  182.54  212797  22668821\n",
       "...              ...     ...     ...     ...     ...       ...\n",
       "2023-02-13     274.6  271.32  267.15  267.64  499426  44630921\n",
       "2023-02-14    274.97  272.17  269.28  272.67  471699  37047924\n",
       "2023-02-15    270.73  269.32  266.18  268.32  370701  28962163\n",
       "2023-02-16    266.74  262.15   261.9  264.02  389914  29603616\n",
       "2023-02-17    260.09  258.06   256.0  259.39  392724  30000055\n",
       "\n",
       "[690 rows x 6 columns]"
      ]
     },
     "execution_count": 72,
     "metadata": {},
     "output_type": "execute_result"
    }
   ],
   "source": [
    "df_ts = ek.get_timeseries([\"MSFT.O\"], start_date = d, end_date = today, interval=\"daily\", corax = 'unadjusted')\n",
    "df_ts"
   ]
  },
  {
   "cell_type": "code",
   "execution_count": 39,
   "id": "a7e4bc73",
   "metadata": {},
   "outputs": [
    {
     "data": {
      "text/plain": [
       "pandas.core.frame.DataFrame"
      ]
     },
     "execution_count": 39,
     "metadata": {},
     "output_type": "execute_result"
    }
   ],
   "source": [
    "type(df_ts)"
   ]
  },
  {
   "cell_type": "code",
   "execution_count": 40,
   "id": "8db9ac8a",
   "metadata": {},
   "outputs": [
    {
     "data": {
      "text/plain": [
       "Index(['HIGH', 'CLOSE', 'LOW', 'OPEN', 'COUNT', 'VOLUME'], dtype='object', name='MSFT.O')"
      ]
     },
     "execution_count": 40,
     "metadata": {},
     "output_type": "execute_result"
    }
   ],
   "source": [
    "df_ts.columns"
   ]
  },
  {
   "cell_type": "code",
   "execution_count": 49,
   "id": "623e0e9b",
   "metadata": {},
   "outputs": [],
   "source": [
    "#df_ts.values"
   ]
  },
  {
   "cell_type": "code",
   "execution_count": 42,
   "id": "2383c8f0",
   "metadata": {},
   "outputs": [
    {
     "data": {
      "text/plain": [
       "Date\n",
       "2022-11-10    242.98\n",
       "2022-11-11    247.11\n",
       "2022-11-14    241.55\n",
       "2022-11-15    241.97\n",
       "2022-11-16    241.73\n",
       "               ...  \n",
       "2023-02-13    271.32\n",
       "2023-02-14    272.17\n",
       "2023-02-15    269.32\n",
       "2023-02-16    262.15\n",
       "2023-02-17    258.06\n",
       "Name: CLOSE, Length: 68, dtype: Float64"
      ]
     },
     "execution_count": 42,
     "metadata": {},
     "output_type": "execute_result"
    }
   ],
   "source": [
    "df_ts['CLOSE']"
   ]
  },
  {
   "cell_type": "code",
   "execution_count": 44,
   "id": "95ee8dd9",
   "metadata": {},
   "outputs": [
    {
     "data": {
      "text/html": [
       "<div>\n",
       "<style scoped>\n",
       "    .dataframe tbody tr th:only-of-type {\n",
       "        vertical-align: middle;\n",
       "    }\n",
       "\n",
       "    .dataframe tbody tr th {\n",
       "        vertical-align: top;\n",
       "    }\n",
       "\n",
       "    .dataframe thead th {\n",
       "        text-align: right;\n",
       "    }\n",
       "</style>\n",
       "<table border=\"1\" class=\"dataframe\">\n",
       "  <thead>\n",
       "    <tr style=\"text-align: right;\">\n",
       "      <th>MSFT.O</th>\n",
       "      <th>HIGH</th>\n",
       "      <th>CLOSE</th>\n",
       "      <th>LOW</th>\n",
       "      <th>OPEN</th>\n",
       "      <th>COUNT</th>\n",
       "      <th>VOLUME</th>\n",
       "    </tr>\n",
       "    <tr>\n",
       "      <th>Date</th>\n",
       "      <th></th>\n",
       "      <th></th>\n",
       "      <th></th>\n",
       "      <th></th>\n",
       "      <th></th>\n",
       "      <th></th>\n",
       "    </tr>\n",
       "  </thead>\n",
       "  <tbody>\n",
       "    <tr>\n",
       "      <th>2022-11-30</th>\n",
       "      <td>255.33</td>\n",
       "      <td>255.14</td>\n",
       "      <td>239.86</td>\n",
       "      <td>240.57</td>\n",
       "      <td>448911</td>\n",
       "      <td>47594239</td>\n",
       "    </tr>\n",
       "    <tr>\n",
       "      <th>2022-12-01</th>\n",
       "      <td>256.12</td>\n",
       "      <td>254.69</td>\n",
       "      <td>250.9156</td>\n",
       "      <td>253.87</td>\n",
       "      <td>352799</td>\n",
       "      <td>26041524</td>\n",
       "    </tr>\n",
       "    <tr>\n",
       "      <th>2022-12-02</th>\n",
       "      <td>256.06</td>\n",
       "      <td>255.02</td>\n",
       "      <td>249.69</td>\n",
       "      <td>249.82</td>\n",
       "      <td>278398</td>\n",
       "      <td>21528520</td>\n",
       "    </tr>\n",
       "    <tr>\n",
       "      <th>2022-12-05</th>\n",
       "      <td>253.819</td>\n",
       "      <td>250.2</td>\n",
       "      <td>248.06</td>\n",
       "      <td>252.01</td>\n",
       "      <td>276722</td>\n",
       "      <td>23435294</td>\n",
       "    </tr>\n",
       "    <tr>\n",
       "      <th>2022-12-12</th>\n",
       "      <td>252.54</td>\n",
       "      <td>252.51</td>\n",
       "      <td>247.17</td>\n",
       "      <td>247.445</td>\n",
       "      <td>325566</td>\n",
       "      <td>30665069</td>\n",
       "    </tr>\n",
       "    <tr>\n",
       "      <th>2022-12-13</th>\n",
       "      <td>263.915</td>\n",
       "      <td>256.92</td>\n",
       "      <td>253.07</td>\n",
       "      <td>261.69</td>\n",
       "      <td>486404</td>\n",
       "      <td>42196884</td>\n",
       "    </tr>\n",
       "    <tr>\n",
       "      <th>2022-12-14</th>\n",
       "      <td>262.588</td>\n",
       "      <td>257.22</td>\n",
       "      <td>254.31</td>\n",
       "      <td>257.13</td>\n",
       "      <td>458428</td>\n",
       "      <td>35410933</td>\n",
       "    </tr>\n",
       "    <tr>\n",
       "      <th>2023-02-01</th>\n",
       "      <td>255.18</td>\n",
       "      <td>252.75</td>\n",
       "      <td>245.47</td>\n",
       "      <td>248.0</td>\n",
       "      <td>386960</td>\n",
       "      <td>31259912</td>\n",
       "    </tr>\n",
       "    <tr>\n",
       "      <th>2023-02-02</th>\n",
       "      <td>264.69</td>\n",
       "      <td>264.6</td>\n",
       "      <td>257.25</td>\n",
       "      <td>258.82</td>\n",
       "      <td>533820</td>\n",
       "      <td>39940437</td>\n",
       "    </tr>\n",
       "    <tr>\n",
       "      <th>2023-02-03</th>\n",
       "      <td>264.2</td>\n",
       "      <td>258.35</td>\n",
       "      <td>257.1</td>\n",
       "      <td>259.542</td>\n",
       "      <td>408059</td>\n",
       "      <td>29077256</td>\n",
       "    </tr>\n",
       "    <tr>\n",
       "      <th>2023-02-06</th>\n",
       "      <td>258.3</td>\n",
       "      <td>256.77</td>\n",
       "      <td>254.78</td>\n",
       "      <td>257.44</td>\n",
       "      <td>276674</td>\n",
       "      <td>22517997</td>\n",
       "    </tr>\n",
       "    <tr>\n",
       "      <th>2023-02-07</th>\n",
       "      <td>268.775</td>\n",
       "      <td>267.56</td>\n",
       "      <td>260.08</td>\n",
       "      <td>260.53</td>\n",
       "      <td>618791</td>\n",
       "      <td>50841365</td>\n",
       "    </tr>\n",
       "    <tr>\n",
       "      <th>2023-02-08</th>\n",
       "      <td>276.76</td>\n",
       "      <td>266.73</td>\n",
       "      <td>266.21</td>\n",
       "      <td>273.2</td>\n",
       "      <td>659532</td>\n",
       "      <td>54686049</td>\n",
       "    </tr>\n",
       "    <tr>\n",
       "      <th>2023-02-09</th>\n",
       "      <td>273.98</td>\n",
       "      <td>263.62</td>\n",
       "      <td>262.8</td>\n",
       "      <td>273.8</td>\n",
       "      <td>472027</td>\n",
       "      <td>42375102</td>\n",
       "    </tr>\n",
       "    <tr>\n",
       "      <th>2023-02-10</th>\n",
       "      <td>264.09</td>\n",
       "      <td>263.1</td>\n",
       "      <td>260.662</td>\n",
       "      <td>261.53</td>\n",
       "      <td>334146</td>\n",
       "      <td>25818489</td>\n",
       "    </tr>\n",
       "    <tr>\n",
       "      <th>2023-02-13</th>\n",
       "      <td>274.6</td>\n",
       "      <td>271.32</td>\n",
       "      <td>267.15</td>\n",
       "      <td>267.64</td>\n",
       "      <td>499426</td>\n",
       "      <td>44630921</td>\n",
       "    </tr>\n",
       "    <tr>\n",
       "      <th>2023-02-14</th>\n",
       "      <td>274.97</td>\n",
       "      <td>272.17</td>\n",
       "      <td>269.28</td>\n",
       "      <td>272.67</td>\n",
       "      <td>471699</td>\n",
       "      <td>37047924</td>\n",
       "    </tr>\n",
       "    <tr>\n",
       "      <th>2023-02-15</th>\n",
       "      <td>270.73</td>\n",
       "      <td>269.32</td>\n",
       "      <td>266.18</td>\n",
       "      <td>268.32</td>\n",
       "      <td>370701</td>\n",
       "      <td>28962163</td>\n",
       "    </tr>\n",
       "    <tr>\n",
       "      <th>2023-02-16</th>\n",
       "      <td>266.74</td>\n",
       "      <td>262.15</td>\n",
       "      <td>261.9</td>\n",
       "      <td>264.02</td>\n",
       "      <td>389914</td>\n",
       "      <td>29603616</td>\n",
       "    </tr>\n",
       "    <tr>\n",
       "      <th>2023-02-17</th>\n",
       "      <td>260.09</td>\n",
       "      <td>258.06</td>\n",
       "      <td>256.0</td>\n",
       "      <td>259.39</td>\n",
       "      <td>392724</td>\n",
       "      <td>30000055</td>\n",
       "    </tr>\n",
       "  </tbody>\n",
       "</table>\n",
       "</div>"
      ],
      "text/plain": [
       "MSFT.O         HIGH   CLOSE       LOW     OPEN   COUNT    VOLUME\n",
       "Date                                                            \n",
       "2022-11-30   255.33  255.14    239.86   240.57  448911  47594239\n",
       "2022-12-01   256.12  254.69  250.9156   253.87  352799  26041524\n",
       "2022-12-02   256.06  255.02    249.69   249.82  278398  21528520\n",
       "2022-12-05  253.819   250.2    248.06   252.01  276722  23435294\n",
       "2022-12-12   252.54  252.51    247.17  247.445  325566  30665069\n",
       "2022-12-13  263.915  256.92    253.07   261.69  486404  42196884\n",
       "2022-12-14  262.588  257.22    254.31   257.13  458428  35410933\n",
       "2023-02-01   255.18  252.75    245.47    248.0  386960  31259912\n",
       "2023-02-02   264.69   264.6    257.25   258.82  533820  39940437\n",
       "2023-02-03    264.2  258.35     257.1  259.542  408059  29077256\n",
       "2023-02-06    258.3  256.77    254.78   257.44  276674  22517997\n",
       "2023-02-07  268.775  267.56    260.08   260.53  618791  50841365\n",
       "2023-02-08   276.76  266.73    266.21    273.2  659532  54686049\n",
       "2023-02-09   273.98  263.62     262.8    273.8  472027  42375102\n",
       "2023-02-10   264.09   263.1   260.662   261.53  334146  25818489\n",
       "2023-02-13    274.6  271.32    267.15   267.64  499426  44630921\n",
       "2023-02-14   274.97  272.17    269.28   272.67  471699  37047924\n",
       "2023-02-15   270.73  269.32    266.18   268.32  370701  28962163\n",
       "2023-02-16   266.74  262.15     261.9   264.02  389914  29603616\n",
       "2023-02-17   260.09  258.06     256.0   259.39  392724  30000055"
      ]
     },
     "execution_count": 44,
     "metadata": {},
     "output_type": "execute_result"
    }
   ],
   "source": [
    "#podemos usar la seleccion boleeana dentro del pandas.DataFrame\n",
    "df_ts[(df_ts['CLOSE'] > 250) & (df_ts['CLOSE'] <= 310)]"
   ]
  },
  {
   "cell_type": "code",
   "execution_count": 53,
   "id": "6b3ac04a",
   "metadata": {},
   "outputs": [
    {
     "data": {
      "text/plain": [
       "DatetimeIndex(['2022-11-10', '2022-11-11', '2022-11-14', '2022-11-15',\n",
       "               '2022-11-16', '2022-11-17', '2022-11-18', '2022-11-21',\n",
       "               '2022-11-22', '2022-11-23', '2022-11-25', '2022-11-28',\n",
       "               '2022-11-29', '2022-11-30', '2022-12-01', '2022-12-02',\n",
       "               '2022-12-05', '2022-12-06', '2022-12-07', '2022-12-08',\n",
       "               '2022-12-09', '2022-12-12', '2022-12-13', '2022-12-14',\n",
       "               '2022-12-15', '2022-12-16', '2022-12-19', '2022-12-20',\n",
       "               '2022-12-21', '2022-12-22', '2022-12-23', '2022-12-27',\n",
       "               '2022-12-28', '2022-12-29', '2022-12-30', '2023-01-03',\n",
       "               '2023-01-04', '2023-01-05', '2023-01-06', '2023-01-09',\n",
       "               '2023-01-10', '2023-01-11', '2023-01-12', '2023-01-13',\n",
       "               '2023-01-17', '2023-01-18', '2023-01-19', '2023-01-20',\n",
       "               '2023-01-23', '2023-01-24', '2023-01-25', '2023-01-26',\n",
       "               '2023-01-27', '2023-01-30', '2023-01-31', '2023-02-01',\n",
       "               '2023-02-02', '2023-02-03', '2023-02-06', '2023-02-07',\n",
       "               '2023-02-08', '2023-02-09', '2023-02-10', '2023-02-13',\n",
       "               '2023-02-14', '2023-02-15', '2023-02-16', '2023-02-17'],\n",
       "              dtype='datetime64[ns]', name='Date', freq=None)"
      ]
     },
     "execution_count": 53,
     "metadata": {},
     "output_type": "execute_result"
    }
   ],
   "source": [
    "df_ts.index"
   ]
  },
  {
   "cell_type": "code",
   "execution_count": 46,
   "id": "235318b7",
   "metadata": {},
   "outputs": [
    {
     "data": {
      "text/plain": [
       "datetime.datetime(2023, 2, 17, 22, 36, 30, 543380)"
      ]
     },
     "execution_count": 46,
     "metadata": {},
     "output_type": "execute_result"
    }
   ],
   "source": [
    "today"
   ]
  },
  {
   "cell_type": "code",
   "execution_count": 54,
   "id": "86922fe8",
   "metadata": {},
   "outputs": [
    {
     "data": {
      "text/html": [
       "<div>\n",
       "<style scoped>\n",
       "    .dataframe tbody tr th:only-of-type {\n",
       "        vertical-align: middle;\n",
       "    }\n",
       "\n",
       "    .dataframe tbody tr th {\n",
       "        vertical-align: top;\n",
       "    }\n",
       "\n",
       "    .dataframe thead th {\n",
       "        text-align: right;\n",
       "    }\n",
       "</style>\n",
       "<table border=\"1\" class=\"dataframe\">\n",
       "  <thead>\n",
       "    <tr style=\"text-align: right;\">\n",
       "      <th>MSFT.O</th>\n",
       "      <th>HIGH</th>\n",
       "      <th>CLOSE</th>\n",
       "      <th>LOW</th>\n",
       "      <th>OPEN</th>\n",
       "      <th>COUNT</th>\n",
       "      <th>VOLUME</th>\n",
       "    </tr>\n",
       "    <tr>\n",
       "      <th>Date</th>\n",
       "      <th></th>\n",
       "      <th></th>\n",
       "      <th></th>\n",
       "      <th></th>\n",
       "      <th></th>\n",
       "      <th></th>\n",
       "    </tr>\n",
       "  </thead>\n",
       "  <tbody>\n",
       "    <tr>\n",
       "      <th>2022-11-10</th>\n",
       "      <td>243.33</td>\n",
       "      <td>242.98</td>\n",
       "      <td>235.0</td>\n",
       "      <td>235.43</td>\n",
       "      <td>490190</td>\n",
       "      <td>46268021</td>\n",
       "    </tr>\n",
       "  </tbody>\n",
       "</table>\n",
       "</div>"
      ],
      "text/plain": [
       "MSFT.O        HIGH   CLOSE    LOW    OPEN   COUNT    VOLUME\n",
       "Date                                                       \n",
       "2022-11-10  243.33  242.98  235.0  235.43  490190  46268021"
      ]
     },
     "execution_count": 54,
     "metadata": {},
     "output_type": "execute_result"
    }
   ],
   "source": [
    "#Podemos seleccionar una sola fila, como lo haciamos en numpy, de la siguiente manera:\n",
    "df_ts.iloc[[0]]"
   ]
  },
  {
   "cell_type": "code",
   "execution_count": 52,
   "id": "3ab4c2cd",
   "metadata": {},
   "outputs": [
    {
     "data": {
      "text/html": [
       "<div>\n",
       "<style scoped>\n",
       "    .dataframe tbody tr th:only-of-type {\n",
       "        vertical-align: middle;\n",
       "    }\n",
       "\n",
       "    .dataframe tbody tr th {\n",
       "        vertical-align: top;\n",
       "    }\n",
       "\n",
       "    .dataframe thead th {\n",
       "        text-align: right;\n",
       "    }\n",
       "</style>\n",
       "<table border=\"1\" class=\"dataframe\">\n",
       "  <thead>\n",
       "    <tr style=\"text-align: right;\">\n",
       "      <th>MSFT.O</th>\n",
       "      <th>HIGH</th>\n",
       "      <th>CLOSE</th>\n",
       "      <th>LOW</th>\n",
       "      <th>OPEN</th>\n",
       "      <th>COUNT</th>\n",
       "      <th>VOLUME</th>\n",
       "    </tr>\n",
       "    <tr>\n",
       "      <th>Date</th>\n",
       "      <th></th>\n",
       "      <th></th>\n",
       "      <th></th>\n",
       "      <th></th>\n",
       "      <th></th>\n",
       "      <th></th>\n",
       "    </tr>\n",
       "  </thead>\n",
       "  <tbody>\n",
       "    <tr>\n",
       "      <th>2023-02-17</th>\n",
       "      <td>260.09</td>\n",
       "      <td>258.06</td>\n",
       "      <td>256.0</td>\n",
       "      <td>259.39</td>\n",
       "      <td>392724</td>\n",
       "      <td>30000055</td>\n",
       "    </tr>\n",
       "  </tbody>\n",
       "</table>\n",
       "</div>"
      ],
      "text/plain": [
       "MSFT.O        HIGH   CLOSE    LOW    OPEN   COUNT    VOLUME\n",
       "Date                                                       \n",
       "2023-02-17  260.09  258.06  256.0  259.39  392724  30000055"
      ]
     },
     "execution_count": 52,
     "metadata": {},
     "output_type": "execute_result"
    }
   ],
   "source": [
    "#El atributo pandas.DateFrame.loc nos permite indexar las filas en vez de las columnas\n",
    "df_ts.loc[[today]]"
   ]
  },
  {
   "cell_type": "code",
   "execution_count": null,
   "id": "720a7e01",
   "metadata": {},
   "outputs": [],
   "source": []
  },
  {
   "cell_type": "markdown",
   "id": "80e047f0",
   "metadata": {},
   "source": [
    "# Estadística básica"
   ]
  },
  {
   "cell_type": "code",
   "execution_count": 28,
   "id": "5063a2fb",
   "metadata": {},
   "outputs": [
    {
     "data": {
      "text/plain": [
       "['BASFn.DE',\n",
       " 'IFXGn.DE',\n",
       " 'SIEGn.DE',\n",
       " 'EONGn.DE',\n",
       " 'DBKGn.DE',\n",
       " 'SATG_p.DE',\n",
       " 'SAPG.DE',\n",
       " 'BAYGn.DE',\n",
       " 'RWEG.DE',\n",
       " '1COV.DE']"
      ]
     },
     "execution_count": 28,
     "metadata": {},
     "output_type": "execute_result"
    }
   ],
   "source": [
    "dax_corto = dax['Instrument'][0:10].tolist()\n",
    "dax_corto"
   ]
  },
  {
   "cell_type": "code",
   "execution_count": 29,
   "id": "8d753be3",
   "metadata": {},
   "outputs": [
    {
     "data": {
      "text/html": [
       "<div>\n",
       "<style scoped>\n",
       "    .dataframe tbody tr th:only-of-type {\n",
       "        vertical-align: middle;\n",
       "    }\n",
       "\n",
       "    .dataframe tbody tr th {\n",
       "        vertical-align: top;\n",
       "    }\n",
       "\n",
       "    .dataframe thead th {\n",
       "        text-align: right;\n",
       "    }\n",
       "</style>\n",
       "<table border=\"1\" class=\"dataframe\">\n",
       "  <thead>\n",
       "    <tr style=\"text-align: right;\">\n",
       "      <th>CLOSE</th>\n",
       "      <th>BASFn.DE</th>\n",
       "      <th>IFXGn.DE</th>\n",
       "      <th>SIEGn.DE</th>\n",
       "      <th>EONGn.DE</th>\n",
       "      <th>DBKGn.DE</th>\n",
       "      <th>SATG_p.DE</th>\n",
       "      <th>SAPG.DE</th>\n",
       "      <th>BAYGn.DE</th>\n",
       "      <th>RWEG.DE</th>\n",
       "      <th>1COV.DE</th>\n",
       "    </tr>\n",
       "    <tr>\n",
       "      <th>Date</th>\n",
       "      <th></th>\n",
       "      <th></th>\n",
       "      <th></th>\n",
       "      <th></th>\n",
       "      <th></th>\n",
       "      <th></th>\n",
       "      <th></th>\n",
       "      <th></th>\n",
       "      <th></th>\n",
       "      <th></th>\n",
       "    </tr>\n",
       "  </thead>\n",
       "  <tbody>\n",
       "    <tr>\n",
       "      <th>2022-11-10</th>\n",
       "      <td>48.905</td>\n",
       "      <td>29.685</td>\n",
       "      <td>120.7</td>\n",
       "      <td>8.84</td>\n",
       "      <td>9.964</td>\n",
       "      <td>400.4</td>\n",
       "      <td>105.02</td>\n",
       "      <td>51.41</td>\n",
       "      <td>40.6</td>\n",
       "      <td>35.63</td>\n",
       "    </tr>\n",
       "    <tr>\n",
       "      <th>2022-11-11</th>\n",
       "      <td>50.68</td>\n",
       "      <td>29.23</td>\n",
       "      <td>122.6</td>\n",
       "      <td>8.738</td>\n",
       "      <td>10.218</td>\n",
       "      <td>419.3</td>\n",
       "      <td>105.98</td>\n",
       "      <td>50.19</td>\n",
       "      <td>39.78</td>\n",
       "      <td>37.4</td>\n",
       "    </tr>\n",
       "    <tr>\n",
       "      <th>2022-11-14</th>\n",
       "      <td>51.28</td>\n",
       "      <td>31.5</td>\n",
       "      <td>122.86</td>\n",
       "      <td>8.916</td>\n",
       "      <td>10.178</td>\n",
       "      <td>415.2</td>\n",
       "      <td>105.72</td>\n",
       "      <td>51.32</td>\n",
       "      <td>38.92</td>\n",
       "      <td>37.4</td>\n",
       "    </tr>\n",
       "    <tr>\n",
       "      <th>2022-11-15</th>\n",
       "      <td>50.3</td>\n",
       "      <td>32.38</td>\n",
       "      <td>123.12</td>\n",
       "      <td>8.964</td>\n",
       "      <td>10.316</td>\n",
       "      <td>400.1</td>\n",
       "      <td>106.9</td>\n",
       "      <td>53.42</td>\n",
       "      <td>39.53</td>\n",
       "      <td>36.72</td>\n",
       "    </tr>\n",
       "    <tr>\n",
       "      <th>2022-11-16</th>\n",
       "      <td>49.57</td>\n",
       "      <td>32.055</td>\n",
       "      <td>121.12</td>\n",
       "      <td>8.892</td>\n",
       "      <td>10.134</td>\n",
       "      <td>380.7</td>\n",
       "      <td>106.84</td>\n",
       "      <td>52.62</td>\n",
       "      <td>39.89</td>\n",
       "      <td>35.59</td>\n",
       "    </tr>\n",
       "    <tr>\n",
       "      <th>...</th>\n",
       "      <td>...</td>\n",
       "      <td>...</td>\n",
       "      <td>...</td>\n",
       "      <td>...</td>\n",
       "      <td>...</td>\n",
       "      <td>...</td>\n",
       "      <td>...</td>\n",
       "      <td>...</td>\n",
       "      <td>...</td>\n",
       "      <td>...</td>\n",
       "    </tr>\n",
       "    <tr>\n",
       "      <th>2023-02-13</th>\n",
       "      <td>51.67</td>\n",
       "      <td>35.79</td>\n",
       "      <td>146.16</td>\n",
       "      <td>9.996</td>\n",
       "      <td>11.37</td>\n",
       "      <td>446.9</td>\n",
       "      <td>110.12</td>\n",
       "      <td>59.55</td>\n",
       "      <td>39.82</td>\n",
       "      <td>41.25</td>\n",
       "    </tr>\n",
       "    <tr>\n",
       "      <th>2023-02-14</th>\n",
       "      <td>51.06</td>\n",
       "      <td>35.84</td>\n",
       "      <td>145.02</td>\n",
       "      <td>10.035</td>\n",
       "      <td>11.552</td>\n",
       "      <td>439.7</td>\n",
       "      <td>109.9</td>\n",
       "      <td>60.46</td>\n",
       "      <td>39.44</td>\n",
       "      <td>41.64</td>\n",
       "    </tr>\n",
       "    <tr>\n",
       "      <th>2023-02-15</th>\n",
       "      <td>51.7</td>\n",
       "      <td>36.22</td>\n",
       "      <td>148.5</td>\n",
       "      <td>10.035</td>\n",
       "      <td>11.41</td>\n",
       "      <td>440.9</td>\n",
       "      <td>110.8</td>\n",
       "      <td>60.14</td>\n",
       "      <td>39.17</td>\n",
       "      <td>42.25</td>\n",
       "    </tr>\n",
       "    <tr>\n",
       "      <th>2023-02-16</th>\n",
       "      <td>52.4</td>\n",
       "      <td>36.09</td>\n",
       "      <td>147.38</td>\n",
       "      <td>9.99</td>\n",
       "      <td>11.86</td>\n",
       "      <td>434.1</td>\n",
       "      <td>111.0</td>\n",
       "      <td>59.45</td>\n",
       "      <td>39.11</td>\n",
       "      <td>42.55</td>\n",
       "    </tr>\n",
       "    <tr>\n",
       "      <th>2023-02-17</th>\n",
       "      <td>52.24</td>\n",
       "      <td>35.235</td>\n",
       "      <td>145.44</td>\n",
       "      <td>10.165</td>\n",
       "      <td>11.88</td>\n",
       "      <td>427.1</td>\n",
       "      <td>109.48</td>\n",
       "      <td>59.12</td>\n",
       "      <td>39.52</td>\n",
       "      <td>42.04</td>\n",
       "    </tr>\n",
       "  </tbody>\n",
       "</table>\n",
       "<p>71 rows × 10 columns</p>\n",
       "</div>"
      ],
      "text/plain": [
       "CLOSE       BASFn.DE  IFXGn.DE  SIEGn.DE  EONGn.DE  DBKGn.DE  SATG_p.DE  \\\n",
       "Date                                                                      \n",
       "2022-11-10    48.905    29.685     120.7      8.84     9.964      400.4   \n",
       "2022-11-11     50.68     29.23     122.6     8.738    10.218      419.3   \n",
       "2022-11-14     51.28      31.5    122.86     8.916    10.178      415.2   \n",
       "2022-11-15      50.3     32.38    123.12     8.964    10.316      400.1   \n",
       "2022-11-16     49.57    32.055    121.12     8.892    10.134      380.7   \n",
       "...              ...       ...       ...       ...       ...        ...   \n",
       "2023-02-13     51.67     35.79    146.16     9.996     11.37      446.9   \n",
       "2023-02-14     51.06     35.84    145.02    10.035    11.552      439.7   \n",
       "2023-02-15      51.7     36.22     148.5    10.035     11.41      440.9   \n",
       "2023-02-16      52.4     36.09    147.38      9.99     11.86      434.1   \n",
       "2023-02-17     52.24    35.235    145.44    10.165     11.88      427.1   \n",
       "\n",
       "CLOSE       SAPG.DE  BAYGn.DE  RWEG.DE  1COV.DE  \n",
       "Date                                             \n",
       "2022-11-10   105.02     51.41     40.6    35.63  \n",
       "2022-11-11   105.98     50.19    39.78     37.4  \n",
       "2022-11-14   105.72     51.32    38.92     37.4  \n",
       "2022-11-15    106.9     53.42    39.53    36.72  \n",
       "2022-11-16   106.84     52.62    39.89    35.59  \n",
       "...             ...       ...      ...      ...  \n",
       "2023-02-13   110.12     59.55    39.82    41.25  \n",
       "2023-02-14    109.9     60.46    39.44    41.64  \n",
       "2023-02-15    110.8     60.14    39.17    42.25  \n",
       "2023-02-16    111.0     59.45    39.11    42.55  \n",
       "2023-02-17   109.48     59.12    39.52    42.04  \n",
       "\n",
       "[71 rows x 10 columns]"
      ]
     },
     "execution_count": 29,
     "metadata": {},
     "output_type": "execute_result"
    }
   ],
   "source": [
    "req = ek.get_timeseries(dax_corto, start_date = d, end_date = today, fields='CLOSE', interval=\"daily\")\n",
    "req"
   ]
  },
  {
   "cell_type": "code",
   "execution_count": 30,
   "id": "9f4b2137",
   "metadata": {},
   "outputs": [
    {
     "name": "stdout",
     "output_type": "stream",
     "text": [
      "CLOSE      BASFn.DE  IFXGn.DE  SIEGn.DE  EONGn.DE  DBKGn.DE  SATG_p.DE  \\\n",
      "CLOSE                                                                    \n",
      "BASFn.DE   1.000000  0.647292  0.744712  0.796534  0.821201   0.824196   \n",
      "IFXGn.DE   0.647292  1.000000  0.722879  0.563323  0.437509   0.833819   \n",
      "SIEGn.DE   0.744712  0.722879  1.000000  0.906958  0.815305   0.706673   \n",
      "EONGn.DE   0.796534  0.563323  0.906958  1.000000  0.937348   0.681866   \n",
      "DBKGn.DE   0.821201  0.437509  0.815305  0.937348  1.000000   0.646257   \n",
      "SATG_p.DE  0.824196  0.833819  0.706673  0.681866  0.646257   1.000000   \n",
      "SAPG.DE    0.781937  0.886470  0.650679  0.505006  0.445039   0.855881   \n",
      "BAYGn.DE   0.723061  0.871987  0.775871  0.607553  0.527570   0.795955   \n",
      "RWEG.DE   -0.436441 -0.288502 -0.147113 -0.303888 -0.348192  -0.393279   \n",
      "1COV.DE    0.889057  0.631899  0.868566  0.938120  0.910552   0.758461   \n",
      "\n",
      "CLOSE       SAPG.DE  BAYGn.DE   RWEG.DE   1COV.DE  \n",
      "CLOSE                                              \n",
      "BASFn.DE   0.781937  0.723061 -0.436441  0.889057  \n",
      "IFXGn.DE   0.886470  0.871987 -0.288502  0.631899  \n",
      "SIEGn.DE   0.650679  0.775871 -0.147113  0.868566  \n",
      "EONGn.DE   0.505006  0.607553 -0.303888  0.938120  \n",
      "DBKGn.DE   0.445039  0.527570 -0.348192  0.910552  \n",
      "SATG_p.DE  0.855881  0.795955 -0.393279  0.758461  \n",
      "SAPG.DE    1.000000  0.894308 -0.291540  0.618765  \n",
      "BAYGn.DE   0.894308  1.000000 -0.140382  0.649901  \n",
      "RWEG.DE   -0.291540 -0.140382  1.000000 -0.418157  \n",
      "1COV.DE    0.618765  0.649901 -0.418157  1.000000  \n"
     ]
    }
   ],
   "source": [
    "correlacion = req[dax_corto].corr()\n",
    "print(correlacion)"
   ]
  },
  {
   "cell_type": "code",
   "execution_count": 34,
   "id": "9fc5e2f0",
   "metadata": {},
   "outputs": [
    {
     "data": {
      "text/plain": [
       "<Axes: xlabel='CLOSE', ylabel='CLOSE'>"
      ]
     },
     "execution_count": 34,
     "metadata": {},
     "output_type": "execute_result"
    },
    {
     "data": {
      "image/png": "[encoded data removed]",
      "text/plain": [
       "<Figure size 640x480 with 2 Axes>"
      ]
     },
     "metadata": {},
     "output_type": "display_data"
    }
   ],
   "source": [
    "import seaborn as sns\n",
    "sns.heatmap(req[dax_corto].corr(), annot = True, fmt='.2g',cmap= 'coolwarm')"
   ]
  },
  {
   "cell_type": "markdown",
   "id": "843c63ce",
   "metadata": {},
   "source": [
    "# Bibliografía"
   ]
  },
  {
   "cell_type": "code",
   "execution_count": null,
   "id": "b0e289d9",
   "metadata": {},
   "outputs": [],
   "source": []
  }
 ],
 "metadata": {
  "kernelspec": {
   "display_name": "Python 3 (ipykernel)",
   "language": "python",
   "name": "python3"
  },
  "language_info": {
   "codemirror_mode": {
    "name": "ipython",
    "version": 3
   },
   "file_extension": ".py",
   "mimetype": "text/x-python",
   "name": "python",
   "nbconvert_exporter": "python",
   "pygments_lexer": "ipython3",
   "version": "3.8.15"
  }
 },
 "nbformat": 4,
 "nbformat_minor": 5
}
