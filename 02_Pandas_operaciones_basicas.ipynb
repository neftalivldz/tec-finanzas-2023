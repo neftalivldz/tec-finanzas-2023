{
 "cells": [
  {
   "cell_type": "code",
   "execution_count": 2,
   "id": "bac2943f",
   "metadata": {},
   "outputs": [],
   "source": [
    "import pandas as pd \n",
    "import datetime\n"
   ]
  },
  {
   "cell_type": "code",
   "execution_count": 4,
   "id": "56763c87",
   "metadata": {},
   "outputs": [
    {
     "name": "stdout",
     "output_type": "stream",
     "text": [
      "2023-02-20 2020-01-01\n"
     ]
    }
   ],
   "source": [
    "date_1 = '2020-01-01'\n",
    "today = datetime.date.today()\n",
    "print(today, date_1)"
   ]
  },
  {
   "cell_type": "code",
   "execution_count": null,
   "id": "bdf48951",
   "metadata": {},
   "outputs": [],
   "source": [
    "dates = pd."
   ]
  },
  {
   "cell_type": "code",
   "execution_count": null,
   "id": "230086ee",
   "metadata": {},
   "outputs": [],
   "source": [
    "df = pd.DataFrame(index)"
   ]
  }
 ],
 "metadata": {
  "kernelspec": {
   "display_name": "Python 3 (ipykernel)",
   "language": "python",
   "name": "python3"
  },
  "language_info": {
   "codemirror_mode": {
    "name": "ipython",
    "version": 3
   },
   "file_extension": ".py",
   "mimetype": "text/x-python",
   "name": "python",
   "nbconvert_exporter": "python",
   "pygments_lexer": "ipython3",
   "version": "3.8.15"
  }
 },
 "nbformat": 4,
 "nbformat_minor": 5
}
