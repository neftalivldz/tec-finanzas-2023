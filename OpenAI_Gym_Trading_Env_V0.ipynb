{
 "cells": [
  {
   "cell_type": "markdown",
   "metadata": {
    "id": "zhrg6iKTbERR"
   },
   "source": []
  },
  {
   "cell_type": "markdown",
   "metadata": {
    "id": "kUc4CosObaK_"
   },
   "source": [
    "## TradingEnv-v0\n",
    "\n",
    "### Evergreening of Trading Game in Open AI Gym Simulation Environment Original by Tito Ingargiola\n",
    "This is an colab notebook implementation of Trading Game in Open AI Gym simulation environment. Original implementation is created by December 2016 by Tito Ingargiola. Tito has done a great work and his github link is https://github.com/hackthemarket/gym-trading. The original notebook is created in 2016 and after some packages update(e.g. the gym module), the notebook in the github will throw errors. So I fixed some of the issues and also made the corresponding changes required so that it can run smoothly in colab. \n",
    "\n",
    "I hope this is a starting point for those RL hobbist for whom working on bringing RL to Algo Trading. Also, I chose the open AI gym because it provides stardardized simulation environment to particular problem domain. This can make the least effort to try different RL algorithms provided by other RL researchers by just simply plug and play the agents. It somehow links the concept of transfer learning https://www.analyticsindiamag.com/transfer-learning-deep-learning-significance/ so that the algorithm used to solve the cart-pole problem may apply to trading world as well.\n"
   ]
  },
  {
   "cell_type": "markdown",
   "metadata": {
    "id": "d3lxYGh1eCNb"
   },
   "source": [
    "### Open AI 'Gym' for reinforcement-learning based trading algorithms\n",
    "\n",
    "This gym implements a very simple trading environment for reinforcement learning.\n",
    "\n",
    "The gym provides daily observations based on real market data pulled from Quandl on, by default, the SPY etf.  An episode is defined as 252 contiguous days sampled from the overall dataset.  Each day is one 'step' within the gym and for each step, the algo has a choice:\n",
    "\n",
    " - SHORT (0)\n",
    " - FLAT (1)\n",
    " - LONG  (2)\n",
    " \n",
    "If you trade, you will be charged, by default, 10 BPS of the size of your trade.  Thus, going from short to long costs twice as much as going from short to/from flat.  Not trading also has a default cost of 1 BPS per step.  Nobody said it would be easy!\n",
    " \n",
    "At the beginning of your episode, you are allocated 1 unit of cash.  This is your starting Net Asset Value (NAV). \n",
    "\n",
    "### Beating the trading game \n",
    "\n",
    "For our purposes, we'll say that beating a buy & hold strategy, on average, over one hundred episodes will notch a win to the proud ai player.  We'll illustrate exactly what that means below.\n",
    "\n",
    "### Let's look at some code using the environment\n"
   ]
  },
  {
   "cell_type": "markdown",
   "metadata": {
    "id": "SlOwvCtvbaLB"
   },
   "source": [
    "###  imports"
   ]
  },
  {
   "cell_type": "code",
   "execution_count": 3,
   "metadata": {
    "colab": {
     "base_uri": "https://localhost:8080/",
     "height": 238
    },
    "id": "beLuXQ2GkRO1",
    "outputId": "ff3be338-6ca7-4389-9417-6d21ffbc3dbd"
   },
   "outputs": [
    {
     "name": "stdout",
     "output_type": "stream",
     "text": [
      "Collecting quandl\n",
      "  Downloading Quandl-3.7.0-py2.py3-none-any.whl (26 kB)\n",
      "Requirement already satisfied: requests>=2.7.0 in /opt/homebrew/Caskroom/miniforge/base/envs/mlp/lib/python3.8/site-packages (from quandl) (2.28.1)\n",
      "Requirement already satisfied: more-itertools in /opt/homebrew/Caskroom/miniforge/base/envs/mlp/lib/python3.8/site-packages (from quandl) (9.1.0)\n",
      "Requirement already satisfied: pandas>=0.14 in /opt/homebrew/Caskroom/miniforge/base/envs/mlp/lib/python3.8/site-packages (from quandl) (2.0.1)\n",
      "Requirement already satisfied: numpy>=1.8 in /opt/homebrew/Caskroom/miniforge/base/envs/mlp/lib/python3.8/site-packages (from quandl) (1.24.1)\n",
      "Collecting inflection>=0.3.1\n",
      "  Downloading inflection-0.5.1-py2.py3-none-any.whl (9.5 kB)\n",
      "Requirement already satisfied: python-dateutil in /opt/homebrew/Caskroom/miniforge/base/envs/mlp/lib/python3.8/site-packages (from quandl) (2.8.2)\n",
      "Requirement already satisfied: six in /opt/homebrew/Caskroom/miniforge/base/envs/mlp/lib/python3.8/site-packages (from quandl) (1.16.0)\n",
      "Requirement already satisfied: pytz>=2020.1 in /opt/homebrew/Caskroom/miniforge/base/envs/mlp/lib/python3.8/site-packages (from pandas>=0.14->quandl) (2023.3)\n",
      "Requirement already satisfied: tzdata>=2022.1 in /opt/homebrew/Caskroom/miniforge/base/envs/mlp/lib/python3.8/site-packages (from pandas>=0.14->quandl) (2023.3)\n",
      "Requirement already satisfied: urllib3<1.27,>=1.21.1 in /opt/homebrew/Caskroom/miniforge/base/envs/mlp/lib/python3.8/site-packages (from requests>=2.7.0->quandl) (1.26.15)\n",
      "Requirement already satisfied: certifi>=2017.4.17 in /opt/homebrew/Caskroom/miniforge/base/envs/mlp/lib/python3.8/site-packages (from requests>=2.7.0->quandl) (2023.5.7)\n",
      "Requirement already satisfied: idna<4,>=2.5 in /opt/homebrew/Caskroom/miniforge/base/envs/mlp/lib/python3.8/site-packages (from requests>=2.7.0->quandl) (2.10)\n",
      "Requirement already satisfied: charset-normalizer<3,>=2 in /opt/homebrew/Caskroom/miniforge/base/envs/mlp/lib/python3.8/site-packages (from requests>=2.7.0->quandl) (2.1.1)\n",
      "Installing collected packages: inflection, quandl\n",
      "Successfully installed inflection-0.5.1 quandl-3.7.0\n"
     ]
    }
   ],
   "source": [
    "!pip3 install quandl\n"
   ]
  },
  {
   "cell_type": "code",
   "execution_count": 1,
   "metadata": {
    "id": "4qLbQNc4baLC"
   },
   "outputs": [],
   "source": [
    "import gym\n",
    "import numpy as np\n",
    "import pandas as pd\n",
    "import matplotlib as mpl\n",
    "import matplotlib.pyplot as plt\n",
    "from matplotlib import interactive\n",
    "interactive(True)\n",
    "\n"
   ]
  },
  {
   "cell_type": "code",
   "execution_count": 4,
   "metadata": {
    "colab": {
     "base_uri": "https://localhost:8080/",
     "height": 34
    },
    "id": "XS4KuUk46AS8",
    "outputId": "1717818d-b9fb-44d0-aff0-fae229beadaf"
   },
   "outputs": [],
   "source": [
    "import gym\n",
    "from gym import error, spaces, utils\n",
    "from gym.utils import seeding\n",
    "from collections import Counter\n",
    "import matplotlib as mpl\n",
    "import matplotlib.pyplot as plt\n",
    "from matplotlib import interactive\n",
    "interactive(True)\n",
    "\n",
    "import quandl\n",
    "import numpy as np\n",
    "from numpy import random\n",
    "import pandas as pd\n",
    "import logging\n",
    "import pdb\n",
    "\n",
    "import tempfile\n",
    "\n",
    "log = logging.getLogger(__name__)\n",
    "log.info('%s logger started.',__name__)\n",
    "\n",
    "QUANDL_TARGET_NAME = \"HKEX/00005\"\n",
    "\n",
    "def _sharpe(Returns, freq=252) :\n",
    "  \"\"\"Given a set of returns, calculates naive (rfr=0) sharpe \"\"\"\n",
    "  return (np.sqrt(freq) * np.mean(Returns))/np.std(Returns)\n",
    "\n",
    "def _prices2returns(prices):\n",
    "  px = pd.DataFrame(prices)\n",
    "  nl = px.shift().fillna(0)\n",
    "  R = ((px - nl)/nl).fillna(0).replace([np.inf, -np.inf], np.nan).dropna()\n",
    "  R = np.append( R[0].values, 0)\n",
    "  return R\n",
    "\n",
    "class QuandlEnvSrc(object):\n",
    "  ''' \n",
    "  Quandl-based implementation of a TradingEnv's data source.\n",
    "  \n",
    "  Pulls data from Quandl, preps for use by TradingEnv and then \n",
    "  acts as data provider for each new episode.\n",
    "  '''\n",
    "\n",
    "  MinPercentileDays = 100 \n",
    "  QuandlAuthToken = \"\"  # not necessary, but can be used if desired\n",
    "  #Name = \"TSE/9994\" # https://www.quandl.com/search (use 'Free' filter)\n",
    "  Name = QUANDL_TARGET_NAME # https://www.quandl.com/search (use 'Free' filter)\n",
    "\n",
    "  def __init__(self, days=252, name=Name, auth=QuandlAuthToken, scale=True ):\n",
    "    self.name = name\n",
    "    self.auth = auth\n",
    "    self.days = days+1\n",
    "    log.info('getting data for %s from quandl...',QuandlEnvSrc.Name)\n",
    "    df = quandl.get(self.name) if self.auth=='' else quandl.get(self.name, authtoken=self.auth)\n",
    "    log.info('got data for %s from quandl...',QuandlEnvSrc.Name)\n",
    "    \n",
    "    df = df[ ~np.isnan(df['Share Volume (000)'])][['Nominal Price','Share Volume (000)']]\n",
    "    # we calculate returns and percentiles, then kill nans\n",
    "    df = df[['Nominal Price','Share Volume (000)']]   \n",
    "    df['Share Volume (000)'].replace(0,1,inplace=True) # days shouldn't have zero volume..\n",
    "    df['Return'] = (df['Nominal Price']-df['Nominal Price'].shift())/df['Nominal Price'].shift()\n",
    "    pctrank = lambda x: pd.Series(x).rank(pct=True).iloc[-1]\n",
    "    df['ClosePctl'] = df['Nominal Price'].expanding(self.MinPercentileDays).apply(pctrank)\n",
    "    df['VolumePctl'] = df['Share Volume (000)'].expanding(self.MinPercentileDays).apply(pctrank)\n",
    "    df.dropna(axis=0,inplace=True)\n",
    "    R = df.Return\n",
    "    if scale:\n",
    "      mean_values = df.mean(axis=0)\n",
    "      std_values = df.std(axis=0)\n",
    "      df = (df - np.array(mean_values))/ np.array(std_values)\n",
    "    df['Return'] = R # we don't want our returns scaled\n",
    "    self.min_values = df.min(axis=0)\n",
    "    self.max_values = df.max(axis=0)\n",
    "    self.data = df\n",
    "    self.step = 0\n",
    "    \n",
    "  def reset(self):\n",
    "    # we want contiguous data\n",
    "    self.idx = np.random.randint( low = 0, high=len(self.data.index)-self.days )\n",
    "    self.step = 0\n",
    "\n",
    "  def _step(self):    \n",
    "    obs = self.data.iloc[self.idx].as_matrix()\n",
    "    self.idx += 1\n",
    "    self.step += 1\n",
    "    done = self.step >= self.days\n",
    "    return obs,done\n",
    "\n",
    "class TradingSim(object) :\n",
    "  \"\"\" Implements core trading simulator for single-instrument univ \"\"\"\n",
    "\n",
    "  def __init__(self, steps, trading_cost_bps = 1e-3, time_cost_bps = 1e-4):\n",
    "    # invariant for object life\n",
    "    self.trading_cost_bps = trading_cost_bps\n",
    "    self.time_cost_bps    = time_cost_bps\n",
    "    self.steps            = steps\n",
    "    # change every step\n",
    "    self.step             = 0\n",
    "    self.actions          = np.zeros(self.steps)\n",
    "    self.navs             = np.ones(self.steps)\n",
    "    self.mkt_nav         = np.ones(self.steps)\n",
    "    self.strat_retrns     = np.ones(self.steps)\n",
    "    self.posns            = np.zeros(self.steps)\n",
    "    self.costs            = np.zeros(self.steps)\n",
    "    self.trades           = np.zeros(self.steps)\n",
    "    self.mkt_retrns       = np.zeros(self.steps)\n",
    "    \n",
    "  def reset(self):\n",
    "    self.step = 0\n",
    "    self.actions.fill(0)\n",
    "    self.navs.fill(1)\n",
    "    self.mkt_nav.fill(1)\n",
    "    self.strat_retrns.fill(0)\n",
    "    self.posns.fill(0)\n",
    "    self.costs.fill(0)\n",
    "    self.trades.fill(0)\n",
    "    self.mkt_retrns.fill(0)\n",
    "    \n",
    "  def _step(self, action, retrn ):\n",
    "    \"\"\" Given an action and return for prior period, calculates costs, navs,\n",
    "        etc and returns the reward and a  summary of the day's activity. \"\"\"\n",
    "\n",
    "    bod_posn = 0.0 if self.step == 0 else self.posns[self.step-1]\n",
    "    bod_nav  = 1.0 if self.step == 0 else self.navs[self.step-1]\n",
    "    mkt_nav  = 1.0 if self.step == 0 else self.mkt_nav[self.step-1]\n",
    "\n",
    "    self.mkt_retrns[self.step] = retrn\n",
    "    self.actions[self.step] = action\n",
    "    \n",
    "    self.posns[self.step] = action - 1     \n",
    "    self.trades[self.step] = self.posns[self.step] - bod_posn\n",
    "    \n",
    "    trade_costs_pct = abs(self.trades[self.step]) * self.trading_cost_bps \n",
    "    self.costs[self.step] = trade_costs_pct +  self.time_cost_bps\n",
    "    reward = ( (bod_posn * retrn) - self.costs[self.step] )\n",
    "    self.strat_retrns[self.step] = reward\n",
    "\n",
    "    if self.step != 0 :\n",
    "      self.navs[self.step] =  bod_nav * (1 + self.strat_retrns[self.step-1])\n",
    "      self.mkt_nav[self.step] =  mkt_nav * (1 + self.mkt_retrns[self.step-1])\n",
    "    \n",
    "    info = { 'reward': reward, 'nav':self.navs[self.step], 'costs':self.costs[self.step] }\n",
    "\n",
    "    self.step += 1      \n",
    "    return reward, info\n",
    "\n",
    "  def to_df(self):\n",
    "    \"\"\"returns internal state in new dataframe \"\"\"\n",
    "    cols = ['action', 'bod_nav', 'mkt_nav','mkt_return','sim_return',\n",
    "            'position','costs', 'trade' ]\n",
    "    rets = _prices2returns(self.navs)\n",
    "    #pdb.set_trace()\n",
    "    df = pd.DataFrame( {'action':     self.actions, # today's action (from agent)\n",
    "                          'bod_nav':    self.navs,    # BOD Net Asset Value (NAV)\n",
    "                          'mkt_nav':  self.mkt_nav, \n",
    "                          'mkt_return': self.mkt_retrns,\n",
    "                          'sim_return': self.strat_retrns,\n",
    "                          'position':   self.posns,   # EOD position\n",
    "                          'costs':  self.costs,   # eod costs\n",
    "                          'trade':  self.trades },# eod trade\n",
    "                         columns=cols)\n",
    "    return df\n",
    "\n",
    "class TradingEnv(gym.Env):\n",
    "  \"\"\"This gym implements a simple trading environment for reinforcement learning.\n",
    "\n",
    "  The gym provides daily observations based on real market data pulled\n",
    "  from Quandl on, by default, the SPY etf. An episode is defined as 252\n",
    "  contiguous days sampled from the overall dataset. Each day is one\n",
    "  'step' within the gym and for each step, the algo has a choice:\n",
    "\n",
    "  SHORT (0)\n",
    "  FLAT (1)\n",
    "  LONG (2)\n",
    "\n",
    "  If you trade, you will be charged, by default, 10 BPS of the size of\n",
    "  your trade. Thus, going from short to long costs twice as much as\n",
    "  going from short to/from flat. Not trading also has a default cost of\n",
    "  1 BPS per step. Nobody said it would be easy!\n",
    "\n",
    "  At the beginning of your episode, you are allocated 1 unit of\n",
    "  cash. This is your starting Net Asset Value (NAV). If your NAV drops\n",
    "  to 0, your episode is over and you lose. If your NAV hits 2.0, then\n",
    "  you win.\n",
    "\n",
    "  The trading env will track a buy-and-hold strategy which will act as\n",
    "  the benchmark for the game.\n",
    "\n",
    "  \"\"\"\n",
    "  metadata = {'render.modes': ['human']}\n",
    "\n",
    "  def __init__(self):\n",
    "    self.days = 252\n",
    "    self.src = QuandlEnvSrc(days=self.days)\n",
    "    self.sim = TradingSim(steps=self.days, trading_cost_bps=1e-3,\n",
    "                          time_cost_bps=1e-4)\n",
    "    self.action_space = spaces.Discrete( 3 )\n",
    "    self.observation_space= spaces.Box( self.src.min_values,\n",
    "                                        self.src.max_values)\n",
    "    self._reset()\n",
    "\n",
    "  def _configure(self, display=None):\n",
    "    self.display = display\n",
    "\n",
    "  def _seed(self, seed=None):\n",
    "    self.np_random, seed = seeding.np_random(seed)\n",
    "    return [seed]\n",
    "\n",
    "  def step(self, action):\n",
    "    assert self.action_space.contains(action), \"%r (%s) invalid\"%(action, type(action))\n",
    "    observation, done = self.src._step()\n",
    "    # Close    Volume     Return  ClosePctl  VolumePctl\n",
    "    yret = observation[2]\n",
    "\n",
    "    reward, info = self.sim._step( action, yret )\n",
    "      \n",
    "    #info = { 'pnl': daypnl, 'nav':self.nav, 'costs':costs }\n",
    "\n",
    "    return observation, reward, done, info\n",
    "  \n",
    "  def _reset(self):\n",
    "    self.src.reset()\n",
    "    self.sim.reset()\n",
    "    return self.src._step()[0]\n",
    "\n",
    "  def reset(self):\n",
    "    return self._reset()\n",
    "    \n",
    "  def _render(self, mode='human', close=False):\n",
    "    #... TODO\n",
    "    pass\n",
    "\n",
    "  # some convenience functions:\n",
    "  \n",
    "  def run_strat(self,  strategy, return_df=True):\n",
    "    \"\"\"run provided strategy, returns dataframe with all steps\"\"\"\n",
    "    observation = self._reset()\n",
    "    done = False\n",
    "    while not done:\n",
    "      action = strategy( observation, self ) # call strategy\n",
    "      observation, reward, done, info = self.step(action)\n",
    "\n",
    "    return self.sim.to_df() if return_df else None\n",
    "      \n",
    "  def run_strats( self, strategy, episodes=1, write_log=True, return_df=True):\n",
    "    \"\"\" run provided strategy the specified # of times, possibly\n",
    "        writing a log and possibly returning a dataframe summarizing activity.\n",
    "    \n",
    "        Note that writing the log is expensive and returning the df is moreso.  \n",
    "        For training purposes, you might not want to set both.\n",
    "    \"\"\"\n",
    "    logfile = None\n",
    "    if write_log:\n",
    "      logfile = tempfile.NamedTemporaryFile(delete=False)\n",
    "      log.info('writing log to %s',logfile.name)\n",
    "      need_df = write_log or return_df\n",
    "\n",
    "    alldf = None\n",
    "        \n",
    "    for i in range(episodes):\n",
    "      df = self.run_strat(strategy, return_df=need_df)\n",
    "      if write_log:\n",
    "        df.to_csv(logfile, mode='a')\n",
    "        if return_df:\n",
    "          alldf = df if alldf is None else pd.concat([alldf,df], axis=0)\n",
    "            \n",
    "    return alldf\n"
   ]
  },
  {
   "cell_type": "markdown",
   "metadata": {
    "id": "McD4pQLZbaLF"
   },
   "source": [
    "### create the environment\n",
    "\n",
    "This may take a moment as we are pulling historical data from quandl."
   ]
  },
  {
   "cell_type": "code",
   "execution_count": 5,
   "metadata": {
    "colab": {
     "base_uri": "https://localhost:8080/",
     "height": 68
    },
    "id": "8kIM1cFYbaLF",
    "outputId": "d82d527a-0e85-4ae2-cb1d-cc6b271535bc"
   },
   "outputs": [
    {
     "ename": "LimitExceededError",
     "evalue": "(Status 429) (Quandl Error QELx01) You have exceeded the anonymous user limit of 50 calls per day. To make more calls today, please register for a free Nasdaq Data Link account and then include your API key with your requests.",
     "output_type": "error",
     "traceback": [
      "\u001b[0;31m---------------------------------------------------------------------------\u001b[0m",
      "\u001b[0;31mLimitExceededError\u001b[0m                        Traceback (most recent call last)",
      "Cell \u001b[0;32mIn[5], line 2\u001b[0m\n\u001b[1;32m      1\u001b[0m \u001b[38;5;66;03m#env = gym.make('trading-v0')\u001b[39;00m\n\u001b[0;32m----> 2\u001b[0m env \u001b[38;5;241m=\u001b[39m \u001b[43mTradingEnv\u001b[49m\u001b[43m(\u001b[49m\u001b[43m)\u001b[49m\n\u001b[1;32m      3\u001b[0m env\u001b[38;5;241m.\u001b[39mtimestep_limit\u001b[38;5;241m=\u001b[39m\u001b[38;5;241m1000\u001b[39m\n",
      "Cell \u001b[0;32mIn[4], line 193\u001b[0m, in \u001b[0;36mTradingEnv.__init__\u001b[0;34m(self)\u001b[0m\n\u001b[1;32m    191\u001b[0m \u001b[38;5;28;01mdef\u001b[39;00m \u001b[38;5;21m__init__\u001b[39m(\u001b[38;5;28mself\u001b[39m):\n\u001b[1;32m    192\u001b[0m   \u001b[38;5;28mself\u001b[39m\u001b[38;5;241m.\u001b[39mdays \u001b[38;5;241m=\u001b[39m \u001b[38;5;241m252\u001b[39m\n\u001b[0;32m--> 193\u001b[0m   \u001b[38;5;28mself\u001b[39m\u001b[38;5;241m.\u001b[39msrc \u001b[38;5;241m=\u001b[39m \u001b[43mQuandlEnvSrc\u001b[49m\u001b[43m(\u001b[49m\u001b[43mdays\u001b[49m\u001b[38;5;241;43m=\u001b[39;49m\u001b[38;5;28;43mself\u001b[39;49m\u001b[38;5;241;43m.\u001b[39;49m\u001b[43mdays\u001b[49m\u001b[43m)\u001b[49m\n\u001b[1;32m    194\u001b[0m   \u001b[38;5;28mself\u001b[39m\u001b[38;5;241m.\u001b[39msim \u001b[38;5;241m=\u001b[39m TradingSim(steps\u001b[38;5;241m=\u001b[39m\u001b[38;5;28mself\u001b[39m\u001b[38;5;241m.\u001b[39mdays, trading_cost_bps\u001b[38;5;241m=\u001b[39m\u001b[38;5;241m1e-3\u001b[39m,\n\u001b[1;32m    195\u001b[0m                         time_cost_bps\u001b[38;5;241m=\u001b[39m\u001b[38;5;241m1e-4\u001b[39m)\n\u001b[1;32m    196\u001b[0m   \u001b[38;5;28mself\u001b[39m\u001b[38;5;241m.\u001b[39maction_space \u001b[38;5;241m=\u001b[39m spaces\u001b[38;5;241m.\u001b[39mDiscrete( \u001b[38;5;241m3\u001b[39m )\n",
      "Cell \u001b[0;32mIn[4], line 53\u001b[0m, in \u001b[0;36mQuandlEnvSrc.__init__\u001b[0;34m(self, days, name, auth, scale)\u001b[0m\n\u001b[1;32m     51\u001b[0m \u001b[38;5;28mself\u001b[39m\u001b[38;5;241m.\u001b[39mdays \u001b[38;5;241m=\u001b[39m days\u001b[38;5;241m+\u001b[39m\u001b[38;5;241m1\u001b[39m\n\u001b[1;32m     52\u001b[0m log\u001b[38;5;241m.\u001b[39minfo(\u001b[38;5;124m'\u001b[39m\u001b[38;5;124mgetting data for \u001b[39m\u001b[38;5;132;01m%s\u001b[39;00m\u001b[38;5;124m from quandl...\u001b[39m\u001b[38;5;124m'\u001b[39m,QuandlEnvSrc\u001b[38;5;241m.\u001b[39mName)\n\u001b[0;32m---> 53\u001b[0m df \u001b[38;5;241m=\u001b[39m \u001b[43mquandl\u001b[49m\u001b[38;5;241;43m.\u001b[39;49m\u001b[43mget\u001b[49m\u001b[43m(\u001b[49m\u001b[38;5;28;43mself\u001b[39;49m\u001b[38;5;241;43m.\u001b[39;49m\u001b[43mname\u001b[49m\u001b[43m)\u001b[49m \u001b[38;5;28;01mif\u001b[39;00m \u001b[38;5;28mself\u001b[39m\u001b[38;5;241m.\u001b[39mauth\u001b[38;5;241m==\u001b[39m\u001b[38;5;124m'\u001b[39m\u001b[38;5;124m'\u001b[39m \u001b[38;5;28;01melse\u001b[39;00m quandl\u001b[38;5;241m.\u001b[39mget(\u001b[38;5;28mself\u001b[39m\u001b[38;5;241m.\u001b[39mname, authtoken\u001b[38;5;241m=\u001b[39m\u001b[38;5;28mself\u001b[39m\u001b[38;5;241m.\u001b[39mauth)\n\u001b[1;32m     54\u001b[0m log\u001b[38;5;241m.\u001b[39minfo(\u001b[38;5;124m'\u001b[39m\u001b[38;5;124mgot data for \u001b[39m\u001b[38;5;132;01m%s\u001b[39;00m\u001b[38;5;124m from quandl...\u001b[39m\u001b[38;5;124m'\u001b[39m,QuandlEnvSrc\u001b[38;5;241m.\u001b[39mName)\n\u001b[1;32m     56\u001b[0m df \u001b[38;5;241m=\u001b[39m df[ \u001b[38;5;241m~\u001b[39mnp\u001b[38;5;241m.\u001b[39misnan(df[\u001b[38;5;124m'\u001b[39m\u001b[38;5;124mShare Volume (000)\u001b[39m\u001b[38;5;124m'\u001b[39m])][[\u001b[38;5;124m'\u001b[39m\u001b[38;5;124mNominal Price\u001b[39m\u001b[38;5;124m'\u001b[39m,\u001b[38;5;124m'\u001b[39m\u001b[38;5;124mShare Volume (000)\u001b[39m\u001b[38;5;124m'\u001b[39m]]\n",
      "File \u001b[0;32m/opt/homebrew/Caskroom/miniforge/base/envs/mlp/lib/python3.8/site-packages/quandl/get.py:48\u001b[0m, in \u001b[0;36mget\u001b[0;34m(dataset, **kwargs)\u001b[0m\n\u001b[1;32m     46\u001b[0m     \u001b[38;5;28;01mif\u001b[39;00m dataset_args[\u001b[38;5;124m'\u001b[39m\u001b[38;5;124mcolumn_index\u001b[39m\u001b[38;5;124m'\u001b[39m] \u001b[38;5;129;01mis\u001b[39;00m \u001b[38;5;129;01mnot\u001b[39;00m \u001b[38;5;28;01mNone\u001b[39;00m:\n\u001b[1;32m     47\u001b[0m         kwargs\u001b[38;5;241m.\u001b[39mupdate({\u001b[38;5;124m'\u001b[39m\u001b[38;5;124mcolumn_index\u001b[39m\u001b[38;5;124m'\u001b[39m: dataset_args[\u001b[38;5;124m'\u001b[39m\u001b[38;5;124mcolumn_index\u001b[39m\u001b[38;5;124m'\u001b[39m]})\n\u001b[0;32m---> 48\u001b[0m     data \u001b[38;5;241m=\u001b[39m \u001b[43mDataset\u001b[49m\u001b[43m(\u001b[49m\u001b[43mdataset_args\u001b[49m\u001b[43m[\u001b[49m\u001b[38;5;124;43m'\u001b[39;49m\u001b[38;5;124;43mcode\u001b[39;49m\u001b[38;5;124;43m'\u001b[39;49m\u001b[43m]\u001b[49m\u001b[43m)\u001b[49m\u001b[38;5;241;43m.\u001b[39;49m\u001b[43mdata\u001b[49m\u001b[43m(\u001b[49m\u001b[43mparams\u001b[49m\u001b[38;5;241;43m=\u001b[39;49m\u001b[43mkwargs\u001b[49m\u001b[43m,\u001b[49m\u001b[43m \u001b[49m\u001b[43mhandle_column_not_found\u001b[49m\u001b[38;5;241;43m=\u001b[39;49m\u001b[38;5;28;43;01mTrue\u001b[39;49;00m\u001b[43m)\u001b[49m\n\u001b[1;32m     49\u001b[0m \u001b[38;5;66;03m# Array\u001b[39;00m\n\u001b[1;32m     50\u001b[0m \u001b[38;5;28;01melif\u001b[39;00m \u001b[38;5;28misinstance\u001b[39m(dataset, \u001b[38;5;28mlist\u001b[39m):\n",
      "File \u001b[0;32m/opt/homebrew/Caskroom/miniforge/base/envs/mlp/lib/python3.8/site-packages/quandl/model/dataset.py:47\u001b[0m, in \u001b[0;36mDataset.data\u001b[0;34m(self, **options)\u001b[0m\n\u001b[1;32m     45\u001b[0m updated_options \u001b[38;5;241m=\u001b[39m Util\u001b[38;5;241m.\u001b[39mmerge_options(\u001b[38;5;124m'\u001b[39m\u001b[38;5;124mparams\u001b[39m\u001b[38;5;124m'\u001b[39m, params, \u001b[38;5;241m*\u001b[39m\u001b[38;5;241m*\u001b[39moptions)\n\u001b[1;32m     46\u001b[0m \u001b[38;5;28;01mtry\u001b[39;00m:\n\u001b[0;32m---> 47\u001b[0m     \u001b[38;5;28;01mreturn\u001b[39;00m \u001b[43mData\u001b[49m\u001b[38;5;241;43m.\u001b[39;49m\u001b[43mall\u001b[49m\u001b[43m(\u001b[49m\u001b[38;5;241;43m*\u001b[39;49m\u001b[38;5;241;43m*\u001b[39;49m\u001b[43mupdated_options\u001b[49m\u001b[43m)\u001b[49m\n\u001b[1;32m     48\u001b[0m \u001b[38;5;28;01mexcept\u001b[39;00m NotFoundError:\n\u001b[1;32m     49\u001b[0m     \u001b[38;5;28;01mif\u001b[39;00m handle_not_found_error:\n",
      "File \u001b[0;32m/opt/homebrew/Caskroom/miniforge/base/envs/mlp/lib/python3.8/site-packages/quandl/operations/list.py:15\u001b[0m, in \u001b[0;36mListOperation.all\u001b[0;34m(cls, **options)\u001b[0m\n\u001b[1;32m     13\u001b[0m     options[\u001b[38;5;124m'\u001b[39m\u001b[38;5;124mparams\u001b[39m\u001b[38;5;124m'\u001b[39m] \u001b[38;5;241m=\u001b[39m {}\n\u001b[1;32m     14\u001b[0m path \u001b[38;5;241m=\u001b[39m Util\u001b[38;5;241m.\u001b[39mconstructed_path(\u001b[38;5;28mcls\u001b[39m\u001b[38;5;241m.\u001b[39mlist_path(), options[\u001b[38;5;124m'\u001b[39m\u001b[38;5;124mparams\u001b[39m\u001b[38;5;124m'\u001b[39m])\n\u001b[0;32m---> 15\u001b[0m r \u001b[38;5;241m=\u001b[39m \u001b[43mConnection\u001b[49m\u001b[38;5;241;43m.\u001b[39;49m\u001b[43mrequest\u001b[49m\u001b[43m(\u001b[49m\u001b[38;5;124;43m'\u001b[39;49m\u001b[38;5;124;43mget\u001b[39;49m\u001b[38;5;124;43m'\u001b[39;49m\u001b[43m,\u001b[49m\u001b[43m \u001b[49m\u001b[43mpath\u001b[49m\u001b[43m,\u001b[49m\u001b[43m \u001b[49m\u001b[38;5;241;43m*\u001b[39;49m\u001b[38;5;241;43m*\u001b[39;49m\u001b[43moptions\u001b[49m\u001b[43m)\u001b[49m\n\u001b[1;32m     16\u001b[0m response_data \u001b[38;5;241m=\u001b[39m r\u001b[38;5;241m.\u001b[39mjson()\n\u001b[1;32m     17\u001b[0m Util\u001b[38;5;241m.\u001b[39mconvert_to_dates(response_data)\n",
      "File \u001b[0;32m/opt/homebrew/Caskroom/miniforge/base/envs/mlp/lib/python3.8/site-packages/quandl/connection.py:38\u001b[0m, in \u001b[0;36mConnection.request\u001b[0;34m(cls, http_verb, url, **options)\u001b[0m\n\u001b[1;32m     34\u001b[0m options[\u001b[38;5;124m'\u001b[39m\u001b[38;5;124mheaders\u001b[39m\u001b[38;5;124m'\u001b[39m] \u001b[38;5;241m=\u001b[39m headers\n\u001b[1;32m     36\u001b[0m abs_url \u001b[38;5;241m=\u001b[39m \u001b[38;5;124m'\u001b[39m\u001b[38;5;132;01m%s\u001b[39;00m\u001b[38;5;124m/\u001b[39m\u001b[38;5;132;01m%s\u001b[39;00m\u001b[38;5;124m'\u001b[39m \u001b[38;5;241m%\u001b[39m (ApiConfig\u001b[38;5;241m.\u001b[39mapi_base, url)\n\u001b[0;32m---> 38\u001b[0m \u001b[38;5;28;01mreturn\u001b[39;00m \u001b[38;5;28;43mcls\u001b[39;49m\u001b[38;5;241;43m.\u001b[39;49m\u001b[43mexecute_request\u001b[49m\u001b[43m(\u001b[49m\u001b[43mhttp_verb\u001b[49m\u001b[43m,\u001b[49m\u001b[43m \u001b[49m\u001b[43mabs_url\u001b[49m\u001b[43m,\u001b[49m\u001b[43m \u001b[49m\u001b[38;5;241;43m*\u001b[39;49m\u001b[38;5;241;43m*\u001b[39;49m\u001b[43moptions\u001b[49m\u001b[43m)\u001b[49m\n",
      "File \u001b[0;32m/opt/homebrew/Caskroom/miniforge/base/envs/mlp/lib/python3.8/site-packages/quandl/connection.py:50\u001b[0m, in \u001b[0;36mConnection.execute_request\u001b[0;34m(cls, http_verb, url, **options)\u001b[0m\n\u001b[1;32m     45\u001b[0m response \u001b[38;5;241m=\u001b[39m session\u001b[38;5;241m.\u001b[39mrequest(method\u001b[38;5;241m=\u001b[39mhttp_verb,\n\u001b[1;32m     46\u001b[0m                            url\u001b[38;5;241m=\u001b[39murl,\n\u001b[1;32m     47\u001b[0m                            verify\u001b[38;5;241m=\u001b[39mApiConfig\u001b[38;5;241m.\u001b[39mverify_ssl,\n\u001b[1;32m     48\u001b[0m                            \u001b[38;5;241m*\u001b[39m\u001b[38;5;241m*\u001b[39moptions)\n\u001b[1;32m     49\u001b[0m \u001b[38;5;28;01mif\u001b[39;00m response\u001b[38;5;241m.\u001b[39mstatus_code \u001b[38;5;241m<\u001b[39m \u001b[38;5;241m200\u001b[39m \u001b[38;5;129;01mor\u001b[39;00m response\u001b[38;5;241m.\u001b[39mstatus_code \u001b[38;5;241m>\u001b[39m\u001b[38;5;241m=\u001b[39m \u001b[38;5;241m300\u001b[39m:\n\u001b[0;32m---> 50\u001b[0m     \u001b[38;5;28;43mcls\u001b[39;49m\u001b[38;5;241;43m.\u001b[39;49m\u001b[43mhandle_api_error\u001b[49m\u001b[43m(\u001b[49m\u001b[43mresponse\u001b[49m\u001b[43m)\u001b[49m\n\u001b[1;32m     51\u001b[0m \u001b[38;5;28;01melse\u001b[39;00m:\n\u001b[1;32m     52\u001b[0m     \u001b[38;5;28;01mreturn\u001b[39;00m response\n",
      "File \u001b[0;32m/opt/homebrew/Caskroom/miniforge/base/envs/mlp/lib/python3.8/site-packages/quandl/connection.py:114\u001b[0m, in \u001b[0;36mConnection.handle_api_error\u001b[0;34m(cls, resp)\u001b[0m\n\u001b[1;32m    103\u001b[0m d_klass \u001b[38;5;241m=\u001b[39m {\n\u001b[1;32m    104\u001b[0m     \u001b[38;5;124m'\u001b[39m\u001b[38;5;124mL\u001b[39m\u001b[38;5;124m'\u001b[39m: LimitExceededError,\n\u001b[1;32m    105\u001b[0m     \u001b[38;5;124m'\u001b[39m\u001b[38;5;124mM\u001b[39m\u001b[38;5;124m'\u001b[39m: InternalServerError,\n\u001b[0;32m   (...)\u001b[0m\n\u001b[1;32m    110\u001b[0m     \u001b[38;5;124m'\u001b[39m\u001b[38;5;124mX\u001b[39m\u001b[38;5;124m'\u001b[39m: ServiceUnavailableError\n\u001b[1;32m    111\u001b[0m }\n\u001b[1;32m    112\u001b[0m klass \u001b[38;5;241m=\u001b[39m d_klass\u001b[38;5;241m.\u001b[39mget(code_letter, QuandlError)\n\u001b[0;32m--> 114\u001b[0m \u001b[38;5;28;01mraise\u001b[39;00m klass(message, resp\u001b[38;5;241m.\u001b[39mstatus_code, resp\u001b[38;5;241m.\u001b[39mtext, resp\u001b[38;5;241m.\u001b[39mheaders, code)\n",
      "\u001b[0;31mLimitExceededError\u001b[0m: (Status 429) (Quandl Error QELx01) You have exceeded the anonymous user limit of 50 calls per day. To make more calls today, please register for a free Nasdaq Data Link account and then include your API key with your requests."
     ]
    }
   ],
   "source": [
    "#env = gym.make('trading-v0')\n",
    "env = TradingEnv()\n",
    "env.timestep_limit=1000\n"
   ]
  },
  {
   "cell_type": "markdown",
   "metadata": {
    "id": "cr4FafBZbaLJ"
   },
   "source": [
    "### the trading model\n",
    "\n",
    "Each time step is a day.  Each episode is 252 trading days - a year.  Each day, we can choose to be short (0), flat (1) or long (2) the single instrument in our trading universe.\n",
    "\n",
    "Let's run through a day and stay flat."
   ]
  },
  {
   "cell_type": "code",
   "execution_count": null,
   "metadata": {
    "colab": {
     "base_uri": "https://localhost:8080/",
     "height": 364
    },
    "id": "-fEO-vsMbaLJ",
    "outputId": "66570778-36e3-477a-a1c5-cbd812f7e6a3"
   },
   "outputs": [
    {
     "name": "stdout",
     "output_type": "stream",
     "text": [
      "Annualized return:  -0.024788838058855234\n"
     ]
    },
    {
     "data": {
      "image/png": "[encoded data removed]",
      "text/plain": [
       "<matplotlib.figure.Figure at 0x7fb1e04247d0>"
      ]
     },
     "metadata": {
      "tags": []
     },
     "output_type": "display_data"
    }
   ],
   "source": [
    "observation = env.reset()\n",
    "done = False\n",
    "navs = []\n",
    "while not done:\n",
    "    action = 1 # stay flat\n",
    "    observation, reward, done, info = env.step(action)\n",
    "    navs.append(info['nav'])\n",
    "    if done:\n",
    "        print 'Annualized return: ',navs[len(navs)-1]-1\n",
    "        pd.DataFrame(navs).plot()\n"
   ]
  },
  {
   "cell_type": "markdown",
   "metadata": {
    "id": "-Gg_cLD5baLM"
   },
   "source": [
    "### Note that you are charged just for playing - to the tune of 1 basis point per day!\n"
   ]
  },
  {
   "cell_type": "markdown",
   "metadata": {
    "id": "74kJfZQWbaLM"
   },
   "source": [
    "### Rendering\n",
    "\n",
    "For now, no rendering has been implemented for this gym, but with each step, the following datum are provided which you can easily graph and otherwise visualize as we see above with the NAV:\n",
    "\n",
    " - pnl - how much did we make or lose between yesterday and today?\n",
    " - costs  - how much did we pay in costs today\n",
    " - nav    - our current nav\n",
    " "
   ]
  },
  {
   "cell_type": "markdown",
   "metadata": {
    "id": "UrTtyKI8baLN"
   },
   "source": [
    "## utility methods: running strategies once or repeatedly\n",
    "\n",
    "Although the gym can be 'exercised' directly as seen above, we've also written utility methods which allow for the running of a strategy once or over many episodes, facilitating training or other sorts of analysis.\n",
    "\n",
    "To utilize these methods, strategies should be exposed as a function or lambda with the following signature:\n",
    "\n",
    "`Action a = strategy( observation, environment )`\n",
    "    \n",
    "Below, we define some simple strategies and look briefly at their behavior to better understand the trading gym. "
   ]
  },
  {
   "cell_type": "code",
   "execution_count": null,
   "metadata": {
    "colab": {
     "base_uri": "https://localhost:8080/",
     "height": 51
    },
    "id": "a8PpM5m_rdCE",
    "outputId": "6245e717-a776-4b81-d0f9-4e03e7a22822"
   },
   "outputs": [
    {
     "name": "stdout",
     "output_type": "stream",
     "text": [
      "<TradingEnv instance>\n",
      "<TradingEnv instance>\n"
     ]
    }
   ],
   "source": [
    "print(env)\n",
    "env = env.unwrapped\n",
    "print(env)"
   ]
  },
  {
   "cell_type": "code",
   "execution_count": null,
   "metadata": {
    "colab": {
     "base_uri": "https://localhost:8080/",
     "height": 481
    },
    "id": "cf3JCDDGbaLO",
    "outputId": "e1953d2e-da47-48f5-e154-90b0a1f4df3b"
   },
   "outputs": [
    {
     "name": "stdout",
     "output_type": "stream",
     "text": [
      "   action   bod_nav   mkt_nav  mkt_return  sim_return  position   costs  trade\n",
      "0     2.0  1.000000  1.000000    0.008929   -0.001100       1.0  0.0011    1.0\n",
      "1     2.0  0.998900  1.008929   -0.008045   -0.008145       1.0  0.0001    0.0\n",
      "2     2.0  0.990764  1.000812    0.006488    0.006388       1.0  0.0001    0.0\n",
      "3     2.0  0.997093  1.007305    0.003223    0.003123       1.0  0.0001    0.0\n",
      "4     2.0  1.000207  1.010552   -0.005622   -0.005722       1.0  0.0001    0.0\n"
     ]
    },
    {
     "data": {
      "text/plain": [
       "<matplotlib.axes._subplots.AxesSubplot at 0x7fb1e038a5d0>"
      ]
     },
     "execution_count": 74,
     "metadata": {
      "tags": []
     },
     "output_type": "execute_result"
    },
    {
     "data": {
      "image/png": "[encoded data removed]",
      "text/plain": [
       "<matplotlib.figure.Figure at 0x7fb1e25cb5d0>"
      ]
     },
     "metadata": {
      "tags": []
     },
     "output_type": "display_data"
    }
   ],
   "source": [
    "#import trading_env as te\n",
    "\n",
    "stayflat     = lambda o,e: 1   # stand pat\n",
    "buyandhold   = lambda o,e: 2   # buy on day #1 and hold\n",
    "randomtrader = lambda o,e: e.action_space.sample() # retail trader\n",
    "\n",
    "# to run singly, we call run_strat.  we are returned a dataframe containing \n",
    "#  all steps in the sim.\n",
    "bhdf = env.run_strat(buyandhold)\n",
    "\n",
    "print bhdf.head()\n",
    "\n",
    "# we can easily plot our nav in time:\n",
    "bhdf.bod_nav.plot(title='buy & hold nav')\n"
   ]
  },
  {
   "cell_type": "markdown",
   "metadata": {
    "id": "KAsG_X2BbaLQ"
   },
   "source": [
    "### running the same strategy multiple times will likely yield different results as underlying data changes"
   ]
  },
  {
   "cell_type": "code",
   "execution_count": null,
   "metadata": {
    "colab": {
     "base_uri": "https://localhost:8080/",
     "height": 379
    },
    "id": "49WWDh9BbaLR",
    "outputId": "9c3bd5f3-f0a5-4e95-afaa-1e2db5ba91ba"
   },
   "outputs": [
    {
     "data": {
      "text/plain": [
       "<matplotlib.axes._subplots.AxesSubplot at 0x7fb1e03e6b90>"
      ]
     },
     "execution_count": 75,
     "metadata": {
      "tags": []
     },
     "output_type": "execute_result"
    },
    {
     "data": {
      "image/png": "[encoded data removed]",
      "text/plain": [
       "<matplotlib.figure.Figure at 0x7fb1e0355390>"
      ]
     },
     "metadata": {
      "tags": []
     },
     "output_type": "display_data"
    }
   ],
   "source": [
    "env.run_strat(buyandhold).bod_nav.plot(title='same strat, different results')\n",
    "env.run_strat(buyandhold).bod_nav.plot()\n",
    "env.run_strat(buyandhold).bod_nav.plot()"
   ]
  },
  {
   "cell_type": "markdown",
   "metadata": {
    "id": "rQeChaaDbaLT"
   },
   "source": [
    "### comparing the buyandhold and random traders"
   ]
  },
  {
   "cell_type": "code",
   "execution_count": null,
   "metadata": {
    "colab": {
     "base_uri": "https://localhost:8080/",
     "height": 331
    },
    "id": "q4-QUofcbaLU",
    "outputId": "27652ba4-b8e9-45dc-e29d-8de5dbb0e44f"
   },
   "outputs": [
    {
     "name": "stderr",
     "output_type": "stream",
     "text": [
      "INFO:__main__:writing log to /tmp/tmpV9qyfY\n",
      "INFO:__main__:writing log to /tmp/tmpdgn4Hw\n"
     ]
    },
    {
     "data": {
      "text/html": [
       "<div>\n",
       "<style scoped>\n",
       "    .dataframe tbody tr th:only-of-type {\n",
       "        vertical-align: middle;\n",
       "    }\n",
       "\n",
       "    .dataframe tbody tr th {\n",
       "        vertical-align: top;\n",
       "    }\n",
       "\n",
       "    .dataframe thead th {\n",
       "        text-align: right;\n",
       "    }\n",
       "</style>\n",
       "<table border=\"1\" class=\"dataframe\">\n",
       "  <thead>\n",
       "    <tr style=\"text-align: right;\">\n",
       "      <th></th>\n",
       "      <th>buyhold</th>\n",
       "      <th>random</th>\n",
       "    </tr>\n",
       "  </thead>\n",
       "  <tbody>\n",
       "    <tr>\n",
       "      <th>action</th>\n",
       "      <td>2.000000</td>\n",
       "      <td>0.997778</td>\n",
       "    </tr>\n",
       "    <tr>\n",
       "      <th>bod_nav</th>\n",
       "      <td>0.971602</td>\n",
       "      <td>0.883717</td>\n",
       "    </tr>\n",
       "    <tr>\n",
       "      <th>mkt_nav</th>\n",
       "      <td>0.985877</td>\n",
       "      <td>0.986844</td>\n",
       "    </tr>\n",
       "    <tr>\n",
       "      <th>mkt_return</th>\n",
       "      <td>-0.000106</td>\n",
       "      <td>-0.000089</td>\n",
       "    </tr>\n",
       "    <tr>\n",
       "      <th>sim_return</th>\n",
       "      <td>-0.000214</td>\n",
       "      <td>-0.001029</td>\n",
       "    </tr>\n",
       "    <tr>\n",
       "      <th>position</th>\n",
       "      <td>1.000000</td>\n",
       "      <td>-0.002222</td>\n",
       "    </tr>\n",
       "    <tr>\n",
       "      <th>costs</th>\n",
       "      <td>0.000104</td>\n",
       "      <td>0.000985</td>\n",
       "    </tr>\n",
       "    <tr>\n",
       "      <th>trade</th>\n",
       "      <td>0.003968</td>\n",
       "      <td>0.000000</td>\n",
       "    </tr>\n",
       "  </tbody>\n",
       "</table>\n",
       "</div>"
      ],
      "text/plain": [
       "             buyhold    random\n",
       "action      2.000000  0.997778\n",
       "bod_nav     0.971602  0.883717\n",
       "mkt_nav     0.985877  0.986844\n",
       "mkt_return -0.000106 -0.000089\n",
       "sim_return -0.000214 -0.001029\n",
       "position    1.000000 -0.002222\n",
       "costs       0.000104  0.000985\n",
       "trade       0.003968  0.000000"
      ]
     },
     "execution_count": 76,
     "metadata": {
      "tags": []
     },
     "output_type": "execute_result"
    }
   ],
   "source": [
    "# running a strategy multiple times should yield insights \n",
    "#   into its expected behavior or give it oppty to learn\n",
    "bhdf = env.run_strats(buyandhold,100)\n",
    "rdf = env.run_strats(randomtrader,100)\n",
    "\n",
    "comparo = pd.DataFrame({'buyhold':bhdf.mean(),\n",
    "                        'random': rdf.mean()})\n",
    "comparo"
   ]
  },
  {
   "cell_type": "markdown",
   "metadata": {
    "id": "OGl0KZuabaLW",
    "scrolled": true
   },
   "source": [
    "## Object of the game\n",
    "\n",
    "From the above examples, we can see that buying and holding will, over the long run, give you the market return with low costs.\n",
    "\n",
    "Randomly trading will instead destroy value rather quickly as costs overwhelm.\n",
    "\n",
    "### So, what does it mean to win the trading game?  \n",
    "\n",
    "For our purposes, we'll say that beating a buy & hold strategy, on average, over one hundred episodes will notch a win to the proud ai player.\n",
    "\n",
    "To support this, the trading environment maintains the *mkt_return* which can be compared with the *sim_return*.\n",
    "\n",
    "Note that the *mkt_return* is frictionless while the *sim_return* incurs both trading costs and the decay cost of 1 basis point per day, so overcoming the hurdle we've set here should be challenging.\n"
   ]
  },
  {
   "cell_type": "markdown",
   "metadata": {
    "id": "E4kdyj8SbaLY"
   },
   "source": [
    "### Playing the game: purloined policy gradients\n",
    "\n",
    "I've taken and adapted (see [code](policy_gradient.py) for details) a policy gradient implementation based on tensorflow to try to play the single-instrument trading game.  Let's see how it does."
   ]
  },
  {
   "cell_type": "code",
   "execution_count": null,
   "metadata": {
    "colab": {
     "base_uri": "https://localhost:8080/",
     "height": 34
    },
    "id": "IdSJsf736llV",
    "outputId": "d907fed3-adea-4784-84ab-312149740c76"
   },
   "outputs": [
    {
     "name": "stderr",
     "output_type": "stream",
     "text": [
      "INFO:__main__:__main__ logger started.\n"
     ]
    }
   ],
   "source": [
    "''' Policy Gradient implementation customized a bit for \n",
    "solving the trading problem'''\n",
    "# stolen shamelessly and adapted December 2016 by Tito Ingargiola\n",
    "# was originally:\n",
    "\n",
    "'''Solution to the Cartpole problem using Policy Gradients in Tensorflow.'''\n",
    "# written October 2016 by Sam Greydanus\n",
    "# inspired by gist.github.com/karpathy/a4166c7fe253700972fcbc77e4ea32c5\n",
    "\n",
    "import numpy as np\n",
    "import gym\n",
    "import tensorflow as tf\n",
    "import pdb\n",
    "import logging\n",
    "import os.path\n",
    "import pandas as pd\n",
    "#import gym_trading\n",
    "\n",
    "#import trading_env as te\n",
    "\n",
    "logging.basicConfig()\n",
    "log = logging.getLogger(__name__)\n",
    "log.setLevel(logging.INFO)\n",
    "log.info('%s logger started.',__name__)\n",
    "\n",
    "class PolicyGradient(object) :\n",
    "    \"\"\" Policy Gradient implementation in tensor flow.\n",
    "   \"\"\"\n",
    "    \n",
    "    def __init__(self,\n",
    "                 sess,                # tensorflow session\n",
    "                 obs_dim,             # observation shape\n",
    "                 num_actions,         # number of possible actions\n",
    "                 neurons_per_dim=32,  # hidden layer will have obs_dim * neurons_per_dim neurons\n",
    "                 learning_rate=1e-2,  # learning rate\n",
    "                 gamma = 0.9,         # reward discounting \n",
    "                 decay = 0.9          # gradient decay rate\n",
    "                 ):\n",
    "                 \n",
    "        self._sess = sess\n",
    "        self._gamma = gamma\n",
    "        self._tf_model = {}\n",
    "        self._num_actions = num_actions\n",
    "        hidden_neurons = obs_dim * neurons_per_dim\n",
    "        with tf.variable_scope('layer_one',reuse=False):\n",
    "            L1 = tf.truncated_normal_initializer(mean=0,\n",
    "                                                 stddev=1./np.sqrt(obs_dim),\n",
    "                                                 dtype=tf.float32)\n",
    "            self._tf_model['W1'] = tf.get_variable(\"W1\",\n",
    "                                                   [obs_dim, hidden_neurons],\n",
    "                                                   initializer=L1)\n",
    "        with tf.variable_scope('layer_two',reuse=False):\n",
    "            L2 = tf.truncated_normal_initializer(mean=0,\n",
    "                                                 stddev=1./np.sqrt(hidden_neurons),\n",
    "                                                 dtype=tf.float32)\n",
    "            self._tf_model['W2'] = tf.get_variable(\"W2\",\n",
    "                                                   [hidden_neurons,num_actions],\n",
    "                                                   initializer=L2)\n",
    "       \n",
    "        # tf placeholders\n",
    "        self._tf_x = tf.placeholder(dtype=tf.float32, shape=[None, obs_dim],name=\"tf_x\")\n",
    "        self._tf_y = tf.placeholder(dtype=tf.float32, shape=[None, num_actions],name=\"tf_y\")\n",
    "        self._tf_epr = tf.placeholder(dtype=tf.float32, shape=[None,1], name=\"tf_epr\")\n",
    "\n",
    "        # tf reward processing (need tf_discounted_epr for policy gradient wizardry)\n",
    "        self._tf_discounted_epr = self.tf_discount_rewards(self._tf_epr)\n",
    "        self._tf_mean, self._tf_variance= tf.nn.moments(self._tf_discounted_epr, [0], \n",
    "                                                        shift=None, name=\"reward_moments\")\n",
    "        self._tf_discounted_epr -= self._tf_mean\n",
    "        self._tf_discounted_epr /= tf.sqrt(self._tf_variance + 1e-6)\n",
    "\n",
    "        self._saver = tf.train.Saver()\n",
    "\n",
    "        # tf optimizer op\n",
    "        self._tf_aprob = self.tf_policy_forward(self._tf_x)\n",
    "        loss = tf.nn.l2_loss(self._tf_y - self._tf_aprob) # this gradient encourages the actions taken\n",
    "        optimizer = tf.train.RMSPropOptimizer(learning_rate, decay=decay)\n",
    "        tf_grads = optimizer.compute_gradients(loss, var_list=tf.trainable_variables(), \n",
    "                                               grad_loss=self._tf_discounted_epr)\n",
    "        self._train_op = optimizer.apply_gradients(tf_grads)\n",
    "    \n",
    "    def tf_discount_rewards(self, tf_r): #tf_r ~ [game_steps,1]\n",
    "        discount_f = lambda a, v: a*self._gamma + v;\n",
    "        tf_r_reverse = tf.scan(discount_f, tf.reverse(tf_r,[True, False]))\n",
    "        tf_discounted_r = tf.reverse(tf_r_reverse,[True, False])\n",
    "        return tf_discounted_r\n",
    "\n",
    "    def tf_policy_forward(self, x): #x ~ [1,D]\n",
    "        h = tf.matmul(x, self._tf_model['W1'])\n",
    "        h = tf.nn.relu(h)\n",
    "        logp = tf.matmul(h, self._tf_model['W2'])\n",
    "        p = tf.nn.softmax(logp)\n",
    "        return p\n",
    "\n",
    "    def train_model(self, env, episodes=100, \n",
    "                    load_model = False,  # load model from checkpoint if available:?\n",
    "                    model_dir = '/tmp/pgmodel/', log_freq=10 ) :\n",
    "\n",
    "        # initialize variables and load model\n",
    "        init_op = tf.global_variables_initializer()\n",
    "        self._sess.run(init_op)\n",
    "        if load_model:\n",
    "            ckpt = tf.train.get_checkpoint_state(model_dir)\n",
    "            print tf.train.latest_checkpoint(model_dir)\n",
    "            if ckpt and ckpt.model_checkpoint_path:\n",
    "                savr = tf.train.import_meta_graph(ckpt.model_checkpoint_path+'.meta')\n",
    "                out = savr.restore(self._sess, ckpt.model_checkpoint_path)\n",
    "                print(\"Model restored from \",ckpt.model_checkpoint_path)\n",
    "            else:\n",
    "                print('No checkpoint found at: ',model_dir)\n",
    "        if not os.path.exists(model_dir):\n",
    "            os.makedirs(model_dir)\n",
    "\n",
    "        episode = 0\n",
    "        observation = env.reset()\n",
    "        xs,rs,ys = [],[],[]    # environment info\n",
    "        running_reward = 0    \n",
    "        reward_sum = 0\n",
    "        # training loop\n",
    "        day = 0\n",
    "        simrors = np.zeros(episodes)\n",
    "        mktrors = np.zeros(episodes)\n",
    "        alldf = None\n",
    "        victory = False\n",
    "        while episode < episodes and not victory:\n",
    "            # stochastically sample a policy from the network\n",
    "            x = observation\n",
    "            feed = {self._tf_x: np.reshape(x, (1,-1))}\n",
    "            aprob = self._sess.run(self._tf_aprob,feed)\n",
    "            aprob = aprob[0,:] # we live in a batched world :/\n",
    "\n",
    "            action = np.random.choice(self._num_actions, p=aprob)\n",
    "            label = np.zeros_like(aprob) ; label[action] = 1 # make a training 'label'\n",
    "\n",
    "            # step the environment and get new measurements\n",
    "            observation, reward, done, info = env.step(action)\n",
    "            #print observation, reward, done, info\n",
    "            reward_sum += reward\n",
    "\n",
    "            # record game history\n",
    "            xs.append(x)\n",
    "            ys.append(label)\n",
    "            rs.append(reward)\n",
    "            day += 1\n",
    "            if done:\n",
    "                running_reward = running_reward * 0.99 + reward_sum * 0.01\n",
    "                epx = np.vstack(xs)\n",
    "                epr = np.vstack(rs)\n",
    "                epy = np.vstack(ys)\n",
    "                xs,rs,ys = [],[],[] # reset game history\n",
    "                df = env.sim.to_df()\n",
    "                #pdb.set_trace()\n",
    "                simrors[episode]=df.bod_nav.values[-1]-1 # compound returns\n",
    "                mktrors[episode]=df.mkt_nav.values[-1]-1\n",
    "\n",
    "                alldf = df if alldf is None else pd.concat([alldf,df], axis=0)\n",
    "                \n",
    "                feed = {self._tf_x: epx, self._tf_epr: epr, self._tf_y: epy}\n",
    "                _ = self._sess.run(self._train_op,feed) # parameter update\n",
    "\n",
    "                if episode % log_freq == 0:\n",
    "                    log.info('year #%6d, mean reward: %8.4f, sim ret: %8.4f, mkt ret: %8.4f, net: %8.4f', episode,\n",
    "                             running_reward, simrors[episode],mktrors[episode], simrors[episode]-mktrors[episode])\n",
    "                    save_path = self._saver.save(self._sess, model_dir+'model.ckpt',\n",
    "                                                 global_step=episode+1)\n",
    "                    if episode > 100:\n",
    "                        vict = pd.DataFrame( { 'sim': simrors[episode-100:episode],\n",
    "                                               'mkt': mktrors[episode-100:episode] } )\n",
    "                        vict['net'] = vict.sim - vict.mkt\n",
    "                        if vict.net.mean() > 0.0:\n",
    "                            victory = True\n",
    "                            log.info('Congratulations, Warren Buffet!  You won the trading game.')\n",
    "                    #print(\"Model saved in file: {}\".format(save_path))\n",
    "\n",
    "                \n",
    "                    \n",
    "                episode += 1\n",
    "                observation = env.reset()\n",
    "                reward_sum = 0\n",
    "                day = 0\n",
    "                \n",
    "        return alldf, pd.DataFrame({'simror':simrors,'mktror':mktrors})\n"
   ]
  },
  {
   "cell_type": "code",
   "execution_count": null,
   "metadata": {
    "id": "kqUAarnbbaLY"
   },
   "outputs": [],
   "source": [
    "import tensorflow as tf\n",
    "#from gym_trading.envs.policy_gradient import PolicyGradient"
   ]
  },
  {
   "cell_type": "code",
   "execution_count": null,
   "metadata": {
    "colab": {
     "base_uri": "https://localhost:8080/",
     "height": 119
    },
    "id": "ClSo8YBVbaLa",
    "outputId": "ecc32cae-8623-448b-b158-576747457afb"
   },
   "outputs": [
    {
     "name": "stderr",
     "output_type": "stream",
     "text": [
      "INFO:__main__:year #     0, mean reward:  -0.0027, sim ret:  -0.2423, mkt ret:  -0.1272, net:  -0.1151\n",
      "INFO:__main__:year #   100, mean reward:  -0.0321, sim ret:  -0.0970, mkt ret:   0.0265, net:  -0.1235\n",
      "INFO:__main__:year #   200, mean reward:  -0.0399, sim ret:  -0.0248, mkt ret:   0.2808, net:  -0.3056\n",
      "INFO:__main__:year #   300, mean reward:  -0.0075, sim ret:  -0.0248, mkt ret:   0.1306, net:  -0.1554\n",
      "INFO:__main__:year #   400, mean reward:   0.0458, sim ret:   0.3924, mkt ret:  -0.3327, net:   0.7251\n",
      "INFO:__main__:Congratulations, Warren Buffet!  You won the trading game.\n"
     ]
    }
   ],
   "source": [
    "# create the tf session\n",
    "tf.reset_default_graph() \n",
    "sess1 = tf.InteractiveSession()\n",
    "# create policygradient\n",
    "pg = PolicyGradient(sess1, obs_dim=5, num_actions=3, learning_rate=1e-2 )\n",
    "\n",
    "# and now let's train it and evaluate its progress.  NB: this could take some time...\n",
    "df,sf = pg.train_model( env,episodes=25001, log_freq=100)#, load_model=True)\n"
   ]
  },
  {
   "cell_type": "markdown",
   "metadata": {
    "id": "hBS7o9UWbaLd"
   },
   "source": [
    "### Results\n",
    "\n",
    "Policy gradients beat the trading game!  That said, it doesn't work every time and it seems, looking at the charts below, as though it's a bit of a lucky thing.  But luck counts in the trading game as in life!\n"
   ]
  },
  {
   "cell_type": "code",
   "execution_count": null,
   "metadata": {
    "colab": {
     "base_uri": "https://localhost:8080/",
     "height": 364
    },
    "id": "K09uDnIFbaLf",
    "outputId": "8f3eb302-e8ff-4da2-f746-be5e522e5163"
   },
   "outputs": [
    {
     "data": {
      "text/plain": [
       "<matplotlib.axes._subplots.AxesSubplot at 0x7fb1e0155a10>"
      ]
     },
     "execution_count": 80,
     "metadata": {
      "tags": []
     },
     "output_type": "execute_result"
    },
    {
     "data": {
      "image/png": "[encoded data removed]",
      "text/plain": [
       "<matplotlib.figure.Figure at 0x7fb1e0128e10>"
      ]
     },
     "metadata": {
      "tags": []
     },
     "output_type": "display_data"
    }
   ],
   "source": [
    "sf['net'] = sf.simror - sf.mktror\n",
    "#sf.net.plot()\n",
    "sf.net.expanding().mean().plot()\n",
    "sf.net.rolling(100).mean().plot()"
   ]
  },
  {
   "cell_type": "code",
   "execution_count": null,
   "metadata": {
    "colab": {
     "base_uri": "https://localhost:8080/",
     "height": 119
    },
    "id": "VCSswO-tbaLi",
    "outputId": "80b43c84-9a89-49c9-e286-289092dc1772"
   },
   "outputs": [
    {
     "data": {
      "text/plain": [
       "24996    0.0\n",
       "24997    0.0\n",
       "24998    0.0\n",
       "24999    0.0\n",
       "25000    0.0\n",
       "Name: net, dtype: float64"
      ]
     },
     "execution_count": 81,
     "metadata": {
      "tags": []
     },
     "output_type": "execute_result"
    }
   ],
   "source": [
    "sf.net.rolling(100).mean().tail()"
   ]
  },
  {
   "cell_type": "code",
   "execution_count": null,
   "metadata": {
    "id": "928qgVJC2Njr"
   },
   "outputs": [],
   "source": []
  }
 ],
 "metadata": {
  "accelerator": "GPU",
  "colab": {
   "provenance": []
  },
  "kernelspec": {
   "display_name": "Python 3 (ipykernel)",
   "language": "python",
   "name": "python3"
  },
  "language_info": {
   "codemirror_mode": {
    "name": "ipython",
    "version": 3
   },
   "file_extension": ".py",
   "mimetype": "text/x-python",
   "name": "python",
   "nbconvert_exporter": "python",
   "pygments_lexer": "ipython3",
   "version": "3.8.15"
  }
 },
 "nbformat": 4,
 "nbformat_minor": 1
}
